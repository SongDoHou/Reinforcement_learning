{
 "cells": [
  {
   "cell_type": "markdown",
   "id": "fd768161",
   "metadata": {},
   "source": [
    "# DQN cartpole"
   ]
  },
  {
   "cell_type": "code",
   "execution_count": 47,
   "id": "c83f08dc",
   "metadata": {},
   "outputs": [],
   "source": [
    "import gym\n",
    "import numpy as np\n",
    "import random\n",
    "import torch\n",
    "import torch.optim as optim\n",
    "import torch.nn as nn\n",
    "import torch.nn.functional as F\n",
    "import matplotlib.pyplot as plt\n",
    "\n",
    "from collections import deque\n",
    "from tqdm import trange\n",
    "from IPython.display import clear_output"
   ]
  },
  {
   "cell_type": "code",
   "execution_count": 48,
   "id": "ec3a1471",
   "metadata": {},
   "outputs": [
    {
     "name": "stdout",
     "output_type": "stream",
     "text": [
      "1000\n"
     ]
    }
   ],
   "source": [
    "env = gym.make('CartPole-v1')\n",
    "env._max_episode_steps=1000 # 기본 CarPole의 최대 maximum step은 500으로 고정 -> 필자는 2000으로 customizing\n",
    "print(env._max_episode_steps)"
   ]
  },
  {
   "cell_type": "code",
   "execution_count": 49,
   "id": "f05a0c5e",
   "metadata": {},
   "outputs": [
    {
     "name": "stdout",
     "output_type": "stream",
     "text": [
      "State dimension 4\n",
      "Number of action option 2\n"
     ]
    }
   ],
   "source": [
    "s = env.reset()\n",
    "n_state = s.shape[0]\n",
    "n_action = env.action_space.n\n",
    "print('State dimension',n_state)\n",
    "print('Number of action option',n_action)"
   ]
  },
  {
   "cell_type": "code",
   "execution_count": null,
   "id": "2f509b26",
   "metadata": {},
   "outputs": [],
   "source": [
    "# 알고리즘 메인구조 작성 -> 아직 작동못함!\n",
    "def DQN_train(#<입력인자들은 추후에 채웁시다>):\n",
    "    # <초기 변수들 지정>\n",
    "    # <Capacity에 맞도록 메모리 초기화>\n",
    "    # <main network, target network 설정 후 동기화>\n",
    "    for epoch in range(epochs):\n",
    "        episode_reward = 0\n",
    "        s = env.reset() \n",
    "        while True: # Cart가 쓰러질때까지 계속 반복\n",
    "            # <action 추출, Epsilon-greedy>\n",
    "            new_s, r, done, _ = env.step(a)\n",
    "            # <메모리 push, [s,a,r,new_s,done]>\n",
    "            # <메모리 샘플링 및 학습-> 일정 batch크기 이상> ! Trick -> 메모리 버퍼가 1000이상일때부터 학습\n",
    "            # <특정 주기마다 target network <- main network 덧씌우기>\n",
    "            s = new_s\n",
    "            episode_reward += r\n",
    "            if done:\n",
    "                break\n",
    "        # <학습과정 출력> - Optional\n",
    "    return main_model"
   ]
  },
  {
   "cell_type": "code",
   "execution_count": 50,
   "id": "ae7f8ec7",
   "metadata": {},
   "outputs": [],
   "source": [
    "# 메모리 버퍼를 만듭시다. 메모리마다 [s,a,r,s']의 정보를 업데이트\n",
    "# 메모리의 최대 용량은 100,000으로 설정 -> 랜덤 샘플링 진행\n",
    "class memory(object):\n",
    "    '''\n",
    "    Replay buffer를 준비합니다.\n",
    "    특별한 경우를 제외하고는 버퍼의 길이는 50,000으로 초기설정을 놓습니다.\n",
    "    기능\n",
    "        1. push: 버퍼의 끝에서부터 원소를 집어넣습니다. \n",
    "        2. sample: 샘플링할 크기만큼 버퍼에서 임의의 원소들을 추출합니다.\n",
    "    '''\n",
    "    def __init__(self,capacity=50000):\n",
    "        self.memory = deque([],maxlen=capacity) \n",
    "    def push(self,*args):\n",
    "        '''\n",
    "        버퍼의 끝에서부터 원소를 집어넣습니다.\n",
    "        DQN의 경우 *args는 list형태로써 다음 원소들을 의미합니다.\n",
    "            [state, action, reward, next_state, done]\n",
    "        '''\n",
    "        self.memory.append(*args)\n",
    "    def sample(self,batch_size):\n",
    "        '''\n",
    "        batch_size의 크기만큼 buffer에서 기억을 임의 추출합니다.\n",
    "        입력변수\n",
    "            batch_size : 배치사이즈\n",
    "        출력변수\n",
    "            batch_state : 배치 상태\n",
    "            batch_action : 배치 액션\n",
    "            batch_reward : 배치 보상\n",
    "            batch_new_state : 배치 다음상태\n",
    "            batch_done : 배치 종료여부\n",
    "        '''\n",
    "        samples = random.sample(self.memory,batch_size)\n",
    "        batch_state, batch_action, batch_reward, batch_new_state, batch_done = [],[],[],[],[]\n",
    "        for sample in samples:\n",
    "            batch_state.append(sample[0])\n",
    "            batch_action.append(sample[1])\n",
    "            batch_reward.append(sample[2])\n",
    "            batch_new_state.append(sample[3])\n",
    "            batch_done.append(sample[4])\n",
    "        return np.array(batch_state), \\\n",
    "            np.array(batch_action), \\\n",
    "            np.array(batch_reward), \\\n",
    "            np.array(batch_new_state), \\\n",
    "            np.array(batch_done)\n",
    "            \n",
    "    def __len__(self):\n",
    "        return len(self.memory)\n",
    "\n",
    "memory_buffer = memory()"
   ]
  },
  {
   "cell_type": "code",
   "execution_count": 51,
   "id": "bdde346e",
   "metadata": {},
   "outputs": [],
   "source": [
    "# 모델 만들기\n",
    "# Q-function의 hidden layer는 sigmoid, tanh를 금기 -> Q-function값에 limitation을 걸 여지가 있음\n",
    "# 마지막 layer에서는 activation function을 걸지 않도록 유의! \n",
    "class DQN_model(nn.Module):\n",
    "    def __init__(self,input_dim=n_state,output_dim=n_action):\n",
    "        super(DQN_model,self).__init__()\n",
    "        '''\n",
    "        입력변수\n",
    "            input_dim: state의 차원 -> cartpole [위치, 속도, 각도, 각속도]\n",
    "            output_dim: action의 차원 -> cartpole [왼쪽, 오른쪽]\n",
    "        N.N 구조\n",
    "            4 layer구조 (2 hidden layer).\n",
    "            hidden node개수는 64개로 통일.\n",
    "            activation function은 Relu 설정\n",
    "        '''\n",
    "        self.lin1 = nn.Linear(input_dim,64)\n",
    "        self.lin2 = nn.Linear(64,64)\n",
    "        self.lin3 = nn.Linear(64,64)\n",
    "        self.lin4 = nn.Linear(64,output_dim)\n",
    "        \n",
    "    def forward(self,x):\n",
    "        x = F.relu(self.lin1(x))\n",
    "        x = F.relu(self.lin2(x))\n",
    "        x = F.relu(self.lin3(x))\n",
    "        x = self.lin4(x)\n",
    "        return x\n",
    "    \n",
    "    def get_action(self,state,epsilon=0):\n",
    "        '''\n",
    "        목적: state로 부터 action추출\n",
    "        입력인자\n",
    "            state: 상태 -> shape[None,4]\n",
    "            epsilon: epsilon, -> scalar\n",
    "        출력인자\n",
    "            action: gym integer [0 or 1] -> Cartpole\n",
    "        '''\n",
    "        x = torch.FloatTensor(state)\n",
    "        Q_value = self.forward(x).detach().cpu().numpy()\n",
    "        \n",
    "        if np.random.uniform(0,1) < epsilon:\n",
    "            action = np.argmax(np.random.uniform(0,1,size=Q_value.shape))\n",
    "        else:\n",
    "            action = np.argmax(Q_value)\n",
    "        return int(action)"
   ]
  },
  {
   "cell_type": "code",
   "execution_count": 52,
   "id": "76e114e6",
   "metadata": {},
   "outputs": [],
   "source": [
    "def get_epsilon_value(step,eps_max=0.5,eps_min=0.05,eps_decay=200):\n",
    "    '''\n",
    "    목표 Epsilon_greedy계산\n",
    "    주의! 해당함수를 적용하기에 앞서 메모리 버퍼가 최소 1000까지 차올라 있는지 확인\n",
    "    입력인자\n",
    "        step: 총 optimize횟수\n",
    "        eps_max: 초기 epsilon(default=0.5)\n",
    "        eps_min: epsilon 하단(default=0.05)\n",
    "        eps_decay: epsilon 감쇠주기(default=200)\n",
    "    출력인자\n",
    "        step에 따른 epsilon value\n",
    "    Epsilon공식 \n",
    "        eps_min + (eps_max-eps_min)*np.exp(-1*step/eps_decay)\n",
    "    '''\n",
    "    return eps_min+(eps_max-eps_min)*np.exp(-1*step/eps_decay)"
   ]
  },
  {
   "cell_type": "code",
   "execution_count": 53,
   "id": "8b60402a",
   "metadata": {},
   "outputs": [],
   "source": [
    "def DQN_loss_update(main_network, target_network, optimizer, batch_data, gamma=0.99):\n",
    "    '''\n",
    "    목표: DQN알고리즘에 맞는 loss함수를 구하고 최적화까지 수행\n",
    "        목적함수: (Reward + gamma*target_Q(s',argmax_a)-main_Q(s,a))**2\n",
    "    주의! 해당 함수를 시행하기에 앞서 메모리 버퍼가 최소한 1000까지는 차올라 있는지 확인\n",
    "    입력변수:\n",
    "        main_network: 메인 agent(neural network)\n",
    "        target_network: 타겟 agent(neural network)\n",
    "        optimzer: optimizer\n",
    "        batch_data: 메모리 버퍼로부터 얻은 기억\n",
    "        gamma: 할인율(default=0.99)\n",
    "    출력변수:\n",
    "        loss: 모니터링을 위한 TD loss\n",
    "    '''\n",
    "    batch_state, batch_action, batch_reward, batch_new_state, batch_done = batch_data\n",
    "    batch_state = torch.FloatTensor(batch_state)\n",
    "    batch_action = torch.LongTensor(batch_action)\n",
    "    batch_reward = torch.FloatTensor(batch_reward)\n",
    "    batch_new_state = torch.FloatTensor(batch_new_state)\n",
    "    batch_done = torch.ByteTensor(batch_done)\n",
    "    \n",
    "    Q_current = main_network(batch_state)\n",
    "    Q_current = Q_current[range(batch_state.shape[0]),batch_action]\n",
    "    \n",
    "    Q_next = target_network(batch_new_state)\n",
    "    Value_next = torch.max(Q_next,dim=-1).values\n",
    "    \n",
    "    target_value = batch_reward+gamma*Value_next\n",
    "    target_value = batch_done*batch_reward+(1-batch_done)*target_value\n",
    "    \n",
    "    td_loss = torch.mean((Q_current-target_value.detach())**2)\n",
    "    optimizer.zero_grad()\n",
    "    td_loss.backward()\n",
    "    optimizer.step()\n",
    "    \n",
    "    return td_loss.item()"
   ]
  },
  {
   "cell_type": "code",
   "execution_count": 54,
   "id": "29e01628",
   "metadata": {},
   "outputs": [],
   "source": [
    "def target_overlap_main(main_network, target_network,step,overlap_period=10):\n",
    "    '''\n",
    "    목표: 특정 주기마다 target_network의 파라미터를 main_network의 파라미터로 덧씌우기\n",
    "    입력인자:\n",
    "        main_network: 메인 agent(neural network)\n",
    "        target_network: 타겟 agent(neural network)\n",
    "        step: 지금까지 진행된 step\n",
    "        overlap_period: 덧씌우기 주기(default=10)\n",
    "    출력인자:\n",
    "        * 순서 주의!\n",
    "        main_network -> 입력인자와 동일\n",
    "        target_network -> 입력인자와 동일\n",
    "    '''\n",
    "    if step % overlap_period == 0:\n",
    "        target_network.load_state_dict(main_network.state_dict())\n",
    "    return main_network, target_network"
   ]
  },
  {
   "cell_type": "code",
   "execution_count": 55,
   "id": "ab260262",
   "metadata": {},
   "outputs": [],
   "source": [
    "def display_monitoring(total_rewards,td_losses,epses):\n",
    "    plt.figure(figsize=[12,15])\n",
    "    plt.subplot(3,1,1)\n",
    "    plt.title('Episode reward')\n",
    "    plt.plot(total_rewards,'-')\n",
    "    plt.grid()\n",
    "    \n",
    "    plt.subplot(3,1,2)\n",
    "    plt.title('Episode td_losses')\n",
    "    plt.plot(td_losses,'-')\n",
    "    plt.grid()\n",
    "    \n",
    "    plt.subplot(3,1,3)\n",
    "    plt.title('Epsilon')\n",
    "    plt.plot(epses,'-')\n",
    "    plt.grid()\n",
    "    \n",
    "    plt.show()"
   ]
  },
  {
   "cell_type": "code",
   "execution_count": 56,
   "id": "3e8bcd17",
   "metadata": {},
   "outputs": [],
   "source": [
    "def session_train(env,memory_buffer,main_network,target_network,update_step):\n",
    "    episode_reward = 0\n",
    "    s = env.reset() \n",
    "    while True:    \n",
    "        a = main_network.get_action(s,eps)\n",
    "        new_s, r, done, _ = env.step(a)\n",
    "        \n",
    "        memory_buffer.push([s,a,r,new_s,done]) \n",
    "        \n",
    "        loss = 0\n",
    "        if len(memory_buffer) >= start_memory_length:\n",
    "            batch_data = memory_buffer.sample(batch_size)\n",
    "            loss=DQN_loss_update(main_network, target_network, optimizer, batch_data)\n",
    "        \n",
    "        main_network, target_network = target_overlap_main(main_network,target_network,update_step)\n",
    "        s = new_s\n",
    "        episode_reward += r\n",
    "        \n",
    "        if done:\n",
    "            break\n",
    "    return episode_reward, loss"
   ]
  },
  {
   "cell_type": "code",
   "execution_count": 57,
   "id": "2dbc4a47",
   "metadata": {},
   "outputs": [],
   "source": [
    "# 알고리즘 메인구조 작성\n",
    "def DQN_train(env,main_network,target_network,optimizer,monitoring=True):\n",
    "    '''\n",
    "    이젠 조립합시다, 하이퍼파라미터는 앞서서 설정되었습니다!\n",
    "    입력변수(설명생략)\n",
    "        env,\n",
    "        main_network,\n",
    "        target_network,\n",
    "        optimizer,\n",
    "        start_memory_length,\n",
    "        epochs: 반복횟수(default=1000)\n",
    "        monitoring: 학습과정 모니터링(Total_reward, TD_loss)\n",
    "    출력변수\n",
    "        main_network\n",
    "    '''\n",
    "    global update_step, eps\n",
    "    episode_rewards, episode_tds, episode_epsilons = [],[],[]\n",
    "    update_step = 0\n",
    "    find = False\n",
    "    \n",
    "    memory_buffer = memory() \n",
    "    main_network, target_network = target_overlap_main(main_network, target_network,update_step)\n",
    "    for epoch in trange(epochs):\n",
    "        eps = get_epsilon_value(update_step)\n",
    "        episode_epsilons.append(eps)\n",
    "        \n",
    "        for mini in range(mini_sessions):\n",
    "            if len(memory_buffer) >= start_memory_length:\n",
    "                update_step += 1\n",
    "            s_reward, s_loss = session_train(env,memory_buffer,main_network,target_network,update_step)\n",
    "            episode_rewards.append(s_reward)\n",
    "            episode_tds.append(s_loss)\n",
    "            if np.max(episode_rewards) >= env._max_episode_steps*0.7:\n",
    "                clear_output(True)\n",
    "                print(f'Agent got solution! Final reward: {np.mean(episode_rewards)}, at epoch:{epoch}')\n",
    "                display_monitoring(episode_rewards,episode_tds,episode_epsilons)\n",
    "                find = True\n",
    "                break\n",
    "        if find:\n",
    "            break\n",
    "                          \n",
    "        if monitoring:\n",
    "            clear_output(True)\n",
    "            print('Episode',epoch)\n",
    "            print('Epsilon',eps)\n",
    "            display_monitoring(episode_rewards,episode_tds,episode_epsilons)\n",
    "            \n",
    "    return main_model"
   ]
  },
  {
   "cell_type": "code",
   "execution_count": 73,
   "id": "0bdd3b4f",
   "metadata": {},
   "outputs": [
    {
     "name": "stdout",
     "output_type": "stream",
     "text": [
      "Agent got solution! Final reward: 61.76651982378855, at epoch:6\n"
     ]
    },
    {
     "data": {
      "image/png": "[encoded data removed]",
      "text/plain": [
       "<Figure size 864x1080 with 3 Axes>"
      ]
     },
     "metadata": {
      "needs_background": "light"
     },
     "output_type": "display_data"
    },
    {
     "name": "stderr",
     "output_type": "stream",
     "text": [
      "  1%|          | 6/1000 [01:11<3:17:53, 11.95s/it]\n"
     ]
    }
   ],
   "source": [
    "start_memory_length=5000\n",
    "mini_sessions = 100\n",
    "epochs=1000\n",
    "batch_size=128\n",
    "\n",
    "main_model = DQN_model()\n",
    "target_model = DQN_model()\n",
    "target_model.load_state_dict(main_model.state_dict())\n",
    "optimizer = optim.Adam(main_model.parameters(),lr=1e-04,weight_decay=1e-08)\n",
    "\n",
    "best_model = DQN_train(env,main_model,target_model,optimizer)"
   ]
  },
  {
   "cell_type": "code",
   "execution_count": 74,
   "id": "b3dced82",
   "metadata": {},
   "outputs": [],
   "source": [
    "def play_DQN_agent(env,agent,eps):\n",
    "    s = env.reset() \n",
    "    while True:    \n",
    "        a = agent.get_action(s,eps)\n",
    "        new_s, r, done, _ = env.step(a)\n",
    "    \n",
    "        s = new_s    \n",
    "        if done:\n",
    "            break"
   ]
  },
  {
   "cell_type": "code",
   "execution_count": 75,
   "id": "4056a98f",
   "metadata": {},
   "outputs": [],
   "source": [
    "import gym.wrappers\n",
    "\n",
    "with gym.wrappers.Monitor(gym.make(\"CartPole-v1\"), directory=\"videos\", force=True) as env_monitor:\n",
    "    play_DQN_agent(env_monitor,agent=best_model,eps=0)"
   ]
  },
  {
   "cell_type": "code",
   "execution_count": 76,
   "id": "208e6681",
   "metadata": {},
   "outputs": [
    {
     "data": {
      "text/html": [
       "\n",
       "<video width=\"640\" height=\"480\" controls>\n",
       "  <source src=\"videos/openaigym.video.14.23631.video000000.mp4\" type=\"video/mp4\">\n",
       "</video>\n"
      ],
      "text/plain": [
       "<IPython.core.display.HTML object>"
      ]
     },
     "execution_count": 76,
     "metadata": {},
     "output_type": "execute_result"
    }
   ],
   "source": [
    "from pathlib import Path\n",
    "from IPython.display import HTML\n",
    "\n",
    "video_names = sorted([s for s in Path('videos').iterdir() if s.suffix == '.mp4'])\n",
    "\n",
    "HTML(\"\"\"\n",
    "<video width=\"640\" height=\"480\" controls>\n",
    "  <source src=\"{}\" type=\"video/mp4\">\n",
    "</video>\n",
    "\"\"\".format(video_names[-1]))  # You can also try other indices"
   ]
  },
  {
   "cell_type": "code",
   "execution_count": 77,
   "id": "ffba399b",
   "metadata": {},
   "outputs": [],
   "source": [
    "torch.save(best_model,'./DQN_cartpole.pth')"
   ]
  },
  {
   "cell_type": "code",
   "execution_count": null,
   "id": "123770ea",
   "metadata": {},
   "outputs": [],
   "source": []
  }
 ],
 "metadata": {
  "kernelspec": {
   "display_name": "Python 3",
   "language": "python",
   "name": "python3"
  },
  "language_info": {
   "codemirror_mode": {
    "name": "ipython",
    "version": 3
   },
   "file_extension": ".py",
   "mimetype": "text/x-python",
   "name": "python",
   "nbconvert_exporter": "python",
   "pygments_lexer": "ipython3",
   "version": "3.8.10"
  }
 },
 "nbformat": 4,
 "nbformat_minor": 5
}
