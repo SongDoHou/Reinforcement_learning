{
 "cells": [
  {
   "cell_type": "code",
   "execution_count": 32,
   "id": "9d399ef1",
   "metadata": {},
   "outputs": [],
   "source": [
    "# 필요 패키지들을 호출\n",
    "from collections import defaultdict\n",
    "import numpy as np\n",
    "import gym\n",
    "\n",
    "import matplotlib.pyplot as plt"
   ]
  },
  {
   "cell_type": "code",
   "execution_count": 20,
   "id": "3e3968c2",
   "metadata": {},
   "outputs": [
    {
     "name": "stderr",
     "output_type": "stream",
     "text": [
      "/home/hshwang/anaconda3/envs/RL_scratch/lib/python3.8/site-packages/gym/envs/registration.py:14: PkgResourcesDeprecationWarning: Parameters to load are deprecated.  Call .resolve and .require separately.\n",
      "  result = entry_point.load(False)\n"
     ]
    }
   ],
   "source": [
    "# Cliff walking 환경 정의\n",
    "env = gym.make('CliffWalking-v0')"
   ]
  },
  {
   "cell_type": "code",
   "execution_count": 11,
   "id": "67449112",
   "metadata": {},
   "outputs": [
    {
     "data": {
      "text/plain": [
       "'\\n    This is a simple implementation of the Gridworld Cliff\\n    reinforcement learning task.\\n\\n    Adapted from Example 6.6 (page 145) from Reinforcement Learning: An Introduction\\n    by Sutton and Barto:\\n    http://people.inf.elte.hu/lorincz/Files/RL_2006/SuttonBook.pdf\\n    \\n    With inspiration from:\\n    https://github.com/dennybritz/reinforcement-learning/blob/master/lib/envs/cliff_walking.py\\n\\n    The board is a 4x12 matrix, with (using Numpy matrix indexing):\\n        [3, 0] as the start at bottom-left\\n        [3, 11] as the goal at bottom-right\\n        [3, 1..10] as the cliff at bottom-center\\n\\n    Each time step incurs -1 reward, and stepping into the cliff incurs -100 reward \\n    and a reset to the start. An episode terminates when the agent reaches the goal.\\n    '"
      ]
     },
     "execution_count": 11,
     "metadata": {},
     "output_type": "execute_result"
    }
   ],
   "source": [
    "# Cliff walking에 대한 설명문\n",
    "env.__doc__"
   ]
  },
  {
   "cell_type": "code",
   "execution_count": 21,
   "id": "3e177b5b",
   "metadata": {},
   "outputs": [
    {
     "name": "stdout",
     "output_type": "stream",
     "text": [
      "o  o  o  o  o  o  o  o  o  o  o  o\n",
      "o  o  o  o  o  o  o  o  o  o  o  o\n",
      "o  o  o  o  o  o  o  o  o  o  o  o\n",
      "x  C  C  C  C  C  C  C  C  C  C  T\n",
      "\n"
     ]
    }
   ],
   "source": [
    "# 현재 state의 Cliff walking 환경을 시각화합니다.\n",
    "env.render()"
   ]
  },
  {
   "cell_type": "code",
   "execution_count": 14,
   "id": "d0b01e5e",
   "metadata": {},
   "outputs": [
    {
     "name": "stdout",
     "output_type": "stream",
     "text": [
      "36\n"
     ]
    }
   ],
   "source": [
    "# 강화학습 환경을 개시합니다.\n",
    "state = env.reset()\n",
    "print(state)"
   ]
  },
  {
   "cell_type": "code",
   "execution_count": 35,
   "id": "90a59295",
   "metadata": {},
   "outputs": [
    {
     "data": {
      "text/plain": [
       "4"
      ]
     },
     "execution_count": 35,
     "metadata": {},
     "output_type": "execute_result"
    }
   ],
   "source": [
    "env.action_space.n"
   ]
  },
  {
   "cell_type": "code",
   "execution_count": 26,
   "id": "00a217f2",
   "metadata": {},
   "outputs": [],
   "source": [
    "# 에이전트가 행동을 하는 것을 모사\n",
    "# 출력값: 다음상태, 보상, 종료여부, 정보 \n",
    "# 정보는 환경과 관련된 부수적인 요소들을 딕셔너리 형태로 포함 -> 생략해도 무방\n",
    "next_state,reward,done,infs = env.step(env.action_space.sample())"
   ]
  },
  {
   "cell_type": "code",
   "execution_count": 27,
   "id": "af908e8e",
   "metadata": {},
   "outputs": [
    {
     "name": "stdout",
     "output_type": "stream",
     "text": [
      "36 -100 False\n"
     ]
    }
   ],
   "source": [
    "print(next_state, reward, done)"
   ]
  },
  {
   "cell_type": "code",
   "execution_count": 29,
   "id": "cffd2001",
   "metadata": {},
   "outputs": [
    {
     "name": "stdout",
     "output_type": "stream",
     "text": [
      "o  o  o  o  o  o  o  o  o  o  o  o\n",
      "o  o  o  o  o  o  o  o  o  o  o  o\n",
      "o  o  o  o  o  o  o  o  o  o  o  o\n",
      "x  C  C  C  C  C  C  C  C  C  C  T\n",
      "\n"
     ]
    }
   ],
   "source": [
    "env.render()"
   ]
  },
  {
   "cell_type": "code",
   "execution_count": null,
   "id": "e39ebd0c",
   "metadata": {},
   "outputs": [],
   "source": [
    "# SARSA 에이전트 작성\n",
    "class SARSA_agent():\n",
    "    def __init__(self,possible_actions,alpha=0.2,epsilon=0.1,gamma=0.99):\n",
    "        '''\n",
    "        초기 입력인자\n",
    "            possible_actions: 에이전트가 취할수 있는 행동 <- env.action_space.n을 통해서 입력\n",
    "            alpha: 학습률\n",
    "            epsilon: Exploration 확률 <- 학습초기: 높은확률, 학습후기: 낮은확률\n",
    "            gamma: 할인율\n",
    "        Class의 속성\n",
    "            Q-함수 출력 -> self.get_qvalue\n",
    "            Q-함수 업데이트 -> self.update_qvalue\n",
    "            행동 추출 -> self.get_action\n",
    "        '''\n",
    "        self.possible_actions=possible_actions\n",
    "        self.alpha = alpha\n",
    "        self.epsilon = epsilon\n",
    "        self.gamma = gamma\n",
    "        self.q_value = "
   ]
  },
  {
   "cell_type": "code",
   "execution_count": null,
   "id": "a168cbe6",
   "metadata": {},
   "outputs": [],
   "source": []
  },
  {
   "cell_type": "code",
   "execution_count": 16,
   "id": "93824c36",
   "metadata": {},
   "outputs": [
    {
     "data": {
      "text/plain": [
       "['P',\n",
       " '__class__',\n",
       " '__delattr__',\n",
       " '__dict__',\n",
       " '__dir__',\n",
       " '__doc__',\n",
       " '__eq__',\n",
       " '__format__',\n",
       " '__ge__',\n",
       " '__getattribute__',\n",
       " '__gt__',\n",
       " '__hash__',\n",
       " '__init__',\n",
       " '__init_subclass__',\n",
       " '__le__',\n",
       " '__lt__',\n",
       " '__module__',\n",
       " '__ne__',\n",
       " '__new__',\n",
       " '__reduce__',\n",
       " '__reduce_ex__',\n",
       " '__repr__',\n",
       " '__setattr__',\n",
       " '__sizeof__',\n",
       " '__str__',\n",
       " '__subclasshook__',\n",
       " '__weakref__',\n",
       " '_calculate_transition_prob',\n",
       " '_cliff',\n",
       " '_limit_coordinates',\n",
       " 'action_space',\n",
       " 'close',\n",
       " 'isd',\n",
       " 'lastaction',\n",
       " 'metadata',\n",
       " 'nA',\n",
       " 'nS',\n",
       " 'np_random',\n",
       " 'observation_space',\n",
       " 'render',\n",
       " 'reset',\n",
       " 'reward_range',\n",
       " 's',\n",
       " 'seed',\n",
       " 'shape',\n",
       " 'spec',\n",
       " 'start_state_index',\n",
       " 'step',\n",
       " 'unwrapped']"
      ]
     },
     "execution_count": 16,
     "metadata": {},
     "output_type": "execute_result"
    }
   ],
   "source": [
    "dir(env)"
   ]
  },
  {
   "cell_type": "code",
   "execution_count": null,
   "id": "063f71a9",
   "metadata": {},
   "outputs": [],
   "source": []
  }
 ],
 "metadata": {
  "kernelspec": {
   "display_name": "RL_scratch",
   "language": "python",
   "name": "rl_scratch"
  },
  "language_info": {
   "codemirror_mode": {
    "name": "ipython",
    "version": 3
   },
   "file_extension": ".py",
   "mimetype": "text/x-python",
   "name": "python",
   "nbconvert_exporter": "python",
   "pygments_lexer": "ipython3",
   "version": "3.8.13"
  }
 },
 "nbformat": 4,
 "nbformat_minor": 5
}
