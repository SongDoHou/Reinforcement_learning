{
 "cells": [
  {
   "cell_type": "code",
   "execution_count": 1,
   "id": "987575b4",
   "metadata": {},
   "outputs": [],
   "source": [
    "# 필요 패키지들을 호출\n",
    "from collections import defaultdict\n",
    "from IPython.display import clear_output\n",
    "import numpy as np\n",
    "import random\n",
    "import gym\n",
    "\n",
    "import pandas as pd\n",
    "import matplotlib.pyplot as plt"
   ]
  },
  {
   "cell_type": "code",
   "execution_count": 2,
   "id": "7583ab18",
   "metadata": {},
   "outputs": [],
   "source": [
    "# Cliff walking 환경 정의\n",
    "env = gym.make('CliffWalking-v0')"
   ]
  },
  {
   "cell_type": "code",
   "execution_count": 3,
   "id": "051760a3",
   "metadata": {},
   "outputs": [
    {
     "name": "stdout",
     "output_type": "stream",
     "text": [
      "None\n"
     ]
    }
   ],
   "source": [
    "# Cliff walking에 대한 설명문\n",
    "print(env.__doc__)"
   ]
  },
  {
   "cell_type": "code",
   "execution_count": 4,
   "id": "cb62df89",
   "metadata": {},
   "outputs": [
    {
     "name": "stdout",
     "output_type": "stream",
     "text": [
      "o  o  o  o  o  o  o  o  o  o  o  o\n",
      "o  o  o  o  o  o  o  o  o  o  o  o\n",
      "o  o  o  o  o  o  o  o  o  o  o  o\n",
      "x  C  C  C  C  C  C  C  C  C  C  T\n",
      "\n"
     ]
    }
   ],
   "source": [
    "# 현재 state의 Cliff walking 환경을 시각화합니다.\n",
    "s = env.reset()\n",
    "env.render()"
   ]
  },
  {
   "cell_type": "code",
   "execution_count": 5,
   "id": "23cd7f0c",
   "metadata": {},
   "outputs": [
    {
     "name": "stdout",
     "output_type": "stream",
     "text": [
      "36\n"
     ]
    }
   ],
   "source": [
    "# gym 환경의 기본 기능을 익혀봅시다\n",
    "# env.reset() : 환경 개시\n",
    "# env.step(action): 환경 행동부여\n",
    "# env.render(): 환경 시각화 -> 이미지 혹은 텍스트(Gridworld)\n",
    "state = env.reset()\n",
    "print(state)"
   ]
  },
  {
   "cell_type": "code",
   "execution_count": 6,
   "id": "20074dec",
   "metadata": {},
   "outputs": [
    {
     "data": {
      "text/plain": [
       "4"
      ]
     },
     "execution_count": 6,
     "metadata": {},
     "output_type": "execute_result"
    }
   ],
   "source": [
    "env.action_space.n"
   ]
  },
  {
   "cell_type": "code",
   "execution_count": 7,
   "id": "af43fcf1",
   "metadata": {},
   "outputs": [],
   "source": [
    "# 에이전트가 행동을 하는 것을 모사\n",
    "# 출력값: 다음상태, 보상, 종료여부, 정보 \n",
    "# 정보는 환경과 관련된 부수적인 요소들을 딕셔너리 형태로 포함 -> 생략해도 무방\n",
    "next_state,reward,done,infs = env.step(env.action_space.sample())"
   ]
  },
  {
   "cell_type": "code",
   "execution_count": 8,
   "id": "7c43c108",
   "metadata": {},
   "outputs": [
    {
     "name": "stdout",
     "output_type": "stream",
     "text": [
      "36 -100 False {'prob': 1.0}\n"
     ]
    }
   ],
   "source": [
    "print(next_state, reward, done,infs)"
   ]
  },
  {
   "cell_type": "code",
   "execution_count": 9,
   "id": "ecad6af2",
   "metadata": {},
   "outputs": [
    {
     "name": "stdout",
     "output_type": "stream",
     "text": [
      "o  o  o  o  o  o  o  o  o  o  o  o\n",
      "o  o  o  o  o  o  o  o  o  o  o  o\n",
      "o  o  o  o  o  o  o  o  o  o  o  o\n",
      "x  C  C  C  C  C  C  C  C  C  C  T\n",
      "\n"
     ]
    }
   ],
   "source": [
    "env.render()"
   ]
  },
  {
   "cell_type": "code",
   "execution_count": 10,
   "id": "d1094d1b",
   "metadata": {},
   "outputs": [],
   "source": [
    "# Q-learning 에이전트 작성\n",
    "class Qlearning:\n",
    "    def __init__(self,possible_actions,alpha=0.25,epsilon=0.2,gamma=0.99):\n",
    "        '''\n",
    "        초기 입력인자\n",
    "            possible_actions: State에서 에이전트가 취할수 있는 행동, (defaultdict s)\n",
    "            alpha: 학습률\n",
    "            epsilon: Exploration 확률 <- 학습초기: 높은확률, 학습후기: 낮은확률\n",
    "            gamma: 할인율\n",
    "        Class의 속성\n",
    "            Q-함수 정의 -> self.def_qvalue\n",
    "            Q-함수 출력 -> self.get_qvalue\n",
    "            Q-함수 업데이트 -> self.update_qvalue\n",
    "            행동 추출 \n",
    "                -> self.epsilon_action\n",
    "                -> self.argmax_action\n",
    "        '''\n",
    "        self.possible_actions=possible_actions\n",
    "        self.alpha = alpha\n",
    "        self.epsilon = epsilon\n",
    "        self.gamma = gamma\n",
    "        self.q_value = defaultdict(lambda: defaultdict(lambda: 0))\n",
    "        \n",
    "    def def_qvalue(self,state,action,q_value):\n",
    "        '''\n",
    "        Q-함수값 정의, Q(s,a) <- q_value\n",
    "            입력: state, action, q_value\n",
    "            출력: X\n",
    "        '''\n",
    "        self.q_value[state][action] = q_value\n",
    "    \n",
    "    def get_qvalue(self,state,action):\n",
    "        '''\n",
    "        Q-함수값 출력\n",
    "            입력: state, action\n",
    "            출력: Q(s,a)\n",
    "        '''\n",
    "        return self.q_value[state][action]\n",
    "    \n",
    "    def max_Q(self,state):\n",
    "        '''\n",
    "        max_{a}Q(s',a) 구하기\n",
    "            입력: state\n",
    "            출력: max_{a}Q(s,a)\n",
    "        '''\n",
    "        possible_actions = self.possible_actions(state)\n",
    "        Qs = []\n",
    "        for possible_action in possible_actions:\n",
    "            Qs.append(self.get_qvalue(state,possible_action))\n",
    "        Qs = max(Qs)\n",
    "        return Qs\n",
    "    \n",
    "    def update(self,state,action,reward,next_state):\n",
    "        '''\n",
    "        Q-learning 업데이트식, Q(s,a) <- Q(s,a) + alpha*(reward+gamma*max(Q(s',a'))-Q(s,a))\n",
    "            입력: state, action, reward, next_state\n",
    "            출력: X\n",
    "        '''\n",
    "        next_q = self.max_Q(next_state)\n",
    "        # 업데이트식\n",
    "        rhs = (1-self.alpha)*self.get_qvalue(state,action)+self.alpha*(reward+self.gamma*next_q) \n",
    "        self.def_qvalue(state,action,rhs)\n",
    "    \n",
    "    def max_action(self,state):\n",
    "        '''\n",
    "        Q-함수값에 전적으로 의존한 최적의 action -> argmax_{a}Q(s,a)\n",
    "            입력: state\n",
    "            출력: action\n",
    "        '''\n",
    "        Qmax = self.max_Q(state)\n",
    "        possible_actions = self.possible_actions(state)\n",
    "        action = np.random.choice(possible_actions)\n",
    "        for possible_action in possible_actions:\n",
    "            Qvalue = self.get_qvalue(state,possible_action)\n",
    "            if Qvalue >= Qmax:\n",
    "                Qmax = Qvalue\n",
    "                action = possible_action\n",
    "        return action\n",
    "    \n",
    "    def epsilon_action(self,state):\n",
    "        '''\n",
    "        Epsilon-greedy 방식에 근거한 행동추출\n",
    "        -> 임의로 정의한 확률 p와 epsilon을 비교, 작은경우: Exploration, 큰 경우: Exploitation\n",
    "            입력: state\n",
    "            출력: 현재 state에 적절한 action\n",
    "        '''\n",
    "        possible_actions = self.possible_actions(state)\n",
    "        p = np.random.uniform(0,1)\n",
    "        if p <= self.epsilon: # Exploration\n",
    "            best_action = np.random.choice(possible_actions)\n",
    "        else: # Exploitation\n",
    "            best_action = self.max_action(state)\n",
    "        return best_action"
   ]
  },
  {
   "cell_type": "code",
   "execution_count": 11,
   "id": "fb682097",
   "metadata": {},
   "outputs": [],
   "source": [
    "# SARSA 에이전트 작성\n",
    "class SARSA(Qlearning):\n",
    "    '''\n",
    "    SARSA 역시 Qlearning과 동일,\n",
    "    단, 행동추출의 방식의 차이만 반영\n",
    "    '''\n",
    "    def update(self,state,action,reward,next_state):\n",
    "        '''\n",
    "        SARSA 업데이트식, Q(s,a) <- Q(s,a) + alpha*(reward+gamma*Q(s',a')-Q(s,a))\n",
    "        (a' <- epsilon-greedy 정책)\n",
    "            입력: state, action, reward, next_state\n",
    "            출력: X\n",
    "        '''\n",
    "        next_action = self.epsilon_action(next_state)\n",
    "        next_q = self.get_qvalue(next_state,next_action)\n",
    "        rhs = (1-self.alpha)*self.get_qvalue(state,action)+self.alpha*(reward+self.gamma*next_q) # 업데이트식\n",
    "        self.def_qvalue(state,action,rhs)"
   ]
  },
  {
   "cell_type": "code",
   "execution_count": 12,
   "id": "70850225",
   "metadata": {},
   "outputs": [],
   "source": [
    "def play_and_train(env, agent, t_max=10**4):\n",
    "    '''\n",
    "    에이전트 학습 코드(gym style)\n",
    "    입력인자\n",
    "        env: 환경 -> Cliff walking\n",
    "        agent: 에이전트 -> Q-agent, SARSA_agent\n",
    "        t_max: 최대 시점 -> 강제 에피소드 종료시점 설정\n",
    "    출력인자\n",
    "        total_reward: 최종보상(할인 X)\n",
    "    '''\n",
    "    total_reward = 0.0\n",
    "    s = env.reset()\n",
    "\n",
    "    for t in range(t_max):\n",
    "        a = agent.epsilon_action(s)\n",
    "        \n",
    "        next_s, r, done, _ = env.step(a)\n",
    "        agent.update(s, a, r, next_s)\n",
    "\n",
    "        s = next_s\n",
    "        total_reward += r\n",
    "        if done:\n",
    "            break\n",
    "\n",
    "    return total_reward"
   ]
  },
  {
   "cell_type": "code",
   "execution_count": 13,
   "id": "f28135d4",
   "metadata": {},
   "outputs": [],
   "source": [
    "n_actions = env.action_space.n # 각 행동에는 4개의 행동이 가능 - 상,하,좌,우\n",
    "\n",
    "Q_agent = Qlearning(lambda s: range(n_actions))\n",
    "SARSA_agent = SARSA(lambda s: range(n_actions))"
   ]
  },
  {
   "cell_type": "code",
   "execution_count": 14,
   "id": "1ae1c9e9",
   "metadata": {},
   "outputs": [],
   "source": [
    "def moving_average(x, span=100):\n",
    "    return pd.DataFrame({'x': np.asarray(x)}).x.ewm(span=span).mean().values"
   ]
  },
  {
   "cell_type": "code",
   "execution_count": 15,
   "id": "b73b991c",
   "metadata": {},
   "outputs": [
    {
     "name": "stdout",
     "output_type": "stream",
     "text": [
      "1900번째 에피소드 결과\n",
      "SARSA 보상평균(100번 에피소드) = -27.71\n",
      "Q-Learning 보상평균(100번 에피소드) = -121.98\n"
     ]
    },
    {
     "data": {
      "image/png": "[encoded data removed]",
      "text/plain": [
       "<Figure size 640x480 with 1 Axes>"
      ]
     },
     "metadata": {},
     "output_type": "display_data"
    }
   ],
   "source": [
    "rewards_sarsa, rewards_ql = [], []\n",
    "for i in range(2000):\n",
    "    rewards_sarsa.append(play_and_train(env, SARSA_agent))\n",
    "    rewards_ql.append(play_and_train(env, Q_agent))\n",
    "\n",
    "    if i % 100 == 0:\n",
    "        clear_output(True)\n",
    "        print(f'{i}번째 에피소드 결과')\n",
    "        print(f'SARSA 보상평균(100번 에피소드) = {np.mean(rewards_sarsa[-100:])}')\n",
    "        print(f'Q-Learning 보상평균(100번 에피소드) = {np.mean(rewards_ql[-100:])}')\n",
    "\n",
    "        \n",
    "        plt.title(f\"epsilon = {Q_agent.epsilon}\")\n",
    "        plt.plot(moving_average(rewards_sarsa),label='SARSA')\n",
    "        plt.plot(moving_average(rewards_ql),label='Q-learning')\n",
    "        \n",
    "        plt.grid()\n",
    "        plt.legend()\n",
    "        plt.ylim(-1000, 0)\n",
    "        plt.show()"
   ]
  },
  {
   "cell_type": "code",
   "execution_count": 16,
   "id": "5ba315f1",
   "metadata": {},
   "outputs": [],
   "source": [
    "import time\n",
    "\n",
    "def play_render(agent,env,time_sleep=0.2):\n",
    "    '''\n",
    "    학습 이후 에이전트의 플레이 화면을 보여줍니다.\n",
    "    입력변수\n",
    "        agent: 에이전트\n",
    "        env: 환경\n",
    "        time_sleep: 플레이 화면표시 주기. 기본 0.2초 간격으로 시점변화\n",
    "    '''\n",
    "    s = env.reset()\n",
    "    cnt = 0\n",
    "    while True:\n",
    "        time.sleep(time_sleep)\n",
    "        clear_output(True)\n",
    "        print(f'Step: {cnt}')\n",
    "        env.render()\n",
    "        action = agent.epsilon_action(s)\n",
    "        next_s, reward, done, _ = env.step(action)\n",
    "        if done:\n",
    "            clear_output(True)\n",
    "            print(f'Step: {cnt}')\n",
    "            env.render()\n",
    "            break\n",
    "        s = next_s\n",
    "        cnt+=1"
   ]
  },
  {
   "cell_type": "code",
   "execution_count": 17,
   "id": "a3304287",
   "metadata": {},
   "outputs": [
    {
     "name": "stdout",
     "output_type": "stream",
     "text": [
      "Step: 88\n",
      "o  o  o  o  o  o  o  o  o  o  o  o\n",
      "o  o  o  o  o  o  o  o  o  o  o  o\n",
      "o  o  o  o  o  o  o  o  o  o  o  o\n",
      "o  C  C  C  C  C  C  C  C  C  C  x\n",
      "\n"
     ]
    }
   ],
   "source": [
    "play_render(SARSA_agent,env)"
   ]
  },
  {
   "cell_type": "markdown",
   "id": "05764df6",
   "metadata": {},
   "source": [
    "# 심화 - Eligibility trace\n",
    "---\n",
    "$G_{t}^{\\lambda}$를 이용한 SARSA, Q-learning알고리즘 구현\n",
    "\n",
    "목적: TD(0) vs MC 어느정도의 Temporal difference를 사용해야 최적의 결과가 나오는가?\n",
    "\n",
    "\n",
    "## Q-learning with Eligibility trace\n",
    "---\n",
    "\n",
    "Step 1. 상태 $S$, 행동 $A$, Eligibility trace $E(S)$ 초기화\n",
    "\n",
    "Step 2. $A$ 행동개시 $\\rightarrow R$, $S'$ \n",
    "\n",
    "Step 3. 다음행동 $A' {\\leftarrow} max_{a}Q(s,a)$ 방식\n",
    "\n",
    "Step 4. TD-error 계산 ${\\delta} \\leftarrow R+{\\gamma}Q(S',A')-Q(S,A)$ \n",
    "\n",
    "Step 5. $E(S) \\leftarrow E(S)+1$\n",
    "\n",
    "Step 6. Q업데이트 $Q(S,A) \\leftarrow Q(S,A) + {\\alpha}{\\delta}E(S)$\n",
    "\n",
    "Step 7. $E(S) \\leftarrow \\gamma \\lambda E(S)$\n",
    "\n",
    "Step 8. $S \\leftarrow S'$, $A \\leftarrow A'$\n",
    "\n",
    "Step 8. 에피소드 종료까지 Step 2~8 반복"
   ]
  },
  {
   "cell_type": "code",
   "execution_count": 18,
   "id": "694b99c2",
   "metadata": {},
   "outputs": [],
   "source": [
    "class Qlearning_ET():\n",
    "    def __init__(self,possible_actions,alpha=0.25,epsilon=0.2,gamma=0.99,lamb=0.75):\n",
    "        '''\n",
    "        초기 입력인자\n",
    "            possible_actions: State에서 에이전트가 취할수 있는 행동, (defaultdict s)\n",
    "            alpha: 학습률\n",
    "            epsilon: Exploration 확률 <- 학습초기: 높은확률, 학습후기: 낮은확률\n",
    "            gamma: 할인율\n",
    "            lamb: Temporal-Difference 가중치, 0: TD(0), 1: Monte-Carlo\n",
    "        Class의 속성\n",
    "            Q-함수 정의 -> self.def_qvalue\n",
    "            Q-함수 출력 -> self.get_qvalue\n",
    "            Q-함수 업데이트 -> self.update_qvalue\n",
    "            행동 추출 \n",
    "                -> self.epsilon_action\n",
    "                -> self.argmax_action\n",
    "            Eligibility 정의 -> self.def_Etrace\n",
    "            Eligibility 출력 -> self.get_Etrace\n",
    "            Eligibility 업데이트 -> self.update_Etrace\n",
    "        '''\n",
    "        self.possible_actions=possible_actions\n",
    "        self.alpha = alpha\n",
    "        self.epsilon = epsilon\n",
    "        self.gamma = gamma\n",
    "        self.lamb = lamb\n",
    "        self.q_value = defaultdict(lambda: defaultdict(lambda: 0))\n",
    "        self.E_trace = defaultdict(lambda: defaultdict(lambda: 0))\n",
    "        \n",
    "    def def_qvalue(self,state,action,q_value):\n",
    "        '''\n",
    "        Q-함수값 정의, Q(s,a) <- q_value\n",
    "            입력: state, action, q_value\n",
    "            출력: X\n",
    "        '''\n",
    "        self.q_value[state][action] = q_value\n",
    "    \n",
    "    def def_Etrace(self,state,action,value):\n",
    "        '''\n",
    "        Eligibility trace 정의, E(s,a) <- value\n",
    "            입력: state,action,value\n",
    "            출력: X\n",
    "        '''\n",
    "        self.E_trace[state][action] = value\n",
    "    \n",
    "    def get_qvalue(self,state,action):\n",
    "        '''\n",
    "        Q-함수값 출력\n",
    "            입력: state, action\n",
    "            출력: Q(s,a)\n",
    "        '''\n",
    "        return self.q_value[state][action]\n",
    "    \n",
    "    def get_Etrace(self,state,action):\n",
    "        '''\n",
    "        Eligibility trace 출력\n",
    "            입력: state, action\n",
    "            출력: E(s,a)\n",
    "        '''\n",
    "        return self.E_trace[state][action]\n",
    "    \n",
    "    def max_Q(self,state):\n",
    "        '''\n",
    "        max_{a}Q(s',a) 구하기\n",
    "            입력: state\n",
    "            출력: max_{a}Q(s,a)\n",
    "        '''\n",
    "        possible_actions = self.possible_actions(state)\n",
    "        Qs = []\n",
    "        for possible_action in possible_actions:\n",
    "            Qs.append(self.get_qvalue(state,possible_action))\n",
    "        Qs = max(Qs)\n",
    "        return Qs\n",
    "    \n",
    "    def update(self,state,action,reward,next_state):\n",
    "        '''\n",
    "        Q-learning 업데이트식, \n",
    "        delta <- reward+gamma*maxQ(s',a')-Q(s,a)\n",
    "        E(s,a) <- E(s,a)+1\n",
    "        Q(s,a) <- Q(s,a) + alpha*E(s,a)*delta\n",
    "        E(s,a) <- gamma*lambda*E(s,a)\n",
    "            입력: state, action, reward, next_state\n",
    "            출력: X\n",
    "        '''\n",
    "        next_q = self.max_Q(next_state)\n",
    "        # 업데이트식\n",
    "        delta = reward+self.gamma*next_q-self.get_qvalue(state,action)\n",
    "        self.def_Etrace(state,action,self.get_Etrace(state,action)+1)\n",
    "        #self.def_qvalue(state,action,self.alpha*self.get_Etrace(state,action)*delta)\n",
    "        self.def_qvalue(state,action,self.get_qvalue(state,action)+self.alpha*self.get_Etrace(state,action)*delta)\n",
    "        self.def_Etrace(state,action,self.alpha*self.gamma*self.get_Etrace(state,action))\n",
    "    \n",
    "    def max_action(self,state):\n",
    "        '''\n",
    "        Q-함수값에 전적으로 의존한 최적의 action -> argmax_{a}Q(s,a)\n",
    "            입력: state\n",
    "            출력: action\n",
    "        '''\n",
    "        Qmax = self.max_Q(state)\n",
    "        possible_actions = self.possible_actions(state)\n",
    "        action = np.random.choice(possible_actions)\n",
    "        for possible_action in possible_actions:\n",
    "            Qvalue = self.get_qvalue(state,possible_action)\n",
    "            if Qvalue >= Qmax:\n",
    "                Qmax = Qvalue\n",
    "                action = possible_action\n",
    "        return action\n",
    "    \n",
    "    def epsilon_action(self,state):\n",
    "        '''\n",
    "        Epsilon-greedy 방식에 근거한 행동추출\n",
    "        -> 임의로 정의한 확률 p와 epsilon을 비교, 작은경우: Exploration, 큰 경우: Exploitation\n",
    "            입력: state\n",
    "            출력: 현재 state에 적절한 action\n",
    "        '''\n",
    "        possible_actions = self.possible_actions(state)\n",
    "        p = np.random.uniform(0,1)\n",
    "        if p <= self.epsilon: # Exploration\n",
    "            best_action = np.random.choice(possible_actions)\n",
    "        else: # Exploitation\n",
    "            best_action = self.max_action(state)\n",
    "        return best_action"
   ]
  },
  {
   "cell_type": "markdown",
   "id": "0a4e3979",
   "metadata": {},
   "source": [
    "## SARSA - with Eligibility trace\n",
    "---\n",
    "\n",
    "Step 1. 상태 $S$, 행동 $A$, Eligibility trace $E(s)$ 초기화\n",
    "\n",
    "Step 2. $A$ 행동개시  $\\rightarrow  R$, $S'$ \n",
    "\n",
    "Step 3. 다음행동 $A'$ $\\leftarrow {\\epsilon}-greedy$ 방식\n",
    "\n",
    "Step 4. TD-error 계산 ${\\delta} \\leftarrow R+{\\gamma}Q(S',A')-Q(S,A)$ \n",
    "\n",
    "Step 5. $E(S) \\leftarrow E(S)+1$\n",
    "\n",
    "Step 6. Q업데이트 $Q(S,A) \\leftarrow Q(S,A) + {\\alpha}{\\delta}E(S)$\n",
    "\n",
    "Step 7. $E(S) \\leftarrow \\gamma \\lambda E(S)$\n",
    "\n",
    "Step 8. $S \\leftarrow S'$, $A \\leftarrow A'$\n",
    "\n",
    "Step 8. 에피소드 종료까지 Step 2~8 반복\n",
    "\n"
   ]
  },
  {
   "cell_type": "code",
   "execution_count": 20,
   "id": "bc6051d5",
   "metadata": {},
   "outputs": [],
   "source": [
    "class SARSA_ET(Qlearning_ET):\n",
    "    '''\n",
    "    SARSA_eligibility trace 역시 Qlearning_eligibility trace와 동일,\n",
    "    단, 행동추출의 방식의 차이만 반영\n",
    "    '''\n",
    "    def update(self,state,action,reward,next_state):\n",
    "        '''\n",
    "        Q-learning 업데이트식, \n",
    "        a' <- epsilon greedy\n",
    "        delta <- reward+gamma*Q(s',a')-Q(s,a)\n",
    "        E(s,a) <- E(s,a)+1\n",
    "        Q(s,a) <- Q(s,a) + alpha*E(s,a)*delta\n",
    "        E(s,a) <- gamma*lambda*E(s,a)\n",
    "            입력: state, action, reward, next_state\n",
    "            출력: X\n",
    "        '''\n",
    "        next_action = self.epsilon_action(next_state)\n",
    "        next_q = self.get_qvalue(next_state,next_action)\n",
    "        # 업데이트식\n",
    "        delta = reward+self.gamma*next_q-self.get_qvalue(state,action)\n",
    "        self.def_Etrace(state,action,self.get_Etrace(state,action)+1)\n",
    "        #self.def_qvalue(state,action,self.alpha*self.get_Etrace(state,action)*delta)\n",
    "        self.def_qvalue(state,action,self.get_qvalue(state,action)+self.alpha*self.get_Etrace(state,action)*delta)\n",
    "        self.def_Etrace(state,action,self.alpha*self.gamma*self.get_Etrace(state,action))"
   ]
  },
  {
   "cell_type": "code",
   "execution_count": 29,
   "id": "a98e595f",
   "metadata": {},
   "outputs": [],
   "source": [
    "Qet_agent = Qlearning_ET(lambda s: range(n_actions),lamb=0.01)\n",
    "SARSAet_agent = SARSA_ET(lambda s: range(n_actions),lamb=0.01)"
   ]
  },
  {
   "cell_type": "code",
   "execution_count": 30,
   "id": "979b32be",
   "metadata": {},
   "outputs": [
    {
     "name": "stdout",
     "output_type": "stream",
     "text": [
      "1900번째 에피소드 결과\n",
      "SARSA_Etrace 보상평균(100번 에피소드) = -38.34\n",
      "Q-Learning_Etrace 보상평균(100번 에피소드) = -75.58\n"
     ]
    },
    {
     "data": {
      "image/png": "[encoded data removed]",
      "text/plain": [
       "<Figure size 640x480 with 1 Axes>"
      ]
     },
     "metadata": {},
     "output_type": "display_data"
    }
   ],
   "source": [
    "rewards_sarsaet, rewards_qlet = [], []\n",
    "for i in range(2000):\n",
    "    rewards_sarsaet.append(play_and_train(env, SARSAet_agent))\n",
    "    rewards_qlet.append(play_and_train(env, Qet_agent))\n",
    "\n",
    "    if i % 100 == 0:\n",
    "        clear_output(True)\n",
    "        print(f'{i}번째 에피소드 결과')\n",
    "        print(f'SARSA_Etrace 보상평균(100번 에피소드) = {np.mean(rewards_sarsaet[-100:])}')\n",
    "        print(f'Q-Learning_Etrace 보상평균(100번 에피소드) = {np.mean(rewards_qlet[-100:])}')\n",
    "        \n",
    "        plt.title(f\"epsilon = {Qet_agent.epsilon}, lambda = {Qet_agent.lamb}\")\n",
    "        plt.plot(moving_average(rewards_sarsaet),label='SARSA E-trace')\n",
    "        plt.plot(moving_average(rewards_qlet),label='Q-learning E-trace')\n",
    "        \n",
    "        plt.grid()\n",
    "        plt.legend()\n",
    "        #plt.ylim(-1000, 0)\n",
    "        plt.show()"
   ]
  },
  {
   "cell_type": "code",
   "execution_count": 36,
   "id": "a235f1e3",
   "metadata": {},
   "outputs": [
    {
     "name": "stdout",
     "output_type": "stream",
     "text": [
      "Step: 19\n",
      "o  o  o  o  o  o  o  o  o  o  o  o\n",
      "o  o  o  o  o  o  o  o  o  o  o  o\n",
      "o  o  o  o  o  o  o  o  o  o  o  o\n",
      "o  C  C  C  C  C  C  C  C  C  C  x\n",
      "\n"
     ]
    }
   ],
   "source": [
    "play_render(SARSAet_agent,env)"
   ]
  },
  {
   "cell_type": "code",
   "execution_count": null,
   "id": "53529e93",
   "metadata": {},
   "outputs": [],
   "source": []
  }
 ],
 "metadata": {
  "kernelspec": {
   "display_name": "RL_scratch",
   "language": "python",
   "name": "python3"
  },
  "language_info": {
   "codemirror_mode": {
    "name": "ipython",
    "version": 3
   },
   "file_extension": ".py",
   "mimetype": "text/x-python",
   "name": "python",
   "nbconvert_exporter": "python",
   "pygments_lexer": "ipython3",
   "version": "3.8.13"
  }
 },
 "nbformat": 4,
 "nbformat_minor": 5
}
