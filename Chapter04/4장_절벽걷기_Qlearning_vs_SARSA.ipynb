{
 "cells": [
  {
   "cell_type": "code",
   "execution_count": 187,
   "id": "987575b4",
   "metadata": {},
   "outputs": [],
   "source": [
    "# 필요 패키지들을 호출\n",
    "from collections import defaultdict\n",
    "from IPython.display import clear_output\n",
    "import numpy as np\n",
    "import random\n",
    "import gym\n",
    "\n",
    "import pandas as pd\n",
    "import matplotlib.pyplot as plt"
   ]
  },
  {
   "cell_type": "code",
   "execution_count": 146,
   "id": "5d1cce33",
   "metadata": {},
   "outputs": [
    {
     "name": "stdout",
     "output_type": "stream",
     "text": [
      "2\n",
      "3\n"
     ]
    }
   ],
   "source": [
    "a = [1,2,3,4,5]\n",
    "print(np.random.choice(a))\n",
    "print(random.choice(a))"
   ]
  },
  {
   "cell_type": "code",
   "execution_count": 148,
   "id": "7583ab18",
   "metadata": {},
   "outputs": [],
   "source": [
    "# Cliff walking 환경 정의\n",
    "env = gym.make('CliffWalking-v0')"
   ]
  },
  {
   "cell_type": "code",
   "execution_count": 149,
   "id": "051760a3",
   "metadata": {},
   "outputs": [
    {
     "data": {
      "text/plain": [
       "'\\n    This is a simple implementation of the Gridworld Cliff\\n    reinforcement learning task.\\n\\n    Adapted from Example 6.6 (page 145) from Reinforcement Learning: An Introduction\\n    by Sutton and Barto:\\n    http://people.inf.elte.hu/lorincz/Files/RL_2006/SuttonBook.pdf\\n    \\n    With inspiration from:\\n    https://github.com/dennybritz/reinforcement-learning/blob/master/lib/envs/cliff_walking.py\\n\\n    The board is a 4x12 matrix, with (using Numpy matrix indexing):\\n        [3, 0] as the start at bottom-left\\n        [3, 11] as the goal at bottom-right\\n        [3, 1..10] as the cliff at bottom-center\\n\\n    Each time step incurs -1 reward, and stepping into the cliff incurs -100 reward \\n    and a reset to the start. An episode terminates when the agent reaches the goal.\\n    '"
      ]
     },
     "execution_count": 149,
     "metadata": {},
     "output_type": "execute_result"
    }
   ],
   "source": [
    "# Cliff walking에 대한 설명문\n",
    "env.__doc__"
   ]
  },
  {
   "cell_type": "code",
   "execution_count": 150,
   "id": "cb62df89",
   "metadata": {},
   "outputs": [
    {
     "name": "stdout",
     "output_type": "stream",
     "text": [
      "o  o  o  o  o  o  o  o  o  o  o  o\n",
      "o  o  o  o  o  o  o  o  o  o  o  o\n",
      "o  o  o  o  o  o  o  o  o  o  o  o\n",
      "x  C  C  C  C  C  C  C  C  C  C  T\n",
      "\n"
     ]
    }
   ],
   "source": [
    "# 현재 state의 Cliff walking 환경을 시각화합니다.\n",
    "env.render()"
   ]
  },
  {
   "cell_type": "code",
   "execution_count": 151,
   "id": "23cd7f0c",
   "metadata": {},
   "outputs": [
    {
     "name": "stdout",
     "output_type": "stream",
     "text": [
      "36\n"
     ]
    }
   ],
   "source": [
    "# gym 환경의 기본 기능을 익혀봅시다\n",
    "# env.reset() : 환경 개시\n",
    "# env.step(action): 환경 행동부여\n",
    "# env.render(): 환경 시각화 -> 이미지 혹은 텍스트(Gridworld)\n",
    "state = env.reset()\n",
    "print(state)"
   ]
  },
  {
   "cell_type": "code",
   "execution_count": 66,
   "id": "20074dec",
   "metadata": {},
   "outputs": [
    {
     "data": {
      "text/plain": [
       "4"
      ]
     },
     "execution_count": 66,
     "metadata": {},
     "output_type": "execute_result"
    }
   ],
   "source": [
    "env.action_space.n"
   ]
  },
  {
   "cell_type": "code",
   "execution_count": 67,
   "id": "af43fcf1",
   "metadata": {},
   "outputs": [],
   "source": [
    "# 에이전트가 행동을 하는 것을 모사\n",
    "# 출력값: 다음상태, 보상, 종료여부, 정보 \n",
    "# 정보는 환경과 관련된 부수적인 요소들을 딕셔너리 형태로 포함 -> 생략해도 무방\n",
    "next_state,reward,done,infs = env.step(env.action_space.sample())"
   ]
  },
  {
   "cell_type": "code",
   "execution_count": 68,
   "id": "7c43c108",
   "metadata": {},
   "outputs": [
    {
     "name": "stdout",
     "output_type": "stream",
     "text": [
      "36 -1 False\n"
     ]
    }
   ],
   "source": [
    "print(next_state, reward, done)"
   ]
  },
  {
   "cell_type": "code",
   "execution_count": 69,
   "id": "ecad6af2",
   "metadata": {},
   "outputs": [
    {
     "name": "stdout",
     "output_type": "stream",
     "text": [
      "o  o  o  o  o  o  o  o  o  o  o  o\n",
      "o  o  o  o  o  o  o  o  o  o  o  o\n",
      "o  o  o  o  o  o  o  o  o  o  o  o\n",
      "x  C  C  C  C  C  C  C  C  C  C  T\n",
      "\n"
     ]
    }
   ],
   "source": [
    "env.render()"
   ]
  },
  {
   "cell_type": "code",
   "execution_count": 167,
   "id": "d1094d1b",
   "metadata": {},
   "outputs": [],
   "source": [
    "# Q-learning 에이전트 작성\n",
    "class Qlearning:\n",
    "    def __init__(self,possible_actions,alpha=0.25,epsilon=0.2,gamma=0.99):\n",
    "        '''\n",
    "        초기 입력인자\n",
    "            possible_actions: State에서 에이전트가 취할수 있는 행동, (defaultdict s)\n",
    "            alpha: 학습률\n",
    "            epsilon: Exploration 확률 <- 학습초기: 높은확률, 학습후기: 낮은확률\n",
    "            gamma: 할인율\n",
    "        Class의 속성\n",
    "            Q-함수 정의 -> self.def_qvalue\n",
    "            Q-함수 출력 -> self.get_qvalue\n",
    "            Q-함수 업데이트 -> self.update_qvalue\n",
    "            행동 추출 \n",
    "                -> self.epsilon_action\n",
    "                -> self.argmax_action\n",
    "        '''\n",
    "        self.possible_actions=possible_actions\n",
    "        self.alpha = alpha\n",
    "        self.epsilon = epsilon\n",
    "        self.gamma = gamma\n",
    "        self.q_value = defaultdict(lambda: defaultdict(lambda: 0))\n",
    "        \n",
    "    def def_qvalue(self,state,action,q_value):\n",
    "        '''\n",
    "        Q-함수값 정의, Q(s,a) <- q_value\n",
    "            입력: state, action, q_value\n",
    "            출력: X\n",
    "        '''\n",
    "        self.q_value[state][action] = q_value\n",
    "    \n",
    "    def get_qvalue(self,state,action):\n",
    "        '''\n",
    "        Q-함수값 출력\n",
    "            입력: state, action\n",
    "            출력: Q(s,a)\n",
    "        '''\n",
    "        return self.q_value[state][action]\n",
    "    \n",
    "    def max_Q(self,state):\n",
    "        '''\n",
    "        max_{a}Q(s',a) 구하기\n",
    "            입력: state\n",
    "            출력: max_{a}Q(s,a)\n",
    "        '''\n",
    "        possible_actions = self.possible_actions(state)\n",
    "        Qs = []\n",
    "        for possible_action in possible_actions:\n",
    "            Qs.append(self.get_qvalue(state,possible_action))\n",
    "        Qs = max(Qs)\n",
    "        return Qs\n",
    "    \n",
    "    def update(self,state,action,reward,next_state):\n",
    "        '''\n",
    "        Q-learning 업데이트식, Q(s,a) <- Q(s,a) + alpha*(reward+gamma*max(Q(s',a'))-Q(s,a))\n",
    "            입력: state, action, reward, next_state\n",
    "            출력: X\n",
    "        '''\n",
    "        next_q = self.max_Q(next_state)\n",
    "        # 업데이트식\n",
    "        rhs = (1-self.alpha)*self.get_qvalue(state,action)+self.alpha*(reward+self.gamma*next_q) \n",
    "        self.def_qvalue(state,action,rhs)\n",
    "    \n",
    "    def max_action(self,state):\n",
    "        '''\n",
    "        Q-함수값에 전적으로 의존한 최적의 action -> argmax_{a}Q(s,a)\n",
    "            입력: state\n",
    "            출력: action\n",
    "        '''\n",
    "        Qmax = self.max_Q(state)\n",
    "        possible_actions = self.possible_actions(state)\n",
    "        action = np.random.choice(possible_actions)\n",
    "        for possible_action in possible_actions:\n",
    "            Qvalue = self.get_qvalue(state,possible_action)\n",
    "            if Qvalue >= Qmax:\n",
    "                Qmax = Qvalue\n",
    "                action = possible_action\n",
    "        return action\n",
    "    \n",
    "    def epsilon_action(self,state):\n",
    "        '''\n",
    "        Epsilon-greedy 방식에 근거한 행동추출\n",
    "        -> 임의로 정의한 확률 p와 epsilon을 비교, 작은경우: Exploration, 큰 경우: Exploitation\n",
    "            입력: state\n",
    "            출력: 현재 state에 적절한 action\n",
    "        '''\n",
    "        possible_actions = self.possible_actions(state)\n",
    "        p = np.random.uniform(0,1)\n",
    "        if p <= self.epsilon: # Exploration\n",
    "            best_action = np.random.choice(possible_actions)\n",
    "        else: # Exploitation\n",
    "            best_action = self.max_action(state)\n",
    "        return best_action"
   ]
  },
  {
   "cell_type": "code",
   "execution_count": 168,
   "id": "692210be",
   "metadata": {},
   "outputs": [],
   "source": [
    "# SARSA 에이전트 작성\n",
    "class SARSA:\n",
    "    def __init__(self,possible_actions,alpha=0.25,epsilon=0.2,gamma=0.99):\n",
    "        '''\n",
    "        초기 입력인자\n",
    "            possible_actions: 에이전트가 취할수 있는 행동 <- env.action_space.n을 통해서 입력\n",
    "            alpha: 학습률\n",
    "            epsilon: Exploration 확률 <- 학습초기: 높은확률, 학습후기: 낮은확률\n",
    "            gamma: 할인율\n",
    "        Class의 속성\n",
    "            Q-함수 정의 -> self.def_qvalue\n",
    "            Q-함수 출력 -> self.get_qvalue\n",
    "            Q-함수 업데이트 -> self.update_qvalue\n",
    "            행동 추출 -> self.get_action\n",
    "        '''\n",
    "        self.possible_actions=possible_actions\n",
    "        self.alpha = alpha\n",
    "        self.epsilon = epsilon\n",
    "        self.gamma = gamma\n",
    "        self.q_value = defaultdict(lambda: defaultdict(lambda: 0))\n",
    "        \n",
    "    def def_qvalue(self,state,action,q_value):\n",
    "        '''\n",
    "        Q-함수값 정의, Q(s,a) <- q_value\n",
    "            입력: state, action, q_value\n",
    "            출력: X\n",
    "        '''\n",
    "        self.q_value[state][action] = q_value\n",
    "    \n",
    "    def get_qvalue(self,state,action):\n",
    "        '''\n",
    "        Q-함수값 출력\n",
    "            입력: state, action\n",
    "            출력: Q(s,a)\n",
    "        '''\n",
    "        return self.q_value[state][action]\n",
    "    \n",
    "    def max_Q(self,state):\n",
    "        '''\n",
    "        max_{a}Q(s',a) 구하기\n",
    "            입력: state\n",
    "            출력: max_{a}Q(s,a)\n",
    "        '''\n",
    "        possible_actions = self.possible_actions(state)\n",
    "        Qs = []\n",
    "        for possible_action in possible_actions:\n",
    "            Qs.append(self.get_qvalue(state,possible_action))\n",
    "        Qs = max(Qs)\n",
    "        return Qs\n",
    "    \n",
    "    def update(self,state,action,reward,next_state):\n",
    "        '''\n",
    "        SARSA 업데이트식, Q(s,a) <- Q(s,a) + alpha*(reward+gamma*Q(s',a')-Q(s,a))\n",
    "        (a' <- epsilon-greedy 정책)\n",
    "            입력: state, action, reward, next_state\n",
    "            출력: X\n",
    "        '''\n",
    "        next_action = self.epsilon_action(next_state)\n",
    "        next_q = self.get_qvalue(next_state,next_action)\n",
    "        rhs = (1-self.alpha)*self.get_qvalue(state,action)+self.alpha*(reward+self.gamma*next_q) # 업데이트식\n",
    "        self.def_qvalue(state,action,rhs)\n",
    "    \n",
    "    def max_action(self,state):\n",
    "        '''\n",
    "        Q-함수값에 전적으로 의존한 최적의 action -> argmax_{a}Q(s,a)\n",
    "            입력: state\n",
    "            출력: action\n",
    "        '''\n",
    "        Qmax = self.max_Q(state)\n",
    "        possible_actions = self.possible_actions(state)\n",
    "        action = np.random.choice(possible_actions)\n",
    "        for possible_action in possible_actions:\n",
    "            Qvalue = self.get_qvalue(state,possible_action)\n",
    "            if Qvalue >= Qmax:\n",
    "                Qmax = Qvalue\n",
    "                action = possible_action\n",
    "        return action\n",
    "    \n",
    "    def epsilon_action(self,state):\n",
    "        '''\n",
    "        Epsilon-greedy 방식에 근거한 행동추출\n",
    "        -> 임의로 정의한 확률 p가 epsilon와 비교, 작은경우: Exploration, 큰 경우: Exploitation\n",
    "            입력: state\n",
    "            출력: 현재 state에 적절한 action\n",
    "        '''\n",
    "        possible_actions = self.possible_actions(state)\n",
    "        p = np.random.uniform(0,1)\n",
    "        if p <= self.epsilon: # Exploration\n",
    "            best_action = np.random.choice(possible_actions)\n",
    "        else: # Exploitation\n",
    "            best_action = self.max_action(state)\n",
    "        return best_action"
   ]
  },
  {
   "cell_type": "code",
   "execution_count": 173,
   "id": "70850225",
   "metadata": {},
   "outputs": [],
   "source": [
    "def play_and_train(env, agent, t_max=10**4):\n",
    "    '''\n",
    "    에이전트 학습 코드(gym style)\n",
    "    입력인자\n",
    "        env: 환경 -> Cliff walking\n",
    "        agent: 에이전트 -> Q-agent, SARSA_agent\n",
    "        t_max: 최대 시점 -> 강제 에피소드 종료시점 설정\n",
    "    출력인자\n",
    "        total_reward: 최종보상(할인 X)\n",
    "    '''\n",
    "    total_reward = 0.0\n",
    "    s = env.reset()\n",
    "\n",
    "    for t in range(t_max):\n",
    "        a = agent.epsilon_action(s)\n",
    "        \n",
    "        next_s, r, done, _ = env.step(a)\n",
    "        agent.update(s, a, r, next_s)\n",
    "\n",
    "        s = next_s\n",
    "        total_reward += r\n",
    "        if done:\n",
    "            break\n",
    "\n",
    "    return total_reward"
   ]
  },
  {
   "cell_type": "code",
   "execution_count": 195,
   "id": "f28135d4",
   "metadata": {},
   "outputs": [],
   "source": [
    "# 각 행동에는 4개의 행동이 가능 - 상,하,좌,우\n",
    "n_actions = env.action_space.n\n",
    "Q_agent = Qlearning(lambda s: range(n_actions))\n",
    "SARSA_agent = SARSA(lambda s: range(n_actions))"
   ]
  },
  {
   "cell_type": "code",
   "execution_count": 196,
   "id": "b73b991c",
   "metadata": {},
   "outputs": [
    {
     "name": "stdout",
     "output_type": "stream",
     "text": [
      "2900번째 에피소드 결과\n",
      "SARSA 보상평균(100 에피소드) = -28.77\n",
      "Q-Learning 보상평균(100 에피소드) = -111.66\n"
     ]
    },
    {
     "data": {
      "image/png": "[encoded data removed]",
      "text/plain": [
       "<Figure size 432x288 with 1 Axes>"
      ]
     },
     "metadata": {
      "needs_background": "light"
     },
     "output_type": "display_data"
    }
   ],
   "source": [
    "def moving_average(x, span=100):\n",
    "    return pd.DataFrame({'x': np.asarray(x)}).x.ewm(span=span).mean().values\n",
    "\n",
    "rewards_sarsa, rewards_ql = [], []\n",
    "for i in range(2000):\n",
    "    rewards_sarsa.append(play_and_train(env, SARSA_agent))\n",
    "    rewards_ql.append(play_and_train(env, Q_agent))\n",
    "\n",
    "    if i % 100 == 0:\n",
    "        clear_output(True)\n",
    "        print(f'{i}번째 에피소드 결과')\n",
    "        print(f'SARSA 보상평균(100번 에피소드) = {np.mean(rewards_sarsa[-100:])}')\n",
    "        print(f'Q-Learning 보상평균(100번 에피소드) = {np.mean(rewards_ql[-100:])}')\n",
    "        mean_sarsa.append(np.mean(rewards_sarsa[-100:]))\n",
    "        mean_q.append(np.mean(rewards_ql[-100:]))\n",
    "        \n",
    "        plt.title(\"epsilon = %s\" % Q_agent.epsilon)\n",
    "        plt.plot(moving_average(rewards_sarsa),label='SARSA')\n",
    "        plt.plot(moving_average(rewards_ql),label='Q-learning')\n",
    "        \n",
    "        plt.grid()\n",
    "        plt.legend()\n",
    "        plt.ylim(-1000, 0)\n",
    "        plt.show()"
   ]
  },
  {
   "cell_type": "code",
   "execution_count": null,
   "id": "f5ffe1bc",
   "metadata": {},
   "outputs": [],
   "source": []
  }
 ],
 "metadata": {
  "kernelspec": {
   "display_name": "RL_scratch",
   "language": "python",
   "name": "rl_scratch"
  },
  "language_info": {
   "codemirror_mode": {
    "name": "ipython",
    "version": 3
   },
   "file_extension": ".py",
   "mimetype": "text/x-python",
   "name": "python",
   "nbconvert_exporter": "python",
   "pygments_lexer": "ipython3",
   "version": "3.8.13"
  }
 },
 "nbformat": 4,
 "nbformat_minor": 5
}
