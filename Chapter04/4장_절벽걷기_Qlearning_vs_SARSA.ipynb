{
 "cells": [
  {
   "cell_type": "code",
   "execution_count": 1,
   "id": "987575b4",
   "metadata": {},
   "outputs": [],
   "source": [
    "# 필요 패키지들을 호출\n",
    "from collections import defaultdict\n",
    "from IPython.display import clear_output\n",
    "import numpy as np\n",
    "import random\n",
    "import gym\n",
    "\n",
    "import pandas as pd\n",
    "import matplotlib.pyplot as plt"
   ]
  },
  {
   "cell_type": "code",
   "execution_count": 2,
   "id": "7583ab18",
   "metadata": {},
   "outputs": [
    {
     "name": "stderr",
     "output_type": "stream",
     "text": [
      "/home/hshwang/anaconda3/envs/RL_scratch/lib/python3.8/site-packages/gym/envs/registration.py:14: PkgResourcesDeprecationWarning: Parameters to load are deprecated.  Call .resolve and .require separately.\n",
      "  result = entry_point.load(False)\n"
     ]
    }
   ],
   "source": [
    "# Cliff walking 환경 정의\n",
    "env = gym.make('CliffWalking-v0')"
   ]
  },
  {
   "cell_type": "code",
   "execution_count": 3,
   "id": "051760a3",
   "metadata": {},
   "outputs": [
    {
     "name": "stdout",
     "output_type": "stream",
     "text": [
      "\n",
      "    This is a simple implementation of the Gridworld Cliff\n",
      "    reinforcement learning task.\n",
      "\n",
      "    Adapted from Example 6.6 (page 145) from Reinforcement Learning: An Introduction\n",
      "    by Sutton and Barto:\n",
      "    http://people.inf.elte.hu/lorincz/Files/RL_2006/SuttonBook.pdf\n",
      "    \n",
      "    With inspiration from:\n",
      "    https://github.com/dennybritz/reinforcement-learning/blob/master/lib/envs/cliff_walking.py\n",
      "\n",
      "    The board is a 4x12 matrix, with (using Numpy matrix indexing):\n",
      "        [3, 0] as the start at bottom-left\n",
      "        [3, 11] as the goal at bottom-right\n",
      "        [3, 1..10] as the cliff at bottom-center\n",
      "\n",
      "    Each time step incurs -1 reward, and stepping into the cliff incurs -100 reward \n",
      "    and a reset to the start. An episode terminates when the agent reaches the goal.\n",
      "    \n"
     ]
    }
   ],
   "source": [
    "# Cliff walking에 대한 설명문\n",
    "print(env.__doc__)"
   ]
  },
  {
   "cell_type": "code",
   "execution_count": 4,
   "id": "cb62df89",
   "metadata": {},
   "outputs": [
    {
     "name": "stdout",
     "output_type": "stream",
     "text": [
      "o  o  o  o  o  o  o  o  o  o  o  o\n",
      "o  o  o  o  o  o  o  o  o  o  o  o\n",
      "o  o  o  o  o  o  o  o  o  o  o  o\n",
      "x  C  C  C  C  C  C  C  C  C  C  T\n",
      "\n"
     ]
    }
   ],
   "source": [
    "# 현재 state의 Cliff walking 환경을 시각화합니다.\n",
    "s = env.reset()"
    "env.render()"
   ]
  },
  {
   "cell_type": "code",
   "execution_count": 5,
   "id": "23cd7f0c",
   "metadata": {},
   "outputs": [
    {
     "name": "stdout",
     "output_type": "stream",
     "text": [
      "36\n"
     ]
    }
   ],
   "source": [
    "# gym 환경의 기본 기능을 익혀봅시다\n",
    "# env.reset() : 환경 개시\n",
    "# env.step(action): 환경 행동부여\n",
    "# env.render(): 환경 시각화 -> 이미지 혹은 텍스트(Gridworld)\n",
    "state = env.reset()\n",
    "print(state)"
   ]
  },
  {
   "cell_type": "code",
   "execution_count": 6,
   "id": "20074dec",
   "metadata": {},
   "outputs": [
    {
     "data": {
      "text/plain": [
       "4"
      ]
     },
     "execution_count": 6,
     "metadata": {},
     "output_type": "execute_result"
    }
   ],
   "source": [
    "env.action_space.n"
   ]
  },
  {
   "cell_type": "code",
   "execution_count": 7,
   "id": "af43fcf1",
   "metadata": {},
   "outputs": [],
   "source": [
    "# 에이전트가 행동을 하는 것을 모사\n",
    "# 출력값: 다음상태, 보상, 종료여부, 정보 \n",
    "# 정보는 환경과 관련된 부수적인 요소들을 딕셔너리 형태로 포함 -> 생략해도 무방\n",
    "next_state,reward,done,infs = env.step(env.action_space.sample())"
   ]
  },
  {
   "cell_type": "code",
   "execution_count": 8,
   "id": "7c43c108",
   "metadata": {},
   "outputs": [
    {
     "name": "stdout",
     "output_type": "stream",
     "text": [
      "24 -1 False {'prob': 1.0}\n"
     ]
    }
   ],
   "source": [
    "print(next_state, reward, done,infs)"
   ]
  },
  {
   "cell_type": "code",
   "execution_count": 9,
   "id": "ecad6af2",
   "metadata": {},
   "outputs": [
    {
     "name": "stdout",
     "output_type": "stream",
     "text": [
      "o  o  o  o  o  o  o  o  o  o  o  o\n",
      "o  o  o  o  o  o  o  o  o  o  o  o\n",
      "x  o  o  o  o  o  o  o  o  o  o  o\n",
      "o  C  C  C  C  C  C  C  C  C  C  T\n",
      "\n"
     ]
    }
   ],
   "source": [
    "env.render()"
   ]
  },
  {
   "cell_type": "code",
   "execution_count": 10,
   "id": "d1094d1b",
   "metadata": {},
   "outputs": [],
   "source": [
    "# Q-learning 에이전트 작성\n",
    "class Qlearning:\n",
    "    def __init__(self,possible_actions,alpha=0.25,epsilon=0.2,gamma=0.99):\n",
    "        '''\n",
    "        초기 입력인자\n",
    "            possible_actions: State에서 에이전트가 취할수 있는 행동, (defaultdict s)\n",
    "            alpha: 학습률\n",
    "            epsilon: Exploration 확률 <- 학습초기: 높은확률, 학습후기: 낮은확률\n",
    "            gamma: 할인율\n",
    "        Class의 속성\n",
    "            Q-함수 정의 -> self.def_qvalue\n",
    "            Q-함수 출력 -> self.get_qvalue\n",
    "            Q-함수 업데이트 -> self.update_qvalue\n",
    "            행동 추출 \n",
    "                -> self.epsilon_action\n",
    "                -> self.argmax_action\n",
    "        '''\n",
    "        self.possible_actions=possible_actions\n",
    "        self.alpha = alpha\n",
    "        self.epsilon = epsilon\n",
    "        self.gamma = gamma\n",
    "        self.q_value = defaultdict(lambda: defaultdict(lambda: 0))\n",
    "        \n",
    "    def def_qvalue(self,state,action,q_value):\n",
    "        '''\n",
    "        Q-함수값 정의, Q(s,a) <- q_value\n",
    "            입력: state, action, q_value\n",
    "            출력: X\n",
    "        '''\n",
    "        self.q_value[state][action] = q_value\n",
    "    \n",
    "    def get_qvalue(self,state,action):\n",
    "        '''\n",
    "        Q-함수값 출력\n",
    "            입력: state, action\n",
    "            출력: Q(s,a)\n",
    "        '''\n",
    "        return self.q_value[state][action]\n",
    "    \n",
    "    def max_Q(self,state):\n",
    "        '''\n",
    "        max_{a}Q(s',a) 구하기\n",
    "            입력: state\n",
    "            출력: max_{a}Q(s,a)\n",
    "        '''\n",
    "        possible_actions = self.possible_actions(state)\n",
    "        Qs = []\n",
    "        for possible_action in possible_actions:\n",
    "            Qs.append(self.get_qvalue(state,possible_action))\n",
    "        Qs = max(Qs)\n",
    "        return Qs\n",
    "    \n",
    "    def update(self,state,action,reward,next_state):\n",
    "        '''\n",
    "        Q-learning 업데이트식, Q(s,a) <- Q(s,a) + alpha*(reward+gamma*max(Q(s',a'))-Q(s,a))\n",
    "            입력: state, action, reward, next_state\n",
    "            출력: X\n",
    "        '''\n",
    "        next_q = self.max_Q(next_state)\n",
    "        # 업데이트식\n",
    "        rhs = (1-self.alpha)*self.get_qvalue(state,action)+self.alpha*(reward+self.gamma*next_q) \n",
    "        self.def_qvalue(state,action,rhs)\n",
    "    \n",
    "    def max_action(self,state):\n",
    "        '''\n",
    "        Q-함수값에 전적으로 의존한 최적의 action -> argmax_{a}Q(s,a)\n",
    "            입력: state\n",
    "            출력: action\n",
    "        '''\n",
    "        Qmax = self.max_Q(state)\n",
    "        possible_actions = self.possible_actions(state)\n",
    "        action = np.random.choice(possible_actions)\n",
    "        for possible_action in possible_actions:\n",
    "            Qvalue = self.get_qvalue(state,possible_action)\n",
    "            if Qvalue >= Qmax:\n",
    "                Qmax = Qvalue\n",
    "                action = possible_action\n",
    "        return action\n",
    "    \n",
    "    def epsilon_action(self,state):\n",
    "        '''\n",
    "        Epsilon-greedy 방식에 근거한 행동추출\n",
    "        -> 임의로 정의한 확률 p와 epsilon을 비교, 작은경우: Exploration, 큰 경우: Exploitation\n",
    "            입력: state\n",
    "            출력: 현재 state에 적절한 action\n",
    "        '''\n",
    "        possible_actions = self.possible_actions(state)\n",
    "        p = np.random.uniform(0,1)\n",
    "        if p <= self.epsilon: # Exploration\n",
    "            best_action = np.random.choice(possible_actions)\n",
    "        else: # Exploitation\n",
    "            best_action = self.max_action(state)\n",
    "        return best_action"
   ]
  },
  {
   "cell_type": "code",
   "execution_count": 11,
   "id": "fb682097",
   "metadata": {},
   "outputs": [],
   "source": [
    "# SARSA 에이전트 작성\n",
    "class SARSA(Qlearning):\n",
    "    '''\n",
    "    SARSA 역시 Qlearning과 동일,\n",
    "    단, 행동추출의 방식의 차이만 반영\n",
    "    '''\n",
    "    def update(self,state,action,reward,next_state):\n",
    "        '''\n",
    "        SARSA 업데이트식, Q(s,a) <- Q(s,a) + alpha*(reward+gamma*Q(s',a')-Q(s,a))\n",
    "        (a' <- epsilon-greedy 정책)\n",
    "            입력: state, action, reward, next_state\n",
    "            출력: X\n",
    "        '''\n",
    "        next_action = self.epsilon_action(next_state)\n",
    "        next_q = self.get_qvalue(next_state,next_action)\n",
    "        rhs = (1-self.alpha)*self.get_qvalue(state,action)+self.alpha*(reward+self.gamma*next_q) # 업데이트식\n",
    "        self.def_qvalue(state,action,rhs)"
   ]
  },
  {
   "cell_type": "code",
   "execution_count": 12,
   "id": "70850225",
   "metadata": {},
   "outputs": [],
   "source": [
    "def play_and_train(env, agent, t_max=10**4):\n",
    "    '''\n",
    "    에이전트 학습 코드(gym style)\n",
    "    입력인자\n",
    "        env: 환경 -> Cliff walking\n",
    "        agent: 에이전트 -> Q-agent, SARSA_agent\n",
    "        t_max: 최대 시점 -> 강제 에피소드 종료시점 설정\n",
    "    출력인자\n",
    "        total_reward: 최종보상(할인 X)\n",
    "    '''\n",
    "    total_reward = 0.0\n",
    "    s = env.reset()\n",
    "\n",
    "    for t in range(t_max):\n",
    "        a = agent.epsilon_action(s)\n",
    "        \n",
    "        next_s, r, done, _ = env.step(a)\n",
    "        agent.update(s, a, r, next_s)\n",
    "\n",
    "        s = next_s\n",
    "        total_reward += r\n",
    "        if done:\n",
    "            break\n",
    "\n",
    "    return total_reward"
   ]
  },
  {
   "cell_type": "code",
   "execution_count": 13,
   "id": "f28135d4",
   "metadata": {},
   "outputs": [],
   "source": [
    "n_actions = env.action_space.n # 각 행동에는 4개의 행동이 가능 - 상,하,좌,우\n",
    "\n",
    "Q_agent = Qlearning(lambda s: range(n_actions))\n",
    "SARSA_agent = SARSA(lambda s: range(n_actions))"
   ]
  },
  {
   "cell_type": "code",
   "execution_count": 14,
   "id": "1ae1c9e9",
   "metadata": {},
   "outputs": [],
   "source": [
    "def moving_average(x, span=100):\n",
    "    return pd.DataFrame({'x': np.asarray(x)}).x.ewm(span=span).mean().values"
   ]
  },
  {
   "cell_type": "code",
   "execution_count": 15,
   "id": "b73b991c",
   "metadata": {},
   "outputs": [
    {
     "name": "stdout",
     "output_type": "stream",
     "text": [
      "1900번째 에피소드 결과\n",
      "SARSA 보상평균(100번 에피소드) = -30.67\n",
      "Q-Learning 보상평균(100번 에피소드) = -103.86\n"
     ]
    },
    {
     "data": {
      "image/png": "iVBORw0KGgoAAAANSUhEUgAAAYUAAAEICAYAAACwDehOAAAAOXRFWHRTb2Z0d2FyZQBNYXRwbG90bGliIHZlcnNpb24zLjUuMiwgaHR0cHM6Ly9tYXRwbG90bGliLm9yZy8qNh9FAAAACXBIWXMAAAsTAAALEwEAmpwYAAA98klEQVR4nO3dd3hUVfrA8e+bHlIJgVAChK6gCNJEQKNYWRV7d9G1rGtZd1fXusUtru76W9d1dW0rll0VFAvo2mA1iCid0FuoCRBKQnrPnN8f585kUkmbTHDez/PMkztn7r3zzs3Mfe85595zxRiDUkopBRDk7wCUUkp1HpoUlFJKeWhSUEop5aFJQSmllIcmBaWUUh6aFJRSSnloUlCqDhF5WET+5UyniIgRkRB/x6VUR9CkoFQdxpg/GWNu8XccjRGRUSKyUkRKnL+jGpkvXEReEZHdIlIoIukicn4Hh6uOMZoUlDqGiEgYMBf4D9AVeB2Y65TXFQJkAqcDccCvgHdEJKVjolXHIk0K6pgmIr1F5D0ROSQiO0Xkp16vPSoic0RktnOkvEpETvJ6/QER2eu8tkVEpnot958m3m+eiOSKSIaI3Frn/d4RkTecdW4QkbHt/JFTsTv7p40x5caYZwABzqw7ozGm2BjzqDFmlzHGZYz5GNgJjGnnmNT3iCYFdcwSkSDgI2AN0AeYCvxMRM71mm068C6QALwFfCgioSIyDLgLGGeMiQHOBXY1421nAVlAb+By4E8i4r1DvsiZJx6YBzzbRPxrRSSvkcc/G1lsBLDW1B6fZq1T3iQRSQKGAhuONq8KXJoU1LFsHNDdGPN7Y0yFMWYH8DJwtdc8K40xc4wxlcBTQARwClANhAPDRSTUOZre3tSbiUhfYBLwgDGmzBiTDvwL+KHXbN8YYz4xxlQD/wZOqr8myxgz0hgT38jjjkYWiwby65TlAzFHiT0UeBN43Rizual5VWDTpKCOZf2B3t5H2MDDQJLXPJnuCWOMC+co3xiTAfwMeBQ4KCKzRKT3Ud6vN5BrjCn0KtuNraW4ZXtNlwAR7XzmUhEQW6csFihsYF7AU6P6N1CBrR0p1ShNCupYlgnsrHOEHWOMmeY1T1/3hLNzTAb2ARhj3jLGTMYmFwP8+Sjvtw9IEBHvo/J+wN7WBO/0ORQ18nihkcU2ACNFRLzKRtJIk5Az3yvYRHmZU2NSqlGaFNSxbBlQ6HQYR4pIsIicICLjvOYZIyKXOkfrPwPKgSUiMkxEzhSRcKAMKAVcTb2ZMSYT+BZ4XEQiRGQkcDP2TKAWM8aMMMZEN/K4vZHF0rBNXz91Tjl1H/l/2cj8zwPHAxcaY0pbE6cKLJoU1DHLabe/ABiFPavmMLaNP85rtrnAVcAR4AbgUudoORx4wlkmG+gBPNSMt70GSMHWGj4AfmuMWdD2T9M8xpgK4GJsP0Ye8CPgYqfcfeHdp850f+DH2O2T7VULua6j4lXHHtGb7KjvKxF5FBhsjLne37EodazQmoJSSimPTpcUROQ850KiDBF50N/xKKVUIOlUzUciEgxsBc7Gnjq4HLjGGLPRr4EppVSA6Gw1hfFAhjFmh9NxNgt7RapSSqkO0NmGA+6D18VG2NrChLozichtwG0AkZGRY/r27Vt3lmZxuVwEBXW2vFhD42sbja9tNL626ezxbd269bAxpnu9F4wxneaBHUvmX17PbwCebWqZMWPGmNb66quvWr1sR9D42kbjaxuNr206e3zACtPAPrWzpbG9eF2Bir36tFVXiyqllGq5zpYUlgNDRGSAMz781diRJpVSSnWATtWnYIypci7b/xwIBmYaY3SYX6WU6iCdKikAGGM+AT7xdxzfVyUVVRSUVpEUG052QRnbDhSx83AxQ3pEc1yvWBKiGrqBV/sxxpBXUsme3BKSu0ZyqKicjfsK2HW4mKwjpezJLWHykERG9+vK6UNtH1h5VTWV1YbocN99XauqXYQEd0zFOTu/DIOhvMqQU1ROQlQYh4sqyDhYxI7DRezJLSEzt4S9R0rZm1fG4aJy3rp1An3iI0mMDicqPISCskoOFpTTL6ELBwvLSO7axWfx5pVUsCW7kJ2Hi0kd1oOecRE+e6/2Zoxhd04Ja7Ly2H6wiBmnptAtOpzSimrWZuXRIzaCAYlRlFVWs35vPlsOFLI1u5Adh4sZ3a8rvzh7aK31FZZVknGwiM3ZhWzJLuRQYTnhIUHERIQwok8cV4xJJrugjB2HilmRXUXfQ0VsO1BEbGQIcZGh5BZXMGlQIiIgIhhjKK9yEREaTEFZJVuzC9mUXcj2g0XcccYgCsuqWLYzl105xZzcryvnjujp823W6ZKCqpFb5uJIcQWxkaEEB8lR57cdRZBdUMb/Nh3guF6xjEyOY+mOXL7cfJBF2w6x/VBxk+voERNO7/hI+iV04doJ/RifksDqzDy+2JhN2uZDbDlQyKi+8QxNimbFtlKKE/Yz9fgeLNmRw9dbD1PtcjFuQALr9ubzbUYOwUHCPVOHsDozj/TMPNZk5pFfWn+gziABl3PJzIrdRwAY1D2KiNBgNuwrAGDZw1PpEdv4Dqm8qpp1WfnERoayJjOPOell3PfNApK7RvLmLROoqjYcKipjX14Z2w8VsTunhIyDNinuzSslIjSIYBFumJjCg+cf1+j7FJdXERkaTFCd/8m+vFJW78nj2+2HSekWxcjkOHrHR/L5hmy+255D34QuLM44zLaDRTULLVhASJBQ5aq5Xig0WEju2oXkrpGEBAdxuKica19e6nl9eK9YNu4vqBfXKzPG0j0mnJHJ8fVeO1JcwU5nx+JW7TLsPFxMVHgw67LymTKkO5FhweQWV/DJuv18sLqMB7/9H9kFZbXWNbB7FC/dMIbBPZq8hYPHgYIyisqrGNQ9usHXs46UkBQbQaiTlEsqqjzfp+LyKs47oSf78ss4+/gkkmLDKSitIq5LKGC/8yt3H+HLzQc5UFDO5WOSMcaw/XAxC7ccYsXuXPJKar5vz3yZQb+ELuzLK/Vs87CQIIIEyirteIhRYcEUV1Tz7fYcbp48gG+2HWbRtkN8tyOH3TklnnV1CQumpKK61me5f87aWs+fTV/Y4GcOCwmiqtpFVFgIheVVJESFkVtcUWue177dVW+5S0f34ZKT+7A2K58uYcHcNGlAg+tvi0518VprjB071qxYsaJVy6alpZGamtq+ATWTMYZVe/LIOlLCwMRoDhWVcXyvWN5dkUV2QRnbDxaxdGeuZ/6T+sbz5OUjCRIhLDiIvgmRLN2ZyzvLM1mw6QBdo8IICw6qvcOh5osbHhLExEHdGJgYzcb9+QxLimFwUgyDu0eTW1zBwq0HeWdFVr04e8VFsD+/jJAgISI0mKLyKgC6RYWR43yJI0KDPD8ot7o7uiCBoUkxjOobz5CkGDIOFhIZGsLI5DhG9I6lf7cowkKC2HW4mJKKan7wj0WkdIuib0IXDuSXseVAze0CesZGkF1QxiPTjqdvQhfeW5XFgk0HiAgJprSy5kcaFy4UV1IrjrrbZnCPaPomdGHR1kOM7teV1XuOUFBWxeTBiWQXlDFxYDcevWgEucUVzF6+hwWbDpKemcf5J/Tk+evHsC+vlPdWZvHR2n1sPVDU4Pu4BQcJpw7qRq+4CMoqXVTkH+KAK4rjesYyNCmawT2iGZAYRa+4yFoHAe+tzGLZzlw+XruP4opqJg7sxqh+8WzYV8CQHtG8szyTQuf/4jakRzRdu4SxbFcuIUFCtXPAcN85Q1m/t4Cc4nJ2Hi7mcFFF3TA9/7vESGHSsF6M6B3L0KQYluzI5YPVWRwoKAdg2ok96RYVzrkjehIcJPTr1oWELmFEhgVTXlXN3PR9vL8qiyU7cokIDWLFr85mf14p5VUu4iJD+XD1Xj5M3+s5UBnYPYodRzlocRvcI5phUeWsyQsh60jDg78md41k0qBERvWL58Q+cby1bA9vLd3DiN6xTBnSndjIEF5I286QpBhO6B3LpMGJDO8dS5/4SN74bje/nVfTch0THsIpg7o5B0QxDOkRTb+ELhRXVJFXUklReRWPf7qZwd2jGdA9iv4JXXhv4Womjz6e2MhQtmQX0isuggfeW0tKYhQH8ssY3COaHrERbD9UxIjecRzXM4bje8UwrGcss5ftYW9eGeNSujJ+QALF5dVc+Ow39T7jskem0iOmdTU3EVlpjKl3u1hNCh2UFBZnHOaRD9axK6eE3nER7Msva3L+lG5dCHeVERsXx/JdR2q9lhQbTnLXLqzcXbs8vksoCVFhXDyqDzERIby5dA8TBiQw9fgeTByYSGRY8FHjrKhyUVBWyXNfZfDq4l2cPrQ7l4zuwxnH9SAuMpRqlyGvpIKEqDAefn0By3JCmTw4kTOO68Gg7tEszjhMXGQok4ckEhwkzF6eyXE9bY0lqpXNP8YYfjlnLfPW7KNLWDDJXSNZv7f2kXJkaDAXj+5DeEgQveMjmDy4Owe2rGTCpCn8Zu4GisurGNE7luSuXegZF8HA7lF0jw6n9m0J7FHt1L8u9CQ/t/CQICqqXYxMjmdNZl69GMenJHDOiCTGD0igvMrFxn0FLNh0gClDEjl3RE9KKqoZkGhrPm4t/f65XIaKaletdbjNTd/Lmsx8Zi7e6SkLDRYqqw2j+8UzaVAiz6Vl4P65hwUHMfX4HhSUVTJ5cHe+3X6YRdsOkxgdxiWj+3DJ6GQObl3VYHzn/u3rWkm6KQMTbbLfnF3ISclxrMmqfdO4iQO78d2OHE+8VS7D1eP6Mu3EXqR0iyJty0F6xUWyePth3l+1l+N6xtQ6WDptaHcuHtWbs4Yn8dxXGYQGBZEQFcbpw7ozMDGq3v+3uTbtL+C+d9cwLiWBH4zsxei+8S1uXmzv/UteSQWLM3IoqaiiT9dIIkODGdU3vtWfUZNCAzoiKZRVVvPk51t45ZudtcpH9I7lktF9eHdFFqP7xfPZhmwuOqk3PzixF6EhQYzuG8/ChQtJTU2lrLKapxdsY9G2Q0SEBrNy9xF6xkZw55mDuWJMMmHBQWQeKaFfQpdWf0HqMsZQ5TKeKn1D/FnTWpeVz0uLdnDp6D5MGZLY4A+2tfFVVttaT0lFNWc9tZBDheVcNbYvPz59IAO7R/PZ+v3c8eYqEqLCuXZCPy4/OZl+3Vrepu+r7ZdfUklRRRWJ0WGEh9QkkLnpe4kIDWZM/65EhgYfNUk3Fp8xhm0HizhUaGsb767IpMpl2H6oyFNjnDiwG3eeMZhJg7uRnpnHJf/8lpiIEManJLAzp5gLRvbmijHJ9E2w2624vIqQYKkVb2PKKqv5ZtthijM3Mv3cM1qwZTqWP38fzdFYUvD7BWttfXTWi9fKKqvM/A3Z5uyn0kz/Bz42v/5wnSkprzJ5xRVtis/lcpllO3NMaUVVO0bbOp394pz2iM/lcpnqalfbg2lAIGw/Y+w2/HTdPpNTVN4u63MLlO3nKzRy8Zp2NPtAfmklV734HZuzC0mMDuO1m8aROqwHQLOacJoiIoxLSWiPMFUziAjtVPkKWCLCeSf08ncYqpk0KbSz9Xvz+ems1ew4VMzJ/eL514xxPj/NUyml2osmhXZSWe3itjdW8NWWQwC8eMOYDjmnWCml2pMmhRbadbgYAwxIjPKUrdiVy+UvfOd5/sL1J2tCUC1XVQE7F8LAMyBYf5rKP/Sb10xrMvN47qsMvth4gJ6xESx5eCpgT2F0J4TLTk7mL5ePbNaFZkrVsvtb+OLXsHcFDDgdZnSiIb9c1XBoCyQN93ckqgNoUmiG7Pwypj+3uOa5c4WnMYaH3l8HwEs3jOEcrR2o1jiyC149v+b5zoVQeABikvwWkkdlKTzmfK9/sRlivycdxqV5kPY4TLkPDm2Gwv0w8kp/R9UpaFJohhe/3u6Zvuik3sxbs4/nvsrg47X72bS/gF9fMJxz+gmUHoHIrk2sqY6SXDi8FfqdUlM2/zew+O/QZywhKT+D3d9BRFzHHKVVlUNIuO/fJ9AVHoC/DiUVIK3Oa+f+CT5/GN68DG6vfwVrhzAGnh1Has622vFlzIeTf+ifmNqLMbDtC9jwIax5C9LfgnLnQsgTLodOfFOcjqJb4CjySyqZvTyTS0f3YdcTP+DUQd0AePLzLWzaX0B0eAg3dtsAfx0KM8+D6krYu+roKy48AH8ZADPPhR0L4dE4+1j8d/v63hVMXnw9vHoePD8R8va0/cMUHYTXL7TJqK6178Afe8D/ft/291FNS3u8ftkZv4KH98PEO+3z7HX2gMAftnwCOdtqnsf1hd4nw1eP2+9OedPDefhFQxfhFueAq/bwK7x/K7x1pU0IUJMQAP73O9/FdwzRpHAU/1m6m5KKam49bSCA12iUhl+GzGLNsFcJnn2dLTq0Gf6QCC+fYX/Qe1c2vNLqKptE3N64qPbr5zaw03j6RJhzc82X3BhY9JTdmTfXvy+BnV/Dmrdt4jq0xSaif51lfywAi/7a/PWpxrmqYf17tpnCrfQIPNYLVr4KMU4zTLch0H8yTPkFhDnfrTucwe9ePc92PneE6sqaA5NZ10JcX9ad8DCcdj/cvRIGpkLhPnsg83gf2Di3+bGV5EJFsd0WvhhBIf1t+F08bPrIPi/Lh8xl8NRx9iCowhlPqTAb1r1bs9wtX9q/o6+3fxc/bX8TAU6bj5rgchneWrqHSYO7cXyvWKgsZdL+1/lkxvn0Di0k/j/zYGsjC782DYwLfroaEgbWfm39e/XnP/NX0G8i9BoF4dFwyk9Y/t/XGTdxCjw71q5r/RyY+hvb/jnz3Jplw2Nh2Hn111lVYd9r5Wsw8Q44sN6Wf/5w7fmyltu/A06zSePROPv8omfh5BvsDmPtO3DiFRDix2suqiogc4k9cl39H0h9EIJDYc0sSB4H3Qa1/T0+fRAqimD8bRDbB965wf7/LvoHLbqKbdnL8NkDMOYmuPBpyMuEp0+oef2WBaStzmh4GITuw2qmV7wCp/yktZ/GclXbfoumts+s62o/v+gf5GQKuOOrqFM7eOeHcOav4bT7Gl/nkd0Q3cMmEm8pU+DGj5sbfdO++BV8+w87Pft6m7x2pNW8vvsb+FPv2sv85DtIHGK/O4/mw+Ft9vsEcGBD7e3fEsbA1s9h0Jm+/Z1UlNgDvJOuhrE3tfvqNSk0YeWeI+zNK+Xec5yj+jk3I1v+y3B+D8Febe9Dz4Mr34DvnrXNQstetDtxsEce1ZX2yPDwVph7p61R9BgBt/4P/tTH/rBO+2XtNxehODrF/pB/ddA2Te1dAX8fWT/Qt6+CHy+CLZ/CiZfDuzPgkpfgP5faBAJ2Z9qQmN4QFgVn/dY+3/m11wZ4zR4RZsy3z+feATM+sskDwFTbH8G6d+HSl+1O01UNn9xnm8R+2kAzWkWx/RH2HtXIVndkLofPHoSr34TN/7Xv+fY1tZs1MubbdVWW2L6cniNhzI1wwqVNr7sxR3bD0uft9Op/15TvXmyTcXSPhpdb9jJsmgdXvA4hETDzHNv8A7ZWYKph3+qa+W9fDHHJQEbD6xOBBzPhib7w3XONJwVjGk5UVRV2hydi5/m9cwX8zfOh7/ja866YCR//vOb5Q3vtQQlAZlpN+ak/tW3xZ/7aniVVuM82RzakosQmwJKchl/ftQi+fMz2X028E0IjG57vKGLzN8NqJyH0GAEHN9ROCD1PrPk/uA0+u37/XOIQ+/t5cQqUNzLQX2UZFOxtOLG6qu22+OwB+3uJ7w8/W1t/vvaQuwOeGW2nM5fYfU87d/5rUmjCh6v3EhEaZM8qMgYyFtS8WF0OJ10LlzxfUzblXvuDWPZiTdnbVze88tPvtz+GXx+CoKMMfREcak9R9D7imXA79BkLi/7PJpkXp9jytD/Zv89PrL+eC562O/r96dB/EpzzR+hzcs3rB5yhgkO72CS2t4GBBl+/0DOZ6l3e/1RbY3nv5pqyytLaP/hZ18Fm5wjxvm31d7IlufDZQ7add4tzn6W/NnHUtn9NzXTpEXvWzs6FMOKS+jvL0jzbNDb2JpjzIxh6vt3ZSpBNaktfhEObGn+vsnyI6l5/vRkLbBIE22w44LT6O6JVb9RM374Yep7AUUXE2r/5mXBwM/Q4zu54QsIhKBS+/gt88zc7z4lX2J3RBX+zR82HNtuazrQn7dGz2ytn22TjXvenD8DSF2pevy+jJiHUFd8X7nG294mXw/8NhaqGh6xm/ZyGE8LoG+yBS8lhGz/Y57f+7+jbo6596Zy8+gE7/bP19sDGXSO54nUYPBXCY2wN7dP7IWe7/X83dmTdtb/9+9FPba3hxv/Cts/tNhp/G2ybb2sd178HA8+0HdLupOxOum55u+37tafKMjiyE56fVFM25kafnA2mSaERLpfhs/XZTD0+yd7xa+9KmwhOfwAW/tnONPq6+guGdYEr/22PKJ4/teGVH3cBjLjYTh8tIXjWGwUP74MNH9gjk5N/aL+QI6+AP/Zs/Af68L6aZDLyqqarm0kj4Np3YeDp8Mo5NeXXv2+PbJ8b3/iy3kebbouegpwMwNi4va16vXbt6PWL7A79aFIfhqIDNtl896wti4izO2230iPQxfmhGmN3pu4+nG+fsX/3ra5JoLUIhEVDRaHdxl1TbOf7s2Ntsnxkv+0TMi7btPPZgzWLHtllHwCnPwjjbrHJudhe5c6PFzUvIbgdd4FNov+cUFPWe7StfVbW3OzF004+986asmUvwfCLa5Kw29IX4fRf2hqtOyGc+yc48UqI7t782Lokwr70+uV5mTDvbujSDZLHw9ZP4e5VNUfYxsCTg21iAHvg8e6NcNnMlp35899f2L9Dz7MJC2xTUF3xfeGat4++vvDYmumsZTDnppptt+C3Na/95zJbKzYGPrgNLn6h9nquetN+nn+cTK+hd1Dn0KllCrPt/zmqh+3HceuSCPdu8dkFjpoUGrFhXwE5xRVMPc45mt04F4JC7NHGqOvskWz/SQ0vPLxOx/HPN9g2wMNb4f6dNTuslgqLqukU8zbjI9j+pd3JdR0Ady237zfqOrvMiEttO6m7I7MpQ51kMOo6W6O48RNIcT5nTC/bHNV3AuxfQ36X/sTd/AG89gN7FAO2PfWsR+HF02qOBr25+y2+/KM9wu2aYo/M6iaEyb+AXiPtDwxsreiqf0OsV23p3Mfs39Ij9mg8rq/9Mefthv3pDNz+b1h/PxxuZufhmb+Ck65xmnYcu2quT6GyxO4M/n2xbQJxO3mGrXU94eycrpkFw5zrDi59CWZdDxc8ZT9PS0x7sv5O3bsZasDpTSfS16bZvz/+GvKzbAfyV3+0NYltTpPgT761BwMt1SXBboOS3NrfZ3eimfYknHBZ/eVE4H7nKPrxflCebw8Yptxrm3ua4+WpsHcleXEnEH/lG0efvzlEYNT1kO70LdTd7t4W/72mf+7D2+3fEZfa733X/rYmteZthm39J9DASSONyd1pD0jcybmxWvJdy316xbsmhUZ8vc0e3U0Z0t1+8Rf/3Z4lEtnVPprT+feDp+yONC7Z/iN9pe84+0iZZHfYwaG1O/KueLXl65xwm314u3m+PUpPtkOwr05LIzWuD5zxsO3wu+wVGOA0Yw2bVtMEBPbI8eIXbNJx1wo2fGh3nu4jXHenvHdb+fCLj97BG9kVJt1Tc+R6OAPev4V+3vP0Osm+/+7FMPZmWDvbNivcsgBietraRkNSJtmLtj65z+4ofhdff56pv7VNMhc+YxO/OyGATZKP7Gs6/sbE9rYxr3vHJn1vfU+BGz706jdwro+5bSG8lAp4neXT6yT7OPv39jqY9XOc8lGtSwgAx19ok8KmebYZA2wNau07tobTUEKoq/9E2PqZnT6yq3lJIXu9p1lz4/B7ObU9r6u5+Dn7WPikTZ5ga9pf/Nr2NUy6B16YVJMQ3Cb/oqZPDuwBwhqndrJ/7dEPBg5n2NrewicgYZDti1szu/Y8oVFw21eQOLRlJzy0giaFBrhchic/38KI3rF0jwmHFW/aF8bMaNmKxt189HnaU8pk364/vm9NVd3byCvrXw161X/AVQVVZVB8uHYH3XlP2GaVBb+tqZpf8lLNWVreX/qW/ADcR/jLX65dfsuXkDzGTrs7GUddYx/NEdvL1iK8jx7j+tlk6L2Oln4/msMd56Kn7EWOX/zK9t+c88eaeUTsNt292O78z3vc9mucdE3tnf6o62xScPPekbVUb6cv6qN74PNHYMKPbW2u+KB93+a4fKZtbvrnhOZdh1NVbnfKALcvpmLz4dbFfjRTfmGbJ4eeZ2vaFzxV81pwGFTXORX3zF/Vfh6VaP8/X/zK9vVd+e/6rQePNnIQkrsdvnm6dpPVyKvt+lrSvNcGmhQakHHInn43caC9UI2dX9vTE0+8wo9RHWOCgu0jJLz+UXhMA8OBnHRV29+zi/P/ylwKEXGsGPEbxvYOqUkIbdHjeNtEsOF9uOV/ntpSh5nitKHf+mXDr5/yk5raa2O12KjEmukL/24H3mutXifVTFcU1VzfEtkVhpzT8DJ1hUU5zZrRtsPZfeGet3VzbD/QD+fBLucK74h42zezOa318TclKBhOvavh1x7eZ8/CGjTVnuRxyh0N9wvGe9VT37mhpr/DGJtIm+JOCANT4YdzWxx+W2lSaMAy5x6wN0zsb/+Ju7+zR+F6t5X20SUBpv2fPVX384fgpk/bZ70idqdUegQGnEZRzGAYk9o+6wbbITvquo5PCO3p3q0QGtF4c1lzNXYe/pgbW3aOvgggULDPnrlXUWSb4NbMqn1a8J/710z/fENrIm4fwaFw3A/sdN0agrfkcTXTSU6zWPFheHYclDojCiSPt2dJpT4IH95pmyo/dBL6uFvg/Ab65DqAJoUGLN+VS4+YcPoldLEdqEXZtv1TtZ/xzhXUE+9o3/XeudxW21MfgLXtMDSIt9hex/6AcO05yN6gM+2Vw/dugb8Nt2eAndHEjrIxvUbapq9nRtk+q6aMvKrx02Y7k9jepKXOJfXgq7Dxw/rNReN/DNO8dvoXP2f/VpZAWUFNzdAPNCk0YE1mHmP6d0UObqw51bJfI6eXqs4lujtc6r5OpJ2TgqrtBq/TjO9aCZjWnRUT5CxTNyH0GG4vRNzwoe3cHXIuTH+utdH6R0MDZF4+s/GO+HG3+DaeZtCkUEdReRW7ckq4fEwyvHiK7SwNiYDux/k7NKU6r7Z0gk5/1o7tBbZTde0sO33N2/aU5bpX+x9LqspqP//lDojq5p9YmkmTQh2b99tRE4cndbEJASA6SYfUVcpXYpPtwIB9J9hmlEtfrH81/LHqnD/a/sjQLva05U6eEECTQj0fpu8FYHSF1winl77kp2iUCgBBQXB3nSFVvg8JAewZXw1dcNqJaVKoY3FGDlOGJNI193Nb8Ej29+cLqpRSR6FtIl7Kq6rZk1vCGYn59rzrLt00ISilAoomBS97ckqodhlOK3CuXO01yq/xKKVUR9Ok4GVPrh15MgHn6sPr3m1ibqWU+v7RpOBlX14pYEjY/qEtaO6w1kop9T2hScHL3rwy+gU7l6D3ndD0zEop9T2kScHL/vxSvg692z6Z2oYRJJVS6hjls6QgIk+KyGYRWSsiH4hIvNdrD4lIhohsEZFzvcrPc8oyROTBBlfsQ7b5yNHj+I5+e6WU8jtf1hTmAycYY0YCW4GHAERkOHA1MAI4D/iniASLSDDwHHA+MBy4xpm3Q7hchl2HvG7a3dq7oyml1DHMZ0nBGPOFMcYZJ4IlgPseh9OBWcaYcmPMTiADGO88MowxO4wxFcAsZ94O8finm4gt2W2fTPu/jnpbpZTqVDrqiuYfAe77y/XBJgm3LKcMILNOeYO9vSJyG3AbQFJSEmlpaa0KqqioyLPsy4uKmRqUDcDKbENhK9fZnrzj64w0vrbR+NpG4/ONNiUFEVkANHAbLR4xxsx15nkEqALebMt7eTPGvAS8BDB27FiTmpraqvWkpaXhXvbEdd/QIzsPgDGn/wDi+jS+YAfxjq8z0vjaRuNrG43PN9qUFIwxZzX1uojcCFwATDXGuO8kvhfwvtFvslNGE+U+FxQkjOtWDgUC0T066m2VUqpT8eXZR+cB9wMXGWNKvF6aB1wtIuEiMgAYAiwDlgNDRGSAiIRhO6Pn+Sq+unKKyukZlG9HNQwO7ai3VUqpTsWXfQrPAuHAfLH3Nl5ijLndGLNBRN4BNmKble40xlQDiMhdwOdAMDDTGNNhN2PNK6mkW1huwzeVV0qpAOGzpGCMGdzEa48BjzVQ/gnwia9iakxFlYui8iq6VudAdN+jL6CUUt9TekUzkFdSAUB0ZY7WFJRSAU2TApBbUkEQLiLLNSkopQKbJgXgSHElfeUggsvej1kppQKUJgVs89GUoHX2idYUlFIBTJMCtvnowuDv7JOUKf4NRiml/EiTAvZ01AlBm+2TiDj/BqOUUn6kSQHIKapgtRkKyePAXlOhlFIBSZMCcKSkgq5BJRDTy9+hKKWUXwV8UsgrqeCD1XuJpRgi4/0djlJK+VXAJ4W//28bAFGmCCLi/RuMUkr5WcAnhczcEiIoJ5xKvduaUirgBXxSqHIZEnBuwxmpSUEpFdgCPin0S+hCVymyT7p0828wSinlZwGfFMoqqxkUVWafaPORUirABXxSKKmoJiHESQra0ayUCnABnxRKK6rpGlRqn0TE+jcYpZTys4BPCiUV1cQFOTWF8Bj/BqOUUn4W8EmhtLKaWHdNISzav8EopZSfaVKoqCZWSm1CCAr2dzhKKeVXAZ8USiqriKYMwrU/QSmlAj4plFa4iKJY+xOUUgpNClRUVRPpKtGkoJRSaFKgstoQoUlBKaUATQpUVLuIcGnzkVJKQYAnBZcxVLsM4dXFeuGaUkoR4EmhymX/hlcX69lHSilFgCeFagOCi7BqbT5SSikI8KRQ6YIodIgLpZRyC+ikUO0yROMMcaFJQSmlAjspVLkgWjQpKKWUW8AnhVhK7JPwOP8Go5RSnUBgJwUDUeL0KYRF+TcYpZTqBAI7KbgM4VTaJ6GR/g1GKaU6gQBPCtQkhZAI/wajlFKdgM+TgojcKyJGRBKd5yIiz4hIhoisFZGTveadISLbnMcMX8dmk0KFfRIS7uu3U0qpTi/ElysXkb7AOcAer+LzgSHOYwLwPDBBRBKA3wJjAQOsFJF5xpgjvoqv2hjCRWsKSinl5uuawt+A+7E7ebfpwBvGWgLEi0gv4FxgvjEm10kE84HzfBlcZa3mI60pKKWUz2oKIjId2GuMWSMi3i/1ATK9nmc5ZY2VN7Tu24DbAJKSkkhLS2tVjEUlZZ6k8PV3y3EFd67EUFRU1OrP1hE0vrbR+NpG4/ONNiUFEVkA9GzgpUeAh7FNR+3OGPMS8BLA2LFjTWpqaqvWs+StBYQ5SeG0M87qdPdoTktLo7WfrSNofG2j8bWNxucbbUoKxpizGioXkROBAYC7lpAMrBKR8cBeoK/X7MlO2V4gtU55WlviO5oqY4iRCkxQKNLJEoJSSvmDT/oUjDHrjDE9jDEpxpgUbFPQycaYbGAe8EPnLKRTgHxjzH7gc+AcEekqIl2xtYzPfRGfm/uUVKP9CUopBfj47KNGfAJMAzKAEuAmAGNMroj8AVjuzPd7Y0yuLwNxGaejuZP1JSillL90SFJwagvuaQPc2ch8M4GZHRET1CQFo6ejKqUU4J+aQqdRbeDKkIVQ6O9IlFKqcwjoYS5c5ujzKKVUIAnwpKBZQSmlvAV0UqjWnKCUUrUEdFJwVxRM/0n+DUQppTqJgE4KLpfLTqRM9m8gSinVSQR0UhBTbf8Gh/k5EqWU6hwCOym4quxEcKh/A1FKqU4isJOCcZJCkCYFpZSCAE8KOM1HWlNQSikroJNCkDYfKaVULQGdFNwdzdp8pJRSVoAnBa0pKKWUt4BOCkEud00hoMcFVEopj8BOCp6agl6noJRSEOBJQZuPlFKqtoBOCp6agjYfKaUUEPBJwX2dgjYfKaUUBHhS0OYjpZSqLaCTQpBep6CUUrUEdFII9jQfaZ+CUkpBgCeFIFNpJ7RPQSmlgABPCsHafKSUUrUEdFKouXhNm4+UUgoCPiloTUEppbwFdFIQnHs0BwX7NxCllOokAjopYIz9K5oUlFIKAjwpiHFqChLQm0EppTwCem9Y03wU0JtBKaU8AntvqDUFpZSqJaD3hoL2KSillLfATgpaU1BKqVoCe29o9JRUpZTyFtBJoapaawpKKeUtYPeGFVUur45mrSkopRT4OCmIyN0isllENojIX7zKHxKRDBHZIiLnepWf55RliMiDvoyt2mUIEqejWU9JVUopAHw2EpyInAFMB04yxpSLSA+nfDhwNTAC6A0sEJGhzmLPAWcDWcByEZlnjNnoi/hcxhCECxdBgVtdUkqpOnw5POhPgCeMMeUAxpiDTvl0YJZTvlNEMoDxzmsZxpgdACIyy5nXp0nBaH+CUkp5+DIpDAWmiMhjQBlwnzFmOdAHWOI1X5ZTBpBZp3xCQysWkduA2wCSkpJIS0trcXDFlYZgDC4jLGrF8h2hqKioVZ+to2h8baPxtY3G5xttSgoisgDo2cBLjzjrTgBOAcYB74jIwLa8n5sx5iXgJYCxY8ea1NTUFq8jv6SSWQtfhqBgWrN8R0hLS+u0sYHG11YaX9tofL7RpqRgjDmrsddE5CfA+8YYAywTEReQCOwF+nrNmuyU0UR5u3MZQzAuPR1VKaW8+HKP+CFwBoDTkRwGHAbmAVeLSLiIDACGAMuA5cAQERkgImHYzuh5vgrOnRSMno6qlFIevuxTmAnMFJH1QAUww6k1bBCRd7AdyFXAncbYW6CJyF3A50AwMNMYs8FXwbmMHfvIIL56C6WUOub4LCkYYyqA6xt57THgsQbKPwE+8VVMtd4LrSkopVRdAdugbgwEYfSUVKWU8hKwe0T3dQra0ayUUjUCdo/o0pqCUkrVE7B7RGMMwaJXNCullLeA3SMaY+/RrB3NSilVI2CTgufiNT0lVSmlPAI4KaCnpCqlVB0BmxSMMQhGzz5SSikvAbtHrKkpBOwmUEqpegJ2j2iMIQgDQdp8pJRSbgGbFOx1Ci5M4G4CpZSqJ2D3iAanpqDNR0op5RGwe0SXS/sUlFKqroDdI9aMfaR9Ckop5RawScE4fQrafKSUUjUCdo9or2g2mKCA3QRKKVVPwO4RDRAk2nyklFLeAjYp6P0UlFKqvoDdI3ouXtOkoJRSHgG7R9RhLpRSqr6A3SPa+ykY7VNQSikvAZsUPPdT0JqCUkp5BOwe0aUD4imlVD0BmxRqLl7TO68ppZRbQCeFYB3mQimlagnYpOC5TkGbj5RSykOTgnY0K6WUR8DuEW2fgp6SqpRS3gI3KWAIFq0pKKWUt4DdI7pczsVr2qeglFIegZsU9OI1pZSqJ2D3iC5Pn0LAbgKllKonYPeIxjn7SPQmO0op5RGwe0SDXrymlFJ1+SwpiMgoEVkiIukiskJExjvlIiLPiEiGiKwVkZO9lpkhItucxwxfxQZ68ZpSSjUkxIfr/gvwO2PMpyIyzXmeCpwPDHEeE4DngQkikgD8FhiLPZBfKSLzjDFHfBGcu09B76eglFI1fLlHNECsMx0H7HOmpwNvGGsJEC8ivYBzgfnGmFwnEcwHzvNZcFpTUEqpenxZU/gZ8LmI/B82+ZzqlPcBMr3my3LKGiuvR0RuA24DSEpKIi0trcXBbdhXxbm42JN9gPRWLN8RioqKWvXZOorG1zYaX9tofL7RpqQgIguAng289AgwFfi5MeY9EbkSeAU4qy3v52aMeQl4CWDs2LEmNTW1xes4sjoL2WLo1TuZ41uxfEdIS0ujNZ+to2h8baPxtY3G5xttSgrGmEZ38iLyBnCP8/Rd4F/O9F6gr9esyU7ZXmyfg3d5Wlvia0rN0Nnap6CUUm6+3CPuA053ps8EtjnT84AfOmchnQLkG2P2A58D54hIVxHpCpzjlPmEZ0A8vU5BKaU8fNmncCvwdxEJAcpw+gCAT4BpQAZQAtwEYIzJFZE/AMud+X5vjMn1VXDGGILEIHqdglJKefgsKRhjvgHGNFBugDsbWWYmMNNXMXkTU20ntKaglFIevqwpdGrGuOxfrSko5VeVlZVkZWVRVlbWouXi4uLYtGmTj6Jqu84SX0REBMnJyYSGhjZr/oBNCp6agnY0K+VXWVlZxMTEkJKSgog0e7nCwkJiYmJ8GFnbdIb4jDHk5OSQlZXFgAEDmrVM4O4RXbamoBevKeVfZWVldOvWrUUJQTWPiNCtW7cW1cICNyk4NQXRmoJSfqcJwXdaum0Ddo8oODUF7VNQSimPgE0KnuYjrSkoFfAee+wxRowYwciRIxk1ahRLly4FoKqqiu7du/Pggw/Wmj81NZVhw4Zx0kknMW7cONLT0z2vzZw5kxNPPJGJEydywgknMHfu3FrLjho1iquvvtrnn6m1ArajGePuU9CkoFQg++677/j4449ZtWoV4eHhHD58mIqKCgDmz5/P0KFDeffdd3n88cdrNcW8+eabjB07lldffZVf/vKXzJ8/n6ysLB577DFWrVpFUFAQIsKhQ4c8y2zatInq6moWLVpEcXExUVFRHf55j0aTgjYfKdVp/O6jDWzcV9CseaurqwkOPvrvd3jvWH574YhGX9+/fz+JiYmEh4cDkJiY6Hnt7bff5p577uH555/nu+++49RTT623/MSJE3nyyScBOHjwIDExMURHR1NSUkJ0dDTR0dG11nfDDTewadMm5s6dy7XXXtusz9qRAvcw2VQB6O04lQpw55xzDpmZmQwdOpQ77riDhQsXAvasqAULFnDhhRdyzTXX8Pbbbze4/GeffcbFF18MwEknnURSUhIDBgzgJz/5CR999FGteWfPns3VV1/d5Pr8LXBrCi5j/2pNQalOo6kj+rra6zqA6OhoVq5cyaJFi/jqq6+46qqreOKJJ4iOjuaMM84gMjKSyy67jD/84Q88/fTTntrJddddR0VFBUVFRZ4+heDgYD777DOWL1/OJ598ws9//nNWrlzJo48+yooVK0hMTKRfv3706dOHH/3oR+Tm5pKQkNDmz9CeAvYwWYe5UEq5BQcHk5qayu9+9zueffZZ3nvvPd5++20WLFhASkoKY8aMIScnhy+//NKzzJtvvsmOHTuYMWMGd999t6dcRBg/fjz33nsvs2bN4r333gNs09HmzZtJSUlh0KBBFBQUeF7rTAJ4j6g1BaUUbNmyhW3btnmep6en0717dxYtWsSePXvYtWsXu3bt4rnnnqvX5CMi/OEPf2DJkiVs3ryZffv2sWrVqlrr6t+/Py6Xi3feeYd169Z51jd37txO2YQUsM1H4qpyJgI4LyqlKCoq4u677yYvL4+QkBAGDx7M9OnTKSkp8XQ+A0yfPp3777+f8vLyWstHRkZy77338uSTT/Kb3/yG++67j3379hEWFkZSUhIvvPACixYtok+fPvTu3duz3GmnncbGjRvZv38/vXr16rDPezQBmxQ8NQUd5kKpgDZmzBi+/fbbeuUzZsyo9TwhIcFzemnd22zee++9nml3E5N3n8egQYNYsmRJrWWCg4PJzs5uc/ztLXAPk106zIVSStUVsHtEMTognlJK1RWwSQEdOlsppeoJ3D2isX0K2nyklFI1AnePaHRAPKWUqiuA94jumoKO466UUm4BmxSMcZ+SGrCbQCnlyMrKYvr06QwZMoSBAwdy11131bseAeC1117jrrvu8nk806ZNIy8vz+fv05CA3SO6zz7SmoJSgc0Yw6WXXsrFF1/Mtm3b2LZtG6Wlpdx///0+e8+qqqomX//kk0+Ij4/32fs3RS9eQ5OCUp3Gpw9C9rpmzRpZXQXBzdiF9TwRzn+i0Ze//PJLIiIiuOmmmwB7Udnf/vY3+vfvz2OPPVZr6Gtvhw4d4vbbb2fPnj0APP3000yaNIlly5Zxzz33UFJSQlRUFK+++irDhg3jtdde4/3336eoqIjq6mpuuukm5s2bR0lJCdu3b+eSSy7hL3/5CwApKSmsWLGCoqIizj//fCZPnsy3335Lnz59mDt3LpGRkSxfvpybb76ZoKAgzj77bD799FPWr1/frG3XlICtKbjPPkJrCkoFtA0bNjBmzJhaZbGxsaSkpJCRkdHocvfccw8///nPWb58Oe+99x633HILAMcddxyLFi3im2++4fe//z0PP/ywZ5lVq1YxZ84cz/Dc6enpzJ49m3Xr1jF79mwyMzPrvc+2bdu488472bBhA/Hx8Z5B9G666SZefPFF0tPTm3VfieYK+JqCnpKqVCfSxBF9XaXtNHR2ay1YsICNGzd6nhcUFFBUVER+fj4zZsxgy5YtBAcHU1lZ6Znn7LPPrjVU9tSpU4mLiwNg+PDh7N69m759+9Z6nwEDBjBq1CjADsmxa9cu8vLyKCwsZOLEiQBce+21fPzxx+3yuQI2KRjnfgqizUdKBbThw4czZ86cWmUFBQVkZ2ezePFibrzxRsC283tzuVwsWbKEiIiIWuV33XUXZ5xxBm+88QY5OTmkpqZ6Xqt7+03vAfeCg4Mb7GuoO09paWmLPl9LBexhsngGxNOkoFQgmzp1KiUlJbzxxhuAvc3nvffey1133cWdd95Jeno66enptUY4BXvHtn/84x+e5+4b7eTn59OnTx/Anq3kC/Hx8cTExLB06VIAZs2a1W7rDtikAM7Fa1pTUCqgiQgffPABc+bMYciQIXTr1o2goCAeeeSRJpd75plnWLFiBSNHjmT48OG88MILANx///089NBDTJ48+ahnGbXFK6+8wq233sqoUaMoLi72NEO1mTHmmH6MGTPGtMYHH8w25rexpmzLl61aviN89dVX/g6hSRpf22h81saNG1u1XEFBQTtHYi1evNj069fPrFy5sk3r8VV8boWFhZ7pxx9/3Pz0pz9tdN6GtjGwwjSwTw3YPgX0OgWlVANOPfVUdu/e7e8wjuq///0vjz/+OFVVVfTv37/dmqoCOCnoKalKqWPXVVddxVVXXdXu6w3gPgVNCkp1FsZ9kKbaXUu3bcAmBXcq0OsUlPKviIgIcnJyNDH4gDGGnJyceqfNNiWAm4+cm+zo2UdK+VVycjJZWVme+x83V1lZWYt2dh2ts8QXERFBcnJys+cP2KTg6VLQ6xSU8qvQ0FAGDBjQ4uXS0tIYPXq0DyJqH509vsa0qe1ERK4QkQ0i4hKRsXVee0hEMkRki4ic61V+nlOWISIPepUPEJGlTvlsEQlrS2xHpwPiKaVUXW1tUF8PXAp87V0oIsOBq4ERwHnAP0UkWESCgeeA84HhwDXOvAB/Bv5mjBkMHAFubmNsTdPbcSqlVD1t2iMaYzYZY7Y08NJ0YJYxptwYsxPIAMY7jwxjzA5jTAUwC5gu9mKBMwH3ACSvAxe3JbZmBA/odQpKKeXNV30KfYAlXs+znDKAzDrlE4BuQJ4xpqqB+esRkduA25ynRSLSUGJqjkR+N+FwK5ftCImAxtd6Gl/baHxt09nj699Q4VGTgogsAHo28NIjxpi5bY2qNYwxLwEvtXU9IrLCGDP26HP6h8bXNhpf22h8bdPZ42vMUZOCMeasVqx3L+A9KHiyU0Yj5TlAvIiEOLUF7/mVUkp1EF/1ss4DrhaRcBEZAAwBlgHLgSHOmUZh2M7oec7gTF8BlzvLzwD8UgtRSqlA1tZTUi8RkSxgIvBfEfkcwBizAXgH2Ah8BtxpjKl2agF3AZ8Dm4B3nHkBHgB+ISIZ2D6GV9oSWzO1uQnKxzS+ttH42kbja5vOHl+DRC8tV0op5aYn6SullPLQpKCUUsojIJNCY0NtdHAMfUXkKxHZ6AwVco9T/qiI7BWRdOcxzWuZBocO8WGMu0RknRPHCqcsQUTmi8g2529Xp1xE5BknvrUicrKPYxvmtY3SRaRARH7m7+0nIjNF5KCIrPcqa/E2E5EZzvzbRGSGj+N7UkQ2OzF8ICLxTnmKiJR6bcsXvJYZ43w3MpzP0C5XgTYSX4v/p776jTcS32yv2HaJSLpT3uHbr100dDu27/MDCAa2AwOBMGANMNwPcfQCTnamY4Ct2KE/HgXua2D+4U6s4cAA5zME+zjGXUBinbK/AA860w8Cf3ampwGfYgeTOgVY2sH/02zsxTh+3X7AacDJwPrWbjMgAdjh/O3qTHf1YXznACHO9J+94kvxnq/OepY5MYvzGc73YXwt+p/68jfeUHx1Xv8r8Bt/bb/2eARiTaHBoTY6OghjzH5jzCpnuhB7NlajV3HT+NAhHW06dhgSqD0cyXTgDWMtwV530quDYpoKbDfGNHUPxQ7ZfsaYr4HcBt67JdvsXGC+MSbXGHMEmI8dQ8wn8RljvjA1owkswV4n1CgnxlhjzBJj93Bv0E7D0jSy/RrTouF0fB2fc7R/JfB2U+vw5fZrD4GYFPpQf6iNpnbGPiciKcBoYKlTdJdTlZ/pbmrAP3Eb4AsRWSl2aBGAJGPMfmc6G0jyY3xuV1P7h9hZtp9bS7eZP2P9EfbI1W2AiKwWkYUiMsUp6+PE1JHxteR/6q/tNwU4YIzZ5lXWWbZfswViUuhURCQaeA/4mTGmAHgeGASMAvZjq6P+MtkYczJ2VNs7ReQ07xedoxy/ntMs9iLIi4B3naLOtP3q6QzbrDEi8ghQBbzpFO0H+hljRgO/AN4SkVg/hNap/6derqH2wUln2X4tEohJoakhODqUiIRiE8Kbxpj3AYwxB4y90M8FvExNE0eHx22M2ev8PQh84MRywN0s5Pw96K/4HOcDq4wxB5xYO83289LSbdbhsYrIjcAFwHVO4sJplslxpldi2+mHOrF4NzH5NL5W/E/9sf1CsLcRmO0Vd6fYfi0ViEmhwaE2OjoIp/3xFWCTMeYpr3LvdvhLsPesgMaHDvFVfFEiEuOexnZGrnficJ8N4z0cyTzgh84ZNacA+V5NJr5U6+iss2y/Olq6zT4HzhGRrk5TyTlOmU+IyHnA/cBFxpgSr/LuYu+BgogMxG6zHU6MBSJyivM9/iE+HJamFf9Tf/zGzwI2G2M8zUKdZfu1mL97uv3xwJ71sRWbuR/xUwyTsc0Ia4F05zEN+DewzimfB/TyWuYRJ+Yt+PhsBeyZG2ucxwb3dsIOQfI/YBuwAEhwygV7A6XtTvxjO2AbRmEHU4zzKvPr9sMmqP1AJbat+ObWbDNs236G87jJx/FlYNvg3d/DF5x5L3P+9+nAKuBCr/WMxe6ctwPP4oyO4KP4Wvw/9dVvvKH4nPLXgNvrzNvh2689HjrMhVJKKY9AbD5SSinVCE0KSimlPDQpKKWU8tCkoJRSykOTglJKKQ9NCkoppTw0KSillPL4f4UOf5XYV1IkAAAAAElFTkSuQmCC\n",
      "text/plain": [
       "<Figure size 432x288 with 1 Axes>"
      ]
     },
     "metadata": {
      "needs_background": "light"
     },
     "output_type": "display_data"
    }
   ],
   "source": [
    "rewards_sarsa, rewards_ql = [], []\n",
    "for i in range(2000):\n",
    "    rewards_sarsa.append(play_and_train(env, SARSA_agent))\n",
    "    rewards_ql.append(play_and_train(env, Q_agent))\n",
    "\n",
    "    if i % 100 == 0:\n",
    "        clear_output(True)\n",
    "        print(f'{i}번째 에피소드 결과')\n",
    "        print(f'SARSA 보상평균(100번 에피소드) = {np.mean(rewards_sarsa[-100:])}')\n",
    "        print(f'Q-Learning 보상평균(100번 에피소드) = {np.mean(rewards_ql[-100:])}')\n",
    "\n",
    "        \n",
    "        plt.title(f\"epsilon = {Q_agent.epsilon}\")\n",
    "        plt.plot(moving_average(rewards_sarsa),label='SARSA')\n",
    "        plt.plot(moving_average(rewards_ql),label='Q-learning')\n",
    "        \n",
    "        plt.grid()\n",
    "        plt.legend()\n",
    "        plt.ylim(-1000, 0)\n",
    "        plt.show()"
   ]
  },
  {
   "cell_type": "code",
   "execution_count": 42,
   "id": "5ba315f1",
   "metadata": {},
   "outputs": [],
   "source": [
    "import time\n",
    "\n",
    "def play_render(agent,env,time_sleep=0.2):\n",
    "    '''\n",
    "    학습 이후 에이전트의 플레이 화면을 보여줍니다.\n",
    "    입력변수\n",
    "        agent: 에이전트\n",
    "        env: 환경\n",
    "        time_sleep: 플레이 화면표시 주기. 기본 0.2초 간격으로 시점변화\n",
    "    '''\n",
    "    s = env.reset()\n",
    "    cnt = 0\n",
    "    while True:\n",
    "        time.sleep(time_sleep)\n",
    "        clear_output(True)\n",
    "        print(f'Step: {cnt}')\n",
    "        env.render()\n",
    "        action = agent.epsilon_action(s)\n",
    "        next_s, reward, done, _ = env.step(action)\n",
    "        if done:\n",
    "            clear_output(True)\n",
    "            print(f'Step: {cnt}')\n",
    "            env.render()\n",
    "            break\n",
    "        s = next_s\n",
    "        cnt+=1"
   ]
  },
  {
   "cell_type": "code",
   "execution_count": 43,
   "id": "a3304287",
   "metadata": {},
   "outputs": [
    {
     "name": "stdout",
     "output_type": "stream",
     "text": [
      "Step: 20\n",
      "o  o  o  o  o  o  o  o  o  o  o  o\n",
      "o  o  o  o  o  o  o  o  o  o  o  o\n",
      "o  o  o  o  o  o  o  o  o  o  o  o\n",
      "o  C  C  C  C  C  C  C  C  C  C  x\n",
      "\n"
     ]
    }
   ],
   "source": [
    "play_render(SARSA_agent,env)"
   ]
  },
  {
   "cell_type": "markdown",
   "id": "05764df6",
   "metadata": {},
   "source": [
    "# 심화 - Eligibility trace\n",
    "---\n",
    "$G_{t}^{\\lambda}$를 이용한 SARSA, Q-learning알고리즘 구현\n",
    "\n",
    "목적: TD(0) vs MC 어느정도의 Temporal difference를 사용해야 최적의 결과가 나오는가?\n",
    "\n",
    "\n",
    "## Q-learning with Eligibility trace\n",
    "---\n",
    "\n",
    "Step 1. 상태 $S$, 행동 $A$, Eligibility trace $E(S)$ 초기화\n",
    "\n",
    "Step 2. $A$ 행동개시 $\\rightarrow R$, $S'$ \n",
    "\n",
    "Step 3. 다음행동 $A' {\\leftarrow} max_{a}Q(s,a)$ 방식\n",
    "\n",
    "Step 4. TD-error 계산 ${\\delta} \\leftarrow R+{\\gamma}Q(S',A')-Q(S,A)$ \n",
    "\n",
    "Step 5. $E(S) \\leftarrow E(S)+1$\n",
    "\n",
    "Step 6. Q업데이트 $Q(S,A) \\leftarrow Q(S,A) + {\\alpha}{\\delta}E(S)$\n",
    "\n",
    "Step 7. $E(S) \\leftarrow \\gamma \\lambda E(S)$\n",
    "\n",
    "Step 8. $S \\leftarrow S'$, $A \\leftarrow A'$\n",
    "\n",
    "Step 8. 에피소드 종료까지 Step 2~8 반복"
   ]
  },
  {
   "cell_type": "code",
   "execution_count": 19,
   "id": "694b99c2",
   "metadata": {},
   "outputs": [],
   "source": [
    "class Qlearning_ET():\n",
    "    def __init__(self,possible_actions,alpha=0.25,epsilon=0.2,gamma=0.99,lamb=0.75):\n",
    "        '''\n",
    "        초기 입력인자\n",
    "            possible_actions: State에서 에이전트가 취할수 있는 행동, (defaultdict s)\n",
    "            alpha: 학습률\n",
    "            epsilon: Exploration 확률 <- 학습초기: 높은확률, 학습후기: 낮은확률\n",
    "            gamma: 할인율\n",
    "            lamb: Temporal-Difference 가중치, 0: TD(0), 1: Monte-Carlo\n",
    "        Class의 속성\n",
    "            Q-함수 정의 -> self.def_qvalue\n",
    "            Q-함수 출력 -> self.get_qvalue\n",
    "            Q-함수 업데이트 -> self.update_qvalue\n",
    "            행동 추출 \n",
    "                -> self.epsilon_action\n",
    "                -> self.argmax_action\n",
    "            Eligibility 정의 -> self.def_Etrace\n",
    "            Eligibility 출력 -> self.get_Etrace\n",
    "            Eligibility 업데이트 -> self.update_Etrace\n",
    "        '''\n",
    "        self.possible_actions=possible_actions\n",
    "        self.alpha = alpha\n",
    "        self.epsilon = epsilon\n",
    "        self.gamma = gamma\n",
    "        self.lamb = lamb\n",
    "        self.q_value = defaultdict(lambda: defaultdict(lambda: 0))\n",
    "        self.E_trace = defaultdict(lambda: defaultdict(lambda: 0))\n",
    "        \n",
    "    def def_qvalue(self,state,action,q_value):\n",
    "        '''\n",
    "        Q-함수값 정의, Q(s,a) <- q_value\n",
    "            입력: state, action, q_value\n",
    "            출력: X\n",
    "        '''\n",
    "        self.q_value[state][action] = q_value\n",
    "    \n",
    "    def def_Etrace(self,state,action,value):\n",
    "        '''\n",
    "        Eligibility trace 정의, E(s,a) <- value\n",
    "            입력: state,action,value\n",
    "            출력: X\n",
    "        '''\n",
    "        self.E_trace[state][action] = value\n",
    "    \n",
    "    def get_qvalue(self,state,action):\n",
    "        '''\n",
    "        Q-함수값 출력\n",
    "            입력: state, action\n",
    "            출력: Q(s,a)\n",
    "        '''\n",
    "        return self.q_value[state][action]\n",
    "    \n",
    "    def get_Etrace(self,state,action):\n",
    "        '''\n",
    "        Eligibility trace 출력\n",
    "            입력: state, action\n",
    "            출력: E(s,a)\n",
    "        '''\n",
    "        return self.E_trace[state][action]\n",
    "    \n",
    "    def max_Q(self,state):\n",
    "        '''\n",
    "        max_{a}Q(s',a) 구하기\n",
    "            입력: state\n",
    "            출력: max_{a}Q(s,a)\n",
    "        '''\n",
    "        possible_actions = self.possible_actions(state)\n",
    "        Qs = []\n",
    "        for possible_action in possible_actions:\n",
    "            Qs.append(self.get_qvalue(state,possible_action))\n",
    "        Qs = max(Qs)\n",
    "        return Qs\n",
    "    \n",
    "    def update(self,state,action,reward,next_state):\n",
    "        '''\n",
    "        Q-learning 업데이트식, \n",
    "        delta <- reward+gamma*maxQ(s',a')-Q(s,a)\n",
    "        E(s,a) <- E(s,a)+1\n",
    "        Q(s,a) <- Q(s,a) + alpha*E(s,a)*delta\n",
    "        E(s,a) <- gamma*lambda*E(s,a)\n",
    "            입력: state, action, reward, next_state\n",
    "            출력: X\n",
    "        '''\n",
    "        next_q = self.max_Q(next_state)\n",
    "        # 업데이트식\n",
    "        delta = reward+self.gamma*next_q-self.get_qvalue(state,action)\n",
    "        self.def_Etrace(state,action,self.get_Etrace(state,action)+1)\n",
    "        self.def_qvalue(state,action,self.alpha*self.get_Etrace(state,action)*delta)\n",
    "        self.def_Etrace(state,action,self.alpha*self.gamma*self.get_Etrace(state,action))\n",
    "    \n",
    "    def max_action(self,state):\n",
    "        '''\n",
    "        Q-함수값에 전적으로 의존한 최적의 action -> argmax_{a}Q(s,a)\n",
    "            입력: state\n",
    "            출력: action\n",
    "        '''\n",
    "        Qmax = self.max_Q(state)\n",
    "        possible_actions = self.possible_actions(state)\n",
    "        action = np.random.choice(possible_actions)\n",
    "        for possible_action in possible_actions:\n",
    "            Qvalue = self.get_qvalue(state,possible_action)\n",
    "            if Qvalue >= Qmax:\n",
    "                Qmax = Qvalue\n",
    "                action = possible_action\n",
    "        return action\n",
    "    \n",
    "    def epsilon_action(self,state):\n",
    "        '''\n",
    "        Epsilon-greedy 방식에 근거한 행동추출\n",
    "        -> 임의로 정의한 확률 p와 epsilon을 비교, 작은경우: Exploration, 큰 경우: Exploitation\n",
    "            입력: state\n",
    "            출력: 현재 state에 적절한 action\n",
    "        '''\n",
    "        possible_actions = self.possible_actions(state)\n",
    "        p = np.random.uniform(0,1)\n",
    "        if p <= self.epsilon: # Exploration\n",
    "            best_action = np.random.choice(possible_actions)\n",
    "        else: # Exploitation\n",
    "            best_action = self.max_action(state)\n",
    "        return best_action"
   ]
  },
  {
   "cell_type": "markdown",
   "id": "0a4e3979",
   "metadata": {},
   "source": [
    "## SARSA - with Eligibility trace\n",
    "---\n",
    "\n",
    "Step 1. 상태 $S$, 행동 $A$, Eligibility trace $E(s)$ 초기화\n",
    "\n",
    "Step 2. $A$ 행동개시  $\\rightarrow  R$, $S'$ \n",
    "\n",
    "Step 3. 다음행동 $A'$ $\\leftarrow {\\epsilon}-greedy$ 방식\n",
    "\n",
    "Step 4. TD-error 계산 ${\\delta} \\leftarrow R+{\\gamma}Q(S',A')-Q(S,A)$ \n",
    "\n",
    "Step 5. $E(S) \\leftarrow E(S)+1$\n",
    "\n",
    "Step 6. Q업데이트 $Q(S,A) \\leftarrow Q(S,A) + {\\alpha}{\\delta}E(S)$\n",
    "\n",
    "Step 7. $E(S) \\leftarrow \\gamma \\lambda E(S)$\n",
    "\n",
    "Step 8. $S \\leftarrow S'$, $A \\leftarrow A'$\n",
    "\n",
    "Step 8. 에피소드 종료까지 Step 2~8 반복\n",
    "\n"
   ]
  },
  {
   "cell_type": "code",
   "execution_count": 20,
   "id": "bc6051d5",
   "metadata": {},
   "outputs": [],
   "source": [
    "class SARSA_ET(Qlearning_ET):\n",
    "    '''\n",
    "    SARSA_eligibility trace 역시 Qlearning_eligibility trace와 동일,\n",
    "    단, 행동추출의 방식의 차이만 반영\n",
    "    '''\n",
    "    def update(self,state,action,reward,next_state):\n",
    "        '''\n",
    "        Q-learning 업데이트식, \n",
    "        a' <- epsilon greedy\n",
    "        delta <- reward+gamma*Q(s',a')-Q(s,a)\n",
    "        E(s,a) <- E(s,a)+1\n",
    "        Q(s,a) <- Q(s,a) + alpha*E(s,a)*delta\n",
    "        E(s,a) <- gamma*lambda*E(s,a)\n",
    "            입력: state, action, reward, next_state\n",
    "            출력: X\n",
    "        '''\n",
    "        next_action = self.epsilon_action(next_state)\n",
    "        next_q = self.get_qvalue(next_state,next_action)\n",
    "        # 업데이트식\n",
    "        delta = reward+self.gamma*next_q-self.get_qvalue(state,action)\n",
    "        self.def_Etrace(state,action,self.get_Etrace(state,action)+1)\n",
    "        self.def_qvalue(state,action,self.alpha*self.get_Etrace(state,action)*delta)\n",
    "        self.def_Etrace(state,action,self.alpha*self.gamma*self.get_Etrace(state,action))"
   ]
  },
  {
   "cell_type": "code",
   "execution_count": 25,
   "id": "a98e595f",
   "metadata": {},
   "outputs": [],
   "source": [
    "Qet_agent = Qlearning_ET(lambda s: range(n_actions),lamb=0.01)\n",
    "SARSAet_agent = SARSA_ET(lambda s: range(n_actions),lamb=0.01)"
   ]
  },
  {
   "cell_type": "code",
   "execution_count": 26,
   "id": "979b32be",
   "metadata": {},
   "outputs": [
    {
     "name": "stdout",
     "output_type": "stream",
     "text": [
      "1900번째 에피소드 결과\n",
      "SARSA_Etrace 보상평균(100번 에피소드) = -1159.34\n",
      "Q-Learning_Etrace 보상평균(100번 에피소드) = -126.51\n"
     ]
    },
    {
     "data": {
      "image/png": "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\n",
      "text/plain": [
       "<Figure size 432x288 with 1 Axes>"
      ]
     },
     "metadata": {
      "needs_background": "light"
     },
     "output_type": "display_data"
    }
   ],
   "source": [
    "rewards_sarsaet, rewards_qlet = [], []\n",
    "for i in range(2000):\n",
    "    rewards_sarsaet.append(play_and_train(env, SARSAet_agent))\n",
    "    rewards_qlet.append(play_and_train(env, Qet_agent))\n",
    "\n",
    "    if i % 100 == 0:\n",
    "        clear_output(True)\n",
    "        print(f'{i}번째 에피소드 결과')\n",
    "        print(f'SARSA_Etrace 보상평균(100번 에피소드) = {np.mean(rewards_sarsaet[-100:])}')\n",
    "        print(f'Q-Learning_Etrace 보상평균(100번 에피소드) = {np.mean(rewards_qlet[-100:])}')\n",
    "        \n",
    "        plt.title(f\"epsilon = {Qet_agent.epsilon}, lambda = {Qet_agent.lamb}\")\n",
    "        plt.plot(moving_average(rewards_sarsaet),label='SARSA E-trace')\n",
    "        plt.plot(moving_average(rewards_qlet),label='Q-learning E-trace')\n",
    "        \n",
    "        plt.grid()\n",
    "        plt.legend()\n",
    "        #plt.ylim(-1000, 0)\n",
    "        plt.show()"
   ]
  },
  {
   "cell_type": "code",
   "execution_count": 44,
   "id": "a235f1e3",
   "metadata": {},
   "outputs": [
    {
     "name": "stdout",
     "output_type": "stream",
     "text": [
      "Step: 12\n",
      "o  o  o  o  o  o  o  o  o  o  o  o\n",
      "o  o  o  o  o  o  o  o  o  o  o  o\n",
      "o  o  o  o  o  o  o  o  o  o  o  o\n",
      "o  C  C  C  C  C  C  C  C  C  C  x\n",
      "\n"
     ]
    }
   ],
   "source": [
    "play_render(Qet_agent,env)"
   ]
  },
  {
   "cell_type": "code",
   "execution_count": null,
   "id": "53934348",
   "metadata": {},
   "outputs": [],
   "source": []
  }
 ],
 "metadata": {
  "kernelspec": {
   "display_name": "RL_scratch",
   "language": "python",
   "name": "rl_scratch"
  },
  "language_info": {
   "codemirror_mode": {
    "name": "ipython",
    "version": 3
   },
   "file_extension": ".py",
   "mimetype": "text/x-python",
   "name": "python",
   "nbconvert_exporter": "python",
   "pygments_lexer": "ipython3",
   "version": "3.8.13"
  }
 },
 "nbformat": 4,
 "nbformat_minor": 5
}
