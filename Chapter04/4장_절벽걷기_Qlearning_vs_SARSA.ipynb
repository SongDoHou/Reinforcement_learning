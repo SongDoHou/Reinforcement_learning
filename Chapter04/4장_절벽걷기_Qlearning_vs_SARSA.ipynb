{
 "cells": [
  {
   "cell_type": "code",
   "execution_count": 1,
   "id": "987575b4",
   "metadata": {},
   "outputs": [],
   "source": [
    "# 필요 패키지들을 호출\n",
    "from collections import defaultdict\n",
    "from IPython.display import clear_output\n",
    "import numpy as np\n",
    "import random\n",
    "import gym\n",
    "\n",
    "import pandas as pd\n",
    "import matplotlib.pyplot as plt"
   ]
  },
  {
   "cell_type": "code",
   "execution_count": 3,
   "id": "7583ab18",
   "metadata": {},
   "outputs": [],
   "source": [
    "# Cliff walking 환경 정의\n",
    "env = gym.make('CliffWalking-v0')"
   ]
  },
  {
   "cell_type": "code",
   "execution_count": 5,
   "id": "051760a3",
   "metadata": {},
   "outputs": [
    {
     "name": "stdout",
     "output_type": "stream",
     "text": [
      "None\n"
     ]
    }
   ],
   "source": [
    "# Cliff walking에 대한 설명문\n",
    "print(env.__doc__)"
   ]
  },
  {
   "cell_type": "code",
   "execution_count": 8,
   "id": "cb62df89",
   "metadata": {},
   "outputs": [
    {
     "name": "stdout",
     "output_type": "stream",
     "text": [
      "o  o  o  o  o  o  o  o  o  o  o  o\n",
      "o  o  o  o  o  o  o  o  o  o  o  o\n",
      "o  o  o  o  o  o  o  o  o  o  o  o\n",
      "x  C  C  C  C  C  C  C  C  C  C  T\n",
      "\n"
     ]
    }
   ],
   "source": [
    "# 현재 state의 Cliff walking 환경을 시각화합니다.\n",
<<<<<<< HEAD
    "s = env.reset()\n",
=======
    "s = env.reset()"
>>>>>>> ee8ff82dfa5a4e4b4cb6e62090910523878d41ff
    "env.render()"
   ]
  },
  {
   "cell_type": "code",
   "execution_count": 9,
   "id": "23cd7f0c",
   "metadata": {},
   "outputs": [
    {
     "name": "stdout",
     "output_type": "stream",
     "text": [
      "36\n"
     ]
    }
   ],
   "source": [
    "# gym 환경의 기본 기능을 익혀봅시다\n",
    "# env.reset() : 환경 개시\n",
    "# env.step(action): 환경 행동부여\n",
    "# env.render(): 환경 시각화 -> 이미지 혹은 텍스트(Gridworld)\n",
    "state = env.reset()\n",
    "print(state)"
   ]
  },
  {
   "cell_type": "code",
   "execution_count": 10,
   "id": "20074dec",
   "metadata": {},
   "outputs": [
    {
     "data": {
      "text/plain": [
       "4"
      ]
     },
     "execution_count": 10,
     "metadata": {},
     "output_type": "execute_result"
    }
   ],
   "source": [
    "env.action_space.n"
   ]
  },
  {
   "cell_type": "code",
   "execution_count": 11,
   "id": "af43fcf1",
   "metadata": {},
   "outputs": [],
   "source": [
    "# 에이전트가 행동을 하는 것을 모사\n",
    "# 출력값: 다음상태, 보상, 종료여부, 정보 \n",
    "# 정보는 환경과 관련된 부수적인 요소들을 딕셔너리 형태로 포함 -> 생략해도 무방\n",
    "next_state,reward,done,infs = env.step(env.action_space.sample())"
   ]
  },
  {
   "cell_type": "code",
   "execution_count": 12,
   "id": "7c43c108",
   "metadata": {},
   "outputs": [
    {
     "name": "stdout",
     "output_type": "stream",
     "text": [
      "36 -100 False {'prob': 1.0}\n"
     ]
    }
   ],
   "source": [
    "print(next_state, reward, done,infs)"
   ]
  },
  {
   "cell_type": "code",
   "execution_count": 13,
   "id": "ecad6af2",
   "metadata": {},
   "outputs": [
    {
     "name": "stdout",
     "output_type": "stream",
     "text": [
      "o  o  o  o  o  o  o  o  o  o  o  o\n",
      "o  o  o  o  o  o  o  o  o  o  o  o\n",
      "o  o  o  o  o  o  o  o  o  o  o  o\n",
      "x  C  C  C  C  C  C  C  C  C  C  T\n",
      "\n"
     ]
    }
   ],
   "source": [
    "env.render()"
   ]
  },
  {
   "cell_type": "code",
   "execution_count": 14,
   "id": "d1094d1b",
   "metadata": {},
   "outputs": [],
   "source": [
    "# Q-learning 에이전트 작성\n",
    "class Qlearning:\n",
    "    def __init__(self,possible_actions,alpha=0.25,epsilon=0.2,gamma=0.99):\n",
    "        '''\n",
    "        초기 입력인자\n",
    "            possible_actions: State에서 에이전트가 취할수 있는 행동, (defaultdict s)\n",
    "            alpha: 학습률\n",
    "            epsilon: Exploration 확률 <- 학습초기: 높은확률, 학습후기: 낮은확률\n",
    "            gamma: 할인율\n",
    "        Class의 속성\n",
    "            Q-함수 정의 -> self.def_qvalue\n",
    "            Q-함수 출력 -> self.get_qvalue\n",
    "            Q-함수 업데이트 -> self.update_qvalue\n",
    "            행동 추출 \n",
    "                -> self.epsilon_action\n",
    "                -> self.argmax_action\n",
    "        '''\n",
    "        self.possible_actions=possible_actions\n",
    "        self.alpha = alpha\n",
    "        self.epsilon = epsilon\n",
    "        self.gamma = gamma\n",
    "        self.q_value = defaultdict(lambda: defaultdict(lambda: 0))\n",
    "        \n",
    "    def def_qvalue(self,state,action,q_value):\n",
    "        '''\n",
    "        Q-함수값 정의, Q(s,a) <- q_value\n",
    "            입력: state, action, q_value\n",
    "            출력: X\n",
    "        '''\n",
    "        self.q_value[state][action] = q_value\n",
    "    \n",
    "    def get_qvalue(self,state,action):\n",
    "        '''\n",
    "        Q-함수값 출력\n",
    "            입력: state, action\n",
    "            출력: Q(s,a)\n",
    "        '''\n",
    "        return self.q_value[state][action]\n",
    "    \n",
    "    def max_Q(self,state):\n",
    "        '''\n",
    "        max_{a}Q(s',a) 구하기\n",
    "            입력: state\n",
    "            출력: max_{a}Q(s,a)\n",
    "        '''\n",
    "        possible_actions = self.possible_actions(state)\n",
    "        Qs = []\n",
    "        for possible_action in possible_actions:\n",
    "            Qs.append(self.get_qvalue(state,possible_action))\n",
    "        Qs = max(Qs)\n",
    "        return Qs\n",
    "    \n",
    "    def update(self,state,action,reward,next_state):\n",
    "        '''\n",
    "        Q-learning 업데이트식, Q(s,a) <- Q(s,a) + alpha*(reward+gamma*max(Q(s',a'))-Q(s,a))\n",
    "            입력: state, action, reward, next_state\n",
    "            출력: X\n",
    "        '''\n",
    "        next_q = self.max_Q(next_state)\n",
    "        # 업데이트식\n",
    "        rhs = (1-self.alpha)*self.get_qvalue(state,action)+self.alpha*(reward+self.gamma*next_q) \n",
    "        self.def_qvalue(state,action,rhs)\n",
    "    \n",
    "    def max_action(self,state):\n",
    "        '''\n",
    "        Q-함수값에 전적으로 의존한 최적의 action -> argmax_{a}Q(s,a)\n",
    "            입력: state\n",
    "            출력: action\n",
    "        '''\n",
    "        Qmax = self.max_Q(state)\n",
    "        possible_actions = self.possible_actions(state)\n",
    "        action = np.random.choice(possible_actions)\n",
    "        for possible_action in possible_actions:\n",
    "            Qvalue = self.get_qvalue(state,possible_action)\n",
    "            if Qvalue >= Qmax:\n",
    "                Qmax = Qvalue\n",
    "                action = possible_action\n",
    "        return action\n",
    "    \n",
    "    def epsilon_action(self,state):\n",
    "        '''\n",
    "        Epsilon-greedy 방식에 근거한 행동추출\n",
    "        -> 임의로 정의한 확률 p와 epsilon을 비교, 작은경우: Exploration, 큰 경우: Exploitation\n",
    "            입력: state\n",
    "            출력: 현재 state에 적절한 action\n",
    "        '''\n",
    "        possible_actions = self.possible_actions(state)\n",
    "        p = np.random.uniform(0,1)\n",
    "        if p <= self.epsilon: # Exploration\n",
    "            best_action = np.random.choice(possible_actions)\n",
    "        else: # Exploitation\n",
    "            best_action = self.max_action(state)\n",
    "        return best_action"
   ]
  },
  {
   "cell_type": "code",
   "execution_count": 15,
   "id": "fb682097",
   "metadata": {},
   "outputs": [],
   "source": [
    "# SARSA 에이전트 작성\n",
    "class SARSA(Qlearning):\n",
    "    '''\n",
    "    SARSA 역시 Qlearning과 동일,\n",
    "    단, 행동추출의 방식의 차이만 반영\n",
    "    '''\n",
    "    def update(self,state,action,reward,next_state):\n",
    "        '''\n",
    "        SARSA 업데이트식, Q(s,a) <- Q(s,a) + alpha*(reward+gamma*Q(s',a')-Q(s,a))\n",
    "        (a' <- epsilon-greedy 정책)\n",
    "            입력: state, action, reward, next_state\n",
    "            출력: X\n",
    "        '''\n",
    "        next_action = self.epsilon_action(next_state)\n",
    "        next_q = self.get_qvalue(next_state,next_action)\n",
    "        rhs = (1-self.alpha)*self.get_qvalue(state,action)+self.alpha*(reward+self.gamma*next_q) # 업데이트식\n",
    "        self.def_qvalue(state,action,rhs)"
   ]
  },
  {
   "cell_type": "code",
   "execution_count": 16,
   "id": "70850225",
   "metadata": {},
   "outputs": [],
   "source": [
    "def play_and_train(env, agent, t_max=10**4):\n",
    "    '''\n",
    "    에이전트 학습 코드(gym style)\n",
    "    입력인자\n",
    "        env: 환경 -> Cliff walking\n",
    "        agent: 에이전트 -> Q-agent, SARSA_agent\n",
    "        t_max: 최대 시점 -> 강제 에피소드 종료시점 설정\n",
    "    출력인자\n",
    "        total_reward: 최종보상(할인 X)\n",
    "    '''\n",
    "    total_reward = 0.0\n",
    "    s = env.reset()\n",
    "\n",
    "    for t in range(t_max):\n",
    "        a = agent.epsilon_action(s)\n",
    "        \n",
    "        next_s, r, done, _ = env.step(a)\n",
    "        agent.update(s, a, r, next_s)\n",
    "\n",
    "        s = next_s\n",
    "        total_reward += r\n",
    "        if done:\n",
    "            break\n",
    "\n",
    "    return total_reward"
   ]
  },
  {
   "cell_type": "code",
   "execution_count": 17,
   "id": "f28135d4",
   "metadata": {},
   "outputs": [],
   "source": [
    "n_actions = env.action_space.n # 각 행동에는 4개의 행동이 가능 - 상,하,좌,우\n",
    "\n",
    "Q_agent = Qlearning(lambda s: range(n_actions))\n",
    "SARSA_agent = SARSA(lambda s: range(n_actions))"
   ]
  },
  {
   "cell_type": "code",
   "execution_count": 18,
   "id": "1ae1c9e9",
   "metadata": {},
   "outputs": [],
   "source": [
    "def moving_average(x, span=100):\n",
    "    return pd.DataFrame({'x': np.asarray(x)}).x.ewm(span=span).mean().values"
   ]
  },
  {
   "cell_type": "code",
   "execution_count": 19,
   "id": "b73b991c",
   "metadata": {},
   "outputs": [
    {
     "name": "stdout",
     "output_type": "stream",
     "text": [
      "1900번째 에피소드 결과\n",
      "SARSA 보상평균(100번 에피소드) = -33.31\n",
      "Q-Learning 보상평균(100번 에피소드) = -118.48\n"
     ]
    },
    {
     "data": {
      "image/png": "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",
      "text/plain": [
       "<Figure size 640x480 with 1 Axes>"
      ]
     },
     "metadata": {},
     "output_type": "display_data"
    }
   ],
   "source": [
    "rewards_sarsa, rewards_ql = [], []\n",
    "for i in range(2000):\n",
    "    rewards_sarsa.append(play_and_train(env, SARSA_agent))\n",
    "    rewards_ql.append(play_and_train(env, Q_agent))\n",
    "\n",
    "    if i % 100 == 0:\n",
    "        clear_output(True)\n",
    "        print(f'{i}번째 에피소드 결과')\n",
    "        print(f'SARSA 보상평균(100번 에피소드) = {np.mean(rewards_sarsa[-100:])}')\n",
    "        print(f'Q-Learning 보상평균(100번 에피소드) = {np.mean(rewards_ql[-100:])}')\n",
    "\n",
    "        \n",
    "        plt.title(f\"epsilon = {Q_agent.epsilon}\")\n",
    "        plt.plot(moving_average(rewards_sarsa),label='SARSA')\n",
    "        plt.plot(moving_average(rewards_ql),label='Q-learning')\n",
    "        \n",
    "        plt.grid()\n",
    "        plt.legend()\n",
    "        plt.ylim(-1000, 0)\n",
    "        plt.show()"
   ]
  },
  {
   "cell_type": "code",
   "execution_count": 20,
   "id": "5ba315f1",
   "metadata": {},
   "outputs": [],
   "source": [
    "import time\n",
    "\n",
    "def play_render(agent,env,time_sleep=0.2):\n",
    "    '''\n",
    "    학습 이후 에이전트의 플레이 화면을 보여줍니다.\n",
    "    입력변수\n",
    "        agent: 에이전트\n",
    "        env: 환경\n",
    "        time_sleep: 플레이 화면표시 주기. 기본 0.2초 간격으로 시점변화\n",
    "    '''\n",
    "    s = env.reset()\n",
    "    cnt = 0\n",
    "    while True:\n",
    "        time.sleep(time_sleep)\n",
    "        clear_output(True)\n",
    "        print(f'Step: {cnt}')\n",
    "        env.render()\n",
    "        action = agent.epsilon_action(s)\n",
    "        next_s, reward, done, _ = env.step(action)\n",
    "        if done:\n",
    "            clear_output(True)\n",
    "            print(f'Step: {cnt}')\n",
    "            env.render()\n",
    "            break\n",
    "        s = next_s\n",
    "        cnt+=1"
   ]
  },
  {
   "cell_type": "code",
   "execution_count": 21,
   "id": "a3304287",
   "metadata": {},
   "outputs": [
    {
     "name": "stdout",
     "output_type": "stream",
     "text": [
      "Step: 16\n",
      "o  o  o  o  o  o  o  o  o  o  o  o\n",
      "o  o  o  o  o  o  o  o  o  o  o  o\n",
      "o  o  o  o  o  o  o  o  o  o  o  o\n",
      "o  C  C  C  C  C  C  C  C  C  C  x\n",
      "\n"
     ]
    }
   ],
   "source": [
    "play_render(SARSA_agent,env)"
   ]
  },
  {
   "cell_type": "markdown",
   "id": "05764df6",
   "metadata": {},
   "source": [
    "# 심화 - Eligibility trace\n",
    "---\n",
    "$G_{t}^{\\lambda}$를 이용한 SARSA, Q-learning알고리즘 구현\n",
    "\n",
    "목적: TD(0) vs MC 어느정도의 Temporal difference를 사용해야 최적의 결과가 나오는가?\n",
    "\n",
    "\n",
    "## Q-learning with Eligibility trace\n",
    "---\n",
    "\n",
    "Step 1. 상태 $S$, 행동 $A$, Eligibility trace $E(S)$ 초기화\n",
    "\n",
    "Step 2. $A$ 행동개시 $\\rightarrow R$, $S'$ \n",
    "\n",
    "Step 3. 다음행동 $A' {\\leftarrow} max_{a}Q(s,a)$ 방식\n",
    "\n",
    "Step 4. TD-error 계산 ${\\delta} \\leftarrow R+{\\gamma}Q(S',A')-Q(S,A)$ \n",
    "\n",
    "Step 5. $E(S) \\leftarrow E(S)+1$\n",
    "\n",
    "Step 6. Q업데이트 $Q(S,A) \\leftarrow Q(S,A) + {\\alpha}{\\delta}E(S)$\n",
    "\n",
    "Step 7. $E(S) \\leftarrow \\gamma \\lambda E(S)$\n",
    "\n",
    "Step 8. $S \\leftarrow S'$, $A \\leftarrow A'$\n",
    "\n",
    "Step 8. 에피소드 종료까지 Step 2~8 반복"
   ]
  },
  {
   "cell_type": "code",
   "execution_count": 22,
   "id": "694b99c2",
   "metadata": {},
   "outputs": [],
   "source": [
    "class Qlearning_ET():\n",
    "    def __init__(self,possible_actions,alpha=0.25,epsilon=0.2,gamma=0.99,lamb=0.75):\n",
    "        '''\n",
    "        초기 입력인자\n",
    "            possible_actions: State에서 에이전트가 취할수 있는 행동, (defaultdict s)\n",
    "            alpha: 학습률\n",
    "            epsilon: Exploration 확률 <- 학습초기: 높은확률, 학습후기: 낮은확률\n",
    "            gamma: 할인율\n",
    "            lamb: Temporal-Difference 가중치, 0: TD(0), 1: Monte-Carlo\n",
    "        Class의 속성\n",
    "            Q-함수 정의 -> self.def_qvalue\n",
    "            Q-함수 출력 -> self.get_qvalue\n",
    "            Q-함수 업데이트 -> self.update_qvalue\n",
    "            행동 추출 \n",
    "                -> self.epsilon_action\n",
    "                -> self.argmax_action\n",
    "            Eligibility 정의 -> self.def_Etrace\n",
    "            Eligibility 출력 -> self.get_Etrace\n",
    "            Eligibility 업데이트 -> self.update_Etrace\n",
    "        '''\n",
    "        self.possible_actions=possible_actions\n",
    "        self.alpha = alpha\n",
    "        self.epsilon = epsilon\n",
    "        self.gamma = gamma\n",
    "        self.lamb = lamb\n",
    "        self.q_value = defaultdict(lambda: defaultdict(lambda: 0))\n",
    "        self.E_trace = defaultdict(lambda: defaultdict(lambda: 0))\n",
    "        \n",
    "    def def_qvalue(self,state,action,q_value):\n",
    "        '''\n",
    "        Q-함수값 정의, Q(s,a) <- q_value\n",
    "            입력: state, action, q_value\n",
    "            출력: X\n",
    "        '''\n",
    "        self.q_value[state][action] = q_value\n",
    "    \n",
    "    def def_Etrace(self,state,action,value):\n",
    "        '''\n",
    "        Eligibility trace 정의, E(s,a) <- value\n",
    "            입력: state,action,value\n",
    "            출력: X\n",
    "        '''\n",
    "        self.E_trace[state][action] = value\n",
    "    \n",
    "    def get_qvalue(self,state,action):\n",
    "        '''\n",
    "        Q-함수값 출력\n",
    "            입력: state, action\n",
    "            출력: Q(s,a)\n",
    "        '''\n",
    "        return self.q_value[state][action]\n",
    "    \n",
    "    def get_Etrace(self,state,action):\n",
    "        '''\n",
    "        Eligibility trace 출력\n",
    "            입력: state, action\n",
    "            출력: E(s,a)\n",
    "        '''\n",
    "        return self.E_trace[state][action]\n",
    "    \n",
    "    def max_Q(self,state):\n",
    "        '''\n",
    "        max_{a}Q(s',a) 구하기\n",
    "            입력: state\n",
    "            출력: max_{a}Q(s,a)\n",
    "        '''\n",
    "        possible_actions = self.possible_actions(state)\n",
    "        Qs = []\n",
    "        for possible_action in possible_actions:\n",
    "            Qs.append(self.get_qvalue(state,possible_action))\n",
    "        Qs = max(Qs)\n",
    "        return Qs\n",
    "    \n",
    "    def update(self,state,action,reward,next_state):\n",
    "        '''\n",
    "        Q-learning 업데이트식, \n",
    "        delta <- reward+gamma*maxQ(s',a')-Q(s,a)\n",
    "        E(s,a) <- E(s,a)+1\n",
    "        Q(s,a) <- Q(s,a) + alpha*E(s,a)*delta\n",
    "        E(s,a) <- gamma*lambda*E(s,a)\n",
    "            입력: state, action, reward, next_state\n",
    "            출력: X\n",
    "        '''\n",
    "        next_q = self.max_Q(next_state)\n",
    "        # 업데이트식\n",
    "        delta = reward+self.gamma*next_q-self.get_qvalue(state,action)\n",
    "        self.def_Etrace(state,action,self.get_Etrace(state,action)+1)\n",
    "        self.def_qvalue(state,action,self.alpha*self.get_Etrace(state,action)*delta)\n",
    "        self.def_Etrace(state,action,self.alpha*self.gamma*self.get_Etrace(state,action))\n",
    "    \n",
    "    def max_action(self,state):\n",
    "        '''\n",
    "        Q-함수값에 전적으로 의존한 최적의 action -> argmax_{a}Q(s,a)\n",
    "            입력: state\n",
    "            출력: action\n",
    "        '''\n",
    "        Qmax = self.max_Q(state)\n",
    "        possible_actions = self.possible_actions(state)\n",
    "        action = np.random.choice(possible_actions)\n",
    "        for possible_action in possible_actions:\n",
    "            Qvalue = self.get_qvalue(state,possible_action)\n",
    "            if Qvalue >= Qmax:\n",
    "                Qmax = Qvalue\n",
    "                action = possible_action\n",
    "        return action\n",
    "    \n",
    "    def epsilon_action(self,state):\n",
    "        '''\n",
    "        Epsilon-greedy 방식에 근거한 행동추출\n",
    "        -> 임의로 정의한 확률 p와 epsilon을 비교, 작은경우: Exploration, 큰 경우: Exploitation\n",
    "            입력: state\n",
    "            출력: 현재 state에 적절한 action\n",
    "        '''\n",
    "        possible_actions = self.possible_actions(state)\n",
    "        p = np.random.uniform(0,1)\n",
    "        if p <= self.epsilon: # Exploration\n",
    "            best_action = np.random.choice(possible_actions)\n",
    "        else: # Exploitation\n",
    "            best_action = self.max_action(state)\n",
    "        return best_action"
   ]
  },
  {
   "cell_type": "markdown",
   "id": "0a4e3979",
   "metadata": {},
   "source": [
    "## SARSA - with Eligibility trace\n",
    "---\n",
    "\n",
    "Step 1. 상태 $S$, 행동 $A$, Eligibility trace $E(s)$ 초기화\n",
    "\n",
    "Step 2. $A$ 행동개시  $\\rightarrow  R$, $S'$ \n",
    "\n",
    "Step 3. 다음행동 $A'$ $\\leftarrow {\\epsilon}-greedy$ 방식\n",
    "\n",
    "Step 4. TD-error 계산 ${\\delta} \\leftarrow R+{\\gamma}Q(S',A')-Q(S,A)$ \n",
    "\n",
    "Step 5. $E(S) \\leftarrow E(S)+1$\n",
    "\n",
    "Step 6. Q업데이트 $Q(S,A) \\leftarrow Q(S,A) + {\\alpha}{\\delta}E(S)$\n",
    "\n",
    "Step 7. $E(S) \\leftarrow \\gamma \\lambda E(S)$\n",
    "\n",
    "Step 8. $S \\leftarrow S'$, $A \\leftarrow A'$\n",
    "\n",
    "Step 8. 에피소드 종료까지 Step 2~8 반복\n",
    "\n"
   ]
  },
  {
   "cell_type": "code",
   "execution_count": 23,
   "id": "bc6051d5",
   "metadata": {},
   "outputs": [],
   "source": [
    "class SARSA_ET(Qlearning_ET):\n",
    "    '''\n",
    "    SARSA_eligibility trace 역시 Qlearning_eligibility trace와 동일,\n",
    "    단, 행동추출의 방식의 차이만 반영\n",
    "    '''\n",
    "    def update(self,state,action,reward,next_state):\n",
    "        '''\n",
    "        Q-learning 업데이트식, \n",
    "        a' <- epsilon greedy\n",
    "        delta <- reward+gamma*Q(s',a')-Q(s,a)\n",
    "        E(s,a) <- E(s,a)+1\n",
    "        Q(s,a) <- Q(s,a) + alpha*E(s,a)*delta\n",
    "        E(s,a) <- gamma*lambda*E(s,a)\n",
    "            입력: state, action, reward, next_state\n",
    "            출력: X\n",
    "        '''\n",
    "        next_action = self.epsilon_action(next_state)\n",
    "        next_q = self.get_qvalue(next_state,next_action)\n",
    "        # 업데이트식\n",
    "        delta = reward+self.gamma*next_q-self.get_qvalue(state,action)\n",
    "        self.def_Etrace(state,action,self.get_Etrace(state,action)+1)\n",
    "        self.def_qvalue(state,action,self.alpha*self.get_Etrace(state,action)*delta)\n",
    "        self.def_Etrace(state,action,self.alpha*self.gamma*self.get_Etrace(state,action))"
   ]
  },
  {
   "cell_type": "code",
   "execution_count": 24,
   "id": "a98e595f",
   "metadata": {},
   "outputs": [],
   "source": [
    "Qet_agent = Qlearning_ET(lambda s: range(n_actions),lamb=0.01)\n",
    "SARSAet_agent = SARSA_ET(lambda s: range(n_actions),lamb=0.01)"
   ]
  },
  {
   "cell_type": "code",
   "execution_count": 25,
   "id": "979b32be",
   "metadata": {},
   "outputs": [
    {
     "name": "stdout",
     "output_type": "stream",
     "text": [
      "1900번째 에피소드 결과\n",
      "SARSA_Etrace 보상평균(100번 에피소드) = -1028.14\n",
      "Q-Learning_Etrace 보상평균(100번 에피소드) = -103.98\n"
     ]
    },
    {
     "data": {
      "image/png": "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",
      "text/plain": [
       "<Figure size 640x480 with 1 Axes>"
      ]
     },
     "metadata": {},
     "output_type": "display_data"
    }
   ],
   "source": [
    "rewards_sarsaet, rewards_qlet = [], []\n",
    "for i in range(2000):\n",
    "    rewards_sarsaet.append(play_and_train(env, SARSAet_agent))\n",
    "    rewards_qlet.append(play_and_train(env, Qet_agent))\n",
    "\n",
    "    if i % 100 == 0:\n",
    "        clear_output(True)\n",
    "        print(f'{i}번째 에피소드 결과')\n",
    "        print(f'SARSA_Etrace 보상평균(100번 에피소드) = {np.mean(rewards_sarsaet[-100:])}')\n",
    "        print(f'Q-Learning_Etrace 보상평균(100번 에피소드) = {np.mean(rewards_qlet[-100:])}')\n",
    "        \n",
    "        plt.title(f\"epsilon = {Qet_agent.epsilon}, lambda = {Qet_agent.lamb}\")\n",
    "        plt.plot(moving_average(rewards_sarsaet),label='SARSA E-trace')\n",
    "        plt.plot(moving_average(rewards_qlet),label='Q-learning E-trace')\n",
    "        \n",
    "        plt.grid()\n",
    "        plt.legend()\n",
    "        #plt.ylim(-1000, 0)\n",
    "        plt.show()"
   ]
  },
  {
   "cell_type": "code",
   "execution_count": 30,
   "id": "a235f1e3",
   "metadata": {},
   "outputs": [
    {
     "name": "stdout",
     "output_type": "stream",
     "text": [
      "Step: 16\n",
      "o  o  o  o  o  o  o  o  o  o  o  o\n",
      "o  o  o  o  o  o  o  o  o  o  o  o\n",
      "o  o  o  o  o  o  o  o  o  o  o  o\n",
      "o  C  C  C  C  C  C  C  C  C  C  x\n",
      "\n"
     ]
    }
   ],
   "source": [
    "play_render(Qet_agent,env)"
   ]
  },
  {
   "cell_type": "code",
   "execution_count": null,
   "id": "53934348",
   "metadata": {},
   "outputs": [],
   "source": []
  }
 ],
 "metadata": {
  "kernelspec": {
   "display_name": "RL_scratch",
   "language": "python",
   "name": "python3"
  },
  "language_info": {
   "codemirror_mode": {
    "name": "ipython",
    "version": 3
   },
   "file_extension": ".py",
   "mimetype": "text/x-python",
   "name": "python",
   "nbconvert_exporter": "python",
   "pygments_lexer": "ipython3",
   "version": "3.8.13"
  }
 },
 "nbformat": 4,
 "nbformat_minor": 5
}
