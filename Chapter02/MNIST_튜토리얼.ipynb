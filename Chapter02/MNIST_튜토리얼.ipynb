{
 "cells": [
  {
   "cell_type": "markdown",
   "id": "da2a7498",
   "metadata": {},
   "source": [
    "# MNIST 튜토리얼"
   ]
  },
  {
   "cell_type": "code",
   "execution_count": 4,
   "id": "35e3ad11",
   "metadata": {},
   "outputs": [],
   "source": [
    "# 라이브러리 호출\n",
    "import torch\n",
    "import torch.nn as nn\n",
    "import torch.nn.functional as F\n",
    "import torch.optim as optim\n",
    "import torchvision.datasets as dataset\n",
    "import torchvision.transforms as transforms\n",
    "\n",
    "import random\n",
    "import numpy as np\n",
    "import matplotlib.pyplot as plt"
   ]
  },
  {
   "cell_type": "code",
   "execution_count": 5,
   "id": "af7ab1b9",
   "metadata": {},
   "outputs": [
    {
     "name": "stdout",
     "output_type": "stream",
     "text": [
      "Downloading http://yann.lecun.com/exdb/mnist/train-images-idx3-ubyte.gz\n"
     ]
    },
    {
     "name": "stderr",
     "output_type": "stream",
     "text": [
      "0.4%"
     ]
    },
    {
     "name": "stdout",
     "output_type": "stream",
     "text": [
      "Downloading http://yann.lecun.com/exdb/mnist/train-images-idx3-ubyte.gz to ./MNIST_data\\MNIST\\raw\\train-images-idx3-ubyte.gz\n"
     ]
    },
    {
     "name": "stderr",
     "output_type": "stream",
     "text": [
      "100.0%\n"
     ]
    },
    {
     "name": "stdout",
     "output_type": "stream",
     "text": [
      "Extracting ./MNIST_data\\MNIST\\raw\\train-images-idx3-ubyte.gz to ./MNIST_data\\MNIST\\raw\n",
      "\n",
      "Downloading http://yann.lecun.com/exdb/mnist/train-labels-idx1-ubyte.gz\n",
      "Downloading http://yann.lecun.com/exdb/mnist/train-labels-idx1-ubyte.gz to ./MNIST_data\\MNIST\\raw\\train-labels-idx1-ubyte.gz\n"
     ]
    },
    {
     "name": "stderr",
     "output_type": "stream",
     "text": [
      "102.8%\n"
     ]
    },
    {
     "name": "stdout",
     "output_type": "stream",
     "text": [
      "Extracting ./MNIST_data\\MNIST\\raw\\train-labels-idx1-ubyte.gz to ./MNIST_data\\MNIST\\raw\n",
      "\n",
      "Downloading http://yann.lecun.com/exdb/mnist/t10k-images-idx3-ubyte.gz\n",
      "Downloading http://yann.lecun.com/exdb/mnist/t10k-images-idx3-ubyte.gz to ./MNIST_data\\MNIST\\raw\\t10k-images-idx3-ubyte.gz\n"
     ]
    },
    {
     "name": "stderr",
     "output_type": "stream",
     "text": [
      "100.0%\n"
     ]
    },
    {
     "name": "stdout",
     "output_type": "stream",
     "text": [
      "Extracting ./MNIST_data\\MNIST\\raw\\t10k-images-idx3-ubyte.gz to ./MNIST_data\\MNIST\\raw\n",
      "\n",
      "Downloading http://yann.lecun.com/exdb/mnist/t10k-labels-idx1-ubyte.gz\n"
     ]
    },
    {
     "name": "stderr",
     "output_type": "stream",
     "text": [
      "112.7%"
     ]
    },
    {
     "name": "stdout",
     "output_type": "stream",
     "text": [
      "Downloading http://yann.lecun.com/exdb/mnist/t10k-labels-idx1-ubyte.gz to ./MNIST_data\\MNIST\\raw\\t10k-labels-idx1-ubyte.gz\n",
      "Extracting ./MNIST_data\\MNIST\\raw\\t10k-labels-idx1-ubyte.gz to ./MNIST_data\\MNIST\\raw\n",
      "\n"
     ]
    },
    {
     "name": "stderr",
     "output_type": "stream",
     "text": [
      "\n"
     ]
    }
   ],
   "source": [
    "mnist_train = dataset.MNIST(root='./MNIST_data',\n",
    "                          train=True, \n",
    "                          transform=transforms.ToTensor(), \n",
    "                          download=True)\n",
    "\n",
    "mnist_test = dataset.MNIST(root='./MNIST_data', \n",
    "                         train=False, \n",
    "                         transform=transforms.ToTensor(), \n",
    "                         download=True)"
   ]
  },
  {
   "cell_type": "code",
   "execution_count": 42,
   "id": "9d4317cc",
   "metadata": {},
   "outputs": [
    {
     "name": "stdout",
     "output_type": "stream",
     "text": [
      "Dataset MNIST\n",
      "    Number of datapoints: 60000\n",
      "    Root location: ./MNIST_data\n",
      "    Split: Train\n",
      "    StandardTransform\n",
      "Transform: ToTensor()\n",
      "Dataset MNIST\n",
      "    Number of datapoints: 10000\n",
      "    Root location: ./MNIST_data\n",
      "    Split: Test\n",
      "    StandardTransform\n",
      "Transform: ToTensor()\n"
     ]
    }
   ],
   "source": [
    "print(mnist_train)\n",
    "print(mnist_test)"
   ]
  },
  {
   "cell_type": "code",
   "execution_count": 43,
   "id": "d25e3a7c",
   "metadata": {},
   "outputs": [
    {
     "name": "stdout",
     "output_type": "stream",
     "text": [
      "5\n"
     ]
    },
    {
     "data": {
      "image/png": "[encoded data removed]",
      "text/plain": [
       "<Figure size 432x288 with 1 Axes>"
      ]
     },
     "metadata": {
      "needs_background": "light"
     },
     "output_type": "display_data"
    }
   ],
   "source": [
    "# sample\n",
    "img, label = mnist_train[0]\n",
    "plt.imshow(img[0,:,:],cmap='gray')\n",
    "print(label)"
   ]
  },
  {
   "cell_type": "code",
   "execution_count": 53,
   "id": "3ddbf322",
   "metadata": {},
   "outputs": [],
   "source": [
    "# 상대적으로 쉬운 문제이므로 valid_dataset은 따로 상정X\n",
    "train_loader = torch.utils.data.DataLoader(mnist_train,batch_size=32,shuffle=True,drop_last=False)\n",
    "test_loader = torch.utils.data.DataLoader(mnist_test,batch_size=32,shuffle=False,drop_last=False)"
   ]
  },
  {
   "cell_type": "code",
   "execution_count": 54,
   "id": "541a30cc",
   "metadata": {},
   "outputs": [],
   "source": [
    "# Neural network 모델만들기\n",
    "class MNIST_full(nn.Module):\n",
    "    def __init__(self):\n",
    "        super(MNIST_full,self).__init__()\n",
    "        self.lin1 = nn.Linear(784,256)\n",
    "        self.lin2 = nn.Linear(256,128)\n",
    "        self.lin3 = nn.Linear(128,10)\n",
    "\n",
    "    def forward(self,x):\n",
    "        x = x.view(-1,784)\n",
    "        x = F.relu(self.lin1(x))\n",
    "        x = F.relu(self.lin2(x))\n",
    "        x = F.softmax(self.lin3(x),dim=1)\n",
    "        return x"
   ]
  },
  {
   "cell_type": "code",
   "execution_count": 75,
   "id": "f64c01ab",
   "metadata": {},
   "outputs": [],
   "source": [
    "model = MNIST_full()\n",
    "optimizer = optim.Adam(model.parameters(),lr=0.001)"
   ]
  },
  {
   "cell_type": "code",
   "execution_count": 76,
   "id": "8b642437",
   "metadata": {},
   "outputs": [],
   "source": [
    "criterion = nn.CrossEntropyLoss()"
   ]
  },
  {
   "cell_type": "code",
   "execution_count": 77,
   "id": "484513c0",
   "metadata": {},
   "outputs": [
    {
     "name": "stdout",
     "output_type": "stream",
     "text": [
      "Epoch: 1\n",
      " Iteration:0  Train loss 2.302\n",
      " Iteration:300  Train loss 1.699\n",
      " Iteration:600  Train loss 1.630\n",
      " Iteration:900  Train loss 1.603\n",
      " Iteration:1200  Train loss 1.587\n",
      " Iteration:1500  Train loss 1.575\n",
      " Iteration:1800  Train loss 1.567\n",
      "Epoch: 2\n",
      " Iteration:0  Train loss 1.491\n",
      " Iteration:300  Train loss 1.516\n",
      " Iteration:600  Train loss 1.515\n",
      " Iteration:900  Train loss 1.515\n",
      " Iteration:1200  Train loss 1.513\n",
      " Iteration:1500  Train loss 1.513\n",
      " Iteration:1800  Train loss 1.511\n",
      "Epoch: 3\n",
      " Iteration:0  Train loss 1.485\n",
      " Iteration:300  Train loss 1.500\n",
      " Iteration:600  Train loss 1.503\n",
      " Iteration:900  Train loss 1.501\n",
      " Iteration:1200  Train loss 1.501\n",
      " Iteration:1500  Train loss 1.500\n",
      " Iteration:1800  Train loss 1.500\n"
     ]
    }
   ],
   "source": [
    "for epoch in range(3):\n",
    "    print(f'Epoch: {epoch+1}')  \n",
    "    loss_buffer = []\n",
    "    for idx,(x,y) in enumerate(train_loader):\n",
    "        optimizer.zero_grad()    \n",
    "        \n",
    "        y_onehot = torch.zeros((y.shape[0],10))\n",
    "        y_onehot[range(y.shape[0]),y]=1\n",
    "\n",
    "        y_infer = model(x)\n",
    "        loss = criterion(y_infer,y)\n",
    "        loss.backward()\n",
    "        optimizer.step()\n",
    "        loss_buffer.append(loss.item())\n",
    "        \n",
    "        if idx % 300 == 0:\n",
    "            print(f' Iteration:{idx}  Train loss {np.mean(loss_buffer):.3f}')"
   ]
  },
  {
   "cell_type": "code",
   "execution_count": 79,
   "id": "82ce5e8d",
   "metadata": {},
   "outputs": [
    {
     "name": "stdout",
     "output_type": "stream",
     "text": [
      "Test loss 1.499997, Accuracy: 96.016371%\n"
     ]
    }
   ],
   "source": [
    "# Test 단계\n",
    "acc = []\n",
    "for x,y in test_loader:\n",
    "    # one_hot encoding\n",
    "    y_onehot = torch.zeros((len(y),10))\n",
    "    y_onehot[range(len(y)),y]=1\n",
    "    y_infer = model(x)\n",
    "\n",
    "    correct_prediction = torch.argmax(y_infer, 1) == y\n",
    "    acc.append(correct_prediction.float().mean())\n",
    "    \n",
    "print(f'Test loss {np.mean(loss_buffer):f}, Accuracy: {np.mean(acc)*100:f}%')"
   ]
  },
  {
   "cell_type": "code",
   "execution_count": 1,
   "id": "d67deb94",
   "metadata": {},
   "outputs": [
    {
     "ename": "NameError",
     "evalue": "name 'random' is not defined",
     "output_type": "error",
     "traceback": [
      "\u001b[1;31m---------------------------------------------------------------------------\u001b[0m",
      "\u001b[1;31mNameError\u001b[0m                                 Traceback (most recent call last)",
      "Input \u001b[1;32mIn [1]\u001b[0m, in \u001b[0;36m<cell line: 2>\u001b[1;34m()\u001b[0m\n\u001b[0;32m      1\u001b[0m \u001b[38;5;66;03m# 실물샘플\u001b[39;00m\n\u001b[1;32m----> 2\u001b[0m img,label\u001b[38;5;241m=\u001b[39m\u001b[43mrandom\u001b[49m\u001b[38;5;241m.\u001b[39mchoice(mnist_test)\n\u001b[0;32m      3\u001b[0m plt\u001b[38;5;241m.\u001b[39mimshow(img[\u001b[38;5;241m0\u001b[39m,:,:],cmap\u001b[38;5;241m=\u001b[39m\u001b[38;5;124m'\u001b[39m\u001b[38;5;124mgray\u001b[39m\u001b[38;5;124m'\u001b[39m)\n\u001b[0;32m      4\u001b[0m y_infer \u001b[38;5;241m=\u001b[39m model(img)\n",
      "\u001b[1;31mNameError\u001b[0m: name 'random' is not defined"
     ]
    }
   ],
   "source": [
    "# 실물샘플\n",
    "img,label=random.choice(mnist_test)\n",
    "plt.imshow(img[0,:,:],cmap='gray')\n",
    "y_infer = model(img)\n",
    "print(f'실제 이미지의 숫자 {label}')\n",
    "print(f'예측 이미지의 숫자 {torch.argmax(y_infer,1)}')"
   ]
  },
  {
   "cell_type": "code",
   "execution_count": 72,
   "id": "7d8814eb",
   "metadata": {},
   "outputs": [
    {
     "name": "stdout",
     "output_type": "stream",
     "text": [
      "데이터 배치: torch.Size([32, 1, 28, 28])\n",
      "레이블 배치: torch.Size([32])\n"
     ]
    }
   ],
   "source": [
    "data_batch, label_batch = next(iter(train_loader))\n",
    "print(f'데이터 배치: {data_batch.shape}')\n",
    "print(f'레이블 배치: {label_batch.shape}')"
   ]
  },
  {
   "cell_type": "code",
   "execution_count": null,
   "id": "46842850",
   "metadata": {},
   "outputs": [],
   "source": []
  }
 ],
 "metadata": {
  "kernelspec": {
   "display_name": "RL_scratch",
   "language": "python",
   "name": "rl_scratch"
  },
  "language_info": {
   "codemirror_mode": {
    "name": "ipython",
    "version": 3
   },
   "file_extension": ".py",
   "mimetype": "text/x-python",
   "name": "python",
   "nbconvert_exporter": "python",
   "pygments_lexer": "ipython3",
   "version": "3.8.13"
  }
 },
 "nbformat": 4,
 "nbformat_minor": 5
}
