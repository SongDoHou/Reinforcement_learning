{
 "cells": [
  {
   "cell_type": "markdown",
   "id": "da2a7498",
   "metadata": {},
   "source": [
    "# MNIST 튜토리얼"
   ]
  },
  {
   "cell_type": "code",
   "execution_count": 1,
   "id": "35e3ad11",
   "metadata": {},
   "outputs": [
    {
     "name": "stderr",
     "output_type": "stream",
     "text": [
      "/home/hyunseok.hwang/.conda/envs/RL_scratch/lib/python3.8/site-packages/tqdm/auto.py:22: TqdmWarning: IProgress not found. Please update jupyter and ipywidgets. See https://ipywidgets.readthedocs.io/en/stable/user_install.html\n",
      "  from .autonotebook import tqdm as notebook_tqdm\n"
     ]
    }
   ],
   "source": [
    "# 라이브러리 호출\n",
    "import torch\n",
    "import torch.nn as nn\n",
    "import torch.nn.functional as F\n",
    "import torch.optim as optim\n",
    "import torchvision.datasets as dataset\n",
    "import torchvision.transforms as transforms\n",
    "\n",
    "import random\n",
    "import numpy as np\n",
    "import matplotlib.pyplot as plt"
   ]
  },
  {
   "cell_type": "code",
   "execution_count": 2,
   "id": "af7ab1b9",
   "metadata": {},
   "outputs": [],
   "source": [
    "mnist_train = dataset.MNIST(root='./MNIST_data',\n",
    "                          train=True, \n",
    "                          transform=transforms.ToTensor(), \n",
    "                          download=True)\n",
    "\n",
    "mnist_test = dataset.MNIST(root='./MNIST_data', \n",
    "                         train=False, \n",
    "                         transform=transforms.ToTensor(), \n",
    "                         download=True)"
   ]
  },
  {
   "cell_type": "code",
   "execution_count": 3,
   "id": "9d4317cc",
   "metadata": {},
   "outputs": [
    {
     "name": "stdout",
     "output_type": "stream",
     "text": [
      "Dataset MNIST\n",
      "    Number of datapoints: 60000\n",
      "    Root location: ./MNIST_data\n",
      "    Split: Train\n",
      "    StandardTransform\n",
      "Transform: ToTensor()\n",
      "Dataset MNIST\n",
      "    Number of datapoints: 10000\n",
      "    Root location: ./MNIST_data\n",
      "    Split: Test\n",
      "    StandardTransform\n",
      "Transform: ToTensor()\n"
     ]
    }
   ],
   "source": [
    "print(mnist_train)\n",
    "print(mnist_test)"
   ]
  },
  {
   "cell_type": "code",
   "execution_count": 4,
   "id": "d25e3a7c",
   "metadata": {},
   "outputs": [
    {
     "name": "stdout",
     "output_type": "stream",
     "text": [
      "5\n"
     ]
    },
    {
     "data": {
      "image/png": "[encoded data removed]",
      "text/plain": [
       "<Figure size 640x480 with 1 Axes>"
      ]
     },
     "metadata": {},
     "output_type": "display_data"
    }
   ],
   "source": [
    "# sample\n",
    "img, label = mnist_train[0]\n",
    "plt.imshow(img[0,:,:],cmap='gray')\n",
    "print(label)"
   ]
  },
  {
   "cell_type": "code",
   "execution_count": 5,
   "id": "3ddbf322",
   "metadata": {},
   "outputs": [],
   "source": [
    "# 상대적으로 쉬운 문제이므로 valid_dataset은 따로 상정X\n",
    "train_loader = torch.utils.data.DataLoader(mnist_train,batch_size=32,shuffle=True,drop_last=False)\n",
    "test_loader = torch.utils.data.DataLoader(mnist_test,batch_size=32,shuffle=False,drop_last=False)"
   ]
  },
  {
   "cell_type": "code",
   "execution_count": 6,
   "id": "541a30cc",
   "metadata": {},
   "outputs": [],
   "source": [
    "# Neural network 모델만들기\n",
    "class MNIST_full(nn.Module):\n",
    "    def __init__(self):\n",
    "        super(MNIST_full,self).__init__()\n",
    "        self.lin1 = nn.Linear(784,256)\n",
    "        self.lin2 = nn.Linear(256,128)\n",
    "        self.lin3 = nn.Linear(128,10)\n",
    "\n",
    "    def forward(self,x):\n",
    "        x = x.view(-1,784)\n",
    "        x = F.relu(self.lin1(x))\n",
    "        x = F.relu(self.lin2(x))\n",
    "        x = F.softmax(self.lin3(x),dim=1)\n",
    "        return x"
   ]
  },
  {
   "cell_type": "code",
   "execution_count": 7,
   "id": "f64c01ab",
   "metadata": {},
   "outputs": [],
   "source": [
    "model = MNIST_full()\n",
    "optimizer = optim.Adam(model.parameters(),lr=0.001)"
   ]
  },
  {
   "cell_type": "code",
   "execution_count": 8,
   "id": "8b642437",
   "metadata": {},
   "outputs": [],
   "source": [
    "criterion = nn.CrossEntropyLoss()"
   ]
  },
  {
   "cell_type": "code",
   "execution_count": 9,
   "id": "484513c0",
   "metadata": {},
   "outputs": [
    {
     "name": "stdout",
     "output_type": "stream",
     "text": [
      "Epoch: 1\n",
      " Iteration:0  Train loss 2.304\n",
      " Iteration:300  Train loss 1.713\n",
      " Iteration:600  Train loss 1.641\n",
      " Iteration:900  Train loss 1.611\n",
      " Iteration:1200  Train loss 1.593\n",
      " Iteration:1500  Train loss 1.580\n",
      " Iteration:1800  Train loss 1.571\n",
      "Epoch: 2\n",
      " Iteration:0  Train loss 1.525\n",
      " Iteration:300  Train loss 1.520\n",
      " Iteration:600  Train loss 1.519\n",
      " Iteration:900  Train loss 1.518\n",
      " Iteration:1200  Train loss 1.515\n",
      " Iteration:1500  Train loss 1.514\n",
      " Iteration:1800  Train loss 1.513\n",
      "Epoch: 3\n",
      " Iteration:0  Train loss 1.509\n",
      " Iteration:300  Train loss 1.506\n",
      " Iteration:600  Train loss 1.502\n",
      " Iteration:900  Train loss 1.502\n",
      " Iteration:1200  Train loss 1.502\n",
      " Iteration:1500  Train loss 1.502\n",
      " Iteration:1800  Train loss 1.501\n"
     ]
    }
   ],
   "source": [
    "for epoch in range(3):\n",
    "    print(f'Epoch: {epoch+1}')  \n",
    "    loss_buffer = []\n",
    "    for idx,(x,y) in enumerate(train_loader):\n",
    "        optimizer.zero_grad()    \n",
    "        \n",
    "        y_onehot = torch.zeros((y.shape[0],10))\n",
    "        y_onehot[range(y.shape[0]),y]=1\n",
    "\n",
    "        y_infer = model(x)\n",
    "        loss = criterion(y_infer,y)\n",
    "        loss.backward()\n",
    "        optimizer.step()\n",
    "        loss_buffer.append(loss.item())\n",
    "        \n",
    "        if idx % 300 == 0:\n",
    "            print(f' Iteration:{idx}  Train loss {np.mean(loss_buffer):.3f}')"
   ]
  },
  {
   "cell_type": "code",
   "execution_count": 10,
   "id": "82ce5e8d",
   "metadata": {},
   "outputs": [
    {
     "name": "stdout",
     "output_type": "stream",
     "text": [
      "Test loss 1.500322, Accuracy: 96.086264%\n"
     ]
    }
   ],
   "source": [
    "# Test 단계\n",
    "loss_buffer, acc = [], []\n",
    "for x,y in test_loader:\n",
    "    # one_hot encoding\n",
    "    y_onehot = torch.zeros((len(y),10))\n",
    "    y_onehot[range(len(y)),y]=1\n",
    "    y_infer = model(x)\n",
    "\n",
    "    loss = criterion(y_infer,y)\n",
    "    loss_buffer.append(loss.item())\n",
    "    correct_prediction = torch.argmax(y_infer, 1) == y\n",
    "    acc.append(correct_prediction.float().mean())\n",
    "    \n",
    "print(f'Test loss {np.mean(loss_buffer):f}, Accuracy: {np.mean(acc)*100:f}%')"
   ]
  },
  {
   "cell_type": "code",
   "execution_count": 11,
   "id": "d67deb94",
   "metadata": {},
   "outputs": [
    {
     "name": "stdout",
     "output_type": "stream",
     "text": [
      "실제 이미지의 숫자 6\n",
      "예측 이미지의 숫자 tensor([6])\n"
     ]
    },
    {
     "data": {
      "image/png": "[encoded data removed]",
      "text/plain": [
       "<Figure size 640x480 with 1 Axes>"
      ]
     },
     "metadata": {},
     "output_type": "display_data"
    }
   ],
   "source": [
    "# 실물샘플\n",
    "img,label=random.choice(mnist_test)\n",
    "plt.imshow(img[0,:,:],cmap='gray')\n",
    "y_infer = model(img)\n",
    "print(f'실제 이미지의 숫자 {label}')\n",
    "print(f'예측 이미지의 숫자 {torch.argmax(y_infer,1)}')"
   ]
  },
  {
   "cell_type": "code",
   "execution_count": null,
   "id": "46842850",
   "metadata": {},
   "outputs": [],
   "source": []
  }
 ],
 "metadata": {
  "kernelspec": {
   "display_name": "RL_scratch",
   "language": "python",
   "name": "python3"
  },
  "language_info": {
   "codemirror_mode": {
    "name": "ipython",
    "version": 3
   },
   "file_extension": ".py",
   "mimetype": "text/x-python",
   "name": "python",
   "nbconvert_exporter": "python",
   "pygments_lexer": "ipython3",
   "version": "3.8.13"
  },
  "vscode": {
   "interpreter": {
    "hash": "b6fc799c1f2037c8200a37e43fee9b5831f26e5d5cc70738e41a6ad0e54e0e5b"
   }
  }
 },
 "nbformat": 4,
 "nbformat_minor": 5
}
