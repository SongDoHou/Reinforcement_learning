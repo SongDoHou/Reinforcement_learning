{
 "cells": [
  {
   "cell_type": "code",
   "execution_count": 1,
   "metadata": {},
   "outputs": [],
   "source": [
    "# 코드 출처: http://inventwithpython.com/chapter10.html\n",
    "# -> 그대로 사용하지는 않고 gym과 같이 변형해서 사용\n",
    "\n",
    "# Tic Tac Toe\n",
    "import os\n",
    "import random\n",
    "def drawBoard(board):\n",
    "    # This function prints out the board that it was passed.\n",
    "    # \"board\" is a list of 10 strings representing the board (ignore index 0)\n",
    "    print('   |   |')\n",
    "    print(' ' + board[7] + ' | ' + board[8] + ' | ' + board[9])\n",
    "    print('   |   |')\n",
    "    print('-----------')\n",
    "    print('   |   |')\n",
    "    print(' ' + board[4] + ' | ' + board[5] + ' | ' + board[6])\n",
    "    print('   |   |')\n",
    "    print('-----------')\n",
    "    print('   |   |')\n",
    "    print(' ' + board[1] + ' | ' + board[2] + ' | ' + board[3])\n",
    "    print('   |   |')\n",
    "\n",
    "def inputPlayerLetter():\n",
    "    # Lets the player type which letter they want to be.\n",
    "    # Returns a list with the player’s letter as the first item, and the computer's letter as the second.\n",
    "    letter = ''\n",
    "    while not (letter == 'X' or letter == 'O'):\n",
    "        print('Do you want to be X or O?')\n",
    "        letter = input().upper()\n",
    "\n",
    "    # the first element in the list is the player’s letter, the second is the computer's letter.\n",
    "    if letter == 'X':\n",
    "        return ['X', 'O']\n",
    "    else:\n",
    "        return ['O', 'X']\n",
    "\n",
    "def whoGoesFirst():\n",
    "    # Randomly choose the player who goes first.\n",
    "    if random.randint(0, 1) == 0:\n",
    "        return 'computer'\n",
    "    else:\n",
    "        return 'player'\n",
    "    \n",
    "def playAgain():\n",
    "    # This function returns True if the player wants to play again, otherwise it returns False.\n",
    "    print('Do you want to play again? (yes or no)')\n",
    "    return input().lower().startswith('y')\n",
    "\n",
    "def makeMove(board, letter, move):\n",
    "    board[move] = letter\n",
    "    return board\n",
    "\n",
    "def isWinner(bo, le):\n",
    "    # Given a board and a player’s letter, this function returns True if that player has won.\n",
    "    # We use bo instead of board and le instead of letter so we don’t have to type as much.\n",
    "    return ((bo[7] == le and bo[8] == le and bo[9] == le) or # across the top\n",
    "    (bo[4] == le and bo[5] == le and bo[6] == le) or # across the middle\n",
    "    (bo[1] == le and bo[2] == le and bo[3] == le) or # across the bottom\n",
    "    (bo[7] == le and bo[4] == le and bo[1] == le) or # down the left side\n",
    "    (bo[8] == le and bo[5] == le and bo[2] == le) or # down the middle\n",
    "    (bo[9] == le and bo[6] == le and bo[3] == le) or # down the right side\n",
    "    (bo[7] == le and bo[5] == le and bo[3] == le) or # diagonal\n",
    "    (bo[9] == le and bo[5] == le and bo[1] == le)) # diagonal\n",
    "\n",
    "def getBoardCopy(board):\n",
    "    # Make a duplicate of the board list and return it the duplicate.\n",
    "    dupeBoard = []\n",
    "    for i in board:\n",
    "        dupeBoard.append(i)\n",
    "    return dupeBoard\n",
    "\n",
    "def isSpaceFree(board, move):\n",
    "    # Return true if the passed move is free on the passed board.\n",
    "    return board[move] == ' '\n",
    "\n",
    "def getPlayerMove(board):\n",
    "    # Let the player type in their move.\n",
    "    move = ' '\n",
    "    while move not in '1 2 3 4 5 6 7 8 9'.split() or not isSpaceFree(board, int(move)):\n",
    "        print('What is your next move? (1-9)')\n",
    "        move = input()\n",
    "    return int(move)\n",
    "\n",
    "def chooseRandomMoveFromList(board, movesList):\n",
    "    # Returns a valid move from the passed list on the passed board.\n",
    "    # Returns None if there is no valid move.\n",
    "    possibleMoves = []\n",
    "    for i in movesList:\n",
    "        if isSpaceFree(board, i):\n",
    "            possibleMoves.append(i)\n",
    "\n",
    "    if len(possibleMoves) != 0:\n",
    "        return random.choice(possibleMoves)\n",
    "    else:\n",
    "        return None\n",
    "\n",
    "def getComputerMove(board, computerLetter):\n",
    "    # Given a board and the computer's letter, determine where to move and return that move.\n",
    "    if computerLetter == 'X':\n",
    "        playerLetter = 'O'\n",
    "    else:\n",
    "        playerLetter = 'X'\n",
    "\n",
    "    # Here is our algorithm for our Tic Tac Toe AI:\n",
    "    # First, check if we can win in the next move\n",
    "    for i in range(1, 10):\n",
    "        copy = getBoardCopy(board)\n",
    "        if isSpaceFree(copy, i):\n",
    "            makeMove(copy, computerLetter, i)\n",
    "            if isWinner(copy, computerLetter):\n",
    "                return i\n",
    "\n",
    "    # Check if the player could win on their next move, and block them.\n",
    "    for i in range(1, 10):\n",
    "        copy = getBoardCopy(board)\n",
    "        if isSpaceFree(copy, i):\n",
    "            makeMove(copy, playerLetter, i)\n",
    "            if isWinner(copy, playerLetter):\n",
    "                return i\n",
    "\n",
    "    # Try to take one of the corners, if they are free.\n",
    "    move = chooseRandomMoveFromList(board, [1, 3, 7, 9])\n",
    "    if move != None:\n",
    "        return move\n",
    "\n",
    "    # Try to take the center, if it is free.\n",
    "    if isSpaceFree(board, 5):\n",
    "        return 5\n",
    "    # Move on one of the sides.\n",
    "    return chooseRandomMoveFromList(board, [2, 4, 6, 8])\n",
    "\n",
    "def isBoardFull(board):\n",
    "    # Return True if every space on the board has been taken. Otherwise return False.\n",
    "    for i in range(1, 10):\n",
    "        if isSpaceFree(board, i):\n",
    "            return False\n",
    "    return True"
   ]
  },
  {
   "cell_type": "code",
   "execution_count": 2,
   "metadata": {},
   "outputs": [
    {
     "ename": "IndentationError",
     "evalue": "expected an indented block (1588309007.py, line 21)",
     "output_type": "error",
     "traceback": [
      "\u001b[0;36m  Cell \u001b[0;32mIn [2], line 21\u001b[0;36m\u001b[0m\n\u001b[0;31m    def reset(self):\u001b[0m\n\u001b[0m    ^\u001b[0m\n\u001b[0;31mIndentationError\u001b[0m\u001b[0;31m:\u001b[0m expected an indented block\n"
     ]
    }
   ],
   "source": [
    "class TicTacToe():\n",
    "    reward = 0\n",
    "    is_done = False\n",
    "    Observation = [' ']*10\n",
    "    info = {\n",
    "        'Round':0,\n",
    "        'Player':'X',\n",
    "        'Winner':None\n",
    "    }\n",
    "    def __init__(self):\n",
    "        #self.reward = 0\n",
    "        #self.is_done = False\n",
    "        #self.Observation = [' ']*10\n",
    "        #self.info = {\n",
    "        #    'Round':0,\n",
    "        #    'Player':'X',\n",
    "        #    'Winner':None\n",
    "        #}\n",
    "            \n",
    "        \n",
    "    def reset(self):\n",
    "        self.reward = 0\n",
    "        #self.\n",
    "        self.Observation = [' ']*10\n",
    "        self.info['Round'] = 0\n",
    "        self.info['Player'] = 'X'\n",
    "        self.info['Winner'] = None\n",
    "        return self.Observation\n",
    "    \n",
    "    def render(self):\n",
    "        os.system('cls')\n",
    "        drawBoard(self.Observation)\n",
    "\n",
    "    def step(self,action):\n",
    "        if self.is_done:\n",
    "            raise ValueError(\"Environment finished! Use .reset() option if you want to resume game\")\n",
    "            return self.Observation, self.reward, self.is_done, self.info\n",
    "        # First agent move and victory check\n",
    "        possible_actions = self.valid_action()\n",
    "        if action not in possible_actions:\n",
    "            raise ValueError('Your action is not valid!')\n",
    "            return self.Observation, self.reward, self.is_done, self.info\n",
    "        self.info['Round'] += 1\n",
    "        self.info['Player'] = 'X'\n",
    "        self.NextObservation = makeMove(self.Observation,'x',action)\n",
    "        if isWinner(self.NextObservation,'x'):\n",
    "            self.reward = 1\n",
    "            self.info['Winner'] = 'X'\n",
    "            self.is_done=True\n",
    "        else:\n",
    "            if isBoardFull(self.NextObservation):\n",
    "                self.reward = 0\n",
    "                self.info['Winner'] = None\n",
    "                self.is_done=True\n",
    "            else:\n",
    "                # Second agent(computer) move and victory check\n",
    "                self.info['Round'] += 1\n",
    "                self.info['Player'] = 'O'\n",
    "                self.Observation = self.NextObservation\n",
    "                move = getComputerMove(self.Observation, 'O') # code base moving\n",
    "                self.NextObservation = makeMove(self.Observation,'O',move)\n",
    "                if isWinner(self.NextObservation,'O'):\n",
    "                    self.reward = -1\n",
    "                    self.info['Winner'] = 'O'\n",
    "                    self.is_done=True\n",
    "                else:\n",
    "                    if isBoardFull(self.NextObservation):\n",
    "                        self.reward = 0\n",
    "                        self.info['Winner'] = None\n",
    "                        self.is_done=True\n",
    "        self.Observation = self.NextObservation\n",
    "        return self.Observation, self.reward, self.is_done, self.info\n",
    "                \n",
    "    def valid_action(self):\n",
    "        # Let agent Knows which action is valid in current tic-tac-toe observation\n",
    "        possibleMoves = []\n",
    "        for i in range(1,10):\n",
    "            if isSpaceFree(self.Observation, i):\n",
    "                possibleMoves.append(i)\n",
    "        return possibleMoves"
   ]
  },
  {
   "cell_type": "code",
   "execution_count": null,
   "metadata": {},
   "outputs": [],
   "source": [
    "env = TicTacToe()\n",
    "actions = env.valid_action()\n",
    "print(actions)"
   ]
  },
  {
   "cell_type": "code",
   "execution_count": null,
   "metadata": {},
   "outputs": [],
   "source": [
    "next_obs,reward, done, info = env.step(1)"
   ]
  },
  {
   "cell_type": "code",
   "execution_count": null,
   "metadata": {},
   "outputs": [],
   "source": [
    "env.render()"
   ]
  },
  {
   "cell_type": "code",
   "execution_count": null,
   "metadata": {},
   "outputs": [],
   "source": [
    "reward"
   ]
  },
  {
   "cell_type": "code",
   "execution_count": null,
   "metadata": {},
   "outputs": [],
   "source": [
    "info"
   ]
  },
  {
   "cell_type": "code",
   "execution_count": null,
   "metadata": {},
   "outputs": [],
   "source": [
    "env.valid_action()"
   ]
  },
  {
   "cell_type": "code",
   "execution_count": null,
   "metadata": {},
   "outputs": [],
   "source": [
    "env.step(5)"
   ]
  },
  {
   "cell_type": "code",
   "execution_count": null,
   "metadata": {},
   "outputs": [],
   "source": [
    "env.render()"
   ]
  },
  {
   "cell_type": "code",
   "execution_count": null,
   "metadata": {},
   "outputs": [],
   "source": [
    "env.valid_action()"
   ]
  },
  {
   "cell_type": "code",
   "execution_count": null,
   "metadata": {},
   "outputs": [],
   "source": [
    "env.step(8)\n",
    "env.render()"
   ]
  },
  {
   "cell_type": "code",
   "execution_count": null,
   "metadata": {},
   "outputs": [],
   "source": [
    "env.valid_action()"
   ]
  },
  {
   "cell_type": "code",
   "execution_count": null,
   "metadata": {},
   "outputs": [],
   "source": [
    "env.render()"
   ]
  },
  {
   "cell_type": "code",
   "execution_count": null,
   "metadata": {},
   "outputs": [],
   "source": [
    "env.info"
   ]
  },
  {
   "cell_type": "code",
   "execution_count": null,
   "metadata": {},
   "outputs": [],
   "source": [
    "env.reward"
   ]
  },
  {
   "cell_type": "code",
   "execution_count": null,
   "metadata": {},
   "outputs": [],
   "source": [
    "env.step(2)\n",
    "env.render()"
   ]
  },
  {
   "cell_type": "code",
   "execution_count": null,
   "metadata": {},
   "outputs": [],
   "source": [
    "env.info"
   ]
  },
  {
   "cell_type": "code",
   "execution_count": null,
   "metadata": {},
   "outputs": [],
   "source": [
    "env.valid_action()\n",
    "env.step(4)\n",
    "env.render()"
   ]
  },
  {
   "cell_type": "code",
   "execution_count": null,
   "metadata": {},
   "outputs": [],
   "source": [
    "env.info"
   ]
  },
  {
   "cell_type": "code",
   "execution_count": null,
   "metadata": {},
   "outputs": [],
   "source": [
    "env.reward"
   ]
  },
  {
   "cell_type": "code",
   "execution_count": null,
   "metadata": {},
   "outputs": [],
   "source": [
    "env.reset()\n",
    "env.info"
   ]
  },
  {
   "cell_type": "code",
   "execution_count": null,
   "metadata": {},
   "outputs": [],
   "source": []
  },
  {
   "cell_type": "code",
   "execution_count": null,
   "metadata": {},
   "outputs": [],
   "source": [
    "#print('Welcome to Tic Tac Toe!')\n",
    "while True:\n",
    "    # Reset the board\n",
    "    #theBoard = [' '] * 10\n",
    "    Observation = [' ']*10\n",
    "    playerLetter, computerLetter = inputPlayerLetter()\n",
    "    turn = whoGoesFirst()\n",
    "    #print('The ' + turn + ' will go first.')\n",
    "    #gameIsPlaying = True\n",
    "    is_done=False\n",
    "\n",
    "    #while gameIsPlaying:\n",
    "    while is_done != True:\n",
    "        if turn == 'player':\n",
    "            # Player’s turn.\n",
    "            drawBoard(Observation)\n",
    "            move = getPlayerMove(Observation)\n",
    "            NextObservation = makeMove(Observation, playerLetter, move)\n",
    "\n",
    "            #if isWinner(theBoard, playerLetter):\n",
    "            if isWinner(Observation, playerLetter):\n",
    "                #drawBoard(theBoard)\n",
    "                drawBoard(Observation)\n",
    "                #print('Hooray! You have won the game!')\n",
    "                #gameIsPlaying = False\n",
    "                reward = 1\n",
    "                is_done=True\n",
    "            else:\n",
    "                #if isBoardFull(theBoard):\n",
    "                if isBoardFull(Observation):\n",
    "                    #drawBoard(theBoard)\n",
    "                    drawBoard(Observation)\n",
    "                    #print('The game is a tie!')\n",
    "                    #break\n",
    "                    reward = 0\n",
    "                    is_done=True\n",
    "                else:\n",
    "                    reward = 0\n",
    "                    turn = 'computer'\n",
    "        else:\n",
    "            # Computer’s turn.\n",
    "            #move = getComputerMove(theBoard, computerLetter)\n",
    "            move = getComputerMove(Observation, computerLetter)\n",
    "            #makeMove(theBoard, computerLetter, move)\n",
    "            NextObservation = makeMove(Observation, computerLetter, move)\n",
    "\n",
    "            #if isWinner(theBoard, computerLetter):\n",
    "            if isWinner(Observation, computerLetter):\n",
    "                #drawBoard(theBoard)\n",
    "                drawBoard(Observation)\n",
    "                #print('The computer has beaten you! You lose.')\n",
    "                #gameIsPlaying = False\n",
    "                reward = -1\n",
    "                is_done=True\n",
    "            else:\n",
    "                #if isBoardFull(theBoard):\n",
    "                if isBoardFull(Observation):\n",
    "                    #drawBoard(theBoard)\n",
    "                    drawBoard(Observation)\n",
    "                    #print('The game is a tie!')\n",
    "                    #break\n",
    "                    reward = 0\n",
    "                    is_done=True\n",
    "                else:\n",
    "                    turn = 'player'\n",
    "        Observation = NextObservation\n",
    "    if not playAgain():\n",
    "        break"
   ]
  },
  {
   "cell_type": "code",
   "execution_count": null,
   "metadata": {},
   "outputs": [],
   "source": [
    "a = set()\n",
    "a.add(None)\n",
    "a"
   ]
  },
  {
   "cell_type": "code",
   "execution_count": null,
   "metadata": {},
   "outputs": [],
   "source": [
    "a = set()\n",
    "a"
   ]
  },
  {
   "cell_type": "code",
   "execution_count": null,
   "metadata": {},
   "outputs": [],
   "source": [
    "env = TicTacToe()\n",
    "env"
   ]
  },
  {
   "cell_type": "code",
   "execution_count": null,
   "metadata": {},
   "outputs": [],
   "source": []
  }
 ],
 "metadata": {
  "kernelspec": {
   "display_name": "Python 3 (ipykernel)",
   "language": "python",
   "name": "python3"
  },
  "language_info": {
   "codemirror_mode": {
    "name": "ipython",
    "version": 3
   },
   "file_extension": ".py",
   "mimetype": "text/x-python",
   "name": "python",
   "nbconvert_exporter": "python",
   "pygments_lexer": "ipython3",
   "version": "3.8.15"
  }
 },
 "nbformat": 4,
 "nbformat_minor": 2
}
