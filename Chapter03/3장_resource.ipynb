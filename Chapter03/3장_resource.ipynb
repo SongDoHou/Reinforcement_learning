{
 "cells": [
  {
   "cell_type": "code",
   "execution_count": 1,
   "id": "bd0a3bae",
   "metadata": {},
   "outputs": [],
   "source": [
    "import time\n",
    "import numpy as np"
   ]
  },
  {
   "cell_type": "code",
   "execution_count": 2,
   "id": "1178872f",
   "metadata": {},
   "outputs": [],
   "source": [
    "# 1st step fibonacci -> 단순한 재귀함수 호출\n",
    "\n",
    "def fibonacci_1st(n):\n",
    "    if n == 0:\n",
    "        return 0\n",
    "    elif n == 1:\n",
    "        return 1\n",
    "    else:\n",
    "        return fibonacci_1st(n-1)+fibonacci_1st(n-2)"
   ]
  },
  {
   "cell_type": "code",
   "execution_count": 13,
   "id": "1ac4c7b4",
   "metadata": {},
   "outputs": [
    {
     "name": "stdout",
     "output_type": "stream",
     "text": [
      "35번쨰 피보나치 수: 9227465\n",
      "35까지 피보나치 수열 계산에 소요된 시간: 2.6796183586120605sec\n"
     ]
    }
   ],
   "source": [
    "import time\n",
    "start = time.time()\n",
    "result1 = fibonacci_1st(35)\n",
    "finish = time.time()\n",
    "print(f'35번째 피보나치 수: {result1}')\n",
    "print(f'35까지 피보나치 수열 계산에 소요된 시간: {finish-start}sec')"
   ]
  },
  {
   "cell_type": "code",
   "execution_count": 14,
   "id": "af75d001",
   "metadata": {},
   "outputs": [],
   "source": [
    "# 2nd step fibonacci -> 메모이제이션을 통한 동적계획법\n",
    "fib={}\n",
    "fib[0] = 0\n",
    "fib[1] = 1\n",
    "\n",
    "def fibonacci_2nd(n):\n",
    "    global fib\n",
    "    if n in fib.keys():\n",
    "        return fib[n]\n",
    "    else:\n",
    "        fib[n] = fibonacci_2nd(n-1)+fibonacci_2nd(n-2)\n",
    "        return fib[n]"
   ]
  },
  {
   "cell_type": "code",
   "execution_count": 15,
   "id": "d55f27f0",
   "metadata": {},
   "outputs": [
    {
     "name": "stdout",
     "output_type": "stream",
     "text": [
      "35번쨰 피보나치 수: 9227465\n",
      "35까지 피보나치 수열 계산에 소요된 시간: 5.507469177246094e-05sec\n"
     ]
    }
   ],
   "source": [
    "start = time.time()\n",
    "result2 = fibonacci_2nd(35)\n",
    "finish = time.time()\n",
    "print(f'35번째 피보나치 수: {result2}')\n",
    "print(f'35까지 피보나치 수열 계산에 소요된 시간: {finish-start}sec')"
   ]
  },
  {
   "cell_type": "code",
   "execution_count": 17,
   "id": "c8d66622",
   "metadata": {},
   "outputs": [
    {
     "name": "stdout",
     "output_type": "stream",
     "text": [
      "일반 재귀함수/동적프로그래밍 = 48654.25974025974\n"
     ]
    }
   ],
   "source": [
    "ratio = 2.6796183586120605/5.507469177246094e-05\n",
    "print(f'일반 재귀함수/동적프로그래밍 = {ratio}')"
   ]
  },
  {
   "cell_type": "code",
   "execution_count": null,
   "id": "4cabb767",
   "metadata": {},
   "outputs": [],
   "source": []
  }
 ],
 "metadata": {
  "kernelspec": {
   "display_name": "torch_1.8",
   "language": "python",
   "name": "torch_1.8"
  },
  "language_info": {
   "codemirror_mode": {
    "name": "ipython",
    "version": 3
   },
   "file_extension": ".py",
   "mimetype": "text/x-python",
   "name": "python",
   "nbconvert_exporter": "python",
   "pygments_lexer": "ipython3",
   "version": "3.8.10"
  }
 },
 "nbformat": 4,
 "nbformat_minor": 5
}
