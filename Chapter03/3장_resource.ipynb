{
 "cells": [
  {
   "cell_type": "code",
   "execution_count": 1,
   "id": "bd0a3bae",
   "metadata": {},
   "outputs": [],
   "source": [
    "import time\n",
    "import numpy as np"
   ]
  },
  {
   "cell_type": "code",
   "execution_count": 2,
   "id": "1178872f",
   "metadata": {},
   "outputs": [],
   "source": [
    "# 1st step fibonacci -> 단순한 재귀함수 호출\n",
    "\n",
    "def fibonacci_1st(n):\n",
    "    if n == 0:\n",
    "        return 0\n",
    "    elif n == 1:\n",
    "        return 1\n",
    "    else:\n",
    "        return fibonacci_1st(n-1)+fibonacci_1st(n-2)"
   ]
  },
  {
   "cell_type": "code",
   "execution_count": 7,
   "id": "1ac4c7b4",
   "metadata": {},
   "outputs": [
    {
     "name": "stdout",
     "output_type": "stream",
     "text": [
      "40까지 피보나치 수열 계산에 소요된 시간: 29.205358743667603sec\n"
     ]
    }
   ],
   "source": [
    "start = time.time()\n",
    "fibonacci_1st(40)\n",
    "finish = time.time()\n",
    "\n",
    "print(f'40까지 피보나치 수열 계산에 소요된 시간: {finish-start}sec')"
   ]
  },
  {
   "cell_type": "code",
   "execution_count": 14,
   "id": "af75d001",
   "metadata": {},
   "outputs": [],
   "source": [
    "# 2nd step fibonacci -> 메모이제이션을 통한 동적계획법\n",
    "fib={}\n",
    "fib[0] = 0\n",
    "fib[1] = 1\n",
    "\n",
    "def fibonacci_2nd(n):\n",
    "    global fib\n",
    "    if n in fib.keys():\n",
    "        return fib[n]\n",
    "    else:\n",
    "        fib[n] = fibonacci_2nd(n-1)+fibonacci_2nd(n-2)\n",
    "        return fib[n]"
   ]
  },
  {
   "cell_type": "code",
   "execution_count": 15,
   "id": "d55f27f0",
   "metadata": {},
   "outputs": [
    {
     "name": "stdout",
     "output_type": "stream",
     "text": [
      "40까지 피보나치 수열 계산에 소요된 시간: 0.0001838207244873047sec\n"
     ]
    }
   ],
   "source": [
    "start = time.time()\n",
    "fibonacci_2nd(40)\n",
    "finish = time.time()\n",
    "\n",
    "print(f'40까지 피보나치 수열 계산에 소요된 시간: {finish-start}sec')"
   ]
  },
  {
   "cell_type": "code",
   "execution_count": null,
   "id": "c8d66622",
   "metadata": {},
   "outputs": [],
   "source": []
  }
 ],
 "metadata": {
  "kernelspec": {
   "display_name": "torch_1.8",
   "language": "python",
   "name": "torch_1.8"
  },
  "language_info": {
   "codemirror_mode": {
    "name": "ipython",
    "version": 3
   },
   "file_extension": ".py",
   "mimetype": "text/x-python",
   "name": "python",
   "nbconvert_exporter": "python",
   "pygments_lexer": "ipython3",
   "version": "3.8.10"
  }
 },
 "nbformat": 4,
 "nbformat_minor": 5
}
