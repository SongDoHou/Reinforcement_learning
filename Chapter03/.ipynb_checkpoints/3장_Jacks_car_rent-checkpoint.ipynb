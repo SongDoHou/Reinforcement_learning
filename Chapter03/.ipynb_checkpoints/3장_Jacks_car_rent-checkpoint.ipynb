{
 "cells": [
  {
   "cell_type": "code",
   "execution_count": 2,
   "id": "903d2104",
   "metadata": {},
   "outputs": [],
   "source": [
    "import numpy as np\n",
    "import matplotlib.pyplot as plt"
   ]
  },
  {
   "cell_type": "code",
   "execution_count": 3,
   "id": "d64e98f7",
   "metadata": {},
   "outputs": [
    {
     "data": {
      "text/plain": [
       "array([-5, -4, -3, -2, -1,  0,  1,  2,  3,  4,  5])"
      ]
     },
     "execution_count": 3,
     "metadata": {},
     "output_type": "execute_result"
    }
   ],
   "source": [
    "# +수치는 유입, -수치는 유출을 의미\n",
    "# +1은 마지막 숫자 5를 생략하면 안됩니다. 주의하세요\n",
    "actions = np.arange(-5,5+1) \n",
    "actions"
   ]
  },
  {
   "cell_type": "code",
   "execution_count": 4,
   "id": "4e1c26ef",
   "metadata": {},
   "outputs": [],
   "source": [
    "# 상태를 정의하겠습니다. \n",
    "# 직영점 하나에 대해 0을 포함한 최대 주차대수는 20대 -> 21가지\n",
    "states = []\n",
    "for i in range(20+1):\n",
    "    for j in range(20+1):\n",
    "        states.append([i,j])"
   ]
  },
  {
   "cell_type": "code",
   "execution_count": 5,
   "id": "f4dd9bba",
   "metadata": {},
   "outputs": [],
   "source": [
    "# 가치함수, 업데이트 용 가치함수\n",
    "value = np.zeros((20+1, 20+1))\n",
    "new_value = np.zeros((20+1,20+1))"
   ]
  },
  {
   "cell_type": "code",
   "execution_count": 6,
   "id": "1c80bf92",
   "metadata": {},
   "outputs": [
    {
     "data": {
      "text/plain": [
       "(21, 21)"
      ]
     },
     "execution_count": 6,
     "metadata": {},
     "output_type": "execute_result"
    }
   ],
   "source": [
    "value.shape"
   ]
  },
  {
   "cell_type": "code",
   "execution_count": 7,
   "id": "36fc50d2",
   "metadata": {},
   "outputs": [],
   "source": [
    "# 정책 정의 -> 21*21 행렬\n",
    "policy = np.zeros((20+1, 20+1))\n",
    "new_policy = np.zeros((20+1,20+1))"
   ]
  },
  {
   "cell_type": "code",
   "execution_count": 8,
   "id": "f0da9fc5",
   "metadata": {},
   "outputs": [],
   "source": [
    "# 포아송 분포 -> 메모이제이션\n",
    "p_dict = {}\n",
    "\n",
    "def poisson_distribution(x,lamb):\n",
    "    global p_dict\n",
    "    key = (x,lamb)\n",
    "    if key not in p_dict.keys():\n",
    "        p_dict[key] = lamb**x*np.exp(-lamb)/np.math.factorial(x)\n",
    "    return p_dict[key]"
   ]
  },
  {
   "cell_type": "code",
   "execution_count": 11,
   "id": "87bc29fd",
   "metadata": {},
   "outputs": [
    {
     "data": {
      "text/plain": [
       "5.5237580418282494e-05"
      ]
     },
     "execution_count": 11,
     "metadata": {},
     "output_type": "execute_result"
    }
   ],
   "source": [
    "poisson_distribution(12,3)"
   ]
  },
  {
   "cell_type": "code",
   "execution_count": 13,
   "id": "97d55915",
   "metadata": {},
   "outputs": [],
   "source": [
    "# 고객들이 실질적으로 대여할 차량의 수 11대, 12대 빌릴 확률은 5.524e-05\n",
    "poisson_upper_bound = 11"
   ]
  },
  {
   "cell_type": "code",
   "execution_count": 14,
   "id": "aa1b4c67",
   "metadata": {},
   "outputs": [],
   "source": [
    "def Caculate_nextV_function(state,action,state_value,gamma=0.9):\n",
    "    '''\n",
    "    입력인자\n",
    "        state: A직영점, B직영점 각각의 차량대수, 리스트, [i,j] 0~20사이의 정수\n",
    "        action: A -> B으로의 움직일 차량대수, 스칼라, -5~5사이의 정수\n",
    "        state_value: 현재 계산된 가치함수, 21*21의 행렬\n",
    "    출력인자\n",
    "        returns: 기대 가치함수, 스칼라 \n",
    "        R+gamma*sum(P_{ss'}^{action}*V(s'))\n",
    "    '''\n",
    "    # 이동대수에 대한 패널티\n",
    "    returns = -2*np.abs(action)\n",
    "    \n",
    "    # 현재상태 - 이동함으로써 변화하는 차량대수\n",
    "    A_cars = int(min(state[0]-action,20))\n",
    "    B_cars = int(min(state[1]+action,20))\n",
    "    \n",
    "    for rentA in range(poisson_upper_bound):\n",
    "        for rentB in range(poisson_upper_bound):\n",
    "            # 대여 확률 = A직영점 대여확률 x B직영점 대여확률 (독립사건)\n",
    "            rent_prob = poisson_distribution(rentA,3)*poisson_distribution(rentB,3)\n",
    "            \n",
    "            # 직영점간 최종 차량 대여 수 및 보상(대여할수 있는 차량은 가지고 있는 차량까지!)\n",
    "            Alot_rent_fin = min(A_cars,rentA)\n",
    "            Blot_rent_fin = min(B_cars,rentB)\n",
    "            reward = (Alot_rent_fin+Blot_rent_fin)*10\n",
    "            \n",
    "            for returnA in range(poisson_upper_bound):\n",
    "                for returnB in range(poisson_upper_bound):\n",
    "                    # 반납 확률 = A직영점 반납확률 x B직영점 반납확률 (독립사건)\n",
    "                    return_prob = poisson_distribution(returnA,3)*poisson_distribution(returnB,2)\n",
    "                    \n",
    "                    # 다음상태 - 대여(-), 반납(+)\n",
    "                    #next_A_cars = int(min(A_cars-Alot_rent_fin+returnA,20))\n",
    "                    #next_B_cars = int(min(B_cars-Blot_rent_fin+returnB,20))\n",
    "                    next_A_cars = int(min(state[0]-Alot_rent_fin+returnA,20))\n",
    "                    next_B_cars = int(min(state[1]-Blot_rent_fin+returnB,20))\n",
    "\n",
    "                    #최종 확률 = 대여확률 x 반납확률 (독립사건)\n",
    "                    total_prob = rent_prob*return_prob\n",
    "                    \n",
    "                    # 기대 가치함수 \n",
    "                    returns += total_prob*(reward+gamma*state_value[next_A_cars,next_B_cars])\n",
    "    return returns"
   ]
  },
  {
   "cell_type": "code",
   "execution_count": 15,
   "id": "985d9617",
   "metadata": {},
   "outputs": [],
   "source": [
    "iter_policy = []\n",
    "iter_value = []\n",
    "iter_policy.append(policy)\n",
    "iter_value.append(value)"
   ]
  },
  {
   "cell_type": "code",
   "execution_count": 13,
   "id": "3b320ad4",
   "metadata": {},
   "outputs": [
    {
     "name": "stdout",
     "output_type": "stream",
     "text": [
      "반복회차: 1\n",
      "반복회차: 2\n",
      "반복회차: 3\n",
      "반복회차: 4\n"
     ]
    },
    {
     "ename": "KeyboardInterrupt",
     "evalue": "",
     "output_type": "error",
     "traceback": [
      "\u001b[0;31m---------------------------------------------------------------------------\u001b[0m",
      "\u001b[0;31mKeyboardInterrupt\u001b[0m                         Traceback (most recent call last)",
      "\u001b[0;32m/tmp/ipykernel_72692/3070052877.py\u001b[0m in \u001b[0;36m<module>\u001b[0;34m\u001b[0m\n\u001b[1;32m      7\u001b[0m         \u001b[0;32mfor\u001b[0m \u001b[0maction\u001b[0m \u001b[0;32min\u001b[0m \u001b[0mactions\u001b[0m\u001b[0;34m:\u001b[0m\u001b[0;34m\u001b[0m\u001b[0;34m\u001b[0m\u001b[0m\n\u001b[1;32m      8\u001b[0m             \u001b[0;31m#new_value[i,j] = Calculate_nextV_function([i,j],action,value)\u001b[0m\u001b[0;34m\u001b[0m\u001b[0;34m\u001b[0m\u001b[0;34m\u001b[0m\u001b[0m\n\u001b[0;32m----> 9\u001b[0;31m             \u001b[0maction_buffer\u001b[0m\u001b[0;34m.\u001b[0m\u001b[0mappend\u001b[0m\u001b[0;34m(\u001b[0m\u001b[0mCaculate_nextV_function\u001b[0m\u001b[0;34m(\u001b[0m\u001b[0;34m[\u001b[0m\u001b[0mi\u001b[0m\u001b[0;34m,\u001b[0m\u001b[0mj\u001b[0m\u001b[0;34m]\u001b[0m\u001b[0;34m,\u001b[0m\u001b[0maction\u001b[0m\u001b[0;34m,\u001b[0m\u001b[0mvalue\u001b[0m\u001b[0;34m)\u001b[0m\u001b[0;34m)\u001b[0m\u001b[0;34m\u001b[0m\u001b[0;34m\u001b[0m\u001b[0m\n\u001b[0m\u001b[1;32m     10\u001b[0m         \u001b[0mact_idx\u001b[0m \u001b[0;34m=\u001b[0m \u001b[0mnp\u001b[0m\u001b[0;34m.\u001b[0m\u001b[0margmax\u001b[0m\u001b[0;34m(\u001b[0m\u001b[0maction_buffer\u001b[0m\u001b[0;34m)\u001b[0m\u001b[0;34m\u001b[0m\u001b[0;34m\u001b[0m\u001b[0m\n\u001b[1;32m     11\u001b[0m         \u001b[0mpolicy\u001b[0m\u001b[0;34m[\u001b[0m\u001b[0mi\u001b[0m\u001b[0;34m,\u001b[0m\u001b[0mj\u001b[0m\u001b[0;34m]\u001b[0m \u001b[0;34m=\u001b[0m \u001b[0mactions\u001b[0m\u001b[0;34m[\u001b[0m\u001b[0mact_idx\u001b[0m\u001b[0;34m]\u001b[0m\u001b[0;34m\u001b[0m\u001b[0;34m\u001b[0m\u001b[0m\n",
      "\u001b[0;32m/tmp/ipykernel_72692/35215944.py\u001b[0m in \u001b[0;36mCaculate_nextV_function\u001b[0;34m(state, action, state_value, gamma)\u001b[0m\n\u001b[1;32m     45\u001b[0m \u001b[0;34m\u001b[0m\u001b[0m\n\u001b[1;32m     46\u001b[0m                     \u001b[0;31m# 기대 가치함수\u001b[0m\u001b[0;34m\u001b[0m\u001b[0;34m\u001b[0m\u001b[0;34m\u001b[0m\u001b[0m\n\u001b[0;32m---> 47\u001b[0;31m                     \u001b[0mreturns\u001b[0m \u001b[0;34m+=\u001b[0m \u001b[0mtotal_prob\u001b[0m\u001b[0;34m*\u001b[0m\u001b[0;34m(\u001b[0m\u001b[0mreward\u001b[0m\u001b[0;34m+\u001b[0m\u001b[0mgamma\u001b[0m\u001b[0;34m*\u001b[0m\u001b[0mstate_value\u001b[0m\u001b[0;34m[\u001b[0m\u001b[0mnext_A_cars\u001b[0m\u001b[0;34m,\u001b[0m\u001b[0mnext_B_cars\u001b[0m\u001b[0;34m]\u001b[0m\u001b[0;34m)\u001b[0m\u001b[0;34m\u001b[0m\u001b[0;34m\u001b[0m\u001b[0m\n\u001b[0m\u001b[1;32m     48\u001b[0m     \u001b[0;32mreturn\u001b[0m \u001b[0mreturns\u001b[0m\u001b[0;34m\u001b[0m\u001b[0;34m\u001b[0m\u001b[0m\n",
      "\u001b[0;31mKeyboardInterrupt\u001b[0m: "
     ]
    }
   ],
   "source": [
    "for it in range(3):\n",
    "    print(f'반복회차: {it+1}')\n",
    "    for i,j in states:\n",
    "        action_buffer = []\n",
    "        for action in actions:\n",
    "            action_buffer.append(Caculate_nextV_function([i,j],action,value))\n",
    "        act_idx = np.argmax(action_buffer)\n",
    "        new_policy[i,j] = actions[act_idx]\n",
    "        new_value[i,j] = Caculate_nextV_function([i,j],actions[act_idx],value)\n",
    "\n",
    "    value = new_value.copy()\n",
    "    policy = new_policy.copy()\n",
    "    \n",
    "    iter_policy.append(policy)\n",
    "    iter_value.append(value)"
   ]
  },
  {
   "cell_type": "code",
   "execution_count": null,
   "id": "241aff5a",
   "metadata": {},
   "outputs": [],
   "source": [
    "fig,ax = plt.subplots()\n",
    "cs = ax.contour(policy,level=10,colors='k')\n",
    "ax.clabel(cs,inline=1,fontsize=10)\n",
    "ax.set_title(\"Policy\")"
   ]
  },
  {
   "cell_type": "code",
   "execution_count": null,
   "id": "e1f4d62e",
   "metadata": {},
   "outputs": [],
   "source": [
    "fig,ax = plt.subplots()\n",
    "cs = ax.contour(value,level=10,colors='k')\n",
    "ax.clabel(cs,inline=1,fontsize=10)\n",
    "ax.set_title(\"Expected return\")"
   ]
  },
  {
   "cell_type": "code",
   "execution_count": null,
   "id": "3483aa43",
   "metadata": {},
   "outputs": [],
   "source": [
    "np.save('./3장_잭카_반복policy',iter_policy)\n",
    "np.save('./3장_잭카_반복value',iter_value)"
   ]
  },
  {
   "cell_type": "code",
   "execution_count": null,
   "id": "870b2827",
   "metadata": {},
   "outputs": [],
   "source": [
    "for ip in iter_policy:\n",
    "    fig,ax = plt.subplots()\n",
    "    cs = ax.contour(ip,level=10,colors='k')\n",
    "    ax.clabel(cs,inline=1,fontsize=10)\n",
    "    ax.set_title(\"Policy\")"
   ]
  },
  {
   "cell_type": "code",
   "execution_count": null,
   "id": "43686a2a",
   "metadata": {},
   "outputs": [],
   "source": [
    "for iv in iter_value:\n",
    "    fig,ax = plt.subplots()\n",
    "    cs = ax.contour(iv,level=10,colors='k')\n",
    "    ax.clabel(cs,inline=1,fontsize=10)\n",
    "    ax.set_title(\"Expected return\")"
   ]
  },
  {
   "cell_type": "code",
   "execution_count": null,
   "id": "023e08f9",
   "metadata": {},
   "outputs": [],
   "source": []
  }
 ],
 "metadata": {
  "kernelspec": {
   "display_name": "Python 3 (ipykernel)",
   "language": "python",
   "name": "python3"
  },
  "language_info": {
   "codemirror_mode": {
    "name": "ipython",
    "version": 3
   },
   "file_extension": ".py",
   "mimetype": "text/x-python",
   "name": "python",
   "nbconvert_exporter": "python",
   "pygments_lexer": "ipython3",
   "version": "3.8.10"
  }
 },
 "nbformat": 4,
 "nbformat_minor": 5
}
