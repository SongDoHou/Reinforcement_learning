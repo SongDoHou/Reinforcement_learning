{
 "cells": [
  {
   "cell_type": "markdown",
   "id": "ee577285",
   "metadata": {},
   "source": [
    "# CartPole with DQN\n",
    "---"
   ]
  },
  {
   "cell_type": "code",
   "execution_count": 1,
   "id": "d7bf34d2",
   "metadata": {},
   "outputs": [],
   "source": [
    "# pyglet version == 1.3.2"
   ]
  },
  {
   "cell_type": "code",
   "execution_count": 1,
   "id": "02a0bafe",
   "metadata": {},
   "outputs": [],
   "source": [
    "import gym\n",
    "from gym.core import ObservationWrapper\n",
    "\n",
    "import numpy as np\n",
    "import pandas as pd\n",
    "\n",
    "import torch\n",
    "import torch.nn as nn\n",
    "import torch.optim as optim\n",
    "\n",
    "import matplotlib.pyplot as plt\n",
    "%matplotlib inline\n",
    "\n",
    "from IPython.display import clear_output\n",
    "from IPython.display import Video"
   ]
  },
  {
   "cell_type": "code",
   "execution_count": 2,
   "id": "8b653a1e",
   "metadata": {},
   "outputs": [
    {
     "name": "stderr",
     "output_type": "stream",
     "text": [
      "/home/hshwang/anaconda3/envs/torch_1.8/lib/python3.8/site-packages/gym/utils/passive_env_checker.py:97: UserWarning: \u001b[33mWARN: We recommend you to use a symmetric and normalized Box action space (range=[-1, 1]) https://stable-baselines3.readthedocs.io/en/master/guide/rl_tips.html\u001b[0m\n",
      "  logger.warn(\n"
     ]
    }
   ],
   "source": [
    "#gym.spaces.Box=np.float32\n",
    "env = gym.make('CartPole-v1')\n",
    "env._max_episode_steps=2000\n",
    "#help(env.unwrapped) # 설명을 보고 싶으면 실행하세요"
   ]
  },
  {
   "cell_type": "code",
   "execution_count": 3,
   "id": "e4b02881",
   "metadata": {},
   "outputs": [
    {
     "ename": "TypeError",
     "evalue": "Invalid shape () for image data",
     "output_type": "error",
     "traceback": [
      "\u001b[0;31m---------------------------------------------------------------------------\u001b[0m",
      "\u001b[0;31mTypeError\u001b[0m                                 Traceback (most recent call last)",
      "\u001b[0;32m/tmp/ipykernel_62914/2150606129.py\u001b[0m in \u001b[0;36m<module>\u001b[0;34m\u001b[0m\n\u001b[1;32m      5\u001b[0m \u001b[0;31m#display.start()\u001b[0m\u001b[0;34m\u001b[0m\u001b[0;34m\u001b[0m\u001b[0;34m\u001b[0m\u001b[0m\n\u001b[1;32m      6\u001b[0m \u001b[0menv\u001b[0m\u001b[0;34m.\u001b[0m\u001b[0mreset\u001b[0m\u001b[0;34m(\u001b[0m\u001b[0;34m)\u001b[0m\u001b[0;34m\u001b[0m\u001b[0;34m\u001b[0m\u001b[0m\n\u001b[0;32m----> 7\u001b[0;31m \u001b[0mplt\u001b[0m\u001b[0;34m.\u001b[0m\u001b[0mimshow\u001b[0m\u001b[0;34m(\u001b[0m\u001b[0mnp\u001b[0m\u001b[0;34m.\u001b[0m\u001b[0marray\u001b[0m\u001b[0;34m(\u001b[0m\u001b[0menv\u001b[0m\u001b[0;34m.\u001b[0m\u001b[0mrender\u001b[0m\u001b[0;34m(\u001b[0m\u001b[0;34m)\u001b[0m\u001b[0;34m)\u001b[0m\u001b[0;34m)\u001b[0m\u001b[0;34m\u001b[0m\u001b[0;34m\u001b[0m\u001b[0m\n\u001b[0m",
      "\u001b[0;32m~/anaconda3/envs/torch_1.8/lib/python3.8/site-packages/matplotlib/pyplot.py\u001b[0m in \u001b[0;36mimshow\u001b[0;34m(X, cmap, norm, aspect, interpolation, alpha, vmin, vmax, origin, extent, filternorm, filterrad, resample, url, data, **kwargs)\u001b[0m\n\u001b[1;32m   2901\u001b[0m         \u001b[0mfilternorm\u001b[0m\u001b[0;34m=\u001b[0m\u001b[0;32mTrue\u001b[0m\u001b[0;34m,\u001b[0m \u001b[0mfilterrad\u001b[0m\u001b[0;34m=\u001b[0m\u001b[0;36m4.0\u001b[0m\u001b[0;34m,\u001b[0m \u001b[0mresample\u001b[0m\u001b[0;34m=\u001b[0m\u001b[0;32mNone\u001b[0m\u001b[0;34m,\u001b[0m \u001b[0murl\u001b[0m\u001b[0;34m=\u001b[0m\u001b[0;32mNone\u001b[0m\u001b[0;34m,\u001b[0m\u001b[0;34m\u001b[0m\u001b[0;34m\u001b[0m\u001b[0m\n\u001b[1;32m   2902\u001b[0m         data=None, **kwargs):\n\u001b[0;32m-> 2903\u001b[0;31m     __ret = gca().imshow(\n\u001b[0m\u001b[1;32m   2904\u001b[0m         \u001b[0mX\u001b[0m\u001b[0;34m,\u001b[0m \u001b[0mcmap\u001b[0m\u001b[0;34m=\u001b[0m\u001b[0mcmap\u001b[0m\u001b[0;34m,\u001b[0m \u001b[0mnorm\u001b[0m\u001b[0;34m=\u001b[0m\u001b[0mnorm\u001b[0m\u001b[0;34m,\u001b[0m \u001b[0maspect\u001b[0m\u001b[0;34m=\u001b[0m\u001b[0maspect\u001b[0m\u001b[0;34m,\u001b[0m\u001b[0;34m\u001b[0m\u001b[0;34m\u001b[0m\u001b[0m\n\u001b[1;32m   2905\u001b[0m         \u001b[0minterpolation\u001b[0m\u001b[0;34m=\u001b[0m\u001b[0minterpolation\u001b[0m\u001b[0;34m,\u001b[0m \u001b[0malpha\u001b[0m\u001b[0;34m=\u001b[0m\u001b[0malpha\u001b[0m\u001b[0;34m,\u001b[0m \u001b[0mvmin\u001b[0m\u001b[0;34m=\u001b[0m\u001b[0mvmin\u001b[0m\u001b[0;34m,\u001b[0m\u001b[0;34m\u001b[0m\u001b[0;34m\u001b[0m\u001b[0m\n",
      "\u001b[0;32m~/anaconda3/envs/torch_1.8/lib/python3.8/site-packages/matplotlib/__init__.py\u001b[0m in \u001b[0;36minner\u001b[0;34m(ax, data, *args, **kwargs)\u001b[0m\n\u001b[1;32m   1359\u001b[0m     \u001b[0;32mdef\u001b[0m \u001b[0minner\u001b[0m\u001b[0;34m(\u001b[0m\u001b[0max\u001b[0m\u001b[0;34m,\u001b[0m \u001b[0;34m*\u001b[0m\u001b[0margs\u001b[0m\u001b[0;34m,\u001b[0m \u001b[0mdata\u001b[0m\u001b[0;34m=\u001b[0m\u001b[0;32mNone\u001b[0m\u001b[0;34m,\u001b[0m \u001b[0;34m**\u001b[0m\u001b[0mkwargs\u001b[0m\u001b[0;34m)\u001b[0m\u001b[0;34m:\u001b[0m\u001b[0;34m\u001b[0m\u001b[0;34m\u001b[0m\u001b[0m\n\u001b[1;32m   1360\u001b[0m         \u001b[0;32mif\u001b[0m \u001b[0mdata\u001b[0m \u001b[0;32mis\u001b[0m \u001b[0;32mNone\u001b[0m\u001b[0;34m:\u001b[0m\u001b[0;34m\u001b[0m\u001b[0;34m\u001b[0m\u001b[0m\n\u001b[0;32m-> 1361\u001b[0;31m             \u001b[0;32mreturn\u001b[0m \u001b[0mfunc\u001b[0m\u001b[0;34m(\u001b[0m\u001b[0max\u001b[0m\u001b[0;34m,\u001b[0m \u001b[0;34m*\u001b[0m\u001b[0mmap\u001b[0m\u001b[0;34m(\u001b[0m\u001b[0msanitize_sequence\u001b[0m\u001b[0;34m,\u001b[0m \u001b[0margs\u001b[0m\u001b[0;34m)\u001b[0m\u001b[0;34m,\u001b[0m \u001b[0;34m**\u001b[0m\u001b[0mkwargs\u001b[0m\u001b[0;34m)\u001b[0m\u001b[0;34m\u001b[0m\u001b[0;34m\u001b[0m\u001b[0m\n\u001b[0m\u001b[1;32m   1362\u001b[0m \u001b[0;34m\u001b[0m\u001b[0m\n\u001b[1;32m   1363\u001b[0m         \u001b[0mbound\u001b[0m \u001b[0;34m=\u001b[0m \u001b[0mnew_sig\u001b[0m\u001b[0;34m.\u001b[0m\u001b[0mbind\u001b[0m\u001b[0;34m(\u001b[0m\u001b[0max\u001b[0m\u001b[0;34m,\u001b[0m \u001b[0;34m*\u001b[0m\u001b[0margs\u001b[0m\u001b[0;34m,\u001b[0m \u001b[0;34m**\u001b[0m\u001b[0mkwargs\u001b[0m\u001b[0;34m)\u001b[0m\u001b[0;34m\u001b[0m\u001b[0;34m\u001b[0m\u001b[0m\n",
      "\u001b[0;32m~/anaconda3/envs/torch_1.8/lib/python3.8/site-packages/matplotlib/axes/_axes.py\u001b[0m in \u001b[0;36mimshow\u001b[0;34m(self, X, cmap, norm, aspect, interpolation, alpha, vmin, vmax, origin, extent, filternorm, filterrad, resample, url, **kwargs)\u001b[0m\n\u001b[1;32m   5607\u001b[0m                               resample=resample, **kwargs)\n\u001b[1;32m   5608\u001b[0m \u001b[0;34m\u001b[0m\u001b[0m\n\u001b[0;32m-> 5609\u001b[0;31m         \u001b[0mim\u001b[0m\u001b[0;34m.\u001b[0m\u001b[0mset_data\u001b[0m\u001b[0;34m(\u001b[0m\u001b[0mX\u001b[0m\u001b[0;34m)\u001b[0m\u001b[0;34m\u001b[0m\u001b[0;34m\u001b[0m\u001b[0m\n\u001b[0m\u001b[1;32m   5610\u001b[0m         \u001b[0mim\u001b[0m\u001b[0;34m.\u001b[0m\u001b[0mset_alpha\u001b[0m\u001b[0;34m(\u001b[0m\u001b[0malpha\u001b[0m\u001b[0;34m)\u001b[0m\u001b[0;34m\u001b[0m\u001b[0;34m\u001b[0m\u001b[0m\n\u001b[1;32m   5611\u001b[0m         \u001b[0;32mif\u001b[0m \u001b[0mim\u001b[0m\u001b[0;34m.\u001b[0m\u001b[0mget_clip_path\u001b[0m\u001b[0;34m(\u001b[0m\u001b[0;34m)\u001b[0m \u001b[0;32mis\u001b[0m \u001b[0;32mNone\u001b[0m\u001b[0;34m:\u001b[0m\u001b[0;34m\u001b[0m\u001b[0;34m\u001b[0m\u001b[0m\n",
      "\u001b[0;32m~/anaconda3/envs/torch_1.8/lib/python3.8/site-packages/matplotlib/image.py\u001b[0m in \u001b[0;36mset_data\u001b[0;34m(self, A)\u001b[0m\n\u001b[1;32m    707\u001b[0m         if not (self._A.ndim == 2\n\u001b[1;32m    708\u001b[0m                 or self._A.ndim == 3 and self._A.shape[-1] in [3, 4]):\n\u001b[0;32m--> 709\u001b[0;31m             raise TypeError(\"Invalid shape {} for image data\"\n\u001b[0m\u001b[1;32m    710\u001b[0m                             .format(self._A.shape))\n\u001b[1;32m    711\u001b[0m \u001b[0;34m\u001b[0m\u001b[0m\n",
      "\u001b[0;31mTypeError\u001b[0m: Invalid shape () for image data"
     ]
    },
    {
     "data": {
      "image/png": "[encoded data removed]",
      "text/plain": [
       "<Figure size 432x288 with 1 Axes>"
      ]
     },
     "metadata": {
      "needs_background": "light"
     },
     "output_type": "display_data"
    }
   ],
   "source": [
    "#from pyvirtualdisplay import Display\n",
    "#mport pyglet\n",
    "#indow = pyglet.window.Window()\n",
    "#display = Display(visible=False,size=(400,300))\n",
    "#display.start()\n",
    "env.reset()\n",
    "plt.imshow(np.array(env.render()))"
   ]
  },
  {
   "cell_type": "code",
   "execution_count": 5,
   "id": "c58b05d8",
   "metadata": {},
   "outputs": [],
   "source": [
    "# 상태 분포 파악\n",
    "s = env.reset()\n",
    "done = False\n",
    "state_buffers = []\n",
    "for idx in range(2000):\n",
    "    if done:\n",
    "        s = env.reset()\n",
    "        state_buffers.append(s)\n",
    "    else:\n",
    "        next_s,reward,done,_ = env.step(env.action_space.sample())\n",
    "        state_buffers.append(next_s)\n",
    "\n",
    "state_buffers = np.array(state_buffers)\n",
    "\n",
    "positions = state_buffers[:,0]\n",
    "velocities = state_buffers[:,1]\n",
    "pole_angles = state_buffers[:,2]\n",
    "pole_angVel = state_buffers[:,3]"
   ]
  },
  {
   "cell_type": "code",
   "execution_count": 6,
   "id": "1fab5c01",
   "metadata": {},
   "outputs": [
    {
     "data": {
      "text/plain": [
       "Text(0.5, 1.0, 'Pole anglur velocity distribution')"
      ]
     },
     "execution_count": 6,
     "metadata": {},
     "output_type": "execute_result"
    },
    {
     "data": {
      "image/png": "[encoded data removed]",
      "text/plain": [
       "<Figure size 864x720 with 4 Axes>"
      ]
     },
     "metadata": {
      "needs_background": "light"
     },
     "output_type": "display_data"
    }
   ],
   "source": [
    "# 상태의 각 원소에 대한 분포를 보겠습니다.\n",
    "fig = plt.figure(figsize=(12,10))\n",
    "\n",
    "ax1 = fig.add_subplot(2,2,1)\n",
    "ax1.hist(positions)\n",
    "ax1.set_title(\"Position distribution\")\n",
    "\n",
    "ax2 = fig.add_subplot(2,2,2)\n",
    "ax2.hist(velocities)\n",
    "ax2.set_title(\"Velocity distribution\")\n",
    "\n",
    "ax3 = fig.add_subplot(2,2,3)\n",
    "ax3.hist(pole_angles)\n",
    "ax3.set_title(\"Pole angle distribution\")\n",
    "\n",
    "ax4 = fig.add_subplot(2,2,4)\n",
    "ax4.hist(pole_angVel)\n",
    "ax4.set_title(\"Pole anglur velocity distribution\")"
   ]
  },
  {
   "cell_type": "code",
   "execution_count": 7,
   "id": "0a92329d",
   "metadata": {},
   "outputs": [
    {
     "name": "stdout",
     "output_type": "stream",
     "text": [
      "위치 개요---------------------------------------------\n",
      "위치 평균: 0.0008\n",
      "위치 분산: 0.0292\n",
      "위치 최대,최소: 0.1513,-0.0499\n",
      "\n",
      "속도 개요---------------------------------------------\n",
      "속도 평균: 0.0042\n",
      "속도 분산: 0.0673\n",
      "속도 최대,최소: 1.4160,-0.1523\n",
      "\n",
      "각도 개요---------------------------------------------\n",
      "각도 평균: -0.0004\n",
      "각도 분산: 0.0296\n",
      "각도 최대,최소: 0.0500,-0.2218\n",
      "\n",
      "각속도 개요---------------------------------------------\n",
      "각속도 평균: -0.0065\n",
      "각속도 분산: 0.1005\n",
      "각속도 최대,최소: 0.2793,-2.2496\n",
      "\n"
     ]
    }
   ],
   "source": [
    "# 위치 개요\n",
    "print(f'위치 개요---------------------------------------------')\n",
    "print(f'위치 평균: {positions.mean():.4f}')\n",
    "print(f'위치 분산: {positions.std():.4f}')\n",
    "print(f'위치 최대,최소: {positions.max():.4f},{positions.min():.4f}')\n",
    "print('')\n",
    "print(f'속도 개요---------------------------------------------')\n",
    "print(f'속도 평균: {velocities.mean():.4f}')\n",
    "print(f'속도 분산: {velocities.std():.4f}')\n",
    "print(f'속도 최대,최소: {velocities.max():.4f},{velocities.min():.4f}')\n",
    "print('')\n",
    "print(f'각도 개요---------------------------------------------')\n",
    "print(f'각도 평균: {pole_angles.mean():.4f}')\n",
    "print(f'각도 분산: {pole_angles.std():.4f}')\n",
    "print(f'각도 최대,최소: {pole_angles.max():.4f},{pole_angles.min():.4f}')\n",
    "print('')\n",
    "print(f'각속도 개요---------------------------------------------')\n",
    "print(f'각속도 평균: {pole_angVel.mean():.4f}')\n",
    "print(f'각속도 분산: {pole_angVel.std():.4f}')\n",
    "print(f'각속도 최대,최소: {pole_angVel.max():.4f},{pole_angVel.min():.4f}')\n",
    "print('')"
   ]
  },
  {
   "cell_type": "code",
   "execution_count": 8,
   "id": "20392bfc",
   "metadata": {},
   "outputs": [],
   "source": [
    "#env = gym.make('CartPole-v1')\n",
    "#env.reset()\n",
    "#img = np.array(env.render(\"rgb_array\"))\n",
    "#plt.imshow(img)\n",
    "#env.close() # 안해주면 별도의 pop-up창이 올라옵니다"
   ]
  },
  {
   "cell_type": "code",
   "execution_count": 9,
   "id": "f417c51f",
   "metadata": {},
   "outputs": [],
   "source": [
    "del env"
   ]
  },
  {
   "cell_type": "markdown",
   "id": "d5d2f199",
   "metadata": {},
   "source": [
    "## 방법1. 단순 State"
   ]
  },
  {
   "cell_type": "code",
   "execution_count": 10,
   "id": "1ce7234c",
   "metadata": {},
   "outputs": [],
   "source": [
    "class DQN_SimpleAgent(nn.Module):\n",
    "    def __init__(self, state_shape, n_actions, epsilon=1):\n",
    "        super(DQN_SimpleAgent,self).__init__()\n",
    "        self.epsilon = epsilon # Epsilon-decay를 진행할예정\n",
    "        self.n_actions = n_actions\n",
    "        self.state_shape = state_shape\n",
    "    \n",
    "        # 에이전트 인공신경망 디자인\n",
    "        # 입력층 [batch,4] -> s(상태)\n",
    "        # 입력 은닉층 출력층: 4, (64,32) , 2\n",
    "        # 활성화 함수: 모두 relu\n",
    "        #  64,32\n",
    "        # 출력층 [batch,2] -> Q(s,a_왼쪽), Q(s,a_오른쪽)\n",
    "        self.seq = nn.Sequential(\n",
    "            nn.Linear(state_shape[-1],32),  # [batch,4] -> [batch, 64] 은닉 1층\n",
    "            nn.ReLU(),\n",
    "            nn.Linear(32,32), # [batch,64] -> [batch,32] 은닉 2층\n",
    "            nn.ReLU(),\n",
    "            nn.Linear(32,n_actions),  # [batch,32] -> [batch,2] 출력층\n",
    "            nn.ReLU()         \n",
    "        )\n",
    "        \n",
    "    def forward(self, state_t):\n",
    "        '''\n",
    "        Forward 함수(인공신경망 입.출력 함수)\n",
    "            입력: state\n",
    "            출력: Q(s,a)\n",
    "        '''    \n",
    "        qvalues = self.seq(state_t)\n",
    "        return qvalues\n",
    "\n",
    "    def get_actions(self, qvalues):\n",
    "        '''\n",
    "        [batch,action] 형태의 Q함수, epsilon값을 기준으로 Exploration vs Exploitation\n",
    "        입력: \n",
    "            Q-함수, [batch, action]\n",
    "        출력:\n",
    "            최적행동, [batch]\n",
    "        '''\n",
    "        epsilon = self.epsilon\n",
    "        batch_size, n_actions = qvalues.shape\n",
    "        \n",
    "        should_explore = np.random.choice([0, 1], batch_size, p=[1-epsilon, epsilon])\n",
    "        random_actions = np.random.choice(n_actions, size=batch_size)\n",
    "        best_actions = qvalues.argmax(axis=-1)\n",
    "        return np.where(should_explore, random_actions, best_actions)    "
   ]
  },
  {
   "cell_type": "code",
   "execution_count": 22,
   "id": "efe79bd8",
   "metadata": {},
   "outputs": [
    {
     "data": {
      "text/plain": [
       "Text(0.5, 1.0, 'Epsilon-decay curve')"
      ]
     },
     "execution_count": 22,
     "metadata": {},
     "output_type": "execute_result"
    },
    {
     "data": {
      "image/png": "[encoded data removed]",
      "text/plain": [
       "<Figure size 432x288 with 1 Axes>"
      ]
     },
     "metadata": {
      "needs_background": "light"
     },
     "output_type": "display_data"
    }
   ],
   "source": [
    "#def epsilon_decay(t,sig=1,low_bound=0.1):\n",
    "#    '''\n",
    "#    이번 예제에서는 천천하 Epsilon 값을 감쇠하겠습니다.\n",
    "#    '''\n",
    "#    eps_value = np.exp(-t**2/sig**2)\n",
    "#    if eps_value <=low_bound:\n",
    "#        eps_value = low_bound\n",
    "#    return eps_value\n",
    "#\n",
    "#ts = np.arange(1000)\n",
    "#\n",
    "#epsilon = []\n",
    "#for t in ts:\n",
    "#    eps = epsilon_decay(t,sig=300)\n",
    "#    epsilon.append(eps)\n",
    "#plt.plot(epsilon)\n",
    "#plt.grid()\n",
    "\n",
    "def epsilon_decay(t,eps_max=1,eps_min=0.05,eps_decay=200):\n",
    "    return eps_min+(eps_max-eps_min)*np.exp(-1*t/eps_decay)\n",
    "\n",
    "ts = np.arange(1000)\n",
    "\n",
    "epsilon = []\n",
    "for t in ts:\n",
    "    eps = epsilon_decay(t)\n",
    "    epsilon.append(eps)\n",
    "plt.plot(epsilon)\n",
    "plt.grid()\n",
    "plt.title('Epsilon-decay curve')\n"
   ]
  },
  {
   "cell_type": "code",
   "execution_count": 12,
   "id": "23784385",
   "metadata": {},
   "outputs": [],
   "source": [
    "# 리플레이 버퍼 \n",
    "# https://github.com/openai/baselines/blob/master/baselines/deepq/replay_buffer.py 에서 핵심 아이디어 채용\n",
    "class ReplayBuffer(object):\n",
    "    def __init__(self,size):\n",
    "        '''\n",
    "        리플레이 버퍼 초기 설정\n",
    "        입력: \n",
    "            size - 리플레이 버퍼의 크기. 버퍼크기를 넘어가면 선입선출로 이전데이터를 메모리상에서 없앰\n",
    "        '''\n",
    "        self._storage = []\n",
    "        self._maxsize = size\n",
    "        self._next_idx = 0\n",
    "        \n",
    "    def __len__(self):\n",
    "        return len(self._storage)\n",
    "    \n",
    "    def add(self,obs_t,action,reward,obs_tp,done):\n",
    "        '''\n",
    "        리플레이 버퍼에 데이터 추가\n",
    "        입력:\n",
    "            obs_t - 현재관찰(상태)\n",
    "            action - 현재액션\n",
    "            reward - 보상\n",
    "            obs_tp - 다음관찰(상태')\n",
    "            done - 종료여부\n",
    "        '''\n",
    "        data = (obs_t,action,reward,obs_tp,done)\n",
    "        if self._next_idx >= len(self._storage):\n",
    "            self._storage.append(data)\n",
    "        else:\n",
    "            self._storage[self._next_idx] = data\n",
    "        self._next_idx = int((self._next_idx + 1) % self._maxsize)\n",
    "        \n",
    "    def _encode_sample(self,idxes):\n",
    "        '''\n",
    "        리플레이 버퍼로부터 샘플링\n",
    "        입력:\n",
    "            idxes - 메모리에서 추출할 데이터 인덱스 [batch]\n",
    "        출력:\n",
    "            샘플된 데이터\n",
    "        '''\n",
    "        obs_ts, actions, rewards, obs_tps, dones = [],[],[],[],[]\n",
    "        for idx in idxes:\n",
    "            obs_t, action, reward, obs_tp, done = self._storage[idx]\n",
    "            obs_ts.append(obs_t)\n",
    "            actions.append(action)\n",
    "            rewards.append(reward)\n",
    "            obs_tps.append(obs_tp)\n",
    "            dones.append(done)\n",
    "        return (\n",
    "                np.array(obs_ts),\n",
    "                np.array(actions),\n",
    "                np.array(rewards),\n",
    "                np.array(obs_tps),\n",
    "                np.array(dones)\n",
    "            )\n",
    "    def sample(self,batch_size):\n",
    "        '''\n",
    "        self._encode_sample을 호출할 함수\n",
    "        입력: \n",
    "            batch_size - 배치사이즈(int)\n",
    "        출력 - self._encode_sample 참조\n",
    "        '''\n",
    "        idxes = np.random.choice(range(self.__len__()),batch_size)\n",
    "        return self._encode_sample(idxes)"
   ]
  },
  {
   "cell_type": "code",
   "execution_count": 13,
   "id": "1339b200",
   "metadata": {},
   "outputs": [
    {
     "name": "stderr",
     "output_type": "stream",
     "text": [
      "[2022-08-01 00:05:51,514] Making new env: CartPole-v0\n",
      "/home/hshwang/anaconda3/envs/RL_scratch/lib/python3.8/site-packages/gym/envs/registration.py:17: PkgResourcesDeprecationWarning: Parameters to load are deprecated.  Call .resolve and .require separately.\n",
      "  result = entry_point.load(False)\n"
     ]
    }
   ],
   "source": [
    "# 하이퍼 파라미터 정의\n",
    "env = gym.make('CartPole-v0')\n",
    "env._max_episode_steps=2000\n",
    "\n",
    "gamma=0.99\n",
    "epsilon_start = 1.0\n",
    "epsilon_finish = 0.1\n",
    "epsilon_sig=1000\n",
    "\n",
    "state = env.reset()\n",
    "num_state = state.shape\n",
    "num_action = env.action_space.n\n",
    "learning_rate = 1e-04\n",
    "max_episode = 10000\n",
    "num_random_init = 100\n",
    "batch_size=32\n",
    "model_update_period=10"
   ]
  },
  {
   "cell_type": "code",
   "execution_count": 14,
   "id": "9652695f",
   "metadata": {},
   "outputs": [
    {
     "data": {
      "text/plain": [
       "<All keys matched successfully>"
      ]
     },
     "execution_count": 14,
     "metadata": {},
     "output_type": "execute_result"
    }
   ],
   "source": [
    "train_agent = DQN_SimpleAgent(state.shape,env.action_space.n,epsilon_start)\n",
    "optimizer = optim.Adam(train_agent.parameters(),lr=learning_rate)\n",
    "# 타겟용 파라미터를 호출합니다.\n",
    "target_agent = DQN_SimpleAgent(state.shape,env.action_space.n,epsilon_start)\n",
    "target_agent.load_state_dict(train_agent.state_dict())"
   ]
  },
  {
   "cell_type": "code",
   "execution_count": 15,
   "id": "6b7a63c9",
   "metadata": {},
   "outputs": [],
   "source": [
    "replay_buffer = ReplayBuffer(5000)\n",
    "criterion = nn.MSELoss()"
   ]
  },
  {
   "cell_type": "code",
   "execution_count": 16,
   "id": "99905687",
   "metadata": {},
   "outputs": [],
   "source": [
    "# Random init buffer를 채워줌\n",
    "state = env.reset()\n",
    "for _ in range(num_random_init):\n",
    "    action = env.action_space.sample()\n",
    "    next_state,reward,done,_ = env.step(action)\n",
    "    replay_buffer.add(state,action,reward,next_state,done)\n",
    "    if done:\n",
    "        state = env.reset()\n",
    "    state = next_state"
   ]
  },
  {
   "cell_type": "code",
   "execution_count": 17,
   "id": "06b43795",
   "metadata": {},
   "outputs": [],
   "source": [
    "def TD_loss(batch_sample,train_agent,target_agent,env,gamma=gamma):\n",
    "    '''\n",
    "    TD loss함수 계산코드\n",
    "    입력: \n",
    "        batch_sample - 리플레이로부터 받은 샘플(S,A,R,S',done)\n",
    "        train_agent - 훈련에이전트\n",
    "        target_agent - 타겟에이전트\n",
    "        env - 환경\n",
    "        gamma - 할인율\n",
    "    출력\n",
    "        loss - TD-error RMS\n",
    "        sum((R+gamma*max_a(Q(s,a))-Q(s,a))**2)/n\n",
    "    '''\n",
    "    states,actions,rewards,next_states,dones = batch_sample\n",
    "\n",
    "    #states = torch.from_numpy(states)\n",
    "    #actions = torch.from_numpy(actions)\n",
    "    #rewards = torch.from_numpy(rewards)\n",
    "    #next_states = torch.from_numpy(next_states)\n",
    "    #is_done = torch.ones(rewards.shape)*done\n",
    "    #not_dones = 1-is_done\n",
    "    states = torch.FloatTensor(states)\n",
    "    actions = torch.LongTensor(actions)\n",
    "    rewards = torch.FloatTensor(rewards)\n",
    "    next_states = torch.FloatTensor(next_states)\n",
    "    dones = torch.ByteTensor(dones)\n",
    "    not_dones = 1-dones\n",
    "    \n",
    "    train_Q = train_agent(states)\n",
    "    target_Q = target_agent(next_states)\n",
    "    train_Q = train_Q[range(len(actions)), actions]\n",
    "    \n",
    "    TD_target = rewards+not_dones*gamma*torch.max(target_Q,dim=-1).values\n",
    "    loss = torch.mean((TD_target.detach()-train_Q)**2)\n",
    "    return loss"
   ]
  },
  {
   "cell_type": "code",
   "execution_count": 18,
   "id": "c3652dff",
   "metadata": {},
   "outputs": [
    {
     "name": "stdout",
     "output_type": "stream",
     "text": [
      "1050번째 에피소드 결과\n",
      "Epsilon: 0.054985142479222315\n",
      "최근 50 에피소드 보상평균 = 1433.9\n",
      "최근 50 에피소드 TD오차 = 0.04351599710013462\n"
     ]
    },
    {
     "data": {
      "image/png": "[encoded data removed]",
      "text/plain": [
       "<Figure size 1152x648 with 2 Axes>"
      ]
     },
     "metadata": {
      "needs_background": "light"
     },
     "output_type": "display_data"
    },
    {
     "name": "stdout",
     "output_type": "stream",
     "text": [
      "충분한 보상: 1507.16\n",
      "학습종료\n"
     ]
    }
   ],
   "source": [
    "def moving_average(x, span=100):\n",
    "    return pd.DataFrame({'x': np.asarray(x)}).x.ewm(span=span).mean().values\n",
    "\n",
    "reward_record, TDloss_record = [], []\n",
    "cnt = 0\n",
    "\n",
    "for ep in range(max_episode):\n",
    "#for ep in range(1):\n",
    "    done = False\n",
    "    state = env.reset()\n",
    "    \n",
    "    total_reward = 0\n",
    "    mean_episode_TD = 0\n",
    "    while True:\n",
    "        torch_state = torch.FloatTensor(state)\n",
    "        qvalues = train_agent(torch.unsqueeze(torch_state,0))\n",
    "        action = train_agent.get_actions(qvalues)\n",
    "\n",
    "        next_state,reward,done,_ = env.step(action[0])\n",
    "        replay_buffer.add(state,action[0],reward,next_state,done)\n",
    "        \n",
    "        batch_sample = replay_buffer.sample(batch_size)\n",
    "        loss = TD_loss(batch_sample,train_agent,target_agent,env,gamma=gamma)\n",
    "        optimizer.zero_grad()\n",
    "        loss.backward()\n",
    "        optimizer.step()\n",
    "        \n",
    "        mean_episode_TD += loss.item()\n",
    "        total_reward += reward\n",
    "        \n",
    "        if cnt % model_update_period == 0:\n",
    "            target_agent.load_state_dict(train_agent.state_dict())\n",
    "            \n",
    "        if done:\n",
    "            mean_episode_TD /= cnt    \n",
    "            TDloss_record.append(mean_episode_TD)\n",
    "            reward_record.append(total_reward)\n",
    "            break\n",
    "        \n",
    "        # 업데이트\n",
    "        state = next_state\n",
    "        #train_agent.epsilon = epsilon_decay(ep,sig=epsilon_sig,low_bound=epsilon_finish)\n",
    "        train_agent.epsilon = epsilon_decay(ep,eps_max=1,eps_min=0.05,eps_decay=200)\n",
    "        cnt += 1\n",
    "    \n",
    "    if ep % 50 == 0:\n",
    "        clear_output(True)\n",
    "        print(f'{ep}번째 에피소드 결과')\n",
    "        print(f'Epsilon: {train_agent.epsilon}')\n",
    "        print(f'최근 50 에피소드 보상평균 = {np.mean(reward_record[-50:])}')\n",
    "        print(f'최근 50 에피소드 TD오차 = {np.mean(TDloss_record[-50:])}')\n",
    "        \n",
    "        plt.figure(figsize=[16, 9])\n",
    "        \n",
    "        plt.subplot(1,2,1)\n",
    "        plt.title(\"Total Reward\")\n",
    "        plt.plot(reward_record)\n",
    "        plt.plot(moving_average(reward_record))\n",
    "        plt.grid()\n",
    "        \n",
    "        plt.subplot(1,2,2)\n",
    "        plt.title(\"TD_loss history\")\n",
    "        plt.plot(TDloss_record)\n",
    "        plt.plot(moving_average(TDloss_record))\n",
    "        plt.grid()\n",
    "        \n",
    "        plt.show()\n",
    "    \n",
    "    if np.mean(reward_record[-50:]) >= 1500:\n",
    "        print(f\"충분한 보상: {np.mean(reward_record[-50:])}\")\n",
    "        print(f\"학습종료\")\n",
    "        break"
   ]
  },
  {
   "cell_type": "code",
   "execution_count": 19,
   "id": "a1968c85",
   "metadata": {},
   "outputs": [],
   "source": [
    "# 비디오를 저장해보겠습니다.\n",
    "torch.save(train_agent,'CartPole_bestmodel2.pth')\n",
    "#train_agent = torch.load('CartPole_bestmodel2.pth')"
   ]
  },
  {
   "cell_type": "code",
   "execution_count": 20,
   "id": "f80128b9",
   "metadata": {},
   "outputs": [],
   "source": [
    "# 이거 체크!!!!!!!!!\n",
    "#!pip install ffmpeg\n",
    "#!pip install imageio-ffmpeg\n",
    "#!pip install pyvirtualdisplay\n",
    "#!sudo apt-get install -y xvfb x11-utils"
   ]
  },
  {
   "cell_type": "code",
   "execution_count": 21,
   "id": "6c3c74f4",
   "metadata": {},
   "outputs": [
    {
     "name": "stderr",
     "output_type": "stream",
     "text": [
      "[2022-08-01 00:11:03,682] Making new env: CartPole-v0\n",
      "[2022-08-01 00:11:03,684] Starting new video recorder writing to CartPole_video.mp4\n"
     ]
    },
    {
     "ename": "AttributeError",
     "evalue": "'ImageData' object has no attribute 'data'",
     "output_type": "error",
     "traceback": [
      "\u001b[0;31m---------------------------------------------------------------------------\u001b[0m",
      "\u001b[0;31mAttributeError\u001b[0m                            Traceback (most recent call last)",
      "Input \u001b[0;32mIn [21]\u001b[0m, in \u001b[0;36m<cell line: 32>\u001b[0;34m()\u001b[0m\n\u001b[1;32m     30\u001b[0m vid\u001b[38;5;241m.\u001b[39mrender_mode\u001b[38;5;241m=\u001b[39m\u001b[38;5;124m\"\u001b[39m\u001b[38;5;124mrgb_array\u001b[39m\u001b[38;5;124m\"\u001b[39m\n\u001b[1;32m     31\u001b[0m state \u001b[38;5;241m=\u001b[39m env\u001b[38;5;241m.\u001b[39mreset()\n\u001b[0;32m---> 32\u001b[0m rewards \u001b[38;5;241m=\u001b[39m \u001b[43mrecord\u001b[49m\u001b[43m(\u001b[49m\u001b[43mstate\u001b[49m\u001b[43m,\u001b[49m\u001b[43mtrain_agent\u001b[49m\u001b[43m,\u001b[49m\u001b[43menv\u001b[49m\u001b[43m,\u001b[49m\u001b[43mvid\u001b[49m\u001b[43m)\u001b[49m\n",
      "Input \u001b[0;32mIn [21]\u001b[0m, in \u001b[0;36mrecord\u001b[0;34m(initial_state, agent, env, vid)\u001b[0m\n\u001b[1;32m      5\u001b[0m sum_rewards \u001b[38;5;241m=\u001b[39m \u001b[38;5;241m0\u001b[39m\n\u001b[1;32m      7\u001b[0m \u001b[38;5;28;01mwhile\u001b[39;00m \u001b[38;5;28;01mTrue\u001b[39;00m:\n\u001b[0;32m----> 8\u001b[0m     \u001b[43mvid\u001b[49m\u001b[38;5;241;43m.\u001b[39;49m\u001b[43mcapture_frame\u001b[49m\u001b[43m(\u001b[49m\u001b[43m)\u001b[49m\n\u001b[1;32m      9\u001b[0m     \u001b[38;5;66;03m#env.render()\u001b[39;00m\n\u001b[1;32m     10\u001b[0m     torch_state \u001b[38;5;241m=\u001b[39m torch\u001b[38;5;241m.\u001b[39mFloatTensor(state)\n",
      "File \u001b[0;32m~/anaconda3/envs/RL_scratch/lib/python3.8/site-packages/gym/monitoring/video_recorder.py:106\u001b[0m, in \u001b[0;36mVideoRecorder.capture_frame\u001b[0;34m(self)\u001b[0m\n\u001b[1;32m    103\u001b[0m logger\u001b[38;5;241m.\u001b[39mdebug(\u001b[38;5;124m'\u001b[39m\u001b[38;5;124mCapturing video frame: path=\u001b[39m\u001b[38;5;132;01m%s\u001b[39;00m\u001b[38;5;124m'\u001b[39m, \u001b[38;5;28mself\u001b[39m\u001b[38;5;241m.\u001b[39mpath)\n\u001b[1;32m    105\u001b[0m render_mode \u001b[38;5;241m=\u001b[39m \u001b[38;5;124m'\u001b[39m\u001b[38;5;124mansi\u001b[39m\u001b[38;5;124m'\u001b[39m \u001b[38;5;28;01mif\u001b[39;00m \u001b[38;5;28mself\u001b[39m\u001b[38;5;241m.\u001b[39mansi_mode \u001b[38;5;28;01melse\u001b[39;00m \u001b[38;5;124m'\u001b[39m\u001b[38;5;124mrgb_array\u001b[39m\u001b[38;5;124m'\u001b[39m\n\u001b[0;32m--> 106\u001b[0m frame \u001b[38;5;241m=\u001b[39m \u001b[38;5;28;43mself\u001b[39;49m\u001b[38;5;241;43m.\u001b[39;49m\u001b[43menv\u001b[49m\u001b[38;5;241;43m.\u001b[39;49m\u001b[43mrender\u001b[49m\u001b[43m(\u001b[49m\u001b[43mmode\u001b[49m\u001b[38;5;241;43m=\u001b[39;49m\u001b[43mrender_mode\u001b[49m\u001b[43m)\u001b[49m\n\u001b[1;32m    108\u001b[0m \u001b[38;5;28;01mif\u001b[39;00m frame \u001b[38;5;129;01mis\u001b[39;00m \u001b[38;5;28;01mNone\u001b[39;00m:\n\u001b[1;32m    109\u001b[0m     \u001b[38;5;28;01mif\u001b[39;00m \u001b[38;5;28mself\u001b[39m\u001b[38;5;241m.\u001b[39m_async:\n",
      "File \u001b[0;32m~/anaconda3/envs/RL_scratch/lib/python3.8/site-packages/gym/core.py:174\u001b[0m, in \u001b[0;36mEnv.render\u001b[0;34m(self, mode, close)\u001b[0m\n\u001b[1;32m    171\u001b[0m \u001b[38;5;28;01melif\u001b[39;00m mode \u001b[38;5;129;01mnot\u001b[39;00m \u001b[38;5;129;01min\u001b[39;00m modes:\n\u001b[1;32m    172\u001b[0m     \u001b[38;5;28;01mraise\u001b[39;00m error\u001b[38;5;241m.\u001b[39mUnsupportedMode(\u001b[38;5;124m'\u001b[39m\u001b[38;5;124mUnsupported rendering mode: \u001b[39m\u001b[38;5;132;01m{}\u001b[39;00m\u001b[38;5;124m. (Supported modes for \u001b[39m\u001b[38;5;132;01m{}\u001b[39;00m\u001b[38;5;124m: \u001b[39m\u001b[38;5;132;01m{}\u001b[39;00m\u001b[38;5;124m)\u001b[39m\u001b[38;5;124m'\u001b[39m\u001b[38;5;241m.\u001b[39mformat(mode, \u001b[38;5;28mself\u001b[39m, modes))\n\u001b[0;32m--> 174\u001b[0m \u001b[38;5;28;01mreturn\u001b[39;00m \u001b[38;5;28;43mself\u001b[39;49m\u001b[38;5;241;43m.\u001b[39;49m\u001b[43m_render\u001b[49m\u001b[43m(\u001b[49m\u001b[43mmode\u001b[49m\u001b[38;5;241;43m=\u001b[39;49m\u001b[43mmode\u001b[49m\u001b[43m,\u001b[49m\u001b[43m \u001b[49m\u001b[43mclose\u001b[49m\u001b[38;5;241;43m=\u001b[39;49m\u001b[43mclose\u001b[49m\u001b[43m)\u001b[49m\n",
      "File \u001b[0;32m~/anaconda3/envs/RL_scratch/lib/python3.8/site-packages/gym/core.py:341\u001b[0m, in \u001b[0;36mWrapper._render\u001b[0;34m(self, mode, close)\u001b[0m\n\u001b[1;32m    339\u001b[0m \u001b[38;5;28;01mif\u001b[39;00m \u001b[38;5;28mself\u001b[39m\u001b[38;5;241m.\u001b[39menv \u001b[38;5;129;01mis\u001b[39;00m \u001b[38;5;28;01mNone\u001b[39;00m:\n\u001b[1;32m    340\u001b[0m     \u001b[38;5;28;01mreturn\u001b[39;00m\n\u001b[0;32m--> 341\u001b[0m \u001b[38;5;28;01mreturn\u001b[39;00m \u001b[38;5;28;43mself\u001b[39;49m\u001b[38;5;241;43m.\u001b[39;49m\u001b[43menv\u001b[49m\u001b[38;5;241;43m.\u001b[39;49m\u001b[43mrender\u001b[49m\u001b[43m(\u001b[49m\u001b[43mmode\u001b[49m\u001b[43m,\u001b[49m\u001b[43m \u001b[49m\u001b[43mclose\u001b[49m\u001b[43m)\u001b[49m\n",
      "File \u001b[0;32m~/anaconda3/envs/RL_scratch/lib/python3.8/site-packages/gym/core.py:174\u001b[0m, in \u001b[0;36mEnv.render\u001b[0;34m(self, mode, close)\u001b[0m\n\u001b[1;32m    171\u001b[0m \u001b[38;5;28;01melif\u001b[39;00m mode \u001b[38;5;129;01mnot\u001b[39;00m \u001b[38;5;129;01min\u001b[39;00m modes:\n\u001b[1;32m    172\u001b[0m     \u001b[38;5;28;01mraise\u001b[39;00m error\u001b[38;5;241m.\u001b[39mUnsupportedMode(\u001b[38;5;124m'\u001b[39m\u001b[38;5;124mUnsupported rendering mode: \u001b[39m\u001b[38;5;132;01m{}\u001b[39;00m\u001b[38;5;124m. (Supported modes for \u001b[39m\u001b[38;5;132;01m{}\u001b[39;00m\u001b[38;5;124m: \u001b[39m\u001b[38;5;132;01m{}\u001b[39;00m\u001b[38;5;124m)\u001b[39m\u001b[38;5;124m'\u001b[39m\u001b[38;5;241m.\u001b[39mformat(mode, \u001b[38;5;28mself\u001b[39m, modes))\n\u001b[0;32m--> 174\u001b[0m \u001b[38;5;28;01mreturn\u001b[39;00m \u001b[38;5;28;43mself\u001b[39;49m\u001b[38;5;241;43m.\u001b[39;49m\u001b[43m_render\u001b[49m\u001b[43m(\u001b[49m\u001b[43mmode\u001b[49m\u001b[38;5;241;43m=\u001b[39;49m\u001b[43mmode\u001b[49m\u001b[43m,\u001b[49m\u001b[43m \u001b[49m\u001b[43mclose\u001b[49m\u001b[38;5;241;43m=\u001b[39;49m\u001b[43mclose\u001b[49m\u001b[43m)\u001b[49m\n",
      "File \u001b[0;32m~/anaconda3/envs/RL_scratch/lib/python3.8/site-packages/gym/envs/classic_control/cartpole.py:145\u001b[0m, in \u001b[0;36mCartPoleEnv._render\u001b[0;34m(self, mode, close)\u001b[0m\n\u001b[1;32m    142\u001b[0m \u001b[38;5;28mself\u001b[39m\u001b[38;5;241m.\u001b[39mcarttrans\u001b[38;5;241m.\u001b[39mset_translation(cartx, carty)\n\u001b[1;32m    143\u001b[0m \u001b[38;5;28mself\u001b[39m\u001b[38;5;241m.\u001b[39mpoletrans\u001b[38;5;241m.\u001b[39mset_rotation(\u001b[38;5;241m-\u001b[39mx[\u001b[38;5;241m2\u001b[39m])\n\u001b[0;32m--> 145\u001b[0m \u001b[38;5;28;01mreturn\u001b[39;00m \u001b[38;5;28;43mself\u001b[39;49m\u001b[38;5;241;43m.\u001b[39;49m\u001b[43mviewer\u001b[49m\u001b[38;5;241;43m.\u001b[39;49m\u001b[43mrender\u001b[49m\u001b[43m(\u001b[49m\u001b[43mreturn_rgb_array\u001b[49m\u001b[43m \u001b[49m\u001b[38;5;241;43m=\u001b[39;49m\u001b[43m \u001b[49m\u001b[43mmode\u001b[49m\u001b[38;5;241;43m==\u001b[39;49m\u001b[38;5;124;43m'\u001b[39;49m\u001b[38;5;124;43mrgb_array\u001b[39;49m\u001b[38;5;124;43m'\u001b[39;49m\u001b[43m)\u001b[49m\n",
      "File \u001b[0;32m~/anaconda3/envs/RL_scratch/lib/python3.8/site-packages/gym/envs/classic_control/rendering.py:95\u001b[0m, in \u001b[0;36mViewer.render\u001b[0;34m(self, return_rgb_array)\u001b[0m\n\u001b[1;32m     93\u001b[0m buffer \u001b[38;5;241m=\u001b[39m pyglet\u001b[38;5;241m.\u001b[39mimage\u001b[38;5;241m.\u001b[39mget_buffer_manager()\u001b[38;5;241m.\u001b[39mget_color_buffer()\n\u001b[1;32m     94\u001b[0m image_data \u001b[38;5;241m=\u001b[39m buffer\u001b[38;5;241m.\u001b[39mget_image_data()\n\u001b[0;32m---> 95\u001b[0m arr \u001b[38;5;241m=\u001b[39m np\u001b[38;5;241m.\u001b[39mfromstring(\u001b[43mimage_data\u001b[49m\u001b[38;5;241;43m.\u001b[39;49m\u001b[43mdata\u001b[49m, dtype\u001b[38;5;241m=\u001b[39mnp\u001b[38;5;241m.\u001b[39muint8, sep\u001b[38;5;241m=\u001b[39m\u001b[38;5;124m'\u001b[39m\u001b[38;5;124m'\u001b[39m)\n\u001b[1;32m     96\u001b[0m \u001b[38;5;66;03m# In https://github.com/openai/gym-http-api/issues/2, we\u001b[39;00m\n\u001b[1;32m     97\u001b[0m \u001b[38;5;66;03m# discovered that someone using Xmonad on Arch was having\u001b[39;00m\n\u001b[1;32m     98\u001b[0m \u001b[38;5;66;03m# a window of size 598 x 398, though a 600 x 400 window\u001b[39;00m\n\u001b[1;32m     99\u001b[0m \u001b[38;5;66;03m# was requested. (Guess Xmonad was preserving a pixel for\u001b[39;00m\n\u001b[1;32m    100\u001b[0m \u001b[38;5;66;03m# the boundary.) So we use the buffer height/width rather\u001b[39;00m\n\u001b[1;32m    101\u001b[0m \u001b[38;5;66;03m# than the requested one.\u001b[39;00m\n\u001b[1;32m    102\u001b[0m arr \u001b[38;5;241m=\u001b[39m arr\u001b[38;5;241m.\u001b[39mreshape(buffer\u001b[38;5;241m.\u001b[39mheight, buffer\u001b[38;5;241m.\u001b[39mwidth, \u001b[38;5;241m4\u001b[39m)\n",
      "\u001b[0;31mAttributeError\u001b[0m: 'ImageData' object has no attribute 'data'"
     ]
    }
   ],
   "source": [
    "import gym.wrappers\n",
    "\n",
    "def record(initial_state,agent,env,vid):\n",
    "    state = initial_state\n",
    "    sum_rewards = 0\n",
    "\n",
    "    while True:\n",
    "        vid.capture_frame()\n",
    "        #env.render()\n",
    "        torch_state = torch.FloatTensor(state)\n",
    "        qvalues = train_agent(torch.unsqueeze(torch_state,0))\n",
    "        action = train_agent.get_actions(qvalues)\n",
    "        next_state,reward,done,_ = env.step(action)\n",
    "        \n",
    "        qvalues = agent.get_qvalues(state)\n",
    "        action = agent.sample_actions(qvalues)\n",
    "        next_state, reward, done, _ = env.step(action)\n",
    "        \n",
    "        state = next_state\n",
    "        sum_rewards += reward\n",
    "        if done:\n",
    "            break\n",
    "    vid.close()\n",
    "    return sum_rewards\n",
    "\n",
    "env = gym.make('CartPole-v0')\n",
    "env._max_episode_steps=2000\n",
    "#env = gym.wrappers.Monitor(env,\"./\",force=True)\n",
    "vid = gym.wrappers.monitoring.video_recorder.VideoRecorder(env,path='CartPole_video.mp4')\n",
    "vid.render_mode=\"rgb_array\"\n",
    "state = env.reset()\n",
    "rewards = record(state,train_agent,env,vid)"
   ]
  },
  {
   "cell_type": "code",
   "execution_count": null,
   "id": "8320cda5",
   "metadata": {},
   "outputs": [],
   "source": [
    "img = np.array(env.render(\"rgb_array\"))"
   ]
  },
  {
   "cell_type": "code",
   "execution_count": null,
   "id": "e50204aa",
   "metadata": {},
   "outputs": [],
   "source": [
    "#!pip install pyglet\n",
    "#!pip show pyglet\n",
    "#!pip show gym\n",
    "#!pip install 'gym[all]'"
   ]
  },
  {
   "cell_type": "code",
   "execution_count": null,
   "id": "86982e83",
   "metadata": {},
   "outputs": [],
   "source": [
    "from IPython.display import Video\n",
    "\n",
    "Video('./test.mp4',embed=True,width=512, height=512)\n",
    "#Video('./videos/Best_agent_vol2.mp4',width=512,height=512)"
   ]
  },
  {
   "cell_type": "markdown",
   "id": "edb1af1d",
   "metadata": {},
   "source": [
    "## 방법 2. 이미지로 받은 State"
   ]
  },
  {
   "cell_type": "code",
   "execution_count": null,
   "id": "1d10eb25",
   "metadata": {},
   "outputs": [],
   "source": []
  },
  {
   "cell_type": "code",
   "execution_count": null,
   "id": "ddd55f91",
   "metadata": {},
   "outputs": [],
   "source": []
  },
  {
   "cell_type": "code",
   "execution_count": null,
   "id": "ae7261f4",
   "metadata": {},
   "outputs": [],
   "source": []
  },
  {
   "cell_type": "code",
   "execution_count": null,
   "id": "eeda8f40",
   "metadata": {},
   "outputs": [],
   "source": [
    "def linear_decay(init_val,final_val,cur_step,total_steps):\n",
    "    if cur_step >= total_steps:\n",
    "        return final_val\n",
    "    return (init_val*(total_steps-cur_step)+final_val*cur_step)/total_steps\n",
    "\n",
    "ts = np.arange(1000)\n",
    "#ts\n",
    "\n",
    "epsilon = []\n",
    "for t in ts:\n",
    "    eps = linear_decay(1,0.1,t,1000)\n",
    "    epsilon.append(eps)\n",
    "plt.plot(epsilon)"
   ]
  },
  {
   "cell_type": "code",
   "execution_count": null,
   "id": "5acb1ab6",
   "metadata": {},
   "outputs": [],
   "source": [
    "def epsilon_decay(t,sig=1,low_bound=0.1):\n",
    "    eps_value = np.exp(-t**2/sig**2)\n",
    "    if eps_value <=low_bound:\n",
    "        eps_value = low_bound\n",
    "    return eps_value\n",
    "\n",
    "ts = np.arange(1000)\n",
    "\n",
    "epsilon = []\n",
    "for t in ts:\n",
    "    eps = epsilon_decay(t,500)\n",
    "    epsilon.append(eps)\n",
    "plt.plot(epsilon)"
   ]
  },
  {
   "cell_type": "code",
   "execution_count": null,
   "id": "e1f69b25",
   "metadata": {},
   "outputs": [],
   "source": []
  }
 ],
 "metadata": {
  "kernelspec": {
   "display_name": "RL_scratch",
   "language": "python",
   "name": "rl_scratch"
  },
  "language_info": {
   "codemirror_mode": {
    "name": "ipython",
    "version": 3
   },
   "file_extension": ".py",
   "mimetype": "text/x-python",
   "name": "python",
   "nbconvert_exporter": "python",
   "pygments_lexer": "ipython3",
   "version": "3.8.13"
  }
 },
 "nbformat": 4,
 "nbformat_minor": 5
}
