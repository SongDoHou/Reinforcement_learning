{
 "cells": [
  {
   "cell_type": "code",
   "execution_count": 7,
   "metadata": {},
   "outputs": [
    {
     "name": "stdout",
     "output_type": "stream",
     "text": [
      "입력텐서 차원: torch.Size([64, 3, 84, 84])\n",
      "출력텐서 차원: torch.Size([64, 6, 82, 82])\n"
     ]
    }
   ],
   "source": [
    "import torch\n",
    "import torch.nn as nn\n",
    "\n",
    "# 이미지텐서:[배치, 채널, 높이, 너비] -> [64, 3, 84, 84]\n",
    "Image_tensor = torch.Tensor(size=(64,3,84,84))\n",
    "\n",
    "# 합성곱 신경망 연산함수(기본옵션 패딩:0, 스트라이드:1)\n",
    "# 커널차원:[채널, 커널개수, 높이, 너비] -> [3, 6, 3, 3]\n",
    "kernel = nn.Conv2d(3,6,(3,3))\n",
    "\n",
    "# 합성곱 연산\n",
    "output = kernel(Image_tensor)\n",
    "print(f'입력텐서 차원: {Image_tensor.shape}')\n",
    "print(f'출력텐서 차원: {output.shape}')"
   ]
  },
  {
   "cell_type": "code",
   "execution_count": null,
   "metadata": {},
   "outputs": [],
   "source": []
  }
 ],
 "metadata": {
  "kernelspec": {
   "display_name": "torch",
   "language": "python",
   "name": "torch"
  },
  "language_info": {
   "codemirror_mode": {
    "name": "ipython",
    "version": 3
   },
   "file_extension": ".py",
   "mimetype": "text/x-python",
   "name": "python",
   "nbconvert_exporter": "python",
   "pygments_lexer": "ipython3",
   "version": "3.9.12"
  }
 },
 "nbformat": 4,
 "nbformat_minor": 2
}
