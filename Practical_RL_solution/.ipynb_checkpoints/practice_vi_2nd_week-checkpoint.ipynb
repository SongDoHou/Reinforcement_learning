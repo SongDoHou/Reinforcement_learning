{
 "cells": [
  {
   "cell_type": "markdown",
   "metadata": {
    "id": "qImaOgjePa_q"
   },
   "source": [
    "### Markov decision process\n",
    "\n",
    "This week's methods are all built to solve __M__arkov __D__ecision __P__rocesses. In the broadest sense, an MDP is defined by how it changes states and how rewards are computed.\n",
    "\n",
    "State transition is defined by $P(s' |s,a)$ - how likely are you to end at state $s'$ if you take action $a$ from state $s$. Now there's more than one way to define rewards, but we'll use $r(s,a,s')$ function for convenience.\n",
    "\n",
    "_This notebook is inspired by the awesome_ [CS294](https://github.com/berkeleydeeprlcourse/homework/blob/36a0b58261acde756abd55306fbe63df226bf62b/hw2/HW2.ipynb) _by Berkeley_"
   ]
  },
  {
   "cell_type": "markdown",
   "metadata": {
    "id": "kbqE2ys5Pa_u"
   },
   "source": [
    "For starters, let's define a simple MDP from this picture:\n",
    "\n",
    "<img src=\"https://upload.wikimedia.org/wikipedia/commons/a/ad/Markov_Decision_Process.svg\" width=\"400px\" alt=\"Diagram by Waldoalvarez via Wikimedia Commons, CC BY-SA 4.0\"/>"
   ]
  },
  {
   "cell_type": "code",
   "execution_count": 3,
   "metadata": {
    "id": "gtrjl2NWPa_v"
   },
   "outputs": [],
   "source": [
    "import sys, os\n",
    "\n",
    "# This code creates a virtual display to draw game images on.\n",
    "# It will have no effect if your machine has a monitor.\n",
    "if type(os.environ.get(\"DISPLAY\")) is not str or len(os.environ.get(\"DISPLAY\")) == 0:\n",
    "    !bash ../xvfb start\n",
    "    os.environ['DISPLAY'] = ':1'"
   ]
  },
  {
   "cell_type": "code",
   "execution_count": 4,
   "metadata": {
    "id": "U5mGh1jYPa_w"
   },
   "outputs": [
    {
     "name": "stderr",
     "output_type": "stream",
     "text": [
      "/home/hshwang/anaconda3/envs/pytorch/lib/python3.8/site-packages/ale_py/roms/__init__.py:94: DeprecationWarning: Automatic importing of atari-py roms won't be supported in future releases of ale-py. Please migrate over to using `ale-import-roms` OR an ALE-supported ROM package. To make this warning disappear you can run `ale-import-roms --import-from-pkg atari_py.atari_roms`.For more information see: https://github.com/mgbellemare/Arcade-Learning-Environment#rom-management\n",
      "  _RESOLVED_ROMS = _resolve_roms()\n"
     ]
    }
   ],
   "source": [
    "transition_probs = {\n",
    "    's0': {\n",
    "        'a0': {'s0': 0.5, 's2': 0.5},\n",
    "        'a1': {'s2': 1}\n",
    "    },\n",
    "    's1': {\n",
    "        'a0': {'s0': 0.7, 's1': 0.1, 's2': 0.2},\n",
    "        'a1': {'s1': 0.95, 's2': 0.05}\n",
    "    },\n",
    "    's2': {\n",
    "        'a0': {'s0': 0.4, 's2': 0.6},\n",
    "        'a1': {'s0': 0.3, 's1': 0.3, 's2': 0.4}\n",
    "    }\n",
    "}\n",
    "rewards = {\n",
    "    's1': {'a0': {'s0': +5}},\n",
    "    's2': {'a1': {'s0': -1}}\n",
    "}\n",
    "\n",
    "from material.mdp import MDP\n",
    "mdp = MDP(transition_probs, rewards, initial_state='s0')"
   ]
  },
  {
   "cell_type": "markdown",
   "metadata": {
    "id": "Pgm4-LSzPa_x"
   },
   "source": [
    "We can now use MDP just as any other gym environment:"
   ]
  },
  {
   "cell_type": "code",
   "execution_count": null,
   "metadata": {
    "id": "0LIqbBJ2Pa_x",
    "outputId": "f88789b9-8638-406b-f27b-ca3a1a4c6d39"
   },
   "outputs": [
    {
     "name": "stdout",
     "output_type": "stream",
     "text": [
      "initial state = s0\n",
      "next_state = s2, reward = 0.0, done = False\n"
     ]
    }
   ],
   "source": [
    "print('initial state =', mdp.reset())\n",
    "next_state, reward, done, info = mdp.step('a1')\n",
    "print('next_state = %s, reward = %s, done = %s' % (next_state, reward, done))"
   ]
  },
  {
   "cell_type": "markdown",
   "metadata": {
    "id": "s_A73wYePa_y"
   },
   "source": [
    "but it also has other methods that you'll need for Value Iteration"
   ]
  },
  {
   "cell_type": "code",
   "execution_count": 5,
   "metadata": {
    "id": "pzjZraVhPa_z",
    "outputId": "25558551-ce49-44ba-b6bf-eb10e81f3b3f"
   },
   "outputs": [
    {
     "name": "stdout",
     "output_type": "stream",
     "text": [
      "mdp.get_all_states = ('s0', 's1', 's2')\n",
      "mdp.get_possible_actions('s1') =  ('a0', 'a1')\n",
      "mdp.get_next_states('s1', 'a0') =  {'s0': 0.7, 's1': 0.1, 's2': 0.2}\n",
      "mdp.get_reward('s1', 'a0', 's0') =  5\n",
      "mdp.get_transition_prob('s1', 'a0', 's0') =  0.7\n"
     ]
    }
   ],
   "source": [
    "print(\"mdp.get_all_states =\", mdp.get_all_states())\n",
    "print(\"mdp.get_possible_actions('s1') = \", mdp.get_possible_actions('s1'))\n",
    "print(\"mdp.get_next_states('s1', 'a0') = \", mdp.get_next_states('s1', 'a0'))\n",
    "print(\"mdp.get_reward('s1', 'a0', 's0') = \", mdp.get_reward('s1', 'a0', 's0'))\n",
    "print(\"mdp.get_transition_prob('s1', 'a0', 's0') = \", mdp.get_transition_prob('s1', 'a0', 's0'))"
   ]
  },
  {
   "cell_type": "markdown",
   "metadata": {
    "id": "zcGPwMh1Pa_0"
   },
   "source": [
    "### Optional: Visualizing MDPs\n",
    "\n",
    "You can also visualize any MDP with the drawing fuction donated by [neer201](https://github.com/neer201).\n",
    "\n",
    "You have to install graphviz for system and for python. \n",
    "\n",
    "1. * For ubuntu just run: `sudo apt-get install graphviz` \n",
    "   * For OSX: `brew install graphviz`\n",
    "2. `pip install graphviz`\n",
    "3. restart the notebook\n",
    "\n",
    "__Note:__ Installing graphviz on some OS (esp. Windows) may be tricky. However, you can ignore this part alltogether and use the standart vizualization."
   ]
  },
  {
   "cell_type": "code",
   "execution_count": 6,
   "metadata": {
    "id": "I9KpXvyCPa_0",
    "outputId": "b1b036ad-8e77-4943-9b81-9795e17bdcca"
   },
   "outputs": [
    {
     "name": "stdout",
     "output_type": "stream",
     "text": [
      "Graphviz available: True\n"
     ]
    }
   ],
   "source": [
    "from material.mdp import has_graphviz\n",
    "from IPython.display import display\n",
    "print(\"Graphviz available:\", has_graphviz)"
   ]
  },
  {
   "cell_type": "code",
   "execution_count": 8,
   "metadata": {
    "id": "JkBfj1GzPa_1",
    "outputId": "7d81c6f2-ccbf-4627-8320-de9c5e753c08"
   },
   "outputs": [
    {
     "data": {
      "image/svg+xml": [
       "<?xml version=\"1.0\" encoding=\"UTF-8\" standalone=\"no\"?>\n",
       "<!DOCTYPE svg PUBLIC \"-//W3C//DTD SVG 1.1//EN\"\n",
       " \"http://www.w3.org/Graphics/SVG/1.1/DTD/svg11.dtd\">\n",
       "<!-- Generated by graphviz version 2.40.1 (20161225.0304)\n",
       " -->\n",
       "<!-- Title: MDP Pages: 1 -->\n",
       "<svg width=\"720pt\" height=\"226pt\"\n",
       " viewBox=\"0.00 0.00 720.00 225.64\" xmlns=\"http://www.w3.org/2000/svg\" xmlns:xlink=\"http://www.w3.org/1999/xlink\">\n",
       "<g id=\"graph0\" class=\"graph\" transform=\"scale(.7008 .7008) rotate(0) translate(4 318)\">\n",
       "<title>MDP</title>\n",
       "<polygon fill=\"#ffffff\" stroke=\"transparent\" points=\"-4,4 -4,-318 1023.463,-318 1023.463,4 -4,4\"/>\n",
       "<!-- s0 -->\n",
       "<g id=\"node1\" class=\"node\">\n",
       "<title>s0</title>\n",
       "<ellipse fill=\"#85ff75\" stroke=\"#85ff75\" cx=\"40\" cy=\"-116\" rx=\"36\" ry=\"36\"/>\n",
       "<ellipse fill=\"none\" stroke=\"#85ff75\" cx=\"40\" cy=\"-116\" rx=\"40\" ry=\"40\"/>\n",
       "<text text-anchor=\"middle\" x=\"40\" y=\"-109.8\" font-family=\"Arial\" font-size=\"24.00\" fill=\"#000000\">s0</text>\n",
       "</g>\n",
       "<!-- s0&#45;a0 -->\n",
       "<g id=\"node2\" class=\"node\">\n",
       "<title>s0&#45;a0</title>\n",
       "<ellipse fill=\"#ffb6c1\" stroke=\"#ffb6c1\" cx=\"193.5772\" cy=\"-160\" rx=\"27.6545\" ry=\"27.6545\"/>\n",
       "<text text-anchor=\"middle\" x=\"193.5772\" y=\"-155\" font-family=\"Arial\" font-size=\"20.00\" fill=\"#000000\">a0</text>\n",
       "</g>\n",
       "<!-- s0&#45;&gt;s0&#45;a0 -->\n",
       "<g id=\"edge1\" class=\"edge\">\n",
       "<title>s0&#45;&gt;s0&#45;a0</title>\n",
       "<path fill=\"none\" stroke=\"#ff0000\" stroke-width=\"2\" d=\"M79.2844,-124.7026C99.8974,-129.5498 125.4811,-136.0095 148,-143 151.327,-144.0328 154.7652,-145.1741 158.1924,-146.3622\"/>\n",
       "<polygon fill=\"#ff0000\" stroke=\"#ff0000\" stroke-width=\"2\" points=\"157.1257,-149.698 167.7202,-149.7831 159.4912,-143.1097 157.1257,-149.698\"/>\n",
       "</g>\n",
       "<!-- s0&#45;a1 -->\n",
       "<g id=\"node4\" class=\"node\">\n",
       "<title>s0&#45;a1</title>\n",
       "<ellipse fill=\"#ffb6c1\" stroke=\"#ffb6c1\" cx=\"193.5772\" cy=\"-233\" rx=\"27.6545\" ry=\"27.6545\"/>\n",
       "<text text-anchor=\"middle\" x=\"193.5772\" y=\"-228\" font-family=\"Arial\" font-size=\"20.00\" fill=\"#000000\">a1</text>\n",
       "</g>\n",
       "<!-- s0&#45;&gt;s0&#45;a1 -->\n",
       "<g id=\"edge4\" class=\"edge\">\n",
       "<title>s0&#45;&gt;s0&#45;a1</title>\n",
       "<path fill=\"none\" stroke=\"#ff0000\" stroke-width=\"2\" d=\"M66.6878,-145.9984C76.104,-155.7862 87.0765,-166.3514 98,-175 117.3546,-190.324 141.0693,-204.7377 160.0344,-215.3632\"/>\n",
       "<polygon fill=\"#ff0000\" stroke=\"#ff0000\" stroke-width=\"2\" points=\"158.4757,-218.5005 168.923,-220.2624 161.8547,-212.37 158.4757,-218.5005\"/>\n",
       "</g>\n",
       "<!-- s0&#45;a0&#45;&gt;s0 -->\n",
       "<g id=\"edge2\" class=\"edge\">\n",
       "<title>s0&#45;a0&#45;&gt;s0</title>\n",
       "<path fill=\"none\" stroke=\"#0000ff\" stroke-dasharray=\"5,2\" d=\"M166.0433,-155.6398C146.7591,-152.2473 120.5165,-146.9481 98,-140 94.1846,-138.8227 90.2733,-137.4907 86.3715,-136.0724\"/>\n",
       "<polygon fill=\"#0000ff\" stroke=\"#0000ff\" points=\"87.3439,-132.6975 76.753,-132.4084 84.852,-139.239 87.3439,-132.6975\"/>\n",
       "<text text-anchor=\"middle\" x=\"123\" y=\"-158.2\" font-family=\"Arial\" font-size=\"16.00\" fill=\"#000000\">p = 0.5</text>\n",
       "</g>\n",
       "<!-- s2 -->\n",
       "<g id=\"node3\" class=\"node\">\n",
       "<title>s2</title>\n",
       "<ellipse fill=\"#85ff75\" stroke=\"#85ff75\" cx=\"433.1543\" cy=\"-183\" rx=\"36\" ry=\"36\"/>\n",
       "<ellipse fill=\"none\" stroke=\"#85ff75\" cx=\"433.1543\" cy=\"-183\" rx=\"40\" ry=\"40\"/>\n",
       "<text text-anchor=\"middle\" x=\"433.1543\" y=\"-176.8\" font-family=\"Arial\" font-size=\"24.00\" fill=\"#000000\">s2</text>\n",
       "</g>\n",
       "<!-- s0&#45;a0&#45;&gt;s2 -->\n",
       "<g id=\"edge3\" class=\"edge\">\n",
       "<title>s0&#45;a0&#45;&gt;s2</title>\n",
       "<path fill=\"none\" stroke=\"#0000ff\" stroke-dasharray=\"5,2\" d=\"M221.0597,-162.6384C260.5326,-166.4279 333.9353,-173.4747 383.1716,-178.2015\"/>\n",
       "<polygon fill=\"#0000ff\" stroke=\"#0000ff\" points=\"383.0017,-181.7012 393.2904,-179.173 383.6707,-174.7333 383.0017,-181.7012\"/>\n",
       "<text text-anchor=\"middle\" x=\"307.1543\" y=\"-182.2\" font-family=\"Arial\" font-size=\"16.00\" fill=\"#000000\">p = 0.5</text>\n",
       "</g>\n",
       "<!-- s2&#45;a0 -->\n",
       "<g id=\"node8\" class=\"node\">\n",
       "<title>s2&#45;a0</title>\n",
       "<ellipse fill=\"#ffb6c1\" stroke=\"#ffb6c1\" cx=\"666.7315\" cy=\"-162\" rx=\"27.6545\" ry=\"27.6545\"/>\n",
       "<text text-anchor=\"middle\" x=\"666.7315\" y=\"-157\" font-family=\"Arial\" font-size=\"20.00\" fill=\"#000000\">a0</text>\n",
       "</g>\n",
       "<!-- s2&#45;&gt;s2&#45;a0 -->\n",
       "<g id=\"edge13\" class=\"edge\">\n",
       "<title>s2&#45;&gt;s2&#45;a0</title>\n",
       "<path fill=\"none\" stroke=\"#ff0000\" stroke-width=\"2\" d=\"M473.2351,-186.9649C511.6217,-189.7355 570.9586,-191.3218 621.1543,-181 624.8123,-180.2478 628.5451,-179.2014 632.2213,-177.9828\"/>\n",
       "<polygon fill=\"#ff0000\" stroke=\"#ff0000\" stroke-width=\"2\" points=\"633.5825,-181.2107 641.7302,-174.4383 631.1375,-174.6516 633.5825,-181.2107\"/>\n",
       "</g>\n",
       "<!-- s2&#45;a1 -->\n",
       "<g id=\"node9\" class=\"node\">\n",
       "<title>s2&#45;a1</title>\n",
       "<ellipse fill=\"#ffb6c1\" stroke=\"#ffb6c1\" cx=\"666.7315\" cy=\"-80\" rx=\"27.6545\" ry=\"27.6545\"/>\n",
       "<text text-anchor=\"middle\" x=\"666.7315\" y=\"-75\" font-family=\"Arial\" font-size=\"20.00\" fill=\"#000000\">a1</text>\n",
       "</g>\n",
       "<!-- s2&#45;&gt;s2&#45;a1 -->\n",
       "<g id=\"edge16\" class=\"edge\">\n",
       "<title>s2&#45;&gt;s2&#45;a1</title>\n",
       "<path fill=\"none\" stroke=\"#ff0000\" stroke-width=\"2\" d=\"M467.3288,-161.7827C475.0423,-157.3286 483.2807,-152.8261 491.1543,-149 538.2751,-126.1024 595.0607,-104.8798 631.0354,-92.179\"/>\n",
       "<polygon fill=\"#ff0000\" stroke=\"#ff0000\" stroke-width=\"2\" points=\"632.3234,-95.4365 640.6049,-88.8284 630.0101,-88.8297 632.3234,-95.4365\"/>\n",
       "</g>\n",
       "<!-- s0&#45;a1&#45;&gt;s2 -->\n",
       "<g id=\"edge5\" class=\"edge\">\n",
       "<title>s0&#45;a1&#45;&gt;s2</title>\n",
       "<path fill=\"none\" stroke=\"#0000ff\" stroke-dasharray=\"5,2\" d=\"M221.1044,-228.5867C256.8082,-222.6933 320.9391,-211.5305 375.1543,-199 378.3093,-198.2708 381.5506,-197.4836 384.8112,-196.6631\"/>\n",
       "<polygon fill=\"#0000ff\" stroke=\"#0000ff\" points=\"385.7835,-200.0268 394.5834,-194.1266 384.0248,-193.2513 385.7835,-200.0268\"/>\n",
       "<text text-anchor=\"middle\" x=\"307.1543\" y=\"-230.2\" font-family=\"Arial\" font-size=\"16.00\" fill=\"#000000\">p = 1</text>\n",
       "</g>\n",
       "<!-- s1 -->\n",
       "<g id=\"node5\" class=\"node\">\n",
       "<title>s1</title>\n",
       "<ellipse fill=\"#85ff75\" stroke=\"#85ff75\" cx=\"829.3087\" cy=\"-116\" rx=\"36\" ry=\"36\"/>\n",
       "<ellipse fill=\"none\" stroke=\"#85ff75\" cx=\"829.3087\" cy=\"-116\" rx=\"40\" ry=\"40\"/>\n",
       "<text text-anchor=\"middle\" x=\"829.3087\" y=\"-109.8\" font-family=\"Arial\" font-size=\"24.00\" fill=\"#000000\">s1</text>\n",
       "</g>\n",
       "<!-- s1&#45;a0 -->\n",
       "<g id=\"node6\" class=\"node\">\n",
       "<title>s1&#45;a0</title>\n",
       "<ellipse fill=\"#ffb6c1\" stroke=\"#ffb6c1\" cx=\"991.8858\" cy=\"-92\" rx=\"27.6545\" ry=\"27.6545\"/>\n",
       "<text text-anchor=\"middle\" x=\"991.8858\" y=\"-87\" font-family=\"Arial\" font-size=\"20.00\" fill=\"#000000\">a0</text>\n",
       "</g>\n",
       "<!-- s1&#45;&gt;s1&#45;a0 -->\n",
       "<g id=\"edge6\" class=\"edge\">\n",
       "<title>s1&#45;&gt;s1&#45;a0</title>\n",
       "<path fill=\"none\" stroke=\"#ff0000\" stroke-width=\"2\" d=\"M869.2486,-112.1898C891.9249,-109.7844 920.7924,-106.3154 946.3087,-102 949.1542,-101.5187 952.0904,-100.9778 955.0369,-100.403\"/>\n",
       "<polygon fill=\"#ff0000\" stroke=\"#ff0000\" stroke-width=\"2\" points=\"955.889,-103.8011 964.9779,-98.3566 954.4775,-96.9449 955.889,-103.8011\"/>\n",
       "</g>\n",
       "<!-- s1&#45;a1 -->\n",
       "<g id=\"node7\" class=\"node\">\n",
       "<title>s1&#45;a1</title>\n",
       "<ellipse fill=\"#ffb6c1\" stroke=\"#ffb6c1\" cx=\"991.8858\" cy=\"-174\" rx=\"27.6545\" ry=\"27.6545\"/>\n",
       "<text text-anchor=\"middle\" x=\"991.8858\" y=\"-169\" font-family=\"Arial\" font-size=\"20.00\" fill=\"#000000\">a1</text>\n",
       "</g>\n",
       "<!-- s1&#45;&gt;s1&#45;a1 -->\n",
       "<g id=\"edge10\" class=\"edge\">\n",
       "<title>s1&#45;&gt;s1&#45;a1</title>\n",
       "<path fill=\"none\" stroke=\"#ff0000\" stroke-width=\"2\" d=\"M867.494,-127.948C890.4784,-135.3328 920.2423,-145.2373 946.3087,-155 949.8059,-156.3098 953.4327,-157.7241 957.0437,-159.1692\"/>\n",
       "<polygon fill=\"#ff0000\" stroke=\"#ff0000\" stroke-width=\"2\" points=\"955.8842,-162.4763 966.4653,-163.0165 958.5305,-155.9957 955.8842,-162.4763\"/>\n",
       "</g>\n",
       "<!-- s1&#45;a0&#45;&gt;s0 -->\n",
       "<g id=\"edge7\" class=\"edge\">\n",
       "<title>s1&#45;a0&#45;&gt;s0</title>\n",
       "<path fill=\"none\" stroke=\"#0000ff\" stroke-dasharray=\"5,2\" d=\"M972.3647,-72.0374C943.7154,-44.9794 887.3603,0 829.3087,0 193.5772,0 193.5772,0 193.5772,0 142.2271,0 97.1839,-41.8033 69.3807,-75.22\"/>\n",
       "<polygon fill=\"#0000ff\" stroke=\"#0000ff\" points=\"66.5993,-73.0932 63.0318,-83.0693 72.0419,-77.4953 66.5993,-73.0932\"/>\n",
       "<text text-anchor=\"middle\" x=\"556.1543\" y=\"-5.2\" font-family=\"Arial\" font-size=\"16.00\" fill=\"#000000\">p = 0.7 &#160;reward =5</text>\n",
       "</g>\n",
       "<!-- s1&#45;a0&#45;&gt;s2 -->\n",
       "<g id=\"edge9\" class=\"edge\">\n",
       "<title>s1&#45;a0&#45;&gt;s2</title>\n",
       "<path fill=\"none\" stroke=\"#0000ff\" stroke-dasharray=\"5,2\" d=\"M976.2683,-115.2719C972.0616,-122.1013 967.7329,-129.6999 964.3087,-137 953.7441,-159.5223 966.2691,-175.1526 946.3087,-190 783.9583,-310.7629 691.4414,-228.7477 491.1543,-200 487.8825,-199.5304 484.5378,-198.919 481.1875,-198.2077\"/>\n",
       "<polygon fill=\"#0000ff\" stroke=\"#0000ff\" points=\"481.7276,-194.7383 471.1878,-195.8166 480.0996,-201.5463 481.7276,-194.7383\"/>\n",
       "<text text-anchor=\"middle\" x=\"741.8087\" y=\"-258.2\" font-family=\"Arial\" font-size=\"16.00\" fill=\"#000000\">p = 0.2</text>\n",
       "</g>\n",
       "<!-- s1&#45;a0&#45;&gt;s1 -->\n",
       "<g id=\"edge8\" class=\"edge\">\n",
       "<title>s1&#45;a0&#45;&gt;s1</title>\n",
       "<path fill=\"none\" stroke=\"#0000ff\" stroke-dasharray=\"5,2\" d=\"M965.6405,-83.4352C944.2075,-77.7535 913.319,-72.584 887.3087,-80 881.5406,-81.6446 875.7864,-84.0459 870.2659,-86.8404\"/>\n",
       "<polygon fill=\"#0000ff\" stroke=\"#0000ff\" points=\"868.2815,-83.9387 861.2349,-91.8506 871.6774,-90.0599 868.2815,-83.9387\"/>\n",
       "<text text-anchor=\"middle\" x=\"916.8087\" y=\"-85.2\" font-family=\"Arial\" font-size=\"16.00\" fill=\"#000000\">p = 0.1</text>\n",
       "</g>\n",
       "<!-- s1&#45;a1&#45;&gt;s2 -->\n",
       "<g id=\"edge12\" class=\"edge\">\n",
       "<title>s1&#45;a1&#45;&gt;s2</title>\n",
       "<path fill=\"none\" stroke=\"#0000ff\" stroke-dasharray=\"5,2\" d=\"M979.9034,-198.873C972.2373,-211.8113 960.9673,-226.464 946.3087,-234 766.4005,-326.4912 679.6137,-307.5164 491.1543,-234 482.8044,-230.7427 474.8606,-225.7094 467.6802,-220.0496\"/>\n",
       "<polygon fill=\"#0000ff\" stroke=\"#0000ff\" points=\"469.5052,-217.0066 459.623,-213.1866 464.9661,-222.3354 469.5052,-217.0066\"/>\n",
       "<text text-anchor=\"middle\" x=\"741.8087\" y=\"-301.2\" font-family=\"Arial\" font-size=\"16.00\" fill=\"#000000\">p = 0.05</text>\n",
       "</g>\n",
       "<!-- s1&#45;a1&#45;&gt;s1 -->\n",
       "<g id=\"edge11\" class=\"edge\">\n",
       "<title>s1&#45;a1&#45;&gt;s1</title>\n",
       "<path fill=\"none\" stroke=\"#0000ff\" stroke-dasharray=\"5,2\" d=\"M964.4796,-170.89C942.9286,-167.8208 912.4497,-162.0831 887.3087,-152 881.8827,-149.8239 876.3943,-147.1497 871.069,-144.2503\"/>\n",
       "<polygon fill=\"#0000ff\" stroke=\"#0000ff\" points=\"872.7141,-141.1589 862.3007,-139.2062 869.2235,-147.2265 872.7141,-141.1589\"/>\n",
       "<text text-anchor=\"middle\" x=\"916.8087\" y=\"-173.2\" font-family=\"Arial\" font-size=\"16.00\" fill=\"#000000\">p = 0.95</text>\n",
       "</g>\n",
       "<!-- s2&#45;a0&#45;&gt;s0 -->\n",
       "<g id=\"edge14\" class=\"edge\">\n",
       "<title>s2&#45;a0&#45;&gt;s0</title>\n",
       "<path fill=\"none\" stroke=\"#0000ff\" stroke-dasharray=\"5,2\" d=\"M640.4115,-153.6379C634.1509,-151.8874 627.4576,-150.2085 621.1543,-149 446.1882,-115.4541 399.1567,-130.324 221.1543,-123 177.0766,-121.1864 126.9601,-119.2603 90.6308,-117.8886\"/>\n",
       "<polygon fill=\"#0000ff\" stroke=\"#0000ff\" points=\"90.4191,-114.3783 80.2944,-117.4993 90.1556,-121.3733 90.4191,-114.3783\"/>\n",
       "<text text-anchor=\"middle\" x=\"307.1543\" y=\"-131.2\" font-family=\"Arial\" font-size=\"16.00\" fill=\"#000000\">p = 0.4</text>\n",
       "</g>\n",
       "<!-- s2&#45;a0&#45;&gt;s2 -->\n",
       "<g id=\"edge15\" class=\"edge\">\n",
       "<title>s2&#45;a0&#45;&gt;s2</title>\n",
       "<path fill=\"none\" stroke=\"#0000ff\" stroke-dasharray=\"5,2\" d=\"M639.3416,-157.9791C604.5225,-153.6753 542.7351,-148.7496 491.1543,-159 487.066,-159.8125 482.9045,-160.9179 478.7831,-162.2107\"/>\n",
       "<polygon fill=\"#0000ff\" stroke=\"#0000ff\" points=\"477.5839,-158.9221 469.2922,-165.5174 479.887,-165.5324 477.5839,-158.9221\"/>\n",
       "<text text-anchor=\"middle\" x=\"556.1543\" y=\"-164.2\" font-family=\"Arial\" font-size=\"16.00\" fill=\"#000000\">p = 0.6</text>\n",
       "</g>\n",
       "<!-- s2&#45;a1&#45;&gt;s0 -->\n",
       "<g id=\"edge17\" class=\"edge\">\n",
       "<title>s2&#45;a1&#45;&gt;s0</title>\n",
       "<path fill=\"none\" stroke=\"#0000ff\" stroke-dasharray=\"5,2\" d=\"M643.5482,-64.3784C636.6374,-60.5416 628.8477,-56.9714 621.1543,-55 456.6448,-12.8443 407.9727,-45.5381 239.1543,-64 175.7418,-70.9348 158.9077,-71.0397 98,-90 93.9106,-91.273 89.7281,-92.7576 85.5746,-94.3605\"/>\n",
       "<polygon fill=\"#0000ff\" stroke=\"#0000ff\" points=\"83.9293,-91.2516 75.9933,-98.271 86.5745,-97.7326 83.9293,-91.2516\"/>\n",
       "<text text-anchor=\"middle\" x=\"307.1543\" y=\"-69.2\" font-family=\"Arial\" font-size=\"16.00\" fill=\"#000000\">p = 0.3 &#160;reward =&#45;1</text>\n",
       "</g>\n",
       "<!-- s2&#45;a1&#45;&gt;s2 -->\n",
       "<g id=\"edge19\" class=\"edge\">\n",
       "<title>s2&#45;a1&#45;&gt;s2</title>\n",
       "<path fill=\"none\" stroke=\"#0000ff\" stroke-dasharray=\"5,2\" d=\"M640.4326,-71.0411C604.0521,-60.3658 537.6085,-47.2183 491.1543,-75 469.3384,-88.0469 455.2541,-112.4282 446.4357,-134.7277\"/>\n",
       "<polygon fill=\"#0000ff\" stroke=\"#0000ff\" points=\"443.1489,-133.5248 442.9716,-144.1181 449.7163,-135.9475 443.1489,-133.5248\"/>\n",
       "<text text-anchor=\"middle\" x=\"556.1543\" y=\"-80.2\" font-family=\"Arial\" font-size=\"16.00\" fill=\"#000000\">p = 0.4</text>\n",
       "</g>\n",
       "<!-- s2&#45;a1&#45;&gt;s1 -->\n",
       "<g id=\"edge18\" class=\"edge\">\n",
       "<title>s2&#45;a1&#45;&gt;s1</title>\n",
       "<path fill=\"none\" stroke=\"#0000ff\" stroke-dasharray=\"5,2\" d=\"M693.9433,-86.0256C717.3708,-91.2132 751.7657,-98.8294 780.0218,-105.0862\"/>\n",
       "<polygon fill=\"#0000ff\" stroke=\"#0000ff\" points=\"779.6023,-108.5781 790.1225,-107.3229 781.1157,-101.7436 779.6023,-108.5781\"/>\n",
       "<text text-anchor=\"middle\" x=\"741.8087\" y=\"-108.2\" font-family=\"Arial\" font-size=\"16.00\" fill=\"#000000\">p = 0.3</text>\n",
       "</g>\n",
       "</g>\n",
       "</svg>\n"
      ],
      "text/plain": [
       "<graphviz.dot.Digraph at 0x7f1552c97e20>"
      ]
     },
     "metadata": {},
     "output_type": "display_data"
    }
   ],
   "source": [
    "if has_graphviz:\n",
    "    from material.mdp import plot_graph, plot_graph_with_state_values, plot_graph_optimal_strategy_and_state_values\n",
    "    display(plot_graph(mdp))"
   ]
  },
  {
   "cell_type": "markdown",
   "metadata": {
    "id": "FQ1c_j7DPa_1"
   },
   "source": [
    "### Value Iteration\n",
    "\n",
    "Now let's build something to solve this MDP. The simplest algorithm so far is __V__alue __I__teration\n",
    "\n",
    "Here's the pseudo-code for VI:\n",
    "\n",
    "---\n",
    "\n",
    "`1.` Initialize $V^{(0)}(s)=0$, for all $s$\n",
    "\n",
    "`2.` For $i=0, 1, 2, \\dots$\n",
    " \n",
    "`3.` $ \\quad V_{(i+1)}(s) = \\max_a \\sum_{s'} P(s' | s,a) \\cdot [ r(s,a,s') + \\gamma V_{i}(s')]$, for all $s$\n",
    "\n",
    "---"
   ]
  },
  {
   "cell_type": "markdown",
   "metadata": {
    "id": "pRDZvyjKPa_2"
   },
   "source": [
    "First, let's write a function to compute the state-action value function $Q^{\\pi}$, defined as follows\n",
    "\n",
    "$$Q_i(s, a) = \\sum_{s'} P(s' | s,a) \\cdot [ r(s,a,s') + \\gamma V_{i}(s')]$$\n"
   ]
  },
  {
   "cell_type": "code",
   "execution_count": 17,
   "metadata": {
    "id": "_pYMCwfoPa_2"
   },
   "outputs": [],
   "source": [
    "def get_action_value(mdp, state_values, state, action, gamma):\n",
    "    \"\"\" Computes Q(s,a) as in formula above \"\"\"\n",
    "\n",
    "    #print(\"mdp.get_all_states =\", mdp.get_all_states())\n",
    "    #print(\"mdp.get_possible_actions('s1') = \", mdp.get_possible_actions('s1'))\n",
    "    #print(\"mdp.get_next_states('s1', 'a0') = \", mdp.get_next_states('s1', 'a0'))\n",
    "    #print(\"mdp.get_reward('s1', 'a0', 's0') = \", mdp.get_reward('s1', 'a0', 's0'))\n",
    "    #print(\"mdp.get_transition_prob('s1', 'a0', 's0') = \", mdp.get_transition_prob('s1', 'a0', 's0'))\n",
    "    #mdp.get_all_states = ('s0', 's1', 's2')\n",
    "    #mdp.get_possible_actions('s1') =  ('a0', 'a1')\n",
    "    #mdp.get_next_states('s1', 'a0') =  {'s0': 0.7, 's1': 0.1, 's2': 0.2}\n",
    "    #mdp.get_reward('s1', 'a0', 's0') =  5\n",
    "    #mdp.get_transition_prob('s1', 'a0', 's0') =  0.7\n",
    "    #<YOUR CODE>\n",
    "    q_sa = 0\n",
    "    next_states = mdp.get_next_states(state,action)\n",
    "    for next_state,transition_prob in next_states.items():\n",
    "        reward = mdp.get_reward(state,action,next_state)\n",
    "        q_sa += transition_prob*(reward+gamma*state_values[next_state])\n",
    "    return q_sa #<YOUR CODE>"
   ]
  },
  {
   "cell_type": "code",
   "execution_count": 18,
   "metadata": {
    "id": "-J6SYSfePa_2"
   },
   "outputs": [],
   "source": [
    "import numpy as np\n",
    "test_Vs = {s: i for i, s in enumerate(sorted(mdp.get_all_states()))}\n",
    "assert np.isclose(get_action_value(mdp, test_Vs, 's2', 'a1', 0.9), 0.69)\n",
    "assert np.isclose(get_action_value(mdp, test_Vs, 's1', 'a0', 0.9), 3.95)"
   ]
  },
  {
   "cell_type": "markdown",
   "metadata": {
    "id": "H4VGUx4BPa_3"
   },
   "source": [
    "Using $Q(s,a)$ we can now define the \"next\" V(s) for value iteration.\n",
    " $$V_{(i+1)}(s) = \\max_a \\sum_{s'} P(s' | s,a) \\cdot [ r(s,a,s') + \\gamma V_{i}(s')] = \\max_a Q_i(s,a)$$"
   ]
  },
  {
   "cell_type": "code",
   "execution_count": 29,
   "metadata": {
    "id": "eK714IkEPa_3"
   },
   "outputs": [],
   "source": [
    "def get_new_state_value(mdp, state_values, state, gamma):\n",
    "    \"\"\" Computes next V(s) as in formula above. Please do not change state_values in process. \"\"\"\n",
    "    if mdp.is_terminal(state):\n",
    "        return 0\n",
    "\n",
    "    #print(\"mdp.get_all_states =\", mdp.get_all_states())\n",
    "    #print(\"mdp.get_possible_actions('s1') = \", mdp.get_possible_actions('s1'))\n",
    "    #print(\"mdp.get_next_states('s1', 'a0') = \", mdp.get_next_states('s1', 'a0'))\n",
    "    #print(\"mdp.get_reward('s1', 'a0', 's0') = \", mdp.get_reward('s1', 'a0', 's0'))\n",
    "    #print(\"mdp.get_transition_prob('s1', 'a0', 's0') = \", mdp.get_transition_prob('s1', 'a0', 's0'))\n",
    "    #mdp.get_all_states = ('s0', 's1', 's2')\n",
    "    #mdp.get_possible_actions('s1') =  ('a0', 'a1')\n",
    "    #mdp.get_next_states('s1', 'a0') =  {'s0': 0.7, 's1': 0.1, 's2': 0.2}\n",
    "    #mdp.get_reward('s1', 'a0', 's0') =  5\n",
    "    #mdp.get_transition_prob('s1', 'a0', 's0') =  0.7\n",
    "    \n",
    "    #<YOUR CODE>\n",
    "    V_s = []\n",
    "    actions = mdp.get_possible_actions(state)\n",
    "    for action in actions:\n",
    "        next_states = mdp.get_next_states(state,action)\n",
    "        dummy = 0\n",
    "        for next_state,transition_prob in next_states.items():\n",
    "            reward = mdp.get_reward(state,action,next_state)\n",
    "            dummy += transition_prob*(reward+gamma*state_values[next_state])\n",
    "        V_s.append(dummy)\n",
    "    V_s = np.array(V_s).max()\n",
    "    return V_s #<YOUR CODE>"
   ]
  },
  {
   "cell_type": "code",
   "execution_count": 30,
   "metadata": {
    "id": "KGeR9WmlPa_3"
   },
   "outputs": [],
   "source": [
    "test_Vs_copy = dict(test_Vs)\n",
    "assert np.isclose(get_new_state_value(mdp, test_Vs, 's0', 0.9), 1.8)\n",
    "assert np.isclose(get_new_state_value(mdp, test_Vs, 's2', 0.9), 1.08)\n",
    "assert np.isclose(get_new_state_value(mdp, {'s0': -1e10, 's1': 0, 's2': -2e10}, 's0', 0.9), -13500000000.0), \\\n",
    "    \"Please ensure that you handle negative Q-values of arbitrary magnitude correctly\"\n",
    "assert test_Vs == test_Vs_copy, \"Please do not change state_values in get_new_state_value\""
   ]
  },
  {
   "cell_type": "markdown",
   "metadata": {
    "id": "kVy5it82Pa_3"
   },
   "source": [
    "Finally, let's combine everything we wrote into a working value iteration algo."
   ]
  },
  {
   "cell_type": "code",
   "execution_count": 31,
   "metadata": {
    "id": "MdFKw7blPa_4"
   },
   "outputs": [
    {
     "data": {
      "image/svg+xml": [
       "<?xml version=\"1.0\" encoding=\"UTF-8\" standalone=\"no\"?>\n",
       "<!DOCTYPE svg PUBLIC \"-//W3C//DTD SVG 1.1//EN\"\n",
       " \"http://www.w3.org/Graphics/SVG/1.1/DTD/svg11.dtd\">\n",
       "<!-- Generated by graphviz version 2.40.1 (20161225.0304)\n",
       " -->\n",
       "<!-- Title: MDP Pages: 1 -->\n",
       "<svg width=\"720pt\" height=\"215pt\"\n",
       " viewBox=\"0.00 0.00 720.00 214.87\" xmlns=\"http://www.w3.org/2000/svg\" xmlns:xlink=\"http://www.w3.org/1999/xlink\">\n",
       "<g id=\"graph0\" class=\"graph\" transform=\"scale(.6571 .6571) rotate(0) translate(4 323)\">\n",
       "<title>MDP</title>\n",
       "<polygon fill=\"#ffffff\" stroke=\"transparent\" points=\"-4,4 -4,-323 1091.7199,-323 1091.7199,4 -4,4\"/>\n",
       "<!-- s0 -->\n",
       "<g id=\"node1\" class=\"node\">\n",
       "<title>s0</title>\n",
       "<ellipse fill=\"#85ff75\" stroke=\"#85ff75\" cx=\"51.3762\" cy=\"-116\" rx=\"47.2622\" ry=\"47.2622\"/>\n",
       "<ellipse fill=\"none\" stroke=\"#85ff75\" cx=\"51.3762\" cy=\"-116\" rx=\"51.2526\" ry=\"51.2526\"/>\n",
       "<text text-anchor=\"middle\" x=\"51.3762\" y=\"-122.8\" font-family=\"Arial\" font-size=\"24.00\" fill=\"#000000\">s0</text>\n",
       "<text text-anchor=\"middle\" x=\"51.3762\" y=\"-96.8\" font-family=\"Arial\" font-size=\"24.00\" fill=\"#000000\">V =0</text>\n",
       "</g>\n",
       "<!-- s0&#45;a0 -->\n",
       "<g id=\"node2\" class=\"node\">\n",
       "<title>s0&#45;a0</title>\n",
       "<ellipse fill=\"#ffb6c1\" stroke=\"#ffb6c1\" cx=\"216.3295\" cy=\"-160\" rx=\"27.6545\" ry=\"27.6545\"/>\n",
       "<text text-anchor=\"middle\" x=\"216.3295\" y=\"-155\" font-family=\"Arial\" font-size=\"20.00\" fill=\"#000000\">a0</text>\n",
       "</g>\n",
       "<!-- s0&#45;&gt;s0&#45;a0 -->\n",
       "<g id=\"edge1\" class=\"edge\">\n",
       "<title>s0&#45;&gt;s0&#45;a0</title>\n",
       "<path fill=\"none\" stroke=\"#ff0000\" stroke-width=\"2\" d=\"M102.0079,-125.8759C123.3915,-130.4524 148.4549,-136.3529 170.7523,-143 174.0908,-143.9952 177.5367,-145.1111 180.9688,-146.2829\"/>\n",
       "<polygon fill=\"#ff0000\" stroke=\"#ff0000\" stroke-width=\"2\" points=\"179.9093,-149.6209 190.504,-149.6798 182.2584,-143.0268 179.9093,-149.6209\"/>\n",
       "</g>\n",
       "<!-- s0&#45;a1 -->\n",
       "<g id=\"node4\" class=\"node\">\n",
       "<title>s0&#45;a1</title>\n",
       "<ellipse fill=\"#ffb6c1\" stroke=\"#ffb6c1\" cx=\"216.3295\" cy=\"-233\" rx=\"27.6545\" ry=\"27.6545\"/>\n",
       "<text text-anchor=\"middle\" x=\"216.3295\" y=\"-228\" font-family=\"Arial\" font-size=\"20.00\" fill=\"#000000\">a1</text>\n",
       "</g>\n",
       "<!-- s0&#45;&gt;s0&#45;a1 -->\n",
       "<g id=\"edge4\" class=\"edge\">\n",
       "<title>s0&#45;&gt;s0&#45;a1</title>\n",
       "<path fill=\"none\" stroke=\"#ff0000\" stroke-width=\"2\" d=\"M90.2161,-150.1326C99.9695,-158.2363 110.5648,-166.6548 120.7523,-174 140.8702,-188.5051 164.5898,-203.1605 183.3665,-214.2365\"/>\n",
       "<polygon fill=\"#ff0000\" stroke=\"#ff0000\" stroke-width=\"2\" points=\"181.7499,-217.3456 192.1496,-219.3699 185.2822,-211.3021 181.7499,-217.3456\"/>\n",
       "</g>\n",
       "<!-- s0&#45;a0&#45;&gt;s0 -->\n",
       "<g id=\"edge2\" class=\"edge\">\n",
       "<title>s0&#45;a0&#45;&gt;s0</title>\n",
       "<path fill=\"none\" stroke=\"#0000ff\" stroke-dasharray=\"5,2\" d=\"M188.9184,-155.2197C169.6906,-151.6345 143.4649,-146.2777 120.7523,-140 117.163,-139.0079 113.4893,-137.9297 109.7972,-136.7978\"/>\n",
       "<polygon fill=\"#0000ff\" stroke=\"#0000ff\" points=\"110.6165,-133.3859 100.0263,-133.699 108.5003,-140.0584 110.6165,-133.3859\"/>\n",
       "<text text-anchor=\"middle\" x=\"145.7523\" y=\"-157.2\" font-family=\"Arial\" font-size=\"16.00\" fill=\"#000000\">p = 0.5</text>\n",
       "</g>\n",
       "<!-- s2 -->\n",
       "<g id=\"node3\" class=\"node\">\n",
       "<title>s2</title>\n",
       "<ellipse fill=\"#85ff75\" stroke=\"#85ff75\" cx=\"467.2828\" cy=\"-189\" rx=\"47.2622\" ry=\"47.2622\"/>\n",
       "<ellipse fill=\"none\" stroke=\"#85ff75\" cx=\"467.2828\" cy=\"-189\" rx=\"51.2526\" ry=\"51.2526\"/>\n",
       "<text text-anchor=\"middle\" x=\"467.2828\" y=\"-195.8\" font-family=\"Arial\" font-size=\"24.00\" fill=\"#000000\">s2</text>\n",
       "<text text-anchor=\"middle\" x=\"467.2828\" y=\"-169.8\" font-family=\"Arial\" font-size=\"24.00\" fill=\"#000000\">V =0</text>\n",
       "</g>\n",
       "<!-- s0&#45;a0&#45;&gt;s2 -->\n",
       "<g id=\"edge3\" class=\"edge\">\n",
       "<title>s0&#45;a0&#45;&gt;s2</title>\n",
       "<path fill=\"none\" stroke=\"#0000ff\" stroke-dasharray=\"5,2\" d=\"M244.1447,-163.2143C282.9077,-167.6937 354.2131,-175.9337 405.8055,-181.8957\"/>\n",
       "<polygon fill=\"#0000ff\" stroke=\"#0000ff\" points=\"405.51,-185.3848 415.8457,-183.056 406.3136,-178.4311 405.51,-185.3848\"/>\n",
       "<text text-anchor=\"middle\" x=\"329.9066\" y=\"-186.2\" font-family=\"Arial\" font-size=\"16.00\" fill=\"#000000\">p = 0.5</text>\n",
       "</g>\n",
       "<!-- s2&#45;a0 -->\n",
       "<g id=\"node8\" class=\"node\">\n",
       "<title>s2&#45;a0</title>\n",
       "<ellipse fill=\"#ffb6c1\" stroke=\"#ffb6c1\" cx=\"712.2361\" cy=\"-162\" rx=\"27.6545\" ry=\"27.6545\"/>\n",
       "<text text-anchor=\"middle\" x=\"712.2361\" y=\"-157\" font-family=\"Arial\" font-size=\"20.00\" fill=\"#000000\">a0</text>\n",
       "</g>\n",
       "<!-- s2&#45;&gt;s2&#45;a0 -->\n",
       "<g id=\"edge13\" class=\"edge\">\n",
       "<title>s2&#45;&gt;s2&#45;a0</title>\n",
       "<path fill=\"none\" stroke=\"#ff0000\" stroke-width=\"2\" d=\"M518.7275,-191.8844C559.3704,-192.9828 617.274,-191.9158 666.6589,-181 670.3054,-180.194 674.0306,-179.1121 677.7022,-177.8716\"/>\n",
       "<polygon fill=\"#ff0000\" stroke=\"#ff0000\" stroke-width=\"2\" points=\"679.0769,-181.0941 687.2048,-174.2979 676.6128,-174.5421 679.0769,-181.0941\"/>\n",
       "</g>\n",
       "<!-- s2&#45;a1 -->\n",
       "<g id=\"node9\" class=\"node\">\n",
       "<title>s2&#45;a1</title>\n",
       "<ellipse fill=\"#ffb6c1\" stroke=\"#ffb6c1\" cx=\"712.2361\" cy=\"-77\" rx=\"27.6545\" ry=\"27.6545\"/>\n",
       "<text text-anchor=\"middle\" x=\"712.2361\" y=\"-72\" font-family=\"Arial\" font-size=\"20.00\" fill=\"#000000\">a1</text>\n",
       "</g>\n",
       "<!-- s2&#45;&gt;s2&#45;a1 -->\n",
       "<g id=\"edge16\" class=\"edge\">\n",
       "<title>s2&#45;&gt;s2&#45;a1</title>\n",
       "<path fill=\"none\" stroke=\"#ff0000\" stroke-width=\"2\" d=\"M511.5893,-162.2838C519.8193,-157.6577 528.4209,-153.0415 536.6589,-149 583.9722,-125.7889 640.7096,-103.4733 676.6212,-89.9965\"/>\n",
       "<polygon fill=\"#ff0000\" stroke=\"#ff0000\" stroke-width=\"2\" points=\"678.0249,-93.2086 686.1727,-86.4364 675.58,-86.6494 678.0249,-93.2086\"/>\n",
       "</g>\n",
       "<!-- s0&#45;a1&#45;&gt;s2 -->\n",
       "<g id=\"edge5\" class=\"edge\">\n",
       "<title>s0&#45;a1&#45;&gt;s2</title>\n",
       "<path fill=\"none\" stroke=\"#0000ff\" stroke-dasharray=\"5,2\" d=\"M243.76,-228.7777C279.3606,-223.2267 343.3812,-213.0026 397.9066,-203 400.8922,-202.4523 403.9475,-201.88 407.0314,-201.2928\"/>\n",
       "<polygon fill=\"#0000ff\" stroke=\"#0000ff\" points=\"407.7735,-204.7142 416.9271,-199.3793 406.4445,-197.8415 407.7735,-204.7142\"/>\n",
       "<text text-anchor=\"middle\" x=\"329.9066\" y=\"-230.2\" font-family=\"Arial\" font-size=\"16.00\" fill=\"#000000\">p = 1</text>\n",
       "</g>\n",
       "<!-- s1 -->\n",
       "<g id=\"node5\" class=\"node\">\n",
       "<title>s1</title>\n",
       "<ellipse fill=\"#85ff75\" stroke=\"#85ff75\" cx=\"886.1894\" cy=\"-86\" rx=\"47.2622\" ry=\"47.2622\"/>\n",
       "<ellipse fill=\"none\" stroke=\"#85ff75\" cx=\"886.1894\" cy=\"-86\" rx=\"51.2526\" ry=\"51.2526\"/>\n",
       "<text text-anchor=\"middle\" x=\"886.1894\" y=\"-92.8\" font-family=\"Arial\" font-size=\"24.00\" fill=\"#000000\">s1</text>\n",
       "<text text-anchor=\"middle\" x=\"886.1894\" y=\"-66.8\" font-family=\"Arial\" font-size=\"24.00\" fill=\"#000000\">V =0</text>\n",
       "</g>\n",
       "<!-- s1&#45;a0 -->\n",
       "<g id=\"node6\" class=\"node\">\n",
       "<title>s1&#45;a0</title>\n",
       "<ellipse fill=\"#ffb6c1\" stroke=\"#ffb6c1\" cx=\"1060.1427\" cy=\"-62\" rx=\"27.6545\" ry=\"27.6545\"/>\n",
       "<text text-anchor=\"middle\" x=\"1060.1427\" y=\"-57\" font-family=\"Arial\" font-size=\"20.00\" fill=\"#000000\">a0</text>\n",
       "</g>\n",
       "<!-- s1&#45;&gt;s1&#45;a0 -->\n",
       "<g id=\"edge6\" class=\"edge\">\n",
       "<title>s1&#45;&gt;s1&#45;a0</title>\n",
       "<path fill=\"none\" stroke=\"#ff0000\" stroke-width=\"2\" d=\"M937.5851,-81.6684C961.127,-79.3581 989.3431,-76.1301 1014.5656,-72 1017.4136,-71.5336 1020.3516,-71.0034 1023.2994,-70.4362\"/>\n",
       "<polygon fill=\"#ff0000\" stroke=\"#ff0000\" stroke-width=\"2\" points=\"1024.1462,-73.8355 1033.2427,-68.4037 1022.7443,-66.9773 1024.1462,-73.8355\"/>\n",
       "</g>\n",
       "<!-- s1&#45;a1 -->\n",
       "<g id=\"node7\" class=\"node\">\n",
       "<title>s1&#45;a1</title>\n",
       "<ellipse fill=\"#ffb6c1\" stroke=\"#ffb6c1\" cx=\"1060.1427\" cy=\"-144\" rx=\"27.6545\" ry=\"27.6545\"/>\n",
       "<text text-anchor=\"middle\" x=\"1060.1427\" y=\"-139\" font-family=\"Arial\" font-size=\"20.00\" fill=\"#000000\">a1</text>\n",
       "</g>\n",
       "<!-- s1&#45;&gt;s1&#45;a1 -->\n",
       "<g id=\"edge10\" class=\"edge\">\n",
       "<title>s1&#45;&gt;s1&#45;a1</title>\n",
       "<path fill=\"none\" stroke=\"#ff0000\" stroke-width=\"2\" d=\"M935.9474,-99.8567C959.8989,-106.8461 988.9179,-115.7843 1014.5656,-125 1018.0801,-126.2628 1021.7182,-127.646 1025.3362,-129.0721\"/>\n",
       "<polygon fill=\"#ff0000\" stroke=\"#ff0000\" stroke-width=\"2\" points=\"1024.1847,-132.3819 1034.7672,-132.8938 1026.8137,-125.8943 1024.1847,-132.3819\"/>\n",
       "</g>\n",
       "<!-- s1&#45;a0&#45;&gt;s0 -->\n",
       "<g id=\"edge7\" class=\"edge\">\n",
       "<title>s1&#45;a0&#45;&gt;s0</title>\n",
       "<path fill=\"none\" stroke=\"#0000ff\" stroke-dasharray=\"5,2\" d=\"M1036.3286,-47.6201C1003.6768,-29.3047 942.617,0 886.1894,0 216.3295,0 216.3295,0 216.3295,0 166.4157,0 120.9364,-35.9779 90.4333,-67.8605\"/>\n",
       "<polygon fill=\"#0000ff\" stroke=\"#0000ff\" points=\"87.6408,-65.7236 83.3913,-75.4288 92.7656,-70.4919 87.6408,-65.7236\"/>\n",
       "<text text-anchor=\"middle\" x=\"601.6589\" y=\"-5.2\" font-family=\"Arial\" font-size=\"16.00\" fill=\"#000000\">p = 0.7 &#160;reward =5</text>\n",
       "</g>\n",
       "<!-- s1&#45;a0&#45;&gt;s2 -->\n",
       "<g id=\"edge9\" class=\"edge\">\n",
       "<title>s1&#45;a0&#45;&gt;s2</title>\n",
       "<path fill=\"none\" stroke=\"#0000ff\" stroke-dasharray=\"5,2\" d=\"M1044.5253,-85.2719C1040.3185,-92.1013 1035.9898,-99.6999 1032.5656,-107 1022.001,-129.5223 1033.717,-144.1227 1014.5656,-160 874.1011,-276.4509 636.9853,-234.713 526.8332,-206.4348\"/>\n",
       "<polygon fill=\"#0000ff\" stroke=\"#0000ff\" points=\"527.4555,-202.9798 516.8949,-203.831 525.6813,-209.7512 527.4555,-202.9798\"/>\n",
       "<text text-anchor=\"middle\" x=\"787.3133\" y=\"-242.2\" font-family=\"Arial\" font-size=\"16.00\" fill=\"#000000\">p = 0.2</text>\n",
       "</g>\n",
       "<!-- s1&#45;a0&#45;&gt;s1 -->\n",
       "<g id=\"edge8\" class=\"edge\">\n",
       "<title>s1&#45;a0&#45;&gt;s1</title>\n",
       "<path fill=\"none\" stroke=\"#0000ff\" stroke-dasharray=\"5,2\" d=\"M1033.6051,-53.8627C1012.2719,-48.5338 981.664,-43.6318 955.5656,-50 950.2101,-51.3068 944.8072,-53.1054 939.5069,-55.2068\"/>\n",
       "<polygon fill=\"#0000ff\" stroke=\"#0000ff\" points=\"937.8956,-52.0905 930.1095,-59.2757 940.677,-58.5142 937.8956,-52.0905\"/>\n",
       "<text text-anchor=\"middle\" x=\"985.0656\" y=\"-55.2\" font-family=\"Arial\" font-size=\"16.00\" fill=\"#000000\">p = 0.1</text>\n",
       "</g>\n",
       "<!-- s1&#45;a1&#45;&gt;s2 -->\n",
       "<g id=\"edge12\" class=\"edge\">\n",
       "<title>s1&#45;a1&#45;&gt;s2</title>\n",
       "<path fill=\"none\" stroke=\"#0000ff\" stroke-dasharray=\"5,2\" d=\"M1054.351,-171.1444C1048.2865,-192.2342 1036.477,-220.1508 1014.5656,-234 835.0197,-347.4825 739.6372,-296.5686 536.6589,-234 530.0222,-231.9542 523.4165,-229.0747 517.0669,-225.7497\"/>\n",
       "<polygon fill=\"#0000ff\" stroke=\"#0000ff\" points=\"518.4007,-222.483 507.9737,-220.6046 514.9535,-228.5754 518.4007,-222.483\"/>\n",
       "<text text-anchor=\"middle\" x=\"787.3133\" y=\"-306.2\" font-family=\"Arial\" font-size=\"16.00\" fill=\"#000000\">p = 0.05</text>\n",
       "</g>\n",
       "<!-- s1&#45;a1&#45;&gt;s1 -->\n",
       "<g id=\"edge11\" class=\"edge\">\n",
       "<title>s1&#45;a1&#45;&gt;s1</title>\n",
       "<path fill=\"none\" stroke=\"#0000ff\" stroke-dasharray=\"5,2\" d=\"M1032.499,-140.2815C1011.0858,-136.904 980.9006,-131.0477 955.5656,-122 950.454,-120.1745 945.246,-118.0406 940.0965,-115.7392\"/>\n",
       "<polygon fill=\"#0000ff\" stroke=\"#0000ff\" points=\"941.4649,-112.5153 930.9242,-111.4462 938.4976,-118.8553 941.4649,-112.5153\"/>\n",
       "<text text-anchor=\"middle\" x=\"985.0656\" y=\"-143.2\" font-family=\"Arial\" font-size=\"16.00\" fill=\"#000000\">p = 0.95</text>\n",
       "</g>\n",
       "<!-- s2&#45;a0&#45;&gt;s0 -->\n",
       "<g id=\"edge14\" class=\"edge\">\n",
       "<title>s2&#45;a0&#45;&gt;s0</title>\n",
       "<path fill=\"none\" stroke=\"#0000ff\" stroke-dasharray=\"5,2\" d=\"M685.8856,-153.79C679.6263,-152.0332 672.9412,-150.3133 666.6589,-149 601.6879,-135.4175 584.8166,-134.375 518.6589,-129 373.7386,-117.2259 202.8001,-115.5646 113.2365,-115.6282\"/>\n",
       "<polygon fill=\"#0000ff\" stroke=\"#0000ff\" points=\"112.9821,-112.1284 102.9873,-115.6433 112.9925,-119.1284 112.9821,-112.1284\"/>\n",
       "<text text-anchor=\"middle\" x=\"329.9066\" y=\"-127.2\" font-family=\"Arial\" font-size=\"16.00\" fill=\"#000000\">p = 0.4</text>\n",
       "</g>\n",
       "<!-- s2&#45;a0&#45;&gt;s2 -->\n",
       "<g id=\"edge15\" class=\"edge\">\n",
       "<title>s2&#45;a0&#45;&gt;s2</title>\n",
       "<path fill=\"none\" stroke=\"#0000ff\" stroke-dasharray=\"5,2\" d=\"M684.8199,-157.8492C649.9732,-153.4097 588.1571,-148.3423 536.6589,-159 532.2016,-159.9225 527.6784,-161.1457 523.1891,-162.5714\"/>\n",
       "<polygon fill=\"#0000ff\" stroke=\"#0000ff\" points=\"521.7372,-159.3712 513.4541,-165.9773 524.0489,-165.9785 521.7372,-159.3712\"/>\n",
       "<text text-anchor=\"middle\" x=\"601.6589\" y=\"-164.2\" font-family=\"Arial\" font-size=\"16.00\" fill=\"#000000\">p = 0.6</text>\n",
       "</g>\n",
       "<!-- s2&#45;a1&#45;&gt;s0 -->\n",
       "<g id=\"edge17\" class=\"edge\">\n",
       "<title>s2&#45;a1&#45;&gt;s0</title>\n",
       "<path fill=\"none\" stroke=\"#0000ff\" stroke-dasharray=\"5,2\" d=\"M688.9834,-61.9981C682.0715,-58.3146 674.2986,-54.8885 666.6589,-53 610.5695,-39.1347 594.4252,-51.8441 536.6589,-53 351.1187,-56.7127 299.5886,-40.4361 120.7523,-90 116.7781,-91.1014 112.7111,-92.3348 108.6369,-93.6498\"/>\n",
       "<polygon fill=\"#0000ff\" stroke=\"#0000ff\" points=\"107.5175,-90.3336 99.1578,-96.8426 109.7519,-96.9674 107.5175,-90.3336\"/>\n",
       "<text text-anchor=\"middle\" x=\"329.9066\" y=\"-65.2\" font-family=\"Arial\" font-size=\"16.00\" fill=\"#000000\">p = 0.3 &#160;reward =&#45;1</text>\n",
       "</g>\n",
       "<!-- s2&#45;a1&#45;&gt;s2 -->\n",
       "<g id=\"edge19\" class=\"edge\">\n",
       "<title>s2&#45;a1&#45;&gt;s2</title>\n",
       "<path fill=\"none\" stroke=\"#0000ff\" stroke-dasharray=\"5,2\" d=\"M685.8062,-68.4864C649.5653,-58.4808 583.6025,-46.377 536.6589,-73 514.3237,-85.667 498.407,-108.6988 487.5026,-130.9204\"/>\n",
       "<polygon fill=\"#0000ff\" stroke=\"#0000ff\" points=\"484.31,-129.4857 483.2773,-140.0301 490.6602,-132.4311 484.31,-129.4857\"/>\n",
       "<text text-anchor=\"middle\" x=\"601.6589\" y=\"-78.2\" font-family=\"Arial\" font-size=\"16.00\" fill=\"#000000\">p = 0.4</text>\n",
       "</g>\n",
       "<!-- s2&#45;a1&#45;&gt;s1 -->\n",
       "<g id=\"edge18\" class=\"edge\">\n",
       "<title>s2&#45;a1&#45;&gt;s1</title>\n",
       "<path fill=\"none\" stroke=\"#0000ff\" stroke-dasharray=\"5,2\" d=\"M739.7995,-78.4261C762.5092,-79.601 795.5703,-81.3115 824.5295,-82.8098\"/>\n",
       "<polygon fill=\"#0000ff\" stroke=\"#0000ff\" points=\"824.4105,-86.3083 834.578,-83.3297 824.7722,-79.3176 824.4105,-86.3083\"/>\n",
       "<text text-anchor=\"middle\" x=\"787.3133\" y=\"-88.2\" font-family=\"Arial\" font-size=\"16.00\" fill=\"#000000\">p = 0.3</text>\n",
       "</g>\n",
       "</g>\n",
       "</svg>\n"
      ],
      "text/plain": [
       "<graphviz.dot.Digraph at 0x7f15467e4df0>"
      ]
     },
     "metadata": {},
     "output_type": "display_data"
    },
    {
     "name": "stdout",
     "output_type": "stream",
     "text": [
      "iter    0   |   diff: 3.50000   |   V(s0) = 0.000   V(s1) = 0.000   V(s2) = 0.000\n",
      "iter    1   |   diff: 0.64500   |   V(s0) = 0.000   V(s1) = 3.500   V(s2) = 0.000\n",
      "iter    2   |   diff: 0.58050   |   V(s0) = 0.000   V(s1) = 3.815   V(s2) = 0.645\n",
      "iter    3   |   diff: 0.43582   |   V(s0) = 0.581   V(s1) = 3.959   V(s2) = 0.962\n",
      "iter    4   |   diff: 0.30634   |   V(s0) = 0.866   V(s1) = 4.395   V(s2) = 1.272\n",
      "iter    5   |   diff: 0.27571   |   V(s0) = 1.145   V(s1) = 4.670   V(s2) = 1.579\n",
      "iter    6   |   diff: 0.24347   |   V(s0) = 1.421   V(s1) = 4.926   V(s2) = 1.838\n",
      "iter    7   |   diff: 0.21419   |   V(s0) = 1.655   V(s1) = 5.169   V(s2) = 2.075\n",
      "iter    8   |   diff: 0.19277   |   V(s0) = 1.868   V(s1) = 5.381   V(s2) = 2.290\n",
      "iter    9   |   diff: 0.17327   |   V(s0) = 2.061   V(s1) = 5.573   V(s2) = 2.481\n",
      "iter   10   |   diff: 0.15569   |   V(s0) = 2.233   V(s1) = 5.746   V(s2) = 2.654\n",
      "iter   11   |   diff: 0.14012   |   V(s0) = 2.389   V(s1) = 5.902   V(s2) = 2.810\n",
      "iter   12   |   diff: 0.12610   |   V(s0) = 2.529   V(s1) = 6.042   V(s2) = 2.950\n",
      "iter   13   |   diff: 0.11348   |   V(s0) = 2.655   V(s1) = 6.168   V(s2) = 3.076\n",
      "iter   14   |   diff: 0.10213   |   V(s0) = 2.769   V(s1) = 6.282   V(s2) = 3.190\n",
      "iter   15   |   diff: 0.09192   |   V(s0) = 2.871   V(s1) = 6.384   V(s2) = 3.292\n",
      "iter   16   |   diff: 0.08272   |   V(s0) = 2.963   V(s1) = 6.476   V(s2) = 3.384\n",
      "iter   17   |   diff: 0.07445   |   V(s0) = 3.045   V(s1) = 6.558   V(s2) = 3.467\n",
      "iter   18   |   diff: 0.06701   |   V(s0) = 3.120   V(s1) = 6.633   V(s2) = 3.541\n",
      "iter   19   |   diff: 0.06031   |   V(s0) = 3.187   V(s1) = 6.700   V(s2) = 3.608\n",
      "iter   20   |   diff: 0.05428   |   V(s0) = 3.247   V(s1) = 6.760   V(s2) = 3.668\n",
      "iter   21   |   diff: 0.04885   |   V(s0) = 3.301   V(s1) = 6.814   V(s2) = 3.723\n",
      "iter   22   |   diff: 0.04396   |   V(s0) = 3.350   V(s1) = 6.863   V(s2) = 3.771\n",
      "iter   23   |   diff: 0.03957   |   V(s0) = 3.394   V(s1) = 6.907   V(s2) = 3.815\n",
      "iter   24   |   diff: 0.03561   |   V(s0) = 3.434   V(s1) = 6.947   V(s2) = 3.855\n",
      "iter   25   |   diff: 0.03205   |   V(s0) = 3.469   V(s1) = 6.982   V(s2) = 3.891\n",
      "iter   26   |   diff: 0.02884   |   V(s0) = 3.502   V(s1) = 7.014   V(s2) = 3.923\n",
      "iter   27   |   diff: 0.02596   |   V(s0) = 3.530   V(s1) = 7.043   V(s2) = 3.951\n",
      "iter   28   |   diff: 0.02336   |   V(s0) = 3.556   V(s1) = 7.069   V(s2) = 3.977\n",
      "iter   29   |   diff: 0.02103   |   V(s0) = 3.580   V(s1) = 7.093   V(s2) = 4.001\n",
      "iter   30   |   diff: 0.01892   |   V(s0) = 3.601   V(s1) = 7.114   V(s2) = 4.022\n",
      "iter   31   |   diff: 0.01703   |   V(s0) = 3.620   V(s1) = 7.133   V(s2) = 4.041\n",
      "iter   32   |   diff: 0.01533   |   V(s0) = 3.637   V(s1) = 7.150   V(s2) = 4.058\n",
      "iter   33   |   diff: 0.01380   |   V(s0) = 3.652   V(s1) = 7.165   V(s2) = 4.073\n",
      "iter   34   |   diff: 0.01242   |   V(s0) = 3.666   V(s1) = 7.179   V(s2) = 4.087\n",
      "iter   35   |   diff: 0.01117   |   V(s0) = 3.678   V(s1) = 7.191   V(s2) = 4.099\n",
      "iter   36   |   diff: 0.01006   |   V(s0) = 3.689   V(s1) = 7.202   V(s2) = 4.110\n",
      "iter   37   |   diff: 0.00905   |   V(s0) = 3.699   V(s1) = 7.212   V(s2) = 4.121\n",
      "iter   38   |   diff: 0.00815   |   V(s0) = 3.708   V(s1) = 7.221   V(s2) = 4.130\n",
      "iter   39   |   diff: 0.00733   |   V(s0) = 3.717   V(s1) = 7.230   V(s2) = 4.138\n",
      "iter   40   |   diff: 0.00660   |   V(s0) = 3.724   V(s1) = 7.237   V(s2) = 4.145\n",
      "iter   41   |   diff: 0.00594   |   V(s0) = 3.731   V(s1) = 7.244   V(s2) = 4.152\n",
      "iter   42   |   diff: 0.00534   |   V(s0) = 3.736   V(s1) = 7.249   V(s2) = 4.158\n",
      "iter   43   |   diff: 0.00481   |   V(s0) = 3.742   V(s1) = 7.255   V(s2) = 4.163\n",
      "iter   44   |   diff: 0.00433   |   V(s0) = 3.747   V(s1) = 7.260   V(s2) = 4.168\n",
      "iter   45   |   diff: 0.00390   |   V(s0) = 3.751   V(s1) = 7.264   V(s2) = 4.172\n",
      "iter   46   |   diff: 0.00351   |   V(s0) = 3.755   V(s1) = 7.268   V(s2) = 4.176\n",
      "iter   47   |   diff: 0.00316   |   V(s0) = 3.758   V(s1) = 7.271   V(s2) = 4.179\n",
      "iter   48   |   diff: 0.00284   |   V(s0) = 3.762   V(s1) = 7.275   V(s2) = 4.183\n",
      "iter   49   |   diff: 0.00256   |   V(s0) = 3.764   V(s1) = 7.277   V(s2) = 4.185\n",
      "iter   50   |   diff: 0.00230   |   V(s0) = 3.767   V(s1) = 7.280   V(s2) = 4.188\n",
      "iter   51   |   diff: 0.00207   |   V(s0) = 3.769   V(s1) = 7.282   V(s2) = 4.190\n",
      "iter   52   |   diff: 0.00186   |   V(s0) = 3.771   V(s1) = 7.284   V(s2) = 4.192\n",
      "iter   53   |   diff: 0.00168   |   V(s0) = 3.773   V(s1) = 7.286   V(s2) = 4.194\n",
      "iter   54   |   diff: 0.00151   |   V(s0) = 3.775   V(s1) = 7.288   V(s2) = 4.196\n",
      "iter   55   |   diff: 0.00136   |   V(s0) = 3.776   V(s1) = 7.289   V(s2) = 4.197\n",
      "iter   56   |   diff: 0.00122   |   V(s0) = 3.778   V(s1) = 7.291   V(s2) = 4.199\n",
      "iter   57   |   diff: 0.00110   |   V(s0) = 3.779   V(s1) = 7.292   V(s2) = 4.200\n",
      "iter   58   |   diff: 0.00099   |   V(s0) = 3.780   V(s1) = 7.293   V(s2) = 4.201\n",
      "Terminated\n"
     ]
    }
   ],
   "source": [
    "# parameters\n",
    "gamma = 0.9            # discount for MDP\n",
    "num_iter = 100         # maximum iterations, excluding initialization\n",
    "# stop VI if new values are this close to old values (or closer)\n",
    "min_difference = 0.001\n",
    "\n",
    "# initialize V(s)\n",
    "state_values = {s: 0 for s in mdp.get_all_states()}\n",
    "\n",
    "if has_graphviz:\n",
    "    display(plot_graph_with_state_values(mdp, state_values))\n",
    "\n",
    "for i in range(num_iter):\n",
    "    # Compute new state values using the functions you defined above.\n",
    "    # It must be a dict {state : float V_new(state)}\n",
    "    new_state_values = {s: get_new_state_value(mdp, state_values, s, gamma) for s in mdp.get_all_states()}#<YOUR CODE>\n",
    "\n",
    "    assert isinstance(new_state_values, dict)\n",
    "\n",
    "    # Compute difference\n",
    "    diff = max(abs(new_state_values[s] - state_values[s])\n",
    "               for s in mdp.get_all_states())\n",
    "    print(\"iter %4i   |   diff: %6.5f   |   \" % (i, diff), end=\"\")\n",
    "    print('   '.join(\"V(%s) = %.3f\" % (s, v) for s, v in state_values.items()))\n",
    "    state_values = new_state_values\n",
    "\n",
    "    if diff < min_difference:\n",
    "        print(\"Terminated\")\n",
    "        break"
   ]
  },
  {
   "cell_type": "code",
   "execution_count": 32,
   "metadata": {
    "id": "peemQBKDPa_4"
   },
   "outputs": [
    {
     "data": {
      "image/svg+xml": [
       "<?xml version=\"1.0\" encoding=\"UTF-8\" standalone=\"no\"?>\n",
       "<!DOCTYPE svg PUBLIC \"-//W3C//DTD SVG 1.1//EN\"\n",
       " \"http://www.w3.org/Graphics/SVG/1.1/DTD/svg11.dtd\">\n",
       "<!-- Generated by graphviz version 2.40.1 (20161225.0304)\n",
       " -->\n",
       "<!-- Title: MDP Pages: 1 -->\n",
       "<svg width=\"720pt\" height=\"180pt\"\n",
       " viewBox=\"0.00 0.00 720.00 180.00\" xmlns=\"http://www.w3.org/2000/svg\" xmlns:xlink=\"http://www.w3.org/1999/xlink\">\n",
       "<g id=\"graph0\" class=\"graph\" transform=\"scale(.5807 .5807) rotate(0) translate(4 306)\">\n",
       "<title>MDP</title>\n",
       "<polygon fill=\"#ffffff\" stroke=\"transparent\" points=\"-4,4 -4,-306 1235.9697,-306 1235.9697,4 -4,4\"/>\n",
       "<!-- s0 -->\n",
       "<g id=\"node1\" class=\"node\">\n",
       "<title>s0</title>\n",
       "<ellipse fill=\"#85ff75\" stroke=\"#85ff75\" cx=\"75.4178\" cy=\"-110\" rx=\"71.34\" ry=\"71.34\"/>\n",
       "<ellipse fill=\"none\" stroke=\"#85ff75\" cx=\"75.4178\" cy=\"-110\" rx=\"75.3357\" ry=\"75.3357\"/>\n",
       "<text text-anchor=\"middle\" x=\"75.4178\" y=\"-116.8\" font-family=\"Arial\" font-size=\"24.00\" fill=\"#000000\">s0</text>\n",
       "<text text-anchor=\"middle\" x=\"75.4178\" y=\"-90.8\" font-family=\"Arial\" font-size=\"24.00\" fill=\"#000000\">V =3.78</text>\n",
       "</g>\n",
       "<!-- s0&#45;a0 -->\n",
       "<g id=\"node2\" class=\"node\">\n",
       "<title>s0&#45;a0</title>\n",
       "<ellipse fill=\"#ffb6c1\" stroke=\"#ffb6c1\" cx=\"264.4127\" cy=\"-154\" rx=\"27.6545\" ry=\"27.6545\"/>\n",
       "<text text-anchor=\"middle\" x=\"264.4127\" y=\"-149\" font-family=\"Arial\" font-size=\"20.00\" fill=\"#000000\">a0</text>\n",
       "</g>\n",
       "<!-- s0&#45;&gt;s0&#45;a0 -->\n",
       "<g id=\"edge1\" class=\"edge\">\n",
       "<title>s0&#45;&gt;s0&#45;a0</title>\n",
       "<path fill=\"none\" stroke=\"#ff0000\" stroke-width=\"2\" d=\"M150.0418,-121.5517C172.3516,-125.6738 196.7464,-130.8498 218.8356,-137 222.1916,-137.9344 225.6494,-139.009 229.0891,-140.1545\"/>\n",
       "<polygon fill=\"#ff0000\" stroke=\"#ff0000\" stroke-width=\"2\" points=\"228.0406,-143.4958 238.6354,-143.5124 230.3634,-136.8925 228.0406,-143.4958\"/>\n",
       "</g>\n",
       "<!-- s0&#45;a1 -->\n",
       "<g id=\"node4\" class=\"node\">\n",
       "<title>s0&#45;a1</title>\n",
       "<ellipse fill=\"#ffb6c1\" stroke=\"#ffb6c1\" cx=\"264.4127\" cy=\"-227\" rx=\"27.6545\" ry=\"27.6545\"/>\n",
       "<text text-anchor=\"middle\" x=\"264.4127\" y=\"-222\" font-family=\"Arial\" font-size=\"20.00\" fill=\"#000000\">a1</text>\n",
       "</g>\n",
       "<!-- s0&#45;&gt;s0&#45;a1 -->\n",
       "<g id=\"edge4\" class=\"edge\">\n",
       "<title>s0&#45;&gt;s0&#45;a1</title>\n",
       "<path fill=\"none\" stroke=\"#ff0000\" stroke-width=\"2\" d=\"M139.6666,-149.7741C170.7367,-169.0085 206.684,-191.2622 231.9855,-206.9255\"/>\n",
       "<polygon fill=\"#ff0000\" stroke=\"#ff0000\" stroke-width=\"2\" points=\"230.4518,-210.0924 240.7967,-212.3802 234.1364,-204.1406 230.4518,-210.0924\"/>\n",
       "</g>\n",
       "<!-- s0&#45;a0&#45;&gt;s0 -->\n",
       "<g id=\"edge2\" class=\"edge\">\n",
       "<title>s0&#45;a0&#45;&gt;s0</title>\n",
       "<path fill=\"none\" stroke=\"#0000ff\" stroke-dasharray=\"5,2\" d=\"M237.1503,-148.6361C217.9906,-144.7832 191.7853,-139.3463 168.8356,-134 165.4299,-133.2066 161.9583,-132.383 158.4541,-131.5393\"/>\n",
       "<polygon fill=\"#0000ff\" stroke=\"#0000ff\" points=\"159.0645,-128.0857 148.52,-129.117 157.4062,-134.8864 159.0645,-128.0857\"/>\n",
       "<text text-anchor=\"middle\" x=\"193.8356\" y=\"-150.2\" font-family=\"Arial\" font-size=\"16.00\" fill=\"#000000\">p = 0.5</text>\n",
       "</g>\n",
       "<!-- s2 -->\n",
       "<g id=\"node3\" class=\"node\">\n",
       "<title>s2</title>\n",
       "<ellipse fill=\"#85ff75\" stroke=\"#85ff75\" cx=\"539.4077\" cy=\"-201\" rx=\"71.34\" ry=\"71.34\"/>\n",
       "<ellipse fill=\"none\" stroke=\"#85ff75\" cx=\"539.4077\" cy=\"-201\" rx=\"75.3357\" ry=\"75.3357\"/>\n",
       "<text text-anchor=\"middle\" x=\"539.4077\" y=\"-207.8\" font-family=\"Arial\" font-size=\"24.00\" fill=\"#000000\">s2</text>\n",
       "<text text-anchor=\"middle\" x=\"539.4077\" y=\"-181.8\" font-family=\"Arial\" font-size=\"24.00\" fill=\"#000000\">V =4.20</text>\n",
       "</g>\n",
       "<!-- s0&#45;a0&#45;&gt;s2 -->\n",
       "<g id=\"edge3\" class=\"edge\">\n",
       "<title>s0&#45;a0&#45;&gt;s2</title>\n",
       "<path fill=\"none\" stroke=\"#0000ff\" stroke-dasharray=\"5,2\" d=\"M291.7857,-158.6784C329.5283,-165.129 399.2192,-177.0401 455.0746,-186.5864\"/>\n",
       "<polygon fill=\"#0000ff\" stroke=\"#0000ff\" points=\"454.5292,-190.0439 464.9759,-188.2787 455.7085,-183.144 454.5292,-190.0439\"/>\n",
       "<text text-anchor=\"middle\" x=\"377.9899\" y=\"-190.2\" font-family=\"Arial\" font-size=\"16.00\" fill=\"#000000\">p = 0.5</text>\n",
       "</g>\n",
       "<!-- s2&#45;a0 -->\n",
       "<g id=\"node8\" class=\"node\">\n",
       "<title>s2&#45;a0</title>\n",
       "<ellipse fill=\"#ffb6c1\" stroke=\"#ffb6c1\" cx=\"808.4026\" cy=\"-162\" rx=\"27.6545\" ry=\"27.6545\"/>\n",
       "<text text-anchor=\"middle\" x=\"808.4026\" y=\"-157\" font-family=\"Arial\" font-size=\"20.00\" fill=\"#000000\">a0</text>\n",
       "</g>\n",
       "<!-- s2&#45;&gt;s2&#45;a0 -->\n",
       "<g id=\"edge13\" class=\"edge\">\n",
       "<title>s2&#45;&gt;s2&#45;a0</title>\n",
       "<path fill=\"none\" stroke=\"#ff0000\" stroke-width=\"2\" d=\"M614.8219,-199.9637C658.5781,-197.9516 714.4325,-192.9516 762.8255,-181 766.451,-180.1046 770.1625,-178.9638 773.8255,-177.6869\"/>\n",
       "<polygon fill=\"#ff0000\" stroke=\"#ff0000\" stroke-width=\"2\" points=\"775.222,-180.9003 783.3168,-174.0647 772.7261,-174.3603 775.222,-180.9003\"/>\n",
       "</g>\n",
       "<!-- s2&#45;a1 -->\n",
       "<g id=\"node9\" class=\"node\">\n",
       "<title>s2&#45;a1</title>\n",
       "<ellipse fill=\"#ffb6c1\" stroke=\"#ffb6c1\" cx=\"808.4026\" cy=\"-80\" rx=\"27.6545\" ry=\"27.6545\"/>\n",
       "<text text-anchor=\"middle\" x=\"808.4026\" y=\"-75\" font-family=\"Arial\" font-size=\"20.00\" fill=\"#000000\">a1</text>\n",
       "</g>\n",
       "<!-- s2&#45;&gt;s2&#45;a1 -->\n",
       "<g id=\"edge16\" class=\"edge\">\n",
       "<title>s2&#45;&gt;s2&#45;a1</title>\n",
       "<path fill=\"none\" stroke=\"#ff0000\" stroke-width=\"2\" d=\"M604.9248,-163.0956C614.1915,-158.1569 623.678,-153.3197 632.8255,-149 680.0632,-126.6928 736.597,-105.3969 772.5049,-92.5119\"/>\n",
       "<polygon fill=\"#ff0000\" stroke=\"#ff0000\" stroke-width=\"2\" points=\"773.8159,-95.7604 782.0609,-89.1069 771.4662,-89.1665 773.8159,-95.7604\"/>\n",
       "</g>\n",
       "<!-- s0&#45;a1&#45;&gt;s2 -->\n",
       "<g id=\"edge5\" class=\"edge\">\n",
       "<title>s0&#45;a1&#45;&gt;s2</title>\n",
       "<path fill=\"none\" stroke=\"#0000ff\" stroke-dasharray=\"5,2\" d=\"M292.0394,-224.388C329.608,-220.836 398.4925,-214.3231 454.0473,-209.0706\"/>\n",
       "<polygon fill=\"#0000ff\" stroke=\"#0000ff\" points=\"454.6288,-212.5313 464.2549,-208.1055 453.9698,-205.5624 454.6288,-212.5313\"/>\n",
       "<text text-anchor=\"middle\" x=\"377.9899\" y=\"-227.2\" font-family=\"Arial\" font-size=\"16.00\" fill=\"#000000\">p = 1</text>\n",
       "</g>\n",
       "<!-- s1 -->\n",
       "<g id=\"node5\" class=\"node\">\n",
       "<title>s1</title>\n",
       "<ellipse fill=\"#85ff75\" stroke=\"#85ff75\" cx=\"1006.3976\" cy=\"-110\" rx=\"71.34\" ry=\"71.34\"/>\n",
       "<ellipse fill=\"none\" stroke=\"#85ff75\" cx=\"1006.3976\" cy=\"-110\" rx=\"75.3357\" ry=\"75.3357\"/>\n",
       "<text text-anchor=\"middle\" x=\"1006.3976\" y=\"-116.8\" font-family=\"Arial\" font-size=\"24.00\" fill=\"#000000\">s1</text>\n",
       "<text text-anchor=\"middle\" x=\"1006.3976\" y=\"-90.8\" font-family=\"Arial\" font-size=\"24.00\" fill=\"#000000\">V =7.29</text>\n",
       "</g>\n",
       "<!-- s1&#45;a0 -->\n",
       "<g id=\"node6\" class=\"node\">\n",
       "<title>s1&#45;a0</title>\n",
       "<ellipse fill=\"#ffb6c1\" stroke=\"#ffb6c1\" cx=\"1204.3925\" cy=\"-86\" rx=\"27.6545\" ry=\"27.6545\"/>\n",
       "<text text-anchor=\"middle\" x=\"1204.3925\" y=\"-81\" font-family=\"Arial\" font-size=\"20.00\" fill=\"#000000\">a0</text>\n",
       "</g>\n",
       "<!-- s1&#45;&gt;s1&#45;a0 -->\n",
       "<g id=\"edge6\" class=\"edge\">\n",
       "<title>s1&#45;&gt;s1&#45;a0</title>\n",
       "<path fill=\"none\" stroke=\"#ff0000\" stroke-width=\"2\" d=\"M1081.8245,-104.9414C1106.4481,-102.792 1133.8691,-99.867 1158.8154,-96 1161.6673,-95.5579 1164.608,-95.0452 1167.5577,-94.4901\"/>\n",
       "<polygon fill=\"#ff0000\" stroke=\"#ff0000\" stroke-width=\"2\" points=\"1168.3959,-97.8916 1177.5047,-92.4805 1167.0096,-91.0302 1168.3959,-97.8916\"/>\n",
       "</g>\n",
       "<!-- s1&#45;a1 -->\n",
       "<g id=\"node7\" class=\"node\">\n",
       "<title>s1&#45;a1</title>\n",
       "<ellipse fill=\"#ffb6c1\" stroke=\"#ffb6c1\" cx=\"1204.3925\" cy=\"-168\" rx=\"27.6545\" ry=\"27.6545\"/>\n",
       "<text text-anchor=\"middle\" x=\"1204.3925\" y=\"-163\" font-family=\"Arial\" font-size=\"20.00\" fill=\"#000000\">a1</text>\n",
       "</g>\n",
       "<!-- s1&#45;&gt;s1&#45;a1 -->\n",
       "<g id=\"edge10\" class=\"edge\">\n",
       "<title>s1&#45;&gt;s1&#45;a1</title>\n",
       "<path fill=\"none\" stroke=\"#ff0000\" stroke-width=\"2\" d=\"M1080.285,-126.6245C1105.4323,-132.8839 1133.5592,-140.5536 1158.8154,-149 1162.3571,-150.1844 1166.0131,-151.5159 1169.6422,-152.9102\"/>\n",
       "<polygon fill=\"#ff0000\" stroke=\"#ff0000\" stroke-width=\"2\" points=\"1168.5033,-156.2242 1179.0879,-156.6893 1171.1036,-149.7251 1168.5033,-156.2242\"/>\n",
       "</g>\n",
       "<!-- s1&#45;a0&#45;&gt;s0 -->\n",
       "<g id=\"edge7\" class=\"edge\">\n",
       "<title>s1&#45;a0&#45;&gt;s0</title>\n",
       "<path fill=\"none\" stroke=\"#0000ff\" stroke-dasharray=\"5,2\" d=\"M1182.2939,-69.2142C1147.0785,-44.1866 1075.1673,0 1006.3976,0 264.4127,0 264.4127,0 264.4127,0 218.0189,0 172.8518,-25.0656 138.3119,-51.2663\"/>\n",
       "<polygon fill=\"#0000ff\" stroke=\"#0000ff\" points=\"135.9504,-48.6693 130.2146,-57.5773 140.2535,-54.1905 135.9504,-48.6693\"/>\n",
       "<text text-anchor=\"middle\" x=\"697.8255\" y=\"-5.2\" font-family=\"Arial\" font-size=\"16.00\" fill=\"#000000\">p = 0.7 &#160;reward =5</text>\n",
       "</g>\n",
       "<!-- s1&#45;a0&#45;&gt;s2 -->\n",
       "<g id=\"edge9\" class=\"edge\">\n",
       "<title>s1&#45;a0&#45;&gt;s2</title>\n",
       "<path fill=\"none\" stroke=\"#0000ff\" stroke-dasharray=\"5,2\" d=\"M1188.831,-109.2984C1184.6252,-116.1282 1180.283,-123.7204 1176.8154,-131 1166.4783,-152.7008 1177.307,-166.643 1158.8154,-182 1132.1704,-204.1281 1116.3061,-190.8386 1081.8154,-194 921.0073,-208.7395 732.2763,-206.8744 625.1716,-204.0356\"/>\n",
       "<polygon fill=\"#0000ff\" stroke=\"#0000ff\" points=\"625.1574,-200.534 615.0651,-203.7584 624.9653,-207.5314 625.1574,-200.534\"/>\n",
       "<text text-anchor=\"middle\" x=\"883.4798\" y=\"-210.2\" font-family=\"Arial\" font-size=\"16.00\" fill=\"#000000\">p = 0.2</text>\n",
       "</g>\n",
       "<!-- s1&#45;a0&#45;&gt;s1 -->\n",
       "<g id=\"edge8\" class=\"edge\">\n",
       "<title>s1&#45;a0&#45;&gt;s1</title>\n",
       "<path fill=\"none\" stroke=\"#0000ff\" stroke-dasharray=\"5,2\" d=\"M1177.6279,-77.7289C1171.5049,-76.1802 1164.9825,-74.7983 1158.8154,-74 1132.8101,-70.6339 1125.5954,-69.2045 1099.8154,-74 1095.0975,-74.8776 1090.3107,-75.9846 1085.5247,-77.2614\"/>\n",
       "<polygon fill=\"#0000ff\" stroke=\"#0000ff\" points=\"1084.3549,-73.9563 1075.7243,-80.1014 1086.3033,-80.6797 1084.3549,-73.9563\"/>\n",
       "<text text-anchor=\"middle\" x=\"1129.3154\" y=\"-79.2\" font-family=\"Arial\" font-size=\"16.00\" fill=\"#000000\">p = 0.1</text>\n",
       "</g>\n",
       "<!-- s1&#45;a1&#45;&gt;s2 -->\n",
       "<g id=\"edge12\" class=\"edge\">\n",
       "<title>s1&#45;a1&#45;&gt;s2</title>\n",
       "<path fill=\"none\" stroke=\"#0000ff\" stroke-dasharray=\"5,2\" d=\"M1193.8963,-193.6607C1186.4396,-208.2806 1174.8815,-225.3606 1158.8154,-234 985.6698,-327.1078 744.4831,-270.642 620.3459,-230.5798\"/>\n",
       "<polygon fill=\"#0000ff\" stroke=\"#0000ff\" points=\"621.1143,-227.1487 610.5217,-227.3644 618.9369,-233.8014 621.1143,-227.1487\"/>\n",
       "<text text-anchor=\"middle\" x=\"883.4798\" y=\"-289.2\" font-family=\"Arial\" font-size=\"16.00\" fill=\"#000000\">p = 0.05</text>\n",
       "</g>\n",
       "<!-- s1&#45;a1&#45;&gt;s1 -->\n",
       "<g id=\"edge11\" class=\"edge\">\n",
       "<title>s1&#45;a1&#45;&gt;s1</title>\n",
       "<path fill=\"none\" stroke=\"#0000ff\" stroke-dasharray=\"5,2\" d=\"M1177.0095,-163.4822C1155.7364,-159.675 1125.6126,-153.6305 1099.8154,-146 1095.2632,-144.6535 1090.6189,-143.1846 1085.9542,-141.6346\"/>\n",
       "<polygon fill=\"#0000ff\" stroke=\"#0000ff\" points=\"1086.9678,-138.2822 1076.3732,-138.3526 1084.6993,-144.9045 1086.9678,-138.2822\"/>\n",
       "<text text-anchor=\"middle\" x=\"1129.3154\" y=\"-165.2\" font-family=\"Arial\" font-size=\"16.00\" fill=\"#000000\">p = 0.95</text>\n",
       "</g>\n",
       "<!-- s2&#45;a0&#45;&gt;s0 -->\n",
       "<g id=\"edge14\" class=\"edge\">\n",
       "<title>s2&#45;a0&#45;&gt;s0</title>\n",
       "<path fill=\"none\" stroke=\"#0000ff\" stroke-dasharray=\"5,2\" d=\"M781.8131,-153.7554C744.8155,-142.7605 675.5071,-123.8837 614.8255,-117 455.2597,-98.8988 267.4528,-101.9055 160.8228,-105.8648\"/>\n",
       "<polygon fill=\"#0000ff\" stroke=\"#0000ff\" points=\"160.6195,-102.3699 150.7608,-106.2503 160.8875,-109.3648 160.6195,-102.3699\"/>\n",
       "<text text-anchor=\"middle\" x=\"377.9899\" y=\"-110.2\" font-family=\"Arial\" font-size=\"16.00\" fill=\"#000000\">p = 0.4</text>\n",
       "</g>\n",
       "<!-- s2&#45;a0&#45;&gt;s2 -->\n",
       "<g id=\"edge15\" class=\"edge\">\n",
       "<title>s2&#45;a0&#45;&gt;s2</title>\n",
       "<path fill=\"none\" stroke=\"#0000ff\" stroke-dasharray=\"5,2\" d=\"M780.9615,-157.7311C746.0889,-153.1684 684.2457,-147.9725 632.8255,-159 627.3921,-160.1652 621.8932,-161.6718 616.4257,-163.4191\"/>\n",
       "<polygon fill=\"#0000ff\" stroke=\"#0000ff\" points=\"614.9468,-160.227 606.6392,-166.8023 617.234,-166.8429 614.9468,-160.227\"/>\n",
       "<text text-anchor=\"middle\" x=\"697.8255\" y=\"-164.2\" font-family=\"Arial\" font-size=\"16.00\" fill=\"#000000\">p = 0.6</text>\n",
       "</g>\n",
       "<!-- s2&#45;a1&#45;&gt;s0 -->\n",
       "<g id=\"edge17\" class=\"edge\">\n",
       "<title>s2&#45;a1&#45;&gt;s0</title>\n",
       "<path fill=\"none\" stroke=\"#0000ff\" stroke-dasharray=\"5,2\" d=\"M784.6101,-65.3779C777.8173,-61.9398 770.2406,-58.765 762.8255,-57 706.618,-43.6213 690.6032,-56.9105 632.8255,-57 489.3425,-57.2222 452.858,-44.7288 309.9899,-58 246.4727,-63.9002 230.9925,-69.6559 168.8356,-84 165.2191,-84.8346 161.5326,-85.7183 157.8151,-86.6364\"/>\n",
       "<polygon fill=\"#0000ff\" stroke=\"#0000ff\" points=\"156.7651,-83.2917 147.9287,-89.1371 158.4817,-90.0779 156.7651,-83.2917\"/>\n",
       "<text text-anchor=\"middle\" x=\"377.9899\" y=\"-63.2\" font-family=\"Arial\" font-size=\"16.00\" fill=\"#000000\">p = 0.3 &#160;reward =&#45;1</text>\n",
       "</g>\n",
       "<!-- s2&#45;a1&#45;&gt;s2 -->\n",
       "<g id=\"edge19\" class=\"edge\">\n",
       "<title>s2&#45;a1&#45;&gt;s2</title>\n",
       "<path fill=\"none\" stroke=\"#0000ff\" stroke-dasharray=\"5,2\" d=\"M782.0304,-71.8505C746.1437,-62.3444 680.8994,-50.7969 632.8255,-75 619.9871,-81.4635 601.8515,-104.0224 584.9706,-128.3031\"/>\n",
       "<polygon fill=\"#0000ff\" stroke=\"#0000ff\" points=\"582.0636,-126.3536 579.3034,-136.5826 587.84,-130.3075 582.0636,-126.3536\"/>\n",
       "<text text-anchor=\"middle\" x=\"697.8255\" y=\"-80.2\" font-family=\"Arial\" font-size=\"16.00\" fill=\"#000000\">p = 0.4</text>\n",
       "</g>\n",
       "<!-- s2&#45;a1&#45;&gt;s1 -->\n",
       "<g id=\"edge18\" class=\"edge\">\n",
       "<title>s2&#45;a1&#45;&gt;s1</title>\n",
       "<path fill=\"none\" stroke=\"#0000ff\" stroke-dasharray=\"5,2\" d=\"M835.933,-84.1714C858.2731,-87.5563 891.0101,-92.5166 921.8382,-97.1876\"/>\n",
       "<polygon fill=\"#0000ff\" stroke=\"#0000ff\" points=\"921.3531,-100.654 931.7646,-98.6917 922.4018,-93.733 921.3531,-100.654\"/>\n",
       "<text text-anchor=\"middle\" x=\"883.4798\" y=\"-100.2\" font-family=\"Arial\" font-size=\"16.00\" fill=\"#000000\">p = 0.3</text>\n",
       "</g>\n",
       "</g>\n",
       "</svg>\n"
      ],
      "text/plain": [
       "<graphviz.dot.Digraph at 0x7f15467d6a00>"
      ]
     },
     "metadata": {},
     "output_type": "display_data"
    }
   ],
   "source": [
    "if has_graphviz:\n",
    "    display(plot_graph_with_state_values(mdp, state_values))"
   ]
  },
  {
   "cell_type": "code",
   "execution_count": 33,
   "metadata": {
    "id": "3qpFijiAPa_4"
   },
   "outputs": [
    {
     "name": "stdout",
     "output_type": "stream",
     "text": [
      "Final state values: {'s0': 3.7810348735476405, 's1': 7.294006423867229, 's2': 4.202140275227048}\n"
     ]
    }
   ],
   "source": [
    "print(\"Final state values:\", state_values)\n",
    "\n",
    "assert abs(state_values['s0'] - 3.781) < 0.01\n",
    "assert abs(state_values['s1'] - 7.294) < 0.01\n",
    "assert abs(state_values['s2'] - 4.202) < 0.01"
   ]
  },
  {
   "cell_type": "markdown",
   "metadata": {
    "id": "uB3yhkCMPa_4"
   },
   "source": [
    "Now let's use those $V^{*}(s)$ to find optimal actions in each state\n",
    "\n",
    " $$\\pi^*(s) = argmax_a \\sum_{s'} P(s' | s,a) \\cdot [ r(s,a,s') + \\gamma V_{i}(s')] = argmax_a Q_i(s,a)$$\n",
    " \n",
    "The only difference vs V(s) is that here we take not max but argmax: find action such with maximum Q(s,a)."
   ]
  },
  {
   "cell_type": "code",
   "execution_count": 39,
   "metadata": {
    "id": "WeThbJQzPa_5"
   },
   "outputs": [],
   "source": [
    "def get_optimal_action(mdp, state_values, state, gamma=0.9):\n",
    "    \"\"\" Finds optimal action using formula above. \"\"\"\n",
    "    if mdp.is_terminal(state):\n",
    "        return None\n",
    "\n",
    "    #print(\"mdp.get_all_states =\", mdp.get_all_states())\n",
    "    #print(\"mdp.get_possible_actions('s1') = \", mdp.get_possible_actions('s1'))\n",
    "    #print(\"mdp.get_next_states('s1', 'a0') = \", mdp.get_next_states('s1', 'a0'))\n",
    "    #print(\"mdp.get_reward('s1', 'a0', 's0') = \", mdp.get_reward('s1', 'a0', 's0'))\n",
    "    #print(\"mdp.get_transition_prob('s1', 'a0', 's0') = \", mdp.get_transition_prob('s1', 'a0', 's0'))\n",
    "    #mdp.get_all_states = ('s0', 's1', 's2')\n",
    "    #mdp.get_possible_actions('s1') =  ('a0', 'a1')\n",
    "    #mdp.get_next_states('s1', 'a0') =  {'s0': 0.7, 's1': 0.1, 's2': 0.2}\n",
    "    #mdp.get_reward('s1', 'a0', 's0') =  5\n",
    "    #mdp.get_transition_prob('s1', 'a0', 's0') =  0.7\n",
    "    #<YOUR CODE>\n",
    "    opt_policy = {}\n",
    "    actions = mdp.get_possible_actions(state)\n",
    "    for action in actions:\n",
    "        opt_policy[action]=get_action_value(mdp, state_values, state, action, gamma)\n",
    "    \n",
    "    return max(opt_policy, key=opt_policy.get) #<YOUR CODE>"
   ]
  },
  {
   "cell_type": "code",
   "execution_count": 40,
   "metadata": {
    "id": "1KY5kD79Pa_5"
   },
   "outputs": [],
   "source": [
    "assert get_optimal_action(mdp, state_values, 's0', gamma) == 'a1'\n",
    "assert get_optimal_action(mdp, state_values, 's1', gamma) == 'a0'\n",
    "assert get_optimal_action(mdp, state_values, 's2', gamma) == 'a1'\n",
    "\n",
    "assert get_optimal_action(mdp, {'s0': -1e10, 's1': 0, 's2': -2e10}, 's0', 0.9) == 'a0', \\\n",
    "    \"Please ensure that you handle negative Q-values of arbitrary magnitude correctly\"\n",
    "assert get_optimal_action(mdp, {'s0': -2e10, 's1': 0, 's2': -1e10}, 's0', 0.9) == 'a1', \\\n",
    "    \"Please ensure that you handle negative Q-values of arbitrary magnitude correctly\""
   ]
  },
  {
   "cell_type": "code",
   "execution_count": 41,
   "metadata": {
    "id": "3J822zvNPa_5"
   },
   "outputs": [
    {
     "data": {
      "image/svg+xml": [
       "<?xml version=\"1.0\" encoding=\"UTF-8\" standalone=\"no\"?>\n",
       "<!DOCTYPE svg PUBLIC \"-//W3C//DTD SVG 1.1//EN\"\n",
       " \"http://www.w3.org/Graphics/SVG/1.1/DTD/svg11.dtd\">\n",
       "<!-- Generated by graphviz version 2.40.1 (20161225.0304)\n",
       " -->\n",
       "<!-- Title: MDP Pages: 1 -->\n",
       "<svg width=\"720pt\" height=\"195pt\"\n",
       " viewBox=\"0.00 0.00 720.00 195.10\" xmlns=\"http://www.w3.org/2000/svg\" xmlns:xlink=\"http://www.w3.org/1999/xlink\">\n",
       "<g id=\"graph0\" class=\"graph\" transform=\"scale(.5807 .5807) rotate(0) translate(4 332)\">\n",
       "<title>MDP</title>\n",
       "<polygon fill=\"#ffffff\" stroke=\"transparent\" points=\"-4,4 -4,-332 1235.9697,-332 1235.9697,4 -4,4\"/>\n",
       "<!-- s0 -->\n",
       "<g id=\"node1\" class=\"node\">\n",
       "<title>s0</title>\n",
       "<ellipse fill=\"#85ff75\" stroke=\"#85ff75\" cx=\"75.4178\" cy=\"-129\" rx=\"71.34\" ry=\"71.34\"/>\n",
       "<ellipse fill=\"none\" stroke=\"#85ff75\" cx=\"75.4178\" cy=\"-129\" rx=\"75.3357\" ry=\"75.3357\"/>\n",
       "<text text-anchor=\"middle\" x=\"75.4178\" y=\"-135.8\" font-family=\"Arial\" font-size=\"24.00\" fill=\"#000000\">s0</text>\n",
       "<text text-anchor=\"middle\" x=\"75.4178\" y=\"-109.8\" font-family=\"Arial\" font-size=\"24.00\" fill=\"#000000\">V =3.78</text>\n",
       "</g>\n",
       "<!-- s0&#45;a0 -->\n",
       "<g id=\"node2\" class=\"node\">\n",
       "<title>s0&#45;a0</title>\n",
       "<ellipse fill=\"#ffb6c1\" stroke=\"#ffb6c1\" cx=\"264.4127\" cy=\"-160\" rx=\"27.6545\" ry=\"27.6545\"/>\n",
       "<text text-anchor=\"middle\" x=\"264.4127\" y=\"-155\" font-family=\"Arial\" font-size=\"20.00\" fill=\"#000000\">a0</text>\n",
       "</g>\n",
       "<!-- s0&#45;&gt;s0&#45;a0 -->\n",
       "<g id=\"edge1\" class=\"edge\">\n",
       "<title>s0&#45;&gt;s0&#45;a0</title>\n",
       "<path fill=\"none\" stroke=\"#ff0000\" stroke-width=\"2\" d=\"M150.82,-132.6638C172.9292,-134.7295 197.0203,-137.9574 218.8356,-143 222.2297,-143.7846 225.7134,-144.7577 229.1697,-145.8382\"/>\n",
       "<polygon fill=\"#ff0000\" stroke=\"#ff0000\" stroke-width=\"2\" points=\"228.1459,-149.1869 238.7404,-149.1004 230.4043,-142.5612 228.1459,-149.1869\"/>\n",
       "</g>\n",
       "<!-- s0&#45;a1 -->\n",
       "<g id=\"node4\" class=\"node\">\n",
       "<title>s0&#45;a1</title>\n",
       "<ellipse fill=\"#ffb6c1\" stroke=\"#ffb6c1\" cx=\"264.4127\" cy=\"-233\" rx=\"27.6545\" ry=\"27.6545\"/>\n",
       "<text text-anchor=\"middle\" x=\"264.4127\" y=\"-228\" font-family=\"Arial\" font-size=\"20.00\" fill=\"#000000\">a1</text>\n",
       "</g>\n",
       "<!-- s0&#45;&gt;s0&#45;a1 -->\n",
       "<g id=\"edge4\" class=\"edge\">\n",
       "<title>s0&#45;&gt;s0&#45;a1</title>\n",
       "<path fill=\"none\" stroke=\"#ff0000\" stroke-width=\"2\" d=\"M144.1839,-160.3181C174.8806,-176.6544 209.4986,-196.1656 233.6776,-210.9495\"/>\n",
       "<polygon fill=\"#ff0000\" stroke=\"#ff0000\" stroke-width=\"2\" points=\"232.0615,-214.0659 242.4033,-216.3676 235.7541,-208.119 232.0615,-214.0659\"/>\n",
       "</g>\n",
       "<!-- s0&#45;&gt;s0&#45;a1 -->\n",
       "<g id=\"edge20\" class=\"edge\">\n",
       "<title>s0&#45;&gt;s0&#45;a1</title>\n",
       "<path fill=\"none\" stroke=\"#00ff00\" stroke-width=\"6\" d=\"M138.6131,-170.1846C168.6814,-187.4079 203.5164,-206.2437 228.8952,-218.8652\"/>\n",
       "<polygon fill=\"#00ff00\" stroke=\"#00ff00\" stroke-width=\"6\" points=\"226.8393,-223.704 238.1291,-223.382 231.453,-214.2719 226.8393,-223.704\"/>\n",
       "</g>\n",
       "<!-- s0&#45;a0&#45;&gt;s0 -->\n",
       "<g id=\"edge2\" class=\"edge\">\n",
       "<title>s0&#45;a0&#45;&gt;s0</title>\n",
       "<path fill=\"none\" stroke=\"#0000ff\" stroke-dasharray=\"5,2\" d=\"M236.77,-155.4659C216.4311,-152.1298 187.6218,-147.4043 159.9627,-142.8675\"/>\n",
       "<polygon fill=\"#0000ff\" stroke=\"#0000ff\" points=\"160.277,-139.3724 149.8423,-141.2075 159.1439,-146.2801 160.277,-139.3724\"/>\n",
       "<text text-anchor=\"middle\" x=\"193.8356\" y=\"-158.2\" font-family=\"Arial\" font-size=\"16.00\" fill=\"#000000\">p = 0.5</text>\n",
       "</g>\n",
       "<!-- s2 -->\n",
       "<g id=\"node3\" class=\"node\">\n",
       "<title>s2</title>\n",
       "<ellipse fill=\"#85ff75\" stroke=\"#85ff75\" cx=\"539.4077\" cy=\"-207\" rx=\"71.34\" ry=\"71.34\"/>\n",
       "<ellipse fill=\"none\" stroke=\"#85ff75\" cx=\"539.4077\" cy=\"-207\" rx=\"75.3357\" ry=\"75.3357\"/>\n",
       "<text text-anchor=\"middle\" x=\"539.4077\" y=\"-213.8\" font-family=\"Arial\" font-size=\"24.00\" fill=\"#000000\">s2</text>\n",
       "<text text-anchor=\"middle\" x=\"539.4077\" y=\"-187.8\" font-family=\"Arial\" font-size=\"24.00\" fill=\"#000000\">V =4.20</text>\n",
       "</g>\n",
       "<!-- s0&#45;a0&#45;&gt;s2 -->\n",
       "<g id=\"edge3\" class=\"edge\">\n",
       "<title>s0&#45;a0&#45;&gt;s2</title>\n",
       "<path fill=\"none\" stroke=\"#0000ff\" stroke-dasharray=\"5,2\" d=\"M291.7857,-164.6784C329.5283,-171.129 399.2192,-183.0401 455.0746,-192.5864\"/>\n",
       "<polygon fill=\"#0000ff\" stroke=\"#0000ff\" points=\"454.5292,-196.0439 464.9759,-194.2787 455.7085,-189.144 454.5292,-196.0439\"/>\n",
       "<text text-anchor=\"middle\" x=\"377.9899\" y=\"-196.2\" font-family=\"Arial\" font-size=\"16.00\" fill=\"#000000\">p = 0.5</text>\n",
       "</g>\n",
       "<!-- s2&#45;a0 -->\n",
       "<g id=\"node8\" class=\"node\">\n",
       "<title>s2&#45;a0</title>\n",
       "<ellipse fill=\"#ffb6c1\" stroke=\"#ffb6c1\" cx=\"808.4026\" cy=\"-181\" rx=\"27.6545\" ry=\"27.6545\"/>\n",
       "<text text-anchor=\"middle\" x=\"808.4026\" y=\"-176\" font-family=\"Arial\" font-size=\"20.00\" fill=\"#000000\">a0</text>\n",
       "</g>\n",
       "<!-- s2&#45;&gt;s2&#45;a0 -->\n",
       "<g id=\"edge13\" class=\"edge\">\n",
       "<title>s2&#45;&gt;s2&#45;a0</title>\n",
       "<path fill=\"none\" stroke=\"#ff0000\" stroke-width=\"2\" d=\"M614.9001,-210.6232C658.559,-211.1522 714.2902,-209.1402 762.8255,-199 766.4532,-198.2421 770.166,-197.2209 773.83,-196.048\"/>\n",
       "<polygon fill=\"#ff0000\" stroke=\"#ff0000\" stroke-width=\"2\" points=\"775.0775,-199.3191 783.3224,-192.6654 772.7278,-192.7252 775.0775,-199.3191\"/>\n",
       "</g>\n",
       "<!-- s2&#45;a1 -->\n",
       "<g id=\"node9\" class=\"node\">\n",
       "<title>s2&#45;a1</title>\n",
       "<ellipse fill=\"#ffb6c1\" stroke=\"#ffb6c1\" cx=\"808.4026\" cy=\"-108\" rx=\"27.6545\" ry=\"27.6545\"/>\n",
       "<text text-anchor=\"middle\" x=\"808.4026\" y=\"-103\" font-family=\"Arial\" font-size=\"20.00\" fill=\"#000000\">a1</text>\n",
       "</g>\n",
       "<!-- s2&#45;&gt;s2&#45;a1 -->\n",
       "<g id=\"edge16\" class=\"edge\">\n",
       "<title>s2&#45;&gt;s2&#45;a1</title>\n",
       "<path fill=\"none\" stroke=\"#ff0000\" stroke-width=\"2\" d=\"M605.5834,-170.6707C614.7064,-166.952 623.978,-163.3338 632.8255,-160 680.0976,-142.1874 735.2112,-123.3493 770.8988,-113.4589\"/>\n",
       "<polygon fill=\"#ff0000\" stroke=\"#ff0000\" stroke-width=\"2\" points=\"772.1115,-116.758 780.8731,-110.8012 770.3091,-109.994 772.1115,-116.758\"/>\n",
       "</g>\n",
       "<!-- s2&#45;&gt;s2&#45;a1 -->\n",
       "<g id=\"edge22\" class=\"edge\">\n",
       "<title>s2&#45;&gt;s2&#45;a1</title>\n",
       "<path fill=\"none\" stroke=\"#00ff00\" stroke-width=\"6\" d=\"M611.9356,-186.03C618.9761,-183.2921 626.026,-180.5621 632.8255,-178 681.9566,-159.4869 739.5581,-139.8661 775.0173,-125.7132\"/>\n",
       "<polygon fill=\"#00ff00\" stroke=\"#00ff00\" stroke-width=\"6\" points=\"777.1388,-130.5177 784.406,-121.8718 773.1626,-120.7996 777.1388,-130.5177\"/>\n",
       "</g>\n",
       "<!-- s0&#45;a1&#45;&gt;s2 -->\n",
       "<g id=\"edge5\" class=\"edge\">\n",
       "<title>s0&#45;a1&#45;&gt;s2</title>\n",
       "<path fill=\"none\" stroke=\"#0000ff\" stroke-dasharray=\"5,2\" d=\"M292.0394,-230.388C329.608,-226.836 398.4925,-220.3231 454.0473,-215.0706\"/>\n",
       "<polygon fill=\"#0000ff\" stroke=\"#0000ff\" points=\"454.6288,-218.5313 464.2549,-214.1055 453.9698,-211.5624 454.6288,-218.5313\"/>\n",
       "<text text-anchor=\"middle\" x=\"377.9899\" y=\"-233.2\" font-family=\"Arial\" font-size=\"16.00\" fill=\"#000000\">p = 1</text>\n",
       "</g>\n",
       "<!-- s1 -->\n",
       "<g id=\"node5\" class=\"node\">\n",
       "<title>s1</title>\n",
       "<ellipse fill=\"#85ff75\" stroke=\"#85ff75\" cx=\"1006.3976\" cy=\"-127\" rx=\"71.34\" ry=\"71.34\"/>\n",
       "<ellipse fill=\"none\" stroke=\"#85ff75\" cx=\"1006.3976\" cy=\"-127\" rx=\"75.3357\" ry=\"75.3357\"/>\n",
       "<text text-anchor=\"middle\" x=\"1006.3976\" y=\"-133.8\" font-family=\"Arial\" font-size=\"24.00\" fill=\"#000000\">s1</text>\n",
       "<text text-anchor=\"middle\" x=\"1006.3976\" y=\"-107.8\" font-family=\"Arial\" font-size=\"24.00\" fill=\"#000000\">V =7.29</text>\n",
       "</g>\n",
       "<!-- s1&#45;a0 -->\n",
       "<g id=\"node6\" class=\"node\">\n",
       "<title>s1&#45;a0</title>\n",
       "<ellipse fill=\"#ffb6c1\" stroke=\"#ffb6c1\" cx=\"1204.3925\" cy=\"-126\" rx=\"27.6545\" ry=\"27.6545\"/>\n",
       "<text text-anchor=\"middle\" x=\"1204.3925\" y=\"-121\" font-family=\"Arial\" font-size=\"20.00\" fill=\"#000000\">a0</text>\n",
       "</g>\n",
       "<!-- s1&#45;&gt;s1&#45;a0 -->\n",
       "<g id=\"edge6\" class=\"edge\">\n",
       "<title>s1&#45;&gt;s1&#45;a0</title>\n",
       "<path fill=\"none\" stroke=\"#ff0000\" stroke-width=\"2\" d=\"M1081.5333,-120.0479C1110.6936,-119.4593 1142.791,-119.6794 1166.8638,-120.7636\"/>\n",
       "<polygon fill=\"#ff0000\" stroke=\"#ff0000\" stroke-width=\"2\" points=\"1166.8164,-124.266 1176.9881,-121.3019 1167.1881,-117.2758 1166.8164,-124.266\"/>\n",
       "</g>\n",
       "<!-- s1&#45;&gt;s1&#45;a0 -->\n",
       "<g id=\"edge21\" class=\"edge\">\n",
       "<title>s1&#45;&gt;s1&#45;a0</title>\n",
       "<path fill=\"none\" stroke=\"#00ff00\" stroke-width=\"6\" d=\"M1081.8158,-133.196C1110.9459,-133.4841 1142.968,-132.9369 1166.9755,-131.6093\"/>\n",
       "<polygon fill=\"#00ff00\" stroke=\"#00ff00\" stroke-width=\"6\" points=\"1167.4242,-136.8415 1177.0717,-130.9688 1166.7593,-126.3625 1167.4242,-136.8415\"/>\n",
       "</g>\n",
       "<!-- s1&#45;a1 -->\n",
       "<g id=\"node7\" class=\"node\">\n",
       "<title>s1&#45;a1</title>\n",
       "<ellipse fill=\"#ffb6c1\" stroke=\"#ffb6c1\" cx=\"1204.3925\" cy=\"-199\" rx=\"27.6545\" ry=\"27.6545\"/>\n",
       "<text text-anchor=\"middle\" x=\"1204.3925\" y=\"-194\" font-family=\"Arial\" font-size=\"20.00\" fill=\"#000000\">a1</text>\n",
       "</g>\n",
       "<!-- s1&#45;&gt;s1&#45;a1 -->\n",
       "<g id=\"edge10\" class=\"edge\">\n",
       "<title>s1&#45;&gt;s1&#45;a1</title>\n",
       "<path fill=\"none\" stroke=\"#ff0000\" stroke-width=\"2\" d=\"M1078.7002,-149.4071C1104.2325,-157.7887 1133.0046,-167.7707 1158.8154,-178 1162.536,-179.4746 1166.3889,-181.0961 1170.2069,-182.7644\"/>\n",
       "<polygon fill=\"#ff0000\" stroke=\"#ff0000\" stroke-width=\"2\" points=\"1168.9737,-186.0473 1179.53,-186.9507 1171.8411,-179.6615 1168.9737,-186.0473\"/>\n",
       "</g>\n",
       "<!-- s1&#45;a0&#45;&gt;s0 -->\n",
       "<g id=\"edge7\" class=\"edge\">\n",
       "<title>s1&#45;a0&#45;&gt;s0</title>\n",
       "<path fill=\"none\" stroke=\"#0000ff\" stroke-dasharray=\"5,2\" d=\"M1186.6295,-104.6258C1154.6247,-68.6775 1083.4043,0 1006.3976,0 264.4127,0 264.4127,0 264.4127,0 213.8145,0 166.7816,-31.9319 132.2912,-64.0217\"/>\n",
       "<polygon fill=\"#0000ff\" stroke=\"#0000ff\" points=\"129.4957,-61.852 124.6848,-71.2915 134.3323,-66.9124 129.4957,-61.852\"/>\n",
       "<text text-anchor=\"middle\" x=\"697.8255\" y=\"-5.2\" font-family=\"Arial\" font-size=\"16.00\" fill=\"#000000\">p = 0.7 &#160;reward =5</text>\n",
       "</g>\n",
       "<!-- s1&#45;a0&#45;&gt;s2 -->\n",
       "<g id=\"edge9\" class=\"edge\">\n",
       "<title>s1&#45;a0&#45;&gt;s2</title>\n",
       "<path fill=\"none\" stroke=\"#0000ff\" stroke-dasharray=\"5,2\" d=\"M1186.2939,-147.3217C1182.8566,-151.9759 1179.5005,-157.0077 1176.8154,-162 1165.2308,-183.5388 1178.6492,-199.6911 1158.8154,-214 1075.7438,-273.9311 773.3181,-240.7927 623.9949,-219.9111\"/>\n",
       "<polygon fill=\"#0000ff\" stroke=\"#0000ff\" points=\"624.3401,-216.4252 613.9489,-218.4924 623.3612,-223.3564 624.3401,-216.4252\"/>\n",
       "<text text-anchor=\"middle\" x=\"883.4798\" y=\"-252.2\" font-family=\"Arial\" font-size=\"16.00\" fill=\"#000000\">p = 0.2</text>\n",
       "</g>\n",
       "<!-- s1&#45;a0&#45;&gt;s1 -->\n",
       "<g id=\"edge8\" class=\"edge\">\n",
       "<title>s1&#45;a0&#45;&gt;s1</title>\n",
       "<path fill=\"none\" stroke=\"#0000ff\" stroke-dasharray=\"5,2\" d=\"M1179.9971,-112.4222C1173.3281,-109.3675 1165.9638,-106.5676 1158.8154,-105 1136.2942,-100.0611 1111.6499,-100.9463 1088.8687,-104.2922\"/>\n",
       "<polygon fill=\"#0000ff\" stroke=\"#0000ff\" points=\"1088.1923,-100.8562 1078.8904,-105.9283 1089.325,-107.764 1088.1923,-100.8562\"/>\n",
       "<text text-anchor=\"middle\" x=\"1129.3154\" y=\"-110.2\" font-family=\"Arial\" font-size=\"16.00\" fill=\"#000000\">p = 0.1</text>\n",
       "</g>\n",
       "<!-- s1&#45;a1&#45;&gt;s2 -->\n",
       "<g id=\"edge12\" class=\"edge\">\n",
       "<title>s1&#45;a1&#45;&gt;s2</title>\n",
       "<path fill=\"none\" stroke=\"#0000ff\" stroke-dasharray=\"5,2\" d=\"M1190.4281,-223.0003C1182.6454,-233.9578 1171.8786,-245.843 1158.8154,-252 947.353,-351.6676 860.1322,-306.6042 632.8255,-252 627.0505,-250.6127 621.2125,-248.8356 615.4236,-246.7922\"/>\n",
       "<polygon fill=\"#0000ff\" stroke=\"#0000ff\" points=\"616.3388,-243.3961 605.7474,-243.1237 613.8572,-249.9415 616.3388,-243.3961\"/>\n",
       "<text text-anchor=\"middle\" x=\"883.4798\" y=\"-315.2\" font-family=\"Arial\" font-size=\"16.00\" fill=\"#000000\">p = 0.05</text>\n",
       "</g>\n",
       "<!-- s1&#45;a1&#45;&gt;s1 -->\n",
       "<g id=\"edge11\" class=\"edge\">\n",
       "<title>s1&#45;a1&#45;&gt;s1</title>\n",
       "<path fill=\"none\" stroke=\"#0000ff\" stroke-dasharray=\"5,2\" d=\"M1176.7419,-194.9875C1155.3251,-191.3892 1125.1382,-185.2373 1099.8154,-176 1093.8312,-173.8171 1087.7487,-171.3229 1081.7051,-168.6422\"/>\n",
       "<polygon fill=\"#0000ff\" stroke=\"#0000ff\" points=\"1082.807,-165.2964 1072.2596,-164.2942 1079.8799,-171.6551 1082.807,-165.2964\"/>\n",
       "<text text-anchor=\"middle\" x=\"1129.3154\" y=\"-197.2\" font-family=\"Arial\" font-size=\"16.00\" fill=\"#000000\">p = 0.95</text>\n",
       "</g>\n",
       "<!-- s2&#45;a0&#45;&gt;s0 -->\n",
       "<g id=\"edge14\" class=\"edge\">\n",
       "<title>s2&#45;a0&#45;&gt;s0</title>\n",
       "<path fill=\"none\" stroke=\"#0000ff\" stroke-dasharray=\"5,2\" d=\"M782.6497,-170.6505C746.0641,-156.5601 676.6133,-132.0576 614.8255,-123 455.7136,-99.6755 267.3695,-110.34 160.5923,-119.8913\"/>\n",
       "<polygon fill=\"#0000ff\" stroke=\"#0000ff\" points=\"160.1578,-116.4163 150.5174,-120.8109 160.7942,-123.3873 160.1578,-116.4163\"/>\n",
       "<text text-anchor=\"middle\" x=\"377.9899\" y=\"-116.2\" font-family=\"Arial\" font-size=\"16.00\" fill=\"#000000\">p = 0.4</text>\n",
       "</g>\n",
       "<!-- s2&#45;a0&#45;&gt;s2 -->\n",
       "<g id=\"edge15\" class=\"edge\">\n",
       "<title>s2&#45;a0&#45;&gt;s2</title>\n",
       "<path fill=\"none\" stroke=\"#0000ff\" stroke-dasharray=\"5,2\" d=\"M780.832,-177.3694C746.0849,-173.4801 684.6367,-168.8848 632.8255,-177 628.7076,-177.645 624.5235,-178.4407 620.3234,-179.3525\"/>\n",
       "<polygon fill=\"#0000ff\" stroke=\"#0000ff\" points=\"619.4423,-175.9643 610.5179,-181.6744 621.0553,-182.776 619.4423,-175.9643\"/>\n",
       "<text text-anchor=\"middle\" x=\"697.8255\" y=\"-182.2\" font-family=\"Arial\" font-size=\"16.00\" fill=\"#000000\">p = 0.6</text>\n",
       "</g>\n",
       "<!-- s2&#45;a1&#45;&gt;s0 -->\n",
       "<g id=\"edge17\" class=\"edge\">\n",
       "<title>s2&#45;a1&#45;&gt;s0</title>\n",
       "<path fill=\"none\" stroke=\"#0000ff\" stroke-dasharray=\"5,2\" d=\"M783.9868,-94.1164C777.318,-90.9136 769.9588,-87.8939 762.8255,-86 568.0752,-34.2928 510.6524,-45.6736 309.9899,-64 246.4637,-69.8018 229.984,-71.8312 168.8356,-90 163.9591,-91.4489 158.9912,-93.0688 154.0147,-94.8024\"/>\n",
       "<polygon fill=\"#0000ff\" stroke=\"#0000ff\" points=\"152.6682,-91.5674 144.4559,-98.2614 155.0502,-98.1497 152.6682,-91.5674\"/>\n",
       "<text text-anchor=\"middle\" x=\"377.9899\" y=\"-69.2\" font-family=\"Arial\" font-size=\"16.00\" fill=\"#000000\">p = 0.3 &#160;reward =&#45;1</text>\n",
       "</g>\n",
       "<!-- s2&#45;a1&#45;&gt;s2 -->\n",
       "<g id=\"edge19\" class=\"edge\">\n",
       "<title>s2&#45;a1&#45;&gt;s2</title>\n",
       "<path fill=\"none\" stroke=\"#0000ff\" stroke-dasharray=\"5,2\" d=\"M781.724,-100.0918C746.0547,-91.0362 681.6602,-80.0831 632.8255,-102 615.7336,-109.6708 600.4908,-122.1856 587.5255,-135.9487\"/>\n",
       "<polygon fill=\"#0000ff\" stroke=\"#0000ff\" points=\"584.6403,-133.923 580.5596,-143.7005 589.8469,-138.6018 584.6403,-133.923\"/>\n",
       "<text text-anchor=\"middle\" x=\"697.8255\" y=\"-107.2\" font-family=\"Arial\" font-size=\"16.00\" fill=\"#000000\">p = 0.4</text>\n",
       "</g>\n",
       "<!-- s2&#45;a1&#45;&gt;s1 -->\n",
       "<g id=\"edge18\" class=\"edge\">\n",
       "<title>s2&#45;a1&#45;&gt;s1</title>\n",
       "<path fill=\"none\" stroke=\"#0000ff\" stroke-dasharray=\"5,2\" d=\"M835.933,-110.6419C857.9855,-112.7581 890.1688,-115.8464 920.6465,-118.7711\"/>\n",
       "<polygon fill=\"#0000ff\" stroke=\"#0000ff\" points=\"920.6112,-122.2838 930.8999,-119.7551 921.28,-115.3158 920.6112,-122.2838\"/>\n",
       "<text text-anchor=\"middle\" x=\"883.4798\" y=\"-123.2\" font-family=\"Arial\" font-size=\"16.00\" fill=\"#000000\">p = 0.3</text>\n",
       "</g>\n",
       "</g>\n",
       "</svg>\n"
      ],
      "text/plain": [
       "<graphviz.dot.Digraph at 0x7f1546819a90>"
      ]
     },
     "metadata": {},
     "output_type": "display_data"
    }
   ],
   "source": [
    "if has_graphviz:\n",
    "    display(plot_graph_optimal_strategy_and_state_values(mdp, state_values, get_action_value))"
   ]
  },
  {
   "cell_type": "code",
   "execution_count": 42,
   "metadata": {
    "id": "IlvX9PWPPa_5"
   },
   "outputs": [
    {
     "name": "stdout",
     "output_type": "stream",
     "text": [
      "average reward:  0.434\n"
     ]
    }
   ],
   "source": [
    "# Measure agent's average reward\n",
    "\n",
    "s = mdp.reset()\n",
    "rewards = []\n",
    "for _ in range(10000):\n",
    "    s, r, done, _ = mdp.step(get_optimal_action(mdp, state_values, s, gamma))\n",
    "    rewards.append(r)\n",
    "\n",
    "print(\"average reward: \", np.mean(rewards))\n",
    "\n",
    "assert(0.40 < np.mean(rewards) < 0.55)"
   ]
  },
  {
   "cell_type": "markdown",
   "metadata": {
    "id": "UaGvGbwPPa_5"
   },
   "source": [
    "### Frozen lake"
   ]
  },
  {
   "cell_type": "code",
   "execution_count": 44,
   "metadata": {
    "id": "PWGHdZ4WPa_6"
   },
   "outputs": [
    {
     "name": "stdout",
     "output_type": "stream",
     "text": [
      "*FFF\n",
      "FHFH\n",
      "FFFH\n",
      "HFFG\n",
      "\n"
     ]
    }
   ],
   "source": [
    "from material.mdp import FrozenLakeEnv\n",
    "mdp = FrozenLakeEnv(slip_chance=0)\n",
    "\n",
    "mdp.render()"
   ]
  },
  {
   "cell_type": "code",
   "execution_count": 45,
   "metadata": {
    "id": "kgRb2HD6Pa_6"
   },
   "outputs": [],
   "source": [
    "def value_iteration(mdp, state_values=None, gamma=0.9, num_iter=1000, min_difference=1e-5):\n",
    "    \"\"\" performs num_iter value iteration steps starting from state_values. Same as before but in a function \"\"\"\n",
    "    state_values = state_values or {s: 0 for s in mdp.get_all_states()}\n",
    "    for i in range(num_iter):\n",
    "\n",
    "        # Compute new state values using the functions you defined above. It must be a dict {state : new_V(state)}\n",
    "        new_state_values = {s: get_new_state_value(mdp, state_values, s, gamma) for s in mdp.get_all_states()} #<YOUR CODE>\n",
    "        \n",
    "        assert isinstance(new_state_values, dict)\n",
    "\n",
    "        # Compute difference\n",
    "        diff = max(abs(new_state_values[s] - state_values[s])\n",
    "                   for s in mdp.get_all_states())\n",
    "\n",
    "        print(\"iter %4i   |   diff: %6.5f   |   V(start): %.3f \" %\n",
    "              (i, diff, new_state_values[mdp._initial_state]))\n",
    "\n",
    "        state_values = new_state_values\n",
    "        if diff < min_difference:\n",
    "            break\n",
    "\n",
    "    return state_values"
   ]
  },
  {
   "cell_type": "code",
   "execution_count": 46,
   "metadata": {
    "id": "kM46FzH5Pa_6"
   },
   "outputs": [
    {
     "name": "stdout",
     "output_type": "stream",
     "text": [
      "iter    0   |   diff: 1.00000   |   V(start): 0.000 \n",
      "iter    1   |   diff: 0.90000   |   V(start): 0.000 \n",
      "iter    2   |   diff: 0.81000   |   V(start): 0.000 \n",
      "iter    3   |   diff: 0.72900   |   V(start): 0.000 \n",
      "iter    4   |   diff: 0.65610   |   V(start): 0.000 \n",
      "iter    5   |   diff: 0.59049   |   V(start): 0.590 \n",
      "iter    6   |   diff: 0.00000   |   V(start): 0.590 \n"
     ]
    }
   ],
   "source": [
    "state_values = value_iteration(mdp)"
   ]
  },
  {
   "cell_type": "code",
   "execution_count": 47,
   "metadata": {
    "id": "HJxFjDEmPa_6"
   },
   "outputs": [
    {
     "name": "stdout",
     "output_type": "stream",
     "text": [
      "*FFF\n",
      "FHFH\n",
      "FFFH\n",
      "HFFG\n",
      "\n",
      "down\n",
      "\n",
      "SFFF\n",
      "*HFH\n",
      "FFFH\n",
      "HFFG\n",
      "\n",
      "down\n",
      "\n",
      "SFFF\n",
      "FHFH\n",
      "*FFH\n",
      "HFFG\n",
      "\n",
      "right\n",
      "\n",
      "SFFF\n",
      "FHFH\n",
      "F*FH\n",
      "HFFG\n",
      "\n",
      "down\n",
      "\n",
      "SFFF\n",
      "FHFH\n",
      "FFFH\n",
      "H*FG\n",
      "\n",
      "right\n",
      "\n",
      "SFFF\n",
      "FHFH\n",
      "FFFH\n",
      "HF*G\n",
      "\n",
      "right\n",
      "\n",
      "SFFF\n",
      "FHFH\n",
      "FFFH\n",
      "HFF*\n",
      "\n"
     ]
    }
   ],
   "source": [
    "s = mdp.reset()\n",
    "mdp.render()\n",
    "for t in range(100):\n",
    "    a = get_optimal_action(mdp, state_values, s, gamma)\n",
    "    print(a, end='\\n\\n')\n",
    "    s, r, done, _ = mdp.step(a)\n",
    "    mdp.render()\n",
    "    if done:\n",
    "        break"
   ]
  },
  {
   "cell_type": "markdown",
   "metadata": {
    "id": "jGZm101DPa_6"
   },
   "source": [
    "### Let's visualize!\n",
    "\n",
    "It's usually interesting to see what your algorithm actually learned under the hood. To do so, we'll plot state value functions and optimal actions at each VI step."
   ]
  },
  {
   "cell_type": "code",
   "execution_count": 48,
   "metadata": {
    "id": "D64tGbiWPa_6"
   },
   "outputs": [],
   "source": [
    "import matplotlib.pyplot as plt\n",
    "%matplotlib inline\n",
    "\n",
    "\n",
    "def draw_policy(mdp, state_values):\n",
    "    plt.figure(figsize=(3, 3))\n",
    "    h, w = mdp.desc.shape\n",
    "    states = sorted(mdp.get_all_states())\n",
    "    V = np.array([state_values[s] for s in states])\n",
    "    Pi = {s: get_optimal_action(mdp, state_values, s, gamma) for s in states}\n",
    "    plt.imshow(V.reshape(w, h), cmap='gray', interpolation='none', clim=(0, 1))\n",
    "    ax = plt.gca()\n",
    "    ax.set_xticks(np.arange(h)-.5)\n",
    "    ax.set_yticks(np.arange(w)-.5)\n",
    "    ax.set_xticklabels([])\n",
    "    ax.set_yticklabels([])\n",
    "    Y, X = np.mgrid[0:4, 0:4]\n",
    "    a2uv = {'left': (-1, 0), 'down': (0, -1), 'right': (1, 0), 'up': (0, 1)}\n",
    "    for y in range(h):\n",
    "        for x in range(w):\n",
    "            plt.text(x, y, str(mdp.desc[y, x].item()),\n",
    "                     color='g', size=12,  verticalalignment='center',\n",
    "                     horizontalalignment='center', fontweight='bold')\n",
    "            a = Pi[y, x]\n",
    "            if a is None:\n",
    "                continue\n",
    "            u, v = a2uv[a]\n",
    "            plt.arrow(x, y, u*.3, -v*.3, color='m',\n",
    "                      head_width=0.1, head_length=0.1)\n",
    "    plt.grid(color='b', lw=2, ls='-')\n",
    "    plt.show()"
   ]
  },
  {
   "cell_type": "code",
   "execution_count": 49,
   "metadata": {
    "id": "2NN-AZxIPa_7"
   },
   "outputs": [
    {
     "name": "stdout",
     "output_type": "stream",
     "text": [
      "after iteration 0\n",
      "iter    0   |   diff: 1.00000   |   V(start): 0.000 \n"
     ]
    },
    {
     "data": {
      "image/png": "[encoded data removed]",
      "text/plain": [
       "<Figure size 216x216 with 1 Axes>"
      ]
     },
     "metadata": {
      "needs_background": "light"
     },
     "output_type": "display_data"
    },
    {
     "name": "stdout",
     "output_type": "stream",
     "text": [
      "after iteration 1\n",
      "iter    0   |   diff: 0.90000   |   V(start): 0.000 \n"
     ]
    },
    {
     "data": {
      "image/png": "[encoded data removed]",
      "text/plain": [
       "<Figure size 216x216 with 1 Axes>"
      ]
     },
     "metadata": {
      "needs_background": "light"
     },
     "output_type": "display_data"
    },
    {
     "name": "stdout",
     "output_type": "stream",
     "text": [
      "after iteration 2\n",
      "iter    0   |   diff: 0.81000   |   V(start): 0.000 \n"
     ]
    },
    {
     "data": {
      "image/png": "[encoded data removed]",
      "text/plain": [
       "<Figure size 216x216 with 1 Axes>"
      ]
     },
     "metadata": {
      "needs_background": "light"
     },
     "output_type": "display_data"
    },
    {
     "name": "stdout",
     "output_type": "stream",
     "text": [
      "after iteration 3\n",
      "iter    0   |   diff: 0.72900   |   V(start): 0.000 \n"
     ]
    },
    {
     "data": {
      "image/png": "[encoded data removed]",
      "text/plain": [
       "<Figure size 216x216 with 1 Axes>"
      ]
     },
     "metadata": {
      "needs_background": "light"
     },
     "output_type": "display_data"
    },
    {
     "name": "stdout",
     "output_type": "stream",
     "text": [
      "after iteration 4\n",
      "iter    0   |   diff: 0.65610   |   V(start): 0.000 \n"
     ]
    },
    {
     "data": {
      "image/png": "[encoded data removed]",
      "text/plain": [
       "<Figure size 216x216 with 1 Axes>"
      ]
     },
     "metadata": {
      "needs_background": "light"
     },
     "output_type": "display_data"
    },
    {
     "name": "stdout",
     "output_type": "stream",
     "text": [
      "after iteration 5\n",
      "iter    0   |   diff: 0.59049   |   V(start): 0.590 \n"
     ]
    },
    {
     "data": {
      "image/png": "[encoded data removed]",
      "text/plain": [
       "<Figure size 216x216 with 1 Axes>"
      ]
     },
     "metadata": {
      "needs_background": "light"
     },
     "output_type": "display_data"
    },
    {
     "name": "stdout",
     "output_type": "stream",
     "text": [
      "after iteration 6\n",
      "iter    0   |   diff: 0.00000   |   V(start): 0.590 \n"
     ]
    },
    {
     "data": {
      "image/png": "[encoded data removed]",
      "text/plain": [
       "<Figure size 216x216 with 1 Axes>"
      ]
     },
     "metadata": {
      "needs_background": "light"
     },
     "output_type": "display_data"
    },
    {
     "name": "stdout",
     "output_type": "stream",
     "text": [
      "after iteration 7\n",
      "iter    0   |   diff: 0.00000   |   V(start): 0.590 \n"
     ]
    },
    {
     "data": {
      "image/png": "[encoded data removed]",
      "text/plain": [
       "<Figure size 216x216 with 1 Axes>"
      ]
     },
     "metadata": {
      "needs_background": "light"
     },
     "output_type": "display_data"
    },
    {
     "name": "stdout",
     "output_type": "stream",
     "text": [
      "after iteration 8\n",
      "iter    0   |   diff: 0.00000   |   V(start): 0.590 \n"
     ]
    },
    {
     "data": {
      "image/png": "[encoded data removed]",
      "text/plain": [
       "<Figure size 216x216 with 1 Axes>"
      ]
     },
     "metadata": {
      "needs_background": "light"
     },
     "output_type": "display_data"
    },
    {
     "name": "stdout",
     "output_type": "stream",
     "text": [
      "after iteration 9\n",
      "iter    0   |   diff: 0.00000   |   V(start): 0.590 \n"
     ]
    },
    {
     "data": {
      "image/png": "[encoded data removed]",
      "text/plain": [
       "<Figure size 216x216 with 1 Axes>"
      ]
     },
     "metadata": {
      "needs_background": "light"
     },
     "output_type": "display_data"
    }
   ],
   "source": [
    "state_values = {s: 0 for s in mdp.get_all_states()}\n",
    "\n",
    "for i in range(10):\n",
    "    print(\"after iteration %i\" % i)\n",
    "    state_values = value_iteration(mdp, state_values, num_iter=1)\n",
    "    draw_policy(mdp, state_values)\n",
    "# please ignore iter 0 at each step"
   ]
  },
  {
   "cell_type": "code",
   "execution_count": 50,
   "metadata": {
    "id": "-wVKGEuiPa_7"
   },
   "outputs": [
    {
     "name": "stdout",
     "output_type": "stream",
     "text": [
      "after iteration 29\n",
      "iter    0   |   diff: 0.00000   |   V(start): 0.198 \n"
     ]
    },
    {
     "data": {
      "image/png": "[encoded data removed]",
      "text/plain": [
       "<Figure size 216x216 with 1 Axes>"
      ]
     },
     "metadata": {
      "needs_background": "light"
     },
     "output_type": "display_data"
    }
   ],
   "source": [
    "from IPython.display import clear_output\n",
    "from time import sleep\n",
    "mdp = FrozenLakeEnv(map_name='8x8', slip_chance=0.1)\n",
    "state_values = {s: 0 for s in mdp.get_all_states()}\n",
    "\n",
    "for i in range(30):\n",
    "    clear_output(True)\n",
    "    print(\"after iteration %i\" % i)\n",
    "    state_values = value_iteration(mdp, state_values, num_iter=1)\n",
    "    draw_policy(mdp, state_values)\n",
    "    sleep(0.5)\n",
    "# please ignore iter 0 at each step"
   ]
  },
  {
   "cell_type": "markdown",
   "metadata": {
    "id": "dkeGn2HtPa_7"
   },
   "source": [
    "Massive tests"
   ]
  },
  {
   "cell_type": "code",
   "execution_count": 51,
   "metadata": {
    "id": "_jogNYfePa_7"
   },
   "outputs": [
    {
     "name": "stdout",
     "output_type": "stream",
     "text": [
      "iter    0   |   diff: 1.00000   |   V(start): 0.000 \n",
      "iter    1   |   diff: 0.90000   |   V(start): 0.000 \n",
      "iter    2   |   diff: 0.81000   |   V(start): 0.000 \n",
      "iter    3   |   diff: 0.72900   |   V(start): 0.000 \n",
      "iter    4   |   diff: 0.65610   |   V(start): 0.000 \n",
      "iter    5   |   diff: 0.59049   |   V(start): 0.590 \n",
      "iter    6   |   diff: 0.00000   |   V(start): 0.590 \n",
      "average reward:  1.0\n",
      "Well done!\n"
     ]
    }
   ],
   "source": [
    "mdp = FrozenLakeEnv(slip_chance=0)\n",
    "state_values = value_iteration(mdp)\n",
    "\n",
    "total_rewards = []\n",
    "for game_i in range(1000):\n",
    "    s = mdp.reset()\n",
    "    rewards = []\n",
    "    for t in range(100):\n",
    "        s, r, done, _ = mdp.step(\n",
    "            get_optimal_action(mdp, state_values, s, gamma))\n",
    "        rewards.append(r)\n",
    "        if done:\n",
    "            break\n",
    "    total_rewards.append(np.sum(rewards))\n",
    "\n",
    "print(\"average reward: \", np.mean(total_rewards))\n",
    "assert(1.0 <= np.mean(total_rewards) <= 1.0)\n",
    "print(\"Well done!\")"
   ]
  },
  {
   "cell_type": "code",
   "execution_count": 52,
   "metadata": {
    "id": "kkmJPJuFPa_8"
   },
   "outputs": [
    {
     "name": "stdout",
     "output_type": "stream",
     "text": [
      "iter    0   |   diff: 0.90000   |   V(start): 0.000 \n",
      "iter    1   |   diff: 0.72900   |   V(start): 0.000 \n",
      "iter    2   |   diff: 0.62330   |   V(start): 0.000 \n",
      "iter    3   |   diff: 0.50487   |   V(start): 0.000 \n",
      "iter    4   |   diff: 0.40894   |   V(start): 0.000 \n",
      "iter    5   |   diff: 0.34868   |   V(start): 0.349 \n",
      "iter    6   |   diff: 0.06529   |   V(start): 0.410 \n",
      "iter    7   |   diff: 0.05832   |   V(start): 0.468 \n",
      "iter    8   |   diff: 0.01139   |   V(start): 0.480 \n",
      "iter    9   |   diff: 0.00764   |   V(start): 0.487 \n",
      "iter   10   |   diff: 0.00164   |   V(start): 0.489 \n",
      "iter   11   |   diff: 0.00094   |   V(start): 0.490 \n",
      "iter   12   |   diff: 0.00022   |   V(start): 0.490 \n",
      "iter   13   |   diff: 0.00011   |   V(start): 0.490 \n",
      "iter   14   |   diff: 0.00003   |   V(start): 0.490 \n",
      "iter   15   |   diff: 0.00001   |   V(start): 0.490 \n",
      "iter   16   |   diff: 0.00000   |   V(start): 0.490 \n",
      "average reward:  0.89\n",
      "Well done!\n"
     ]
    }
   ],
   "source": [
    "# Measure agent's average reward\n",
    "mdp = FrozenLakeEnv(slip_chance=0.1)\n",
    "state_values = value_iteration(mdp)\n",
    "\n",
    "total_rewards = []\n",
    "for game_i in range(1000):\n",
    "    s = mdp.reset()\n",
    "    rewards = []\n",
    "    for t in range(100):\n",
    "        s, r, done, _ = mdp.step(\n",
    "            get_optimal_action(mdp, state_values, s, gamma))\n",
    "        rewards.append(r)\n",
    "        if done:\n",
    "            break\n",
    "    total_rewards.append(np.sum(rewards))\n",
    "\n",
    "print(\"average reward: \", np.mean(total_rewards))\n",
    "assert(0.8 <= np.mean(total_rewards) <= 0.95)\n",
    "print(\"Well done!\")"
   ]
  },
  {
   "cell_type": "code",
   "execution_count": 53,
   "metadata": {
    "id": "5Sc-_w8VPa_8"
   },
   "outputs": [
    {
     "name": "stdout",
     "output_type": "stream",
     "text": [
      "iter    0   |   diff: 0.75000   |   V(start): 0.000 \n",
      "iter    1   |   diff: 0.50625   |   V(start): 0.000 \n",
      "iter    2   |   diff: 0.39867   |   V(start): 0.000 \n",
      "iter    3   |   diff: 0.26910   |   V(start): 0.000 \n",
      "iter    4   |   diff: 0.18164   |   V(start): 0.000 \n",
      "iter    5   |   diff: 0.14013   |   V(start): 0.140 \n",
      "iter    6   |   diff: 0.07028   |   V(start): 0.199 \n",
      "iter    7   |   diff: 0.06030   |   V(start): 0.260 \n",
      "iter    8   |   diff: 0.02594   |   V(start): 0.285 \n",
      "iter    9   |   diff: 0.01918   |   V(start): 0.305 \n",
      "iter   10   |   diff: 0.00858   |   V(start): 0.313 \n",
      "iter   11   |   diff: 0.00560   |   V(start): 0.319 \n",
      "iter   12   |   diff: 0.00260   |   V(start): 0.321 \n",
      "iter   13   |   diff: 0.00159   |   V(start): 0.323 \n",
      "iter   14   |   diff: 0.00076   |   V(start): 0.324 \n",
      "iter   15   |   diff: 0.00045   |   V(start): 0.324 \n",
      "iter   16   |   diff: 0.00022   |   V(start): 0.324 \n",
      "iter   17   |   diff: 0.00012   |   V(start): 0.325 \n",
      "iter   18   |   diff: 0.00006   |   V(start): 0.325 \n",
      "iter   19   |   diff: 0.00003   |   V(start): 0.325 \n",
      "iter   20   |   diff: 0.00002   |   V(start): 0.325 \n",
      "iter   21   |   diff: 0.00001   |   V(start): 0.325 \n",
      "average reward:  0.654\n",
      "Well done!\n"
     ]
    }
   ],
   "source": [
    "# Measure agent's average reward\n",
    "mdp = FrozenLakeEnv(slip_chance=0.25)\n",
    "state_values = value_iteration(mdp)\n",
    "\n",
    "total_rewards = []\n",
    "for game_i in range(1000):\n",
    "    s = mdp.reset()\n",
    "    rewards = []\n",
    "    for t in range(100):\n",
    "        s, r, done, _ = mdp.step(\n",
    "            get_optimal_action(mdp, state_values, s, gamma))\n",
    "        rewards.append(r)\n",
    "        if done:\n",
    "            break\n",
    "    total_rewards.append(np.sum(rewards))\n",
    "\n",
    "print(\"average reward: \", np.mean(total_rewards))\n",
    "assert(0.6 <= np.mean(total_rewards) <= 0.7)\n",
    "print(\"Well done!\")"
   ]
  },
  {
   "cell_type": "code",
   "execution_count": 54,
   "metadata": {
    "id": "18U6VLllPa_8"
   },
   "outputs": [
    {
     "name": "stdout",
     "output_type": "stream",
     "text": [
      "iter    0   |   diff: 0.80000   |   V(start): 0.000 \n",
      "iter    1   |   diff: 0.57600   |   V(start): 0.000 \n",
      "iter    2   |   diff: 0.41472   |   V(start): 0.000 \n",
      "iter    3   |   diff: 0.29860   |   V(start): 0.000 \n",
      "iter    4   |   diff: 0.24186   |   V(start): 0.000 \n",
      "iter    5   |   diff: 0.19349   |   V(start): 0.000 \n",
      "iter    6   |   diff: 0.15325   |   V(start): 0.000 \n",
      "iter    7   |   diff: 0.12288   |   V(start): 0.000 \n",
      "iter    8   |   diff: 0.09930   |   V(start): 0.000 \n",
      "iter    9   |   diff: 0.08037   |   V(start): 0.000 \n",
      "iter   10   |   diff: 0.06426   |   V(start): 0.000 \n",
      "iter   11   |   diff: 0.05129   |   V(start): 0.000 \n",
      "iter   12   |   diff: 0.04330   |   V(start): 0.000 \n",
      "iter   13   |   diff: 0.03802   |   V(start): 0.033 \n",
      "iter   14   |   diff: 0.03332   |   V(start): 0.058 \n",
      "iter   15   |   diff: 0.02910   |   V(start): 0.087 \n",
      "iter   16   |   diff: 0.01855   |   V(start): 0.106 \n",
      "iter   17   |   diff: 0.01403   |   V(start): 0.120 \n",
      "iter   18   |   diff: 0.00810   |   V(start): 0.128 \n",
      "iter   19   |   diff: 0.00555   |   V(start): 0.133 \n",
      "iter   20   |   diff: 0.00321   |   V(start): 0.137 \n",
      "iter   21   |   diff: 0.00247   |   V(start): 0.138 \n",
      "iter   22   |   diff: 0.00147   |   V(start): 0.139 \n",
      "iter   23   |   diff: 0.00104   |   V(start): 0.140 \n",
      "iter   24   |   diff: 0.00058   |   V(start): 0.140 \n",
      "iter   25   |   diff: 0.00036   |   V(start): 0.141 \n",
      "iter   26   |   diff: 0.00024   |   V(start): 0.141 \n",
      "iter   27   |   diff: 0.00018   |   V(start): 0.141 \n",
      "iter   28   |   diff: 0.00012   |   V(start): 0.141 \n",
      "iter   29   |   diff: 0.00007   |   V(start): 0.141 \n",
      "iter   30   |   diff: 0.00004   |   V(start): 0.141 \n",
      "iter   31   |   diff: 0.00003   |   V(start): 0.141 \n",
      "iter   32   |   diff: 0.00001   |   V(start): 0.141 \n",
      "iter   33   |   diff: 0.00001   |   V(start): 0.141 \n",
      "average reward:  0.73\n",
      "Well done!\n"
     ]
    }
   ],
   "source": [
    "# Measure agent's average reward\n",
    "mdp = FrozenLakeEnv(slip_chance=0.2, map_name='8x8')\n",
    "state_values = value_iteration(mdp)\n",
    "\n",
    "total_rewards = []\n",
    "for game_i in range(1000):\n",
    "    s = mdp.reset()\n",
    "    rewards = []\n",
    "    for t in range(100):\n",
    "        s, r, done, _ = mdp.step(\n",
    "            get_optimal_action(mdp, state_values, s, gamma))\n",
    "        rewards.append(r)\n",
    "        if done:\n",
    "            break\n",
    "    total_rewards.append(np.sum(rewards))\n",
    "\n",
    "print(\"average reward: \", np.mean(total_rewards))\n",
    "assert(0.6 <= np.mean(total_rewards) <= 0.8)\n",
    "print(\"Well done!\")"
   ]
  }
 ],
 "metadata": {
  "colab": {
   "name": "practice_vi.ipynb",
   "provenance": []
  },
  "kernelspec": {
   "display_name": "Python 3",
   "language": "python",
   "name": "python3"
  },
  "language_info": {
   "codemirror_mode": {
    "name": "ipython",
    "version": 3
   },
   "file_extension": ".py",
   "mimetype": "text/x-python",
   "name": "python",
   "nbconvert_exporter": "python",
   "pygments_lexer": "ipython3",
   "version": "3.8.10"
  }
 },
 "nbformat": 4,
 "nbformat_minor": 1
}
