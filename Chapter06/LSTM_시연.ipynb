{
 "cells": [
  {
   "cell_type": "code",
   "execution_count": 4,
   "metadata": {},
   "outputs": [
    {
     "name": "stdout",
     "output_type": "stream",
     "text": [
      "LSTM 출력신호: torch.Size([128, 32]), 최대:0.3229518532752991, 최소:-0.3177372217178345\n",
      "LSTM 기억신호: torch.Size([128, 32]), 최대:0.49886366724967957, 최소:-0.6190763711929321\n"
     ]
    }
   ],
   "source": [
    "import torch\n",
    "import torch.nn as nn\n",
    "\n",
    "LSTM_cell = nn.LSTMCell(64,32)\n",
    "\n",
    "hx = torch.zeros(128,32)\n",
    "cx = torch.zeros(128,32)\n",
    "xt = torch.rand((128,64))\n",
    "\n",
    "hx, cx = LSTM_cell(xt,(hx,cx))\n",
    "print(f'LSTM 출력신호: {hx.shape}, 최대:{hx.max()}, 최소:{hx.min()}')\n",
    "print(f'LSTM 기억신호: {cx.shape}, 최대:{cx.max()}, 최소:{cx.min()}')"
   ]
  },
  {
   "cell_type": "code",
   "execution_count": null,
   "metadata": {},
   "outputs": [],
   "source": []
  }
 ],
 "metadata": {
  "kernelspec": {
   "display_name": "RL_scratch",
   "language": "python",
   "name": "python3"
  },
  "language_info": {
   "codemirror_mode": {
    "name": "ipython",
    "version": 3
   },
   "file_extension": ".py",
   "mimetype": "text/x-python",
   "name": "python",
   "nbconvert_exporter": "python",
   "pygments_lexer": "ipython3",
   "version": "3.8.15"
  },
  "orig_nbformat": 4,
  "vscode": {
   "interpreter": {
    "hash": "eda1c160e83cbc6e162d86f3ac820d0e78df5de1466a2ca6fc33fee2ec17e6f4"
   }
  }
 },
 "nbformat": 4,
 "nbformat_minor": 2
}
