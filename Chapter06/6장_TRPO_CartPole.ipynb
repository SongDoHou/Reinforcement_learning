{
 "cells": [
  {
   "attachments": {},
   "cell_type": "markdown",
   "metadata": {},
   "source": [
    "# Gym solving - TRPO\n",
    "---\n",
    "- TRPO(Trust Region Policy Optimization)\n",
    "\n",
    "- 개념 및 구현이 상당히 까다로움, [참고링크](https://github.com/ikostrikov/pytorch-trpo/blob/master/trpo.py)"
   ]
  },
  {
   "cell_type": "code",
   "execution_count": 1,
   "metadata": {},
   "outputs": [],
   "source": [
    "# 해당 셀은 필자의 Jupyter notebook 환경 문제로 인해 작성되었습니다\n",
    "import os\n",
    "try:\n",
    "    os.environ[\"DISPLAY\"]\n",
    "except:\n",
    "    os.environ[\"SDL_VIDEODRIVER\"] = \"dummy\"\n",
    "os.environ[\"SDL_VIDEODRIVER\"] = \"dummy\""
   ]
  },
  {
   "cell_type": "code",
   "execution_count": 2,
   "metadata": {},
   "outputs": [],
   "source": [
    "import numpy as np\n",
    "import matplotlib.pyplot as plt\n",
    "\n",
    "import torch\n",
    "import torch.nn as nn\n",
    "import torch.optim as optim\n",
    "import torch.nn.functional as F\n",
    "from torch.autograd import Variable\n",
    "\n",
    "import gym\n",
    "import scipy.optimize\n",
    "import copy\n",
    "import sys\n",
    "sys.path.append('../material')\n",
    "from utils import moving_average, discounted_reward, FIFO\n",
    "\n",
    "from IPython.display import clear_output\n",
    "from IPython.display import Video"
   ]
  },
  {
   "cell_type": "code",
   "execution_count": 3,
   "metadata": {},
   "outputs": [
    {
     "name": "stdout",
     "output_type": "stream",
     "text": [
      "cpu\n"
     ]
    }
   ],
   "source": [
    "#device = torch.device('cuda' if torch.cuda.is_available() else 'cpu')\n",
    "device = torch.device('cpu')\n",
    "print(device)"
   ]
  },
  {
   "cell_type": "code",
   "execution_count": 4,
   "metadata": {},
   "outputs": [],
   "source": [
    "torch.manual_seed(123)\n",
    "torch.cuda.manual_seed_all(123)\n",
    "np.random.seed(123)\n",
    "torch.backends.cudnn.deterministic = True\n",
    "torch.backends.cudnn.benchmark = False"
   ]
  },
  {
   "cell_type": "code",
   "execution_count": 5,
   "metadata": {},
   "outputs": [
    {
     "name": "stderr",
     "output_type": "stream",
     "text": [
      "/home/hyunseok.hwang/anaconda3/envs/RL_scratch/lib/python3.8/site-packages/gym/envs/registration.py:505: UserWarning: \u001b[33mWARN: The environment CartPole-v0 is out of date. You should consider upgrading to version `v1` with the environment ID `CartPole-v1`.\u001b[0m\n",
      "  logger.warn(\n"
     ]
    }
   ],
   "source": [
    "env = gym.make('CartPole-v0')\n",
    "env.seed(123)\n",
    "env._max_episode_steps=500"
   ]
  },
  {
   "attachments": {},
   "cell_type": "markdown",
   "metadata": {},
   "source": [
    "# TRPO agent 생성\n",
    "---\n",
    "Actor와 Critic에 대한 model을 따로 분리하여 작성합니다"
   ]
  },
  {
   "cell_type": "code",
   "execution_count": 6,
   "metadata": {},
   "outputs": [],
   "source": [
    "class TRPO_actorAgent(nn.Module):\n",
    "    def __init__(self, state_shape, n_actions):\n",
    "        super(TRPO_actorAgent,self).__init__()\n",
    "        '''\n",
    "        입력변수\n",
    "            state_shape: state 차원 -> [위치, 속도, 각도, 각속도]\n",
    "            output_dim: actor 차원 -> [왼쪽, 오른쪽]\n",
    "            device : cpu, cuda device정보 \n",
    "        N.N 구조\n",
    "            2 - hidden layers, 64 nodes\n",
    "            Activation function -> Relu\n",
    "        '''\n",
    "        self.state_shape = state_shape\n",
    "        self.n_actions = n_actions\n",
    "        \n",
    "        self.seq = nn.Sequential(\n",
    "            nn.Linear(self.state_shape,128), \n",
    "            nn.ReLU(),\n",
    "            nn.Linear(128,self.n_actions)\n",
    "        )\n",
    "        \n",
    "    def forward(self, state_t):\n",
    "        '''\n",
    "        입력인자\n",
    "            state_t : 상태([batch,state_shape]), torch.tensor\n",
    "        출력인자\n",
    "            policy : 정책([batch,n_actions]), torch.tensor\n",
    "        '''\n",
    "        #policy = self.seq(state_t)\n",
    "        #policy = F.softmax(policy,dim=-1)\n",
    "        #std = policy.std()\n",
    "        #log_std = torch.log(std)\n",
    "        #return policy, log_std, std\n",
    "        policy = self.seq(state_t)\n",
    "        return policy\n",
    "\n",
    "\n",
    "    def sample_actions(self,state_t):\n",
    "        '''\n",
    "        입력인자\n",
    "            state_t : 상태([1,state_shape]), torch.tensor\n",
    "        출력인자\n",
    "            action_t : 행동함수 using torch.multinomial\n",
    "        '''\n",
    "        #policy,_,_ = self.forward(state_t)\n",
    "        policy = self.forward(state_t)\n",
    "        soft_policy = F.softmax(policy,dim=-1)\n",
    "        action = torch.multinomial(soft_policy, num_samples=1).item()\n",
    "        return action\n",
    "    \n",
    "class TRPO_criticAgent(nn.Module):\n",
    "    def __init__(self,state_shape):\n",
    "        super(TRPO_criticAgent,self).__init__()\n",
    "        '''\n",
    "        입력변수\n",
    "            state_shape: state 차원 -> [위치, 속도, 각도, 각속도]\n",
    "        N.N 구조\n",
    "            2 - hidden layers, 64 nodes\n",
    "            Activation function -> Relu\n",
    "        '''\n",
    "        self.state_shape = state_shape        \n",
    "        self.seq = nn.Sequential(\n",
    "            nn.Linear(self.state_shape,128), \n",
    "            nn.ReLU(),\n",
    "            nn.Linear(128,1)\n",
    "        )\n",
    "        \n",
    "    def forward(self, state_t):\n",
    "        '''\n",
    "        입력인자\n",
    "            state_t : 상태([batch,state_shape]), torch.tensor\n",
    "        출력인자\n",
    "            value : 가치함수([batch,1]), torch.tensor\n",
    "        '''\n",
    "        value = self.seq(state_t)\n",
    "        return value"
   ]
  },
  {
   "cell_type": "code",
   "execution_count": 7,
   "metadata": {},
   "outputs": [],
   "source": [
    "gamma=0.99\n",
    "epsilon = 1e-03\n",
    "delta = 1e-05\n",
    "\n",
    "state = env.reset()\n",
    "num_state = state.shape[0]\n",
    "num_action = env.action_space.n\n",
    "learning_rate = 5e-04\n",
    "max_episode = 1000\n",
    "update_per_episode=10"
   ]
  },
  {
   "cell_type": "code",
   "execution_count": 16,
   "metadata": {},
   "outputs": [
    {
     "name": "stdout",
     "output_type": "stream",
     "text": [
      "tensor([4.8134, 4.8620, 3.9010, 3.9404, 2.9701, 1.9900, 1.0000, 0.0000, 0.0000,\n",
      "        0.0000])\n",
      "tensor([ 3.8234,  4.8620,  3.9010,  4.9304,  3.9601,  2.4850,  1.1980,  0.0000,\n",
      "         0.0000, -0.4950])\n",
      "tensor([ 3.8234,  4.8620,  2.9010,  3.9304,  3.4601,  2.2850,  1.1980,  0.0000,\n",
      "         0.5000, -0.4950])\n"
     ]
    }
   ],
   "source": [
    "a = torch.Tensor([0,1,0,1,1,1,1,0,0,0])\n",
    "values = torch.Tensor([-1,0,0,1,1,0.5,0.2,0,0,-0.5])\n",
    "next_values = torch.Tensor([0,0,1,1,0.5,0.2,0,0,-0.5,0.2])\n",
    "discounted_a = torch.Tensor(discounted_reward(a))\n",
    "dones = torch.Tensor([0,0,0,0,0,0,0,0,0,1])\n",
    "dones = 1-dones\n",
    "print(discounted_a)\n",
    "td_target = discounted_a + 0.99*values\n",
    "print(td_target)\n",
    "advantage = td_target - next_values*dones\n",
    "print(advantage)"
   ]
  },
  {
   "attachments": {},
   "cell_type": "markdown",
   "metadata": {},
   "source": [
    "# TRPO 유틸들을 정리해봅시다\n",
    "--- \n",
    "ikostrikov + TianhongDai - Reference"
   ]
  },
  {
   "cell_type": "code",
   "execution_count": 43,
   "metadata": {},
   "outputs": [],
   "source": [
    "# conjugated gradient\n",
    "def conjugated_gradient(fvp, b, update_steps, obs, pi_old, residual_tol=1e-10):\n",
    "    # the initial solution is zero\n",
    "    x = torch.zeros(b.size(), dtype=torch.float32)\n",
    "    r = b.clone()\n",
    "    p = b.clone()\n",
    "    rdotr = torch.dot(r, r)\n",
    "    for i in range(update_steps):\n",
    "        fv_product = fvp(p, obs, pi_old)\n",
    "        alpha = rdotr / torch.dot(p, fv_product)\n",
    "        x = x + alpha * p\n",
    "        r = r - alpha * fv_product\n",
    "        new_rdotr = torch.dot(r, r)\n",
    "        beta = new_rdotr / rdotr \n",
    "        p = r + beta * p\n",
    "        rdotr = new_rdotr\n",
    "        # if less than residual tot.. break\n",
    "        if rdotr < residual_tol:\n",
    "            break\n",
    "    return x\n",
    "\n",
    "def set_flat_params_to(model, flat_params):\n",
    "    prev_indx = 0\n",
    "    for param in model.parameters():\n",
    "        flat_size = int(np.prod(list(param.size())))\n",
    "        param.data.copy_(flat_params[prev_indx:prev_indx + flat_size].view(param.size()))\n",
    "        prev_indx += flat_size\n",
    "\n",
    "# line search\n",
    "def line_search(model, loss_fn, x, full_step, expected_rate, obs, adv, actions, pi_old, max_backtracks=10, accept_ratio=0.1):\n",
    "    fval = loss_fn(obs, adv, actions, pi_old).data\n",
    "    for (_n_backtracks, stepfrac) in enumerate(0.5**np.arange(max_backtracks)):\n",
    "        xnew = x + stepfrac * full_step\n",
    "        set_flat_params_to(model, xnew)\n",
    "        new_fval = loss_fn(obs, adv, actions, pi_old).data\n",
    "        actual_improve = fval - new_fval\n",
    "        expected_improve = expected_rate * stepfrac\n",
    "        ratio = actual_improve / expected_improve\n",
    "        if ratio.item() > accept_ratio and actual_improve.item() > 0:\n",
    "            return True, xnew\n",
    "    return False, x"
   ]
  },
  {
   "cell_type": "code",
   "execution_count": 58,
   "metadata": {},
   "outputs": [],
   "source": [
    "gamma=0.99\n",
    "scheduler_gamma=0.999\n",
    "scheduler_step=10\n",
    "epsilon = 1e-03\n",
    "eps = 0.2\n",
    "value_ratio=0.5\n",
    "\n",
    "state = env.reset()\n",
    "num_state = state.shape[0]\n",
    "num_action = env.action_space.n\n",
    "learning_rate = 1e-04\n",
    "max_episode = 1000"
   ]
  },
  {
   "attachments": {},
   "cell_type": "markdown",
   "metadata": {},
   "source": [
    "# Method 1 - TRPO vine\n",
    "---\n",
    "Objective function\n",
    "\n",
    "$J = \\mathbb{E}[\\frac{\\pi{(a \\vert s)}}{\\pi_{old}(a \\vert s)}A(s,a)]-KL(\\pi_{old}{( \\cdot \\vert s)}|\\pi( \\cdot \\vert s)) $\n",
    "\n",
    "where,\n",
    "\n",
    "$KL(\\pi_{old}{( \\cdot \\vert s)}|\\pi( \\cdot \\vert s)) \\leq \\delta$"
   ]
  },
  {
   "cell_type": "code",
   "execution_count": 59,
   "metadata": {},
   "outputs": [],
   "source": [
    "actor = TRPO_actorAgent(num_state,num_action).to(device) # 이 친구는 Conjugate Gradient method로 해결 -> optimizer 사용하지 x\n",
    "old_actor = TRPO_actorAgent(num_state,num_action).to(device) # Old policy를 계산하기 위한 network\n",
    "old_actor.load_state_dict(actor.state_dict())\n",
    "\n",
    "critic = TRPO_criticAgent(num_state).to(device)\n",
    "critic_optimizer = optim.Adam(critic.parameters(),lr=learning_rate)"
   ]
  },
  {
   "cell_type": "code",
   "execution_count": 61,
   "metadata": {},
   "outputs": [],
   "source": [
    "def actor_surrogate_loss(states, advantages, actions, pi_old):\n",
    "    policy = actor(states)\n",
    "    log_policy = F.log_softmax(policy,dim=-1)\n",
    "    old_policy = F.log_softmax(pi_old,dim=-1)\n",
    "    surr_loss = -torch.exp(log_policy - old_policy)*advantages\n",
    "    return surr_loss.mean()\n",
    "\n",
    "def get_kl(states,pi_old):\n",
    "    # 원본 코드에서는 normal distribution으로 상정하고 문제를 해결합니다.\n",
    "    pi_new = actor(states)\n",
    "    pi_new = F.softmax(pi_new,dim=-1)\n",
    "    pi_old = F.softmax(pi_old,dim=-1) \n",
    "\n",
    "    kl_div = torch.sum(pi_new*(torch.log(pi_new)-torch.log(pi_old)),dim=-1)\n",
    "    return kl_div.mean()\n",
    "\n",
    "def fisher_vector_product(input_values, states, pi_old, damping=1e-01):\n",
    "    kl = get_kl(states,pi_old)\n",
    "\n",
    "    # KL gradient의 2차 미분을 계산해봅시다.\n",
    "    kl_grads = torch.autograd.grad(kl, actor.parameters(), create_graph=True)\n",
    "    flat_kl_grads = torch.cat([grad.view(-1) for grad in kl_grads])\n",
    "    kl_v = (flat_kl_grads * torch.autograd.Variable(input_values)).sum()\n",
    "    kl_second_grads = torch.autograd.grad(kl_v, actor.parameters())\n",
    "    flat_kl_second_grads = torch.cat([grad.contiguous().view(-1) for grad in kl_second_grads]).data\n",
    "    flat_kl_second_grads +=  damping*input_values\n",
    "    return flat_kl_second_grads\n",
    "\n",
    "def TRPO_agentupdate(actor, loss_fn, states, actions, pi_old, advantages, max_kl=1e-02):\n",
    "    # loss 함수 -> gradient 및 flat화\n",
    "    surr_loss = loss_fn(states, advantages, actions, pi_old)\n",
    "    surr_grad = torch.autograd.grad(surr_loss, actor.parameters())\n",
    "    flat_surr_grad = torch.cat([grad.view(-1) for grad in surr_grad]).data\n",
    "    \n",
    "    # fisher vector product -> Computation Gradient \n",
    "    nature_grad = conjugated_gradient(fisher_vector_product, -flat_surr_grad,10, states, pi_old)\n",
    "\n",
    "    # Searching scale\n",
    "    non_scale_kl = 0.5*(nature_grad*fisher_vector_product(nature_grad, states, pi_old)).sum(0,keepdim=True)\n",
    "    scale_ratio = torch.sqrt(non_scale_kl/max_kl)\n",
    "    final_nature_grad = nature_grad / scale_ratio[0]\n",
    "\n",
    "    # Line search 학습률 계산\n",
    "    expected_improve = (-flat_surr_grad * nature_grad).sum(0, keepdim=True) / scale_ratio[0]\n",
    "\n",
    "    # Update 이전의 parameter 추출 \n",
    "    prev_params = torch.cat([param.data.view(-1) for param in actor.parameters()])\n",
    "\n",
    "    # update -> parmaeter 원복\n",
    "    success, new_params = line_search(actor, actor_surrogate_loss, prev_params, \\\n",
    "                                      final_nature_grad, expected_improve, states, \\\n",
    "                                      advantages, actions, pi_old)\n",
    "    set_flat_params_to(actor,new_params)\n",
    "\n",
    "def TRPO_criticupdate(critic, state, td_target,num_iter=5):\n",
    "    value = critic(state)\n",
    "    for _ in range(num_iter):\n",
    "        value_loss = torch.mean((td_target-value)**2)\n",
    "        critic_optimizer.zero_grad()\n",
    "        value_loss.item()\n",
    "        critic_optimizer.step()\n",
    "\n",
    "def TRPO_update(histories, gamma=0.99, num_update=10):\n",
    "    '''\n",
    "    TRPO update를 시행합니다.\n",
    "    actor, critic에 해당하는 모델은 앞서 전역변수로 정의되었기에 따로 함수 인자로 받지 않음\n",
    "    입력인자\n",
    "        histories: 전체 학습과정에서 얻은 학습에 필요한 내용들\n",
    "        num_update: 에피소드당 actor, critic을 update할 횟수를 지정 기본값 10회\n",
    "    출력인자\n",
    "        actor_loss - 가능?\n",
    "        critic_loss - 가능?\n",
    "    '''\n",
    "    old_actor.load_state_dict(actor.state_dict()) # Update이전 동기화\n",
    "\n",
    "    states, actions, rewards, next_states, dones = histories\n",
    "    torch_state = torch.Tensor(states).to(device)\n",
    "    torch_action = torch.LongTensor(actions).to(device)\n",
    "    torch_reward = torch.Tensor(rewards).to(device).view(-1,1)\n",
    "    torch_next_state = torch.Tensor(next_states).to(device)\n",
    "    torch_dones = torch.Tensor(dones).to(device).view(-1,1)\n",
    "    torch_dones = 1-torch_dones\n",
    "\n",
    "    # Advantage 따로 계산합니다! + Policy_old까지  \n",
    "    value = critic(torch_state)\n",
    "    next_value = critic(torch_next_state)\n",
    "    policy = old_actor(torch_state)\n",
    "    policy_old = F.softmax(policy,dim=-1).detach()\n",
    "\n",
    "    returns = torch.Tensor(discounted_reward(torch_reward)).view(-1,1)\n",
    "    td_target = returns + gamma*value\n",
    "    torch_advantage = td_target - next_value\n",
    "    \n",
    "    TRPO_agentupdate(actor, actor_surrogate_loss, torch_state, torch_action, policy_old, torch_advantage)\n",
    "    TRPO_criticupdate(critic, torch_state,td_target)"
   ]
  },
  {
   "cell_type": "code",
   "execution_count": 62,
   "metadata": {},
   "outputs": [
    {
     "name": "stdout",
     "output_type": "stream",
     "text": [
      "990번째 에피소드 결과\n",
      "최근 10 에피소드 보상평균 = 8.2\n"
     ]
    },
    {
     "data": {
      "image/png": "[encoded data removed]",
      "text/plain": [
       "<Figure size 1200x1200 with 1 Axes>"
      ]
     },
     "metadata": {},
     "output_type": "display_data"
    }
   ],
   "source": [
    "reward_record, loss_record, critic_record, entropy_record = [], [], [], []\n",
    "for ep in range(max_episode):\n",
    "    states, actions, rewards, next_states, dones = [],[],[],[], []\n",
    "    total_reward = 0\n",
    "    state = env.reset()\n",
    "\n",
    "    while True:\n",
    "        torch_state = torch.Tensor(state[None]).to(device)\n",
    "        action =  actor.sample_actions(torch_state)\n",
    "        next_state, reward, done, _ = env.step(action)\n",
    "        \n",
    "        states = FIFO(state, states)\n",
    "        actions = FIFO(action, actions)\n",
    "        rewards = FIFO(reward, rewards)\n",
    "        next_states = FIFO(next_state, next_states)\n",
    "        dones = FIFO(done, dones)\n",
    "\n",
    "        if done:\n",
    "            break\n",
    "\n",
    "        state = next_state\n",
    "        total_reward += reward\n",
    "    reward_record.append(total_reward)\n",
    "    history = (states, actions, rewards,next_states, dones)\n",
    "    # Episode finish -> update agent model\n",
    "    TRPO_update(history, update_per_episode)\n",
    "\n",
    "    if ep % 10 == 0:\n",
    "        clear_output(True)\n",
    "        print(f'{ep}번째 에피소드 결과')\n",
    "        print(f'최근 10 에피소드 보상평균 = {np.mean(reward_record[-10:])}')\n",
    "\n",
    "        plt.figure(figsize=[12, 12])\n",
    "        \n",
    "        plt.subplot(2,2,1)\n",
    "        plt.title(\"Total Reward\")\n",
    "        plt.plot(reward_record)\n",
    "        plt.plot(moving_average(reward_record))\n",
    "        plt.grid()\n",
    "        plt.show()\n",
    "    \n",
    "    if np.mean(reward_record[-10:]) >= 400:\n",
    "        best_actor = copy.deepcopy(actor)\n",
    "        best_critic = copy.deepcopy(critic)\n",
    "        torch.save(best_actor,'./ckpt/CartPole/TRPO_bestactor.pth')\n",
    "        torch.save(best_critic, './ckpt/CartPole/TRPO_bestcritic.pth')"
   ]
  },
  {
   "cell_type": "code",
   "execution_count": null,
   "metadata": {},
   "outputs": [],
   "source": []
  }
 ],
 "metadata": {
  "kernelspec": {
   "display_name": "RL_scratch",
   "language": "python",
   "name": "python3"
  },
  "language_info": {
   "codemirror_mode": {
    "name": "ipython",
    "version": 3
   },
   "file_extension": ".py",
   "mimetype": "text/x-python",
   "name": "python",
   "nbconvert_exporter": "python",
   "pygments_lexer": "ipython3",
   "version": "3.8.15"
  },
  "orig_nbformat": 4,
  "vscode": {
   "interpreter": {
    "hash": "eda1c160e83cbc6e162d86f3ac820d0e78df5de1466a2ca6fc33fee2ec17e6f4"
   }
  }
 },
 "nbformat": 4,
 "nbformat_minor": 2
}
