{
 "cells": [
  {
   "cell_type": "code",
   "execution_count": 1,
   "id": "84cfae4d",
   "metadata": {},
   "outputs": [
    {
     "name": "stdout",
     "output_type": "stream",
     "text": [
      "Requirement already satisfied: gym-chess in /home/hshwang/anaconda3/envs/torch_1.8/lib/python3.8/site-packages (0.1.1)\r\n",
      "Requirement already satisfied: gym<0.18.0,>=0.17.2 in /home/hshwang/anaconda3/envs/torch_1.8/lib/python3.8/site-packages (from gym-chess) (0.17.3)\r\n",
      "Requirement already satisfied: python-chess<0.32.0,>=0.31.1 in /home/hshwang/anaconda3/envs/torch_1.8/lib/python3.8/site-packages (from gym-chess) (0.31.4)\r\n",
      "Requirement already satisfied: pyglet<=1.5.0,>=1.4.0 in /home/hshwang/anaconda3/envs/torch_1.8/lib/python3.8/site-packages (from gym<0.18.0,>=0.17.2->gym-chess) (1.5.0)\r\n",
      "Requirement already satisfied: scipy in /home/hshwang/anaconda3/envs/torch_1.8/lib/python3.8/site-packages (from gym<0.18.0,>=0.17.2->gym-chess) (1.7.1)\r\n",
      "Requirement already satisfied: numpy>=1.10.4 in /home/hshwang/anaconda3/envs/torch_1.8/lib/python3.8/site-packages (from gym<0.18.0,>=0.17.2->gym-chess) (1.19.2)\r\n",
      "Requirement already satisfied: cloudpickle<1.7.0,>=1.2.0 in /home/hshwang/anaconda3/envs/torch_1.8/lib/python3.8/site-packages (from gym<0.18.0,>=0.17.2->gym-chess) (1.6.0)\r\n",
      "Requirement already satisfied: future in /home/hshwang/anaconda3/envs/torch_1.8/lib/python3.8/site-packages (from pyglet<=1.5.0,>=1.4.0->gym<0.18.0,>=0.17.2->gym-chess) (0.18.2)\r\n"
     ]
    }
   ],
   "source": [
    "!pip install gym-chess"
   ]
  },
  {
   "cell_type": "markdown",
   "id": "9c113d77",
   "metadata": {},
   "source": [
    "Tutorial - Followed by https://pypi.org/project/gym-chess/"
   ]
  },
  {
   "cell_type": "code",
   "execution_count": 49,
   "id": "460fbfd5",
   "metadata": {},
   "outputs": [
    {
     "name": "stdout",
     "output_type": "stream",
     "text": [
      "406번째수 백차례\n",
      "움직임: h2h1b, 보상: 0.0, 종료: True, 정보: None\n",
      "\n",
      "⭘ ⭘ ⭘ ⭘ ⭘ ⭘ ⭘ ⭘\n",
      "⭘ ⭘ ⭘ ⭘ ♚ ⭘ ⭘ ⭘\n",
      "⭘ ⭘ ⭘ ⭘ ⭘ ⭘ ⭘ ⭘\n",
      "⭘ ⭘ ⭘ ⭘ ⭘ ⭘ ⭘ ⭘\n",
      "⭘ ⭘ ⭘ ⭘ ⭘ ⭘ ⭘ ⭘\n",
      "⭘ ⭘ ⭘ ⭘ ⭘ ⭘ ⭘ ⭘\n",
      "♔ ⭘ ⭘ ⭘ ⭘ ⭘ ⭘ ⭘\n",
      "⭘ ⭘ ⭘ ⭘ ⭘ ⭘ ⭘ ♝\n"
     ]
    }
   ],
   "source": [
    "# Introduction\n",
    "from IPython.display import clear_output\n",
    "import time\n",
    "import gym\n",
    "import gym_chess\n",
    "import numpy as np\n",
    "\n",
    "env = gym.make('Chess-v0')\n",
    "print(env.render())\n",
    "\n",
    "env.reset()\n",
    "done = False\n",
    "\n",
    "cnt = 0\n",
    "while not done:\n",
    "        cnt += 1\n",
    "        action = np.random.choice(env.legal_moves)\n",
    "        next_state,reward,done,info = env.step(action)\n",
    "        time.sleep(0.01)\n",
    "        clear_output()\n",
    "        order = '흑' if cnt % 2 == 1 else '백'\n",
    "        print(f'{cnt}번째수 {order}차례')\n",
    "        print(f'움직임: {action}, 보상: {reward}, 종료: {done}, 정보: {info}')\n",
    "        print(f'')\n",
    "        print(env.render(mode='unicode'))\n",
    "env.close()"
   ]
  },
  {
   "cell_type": "code",
   "execution_count": 17,
   "id": "7e2c287d",
   "metadata": {},
   "outputs": [
    {
     "data": {
      "text/plain": [
       "[EnvSpec(Chess-v0), EnvSpec(ChessAlphaZero-v0)]"
      ]
     },
     "execution_count": 17,
     "metadata": {},
     "output_type": "execute_result"
    }
   ],
   "source": [
    "# Installation Check\n",
    "list(gym.envs.registry.all())[-2:]"
   ]
  },
  {
   "cell_type": "code",
   "execution_count": 18,
   "id": "f547719d",
   "metadata": {},
   "outputs": [],
   "source": [
    "del env"
   ]
  },
  {
   "cell_type": "code",
   "execution_count": 19,
   "id": "89ed3d16",
   "metadata": {},
   "outputs": [
    {
     "data": {
      "text/plain": [
       "chess.Board"
      ]
     },
     "execution_count": 19,
     "metadata": {},
     "output_type": "execute_result"
    }
   ],
   "source": [
    "# Chess-v0\n",
    "env = gym.make('Chess-v0')\n",
    "state = env.reset()\n",
    "type(state)"
   ]
  },
  {
   "cell_type": "code",
   "execution_count": 20,
   "id": "7af821a6",
   "metadata": {},
   "outputs": [
    {
     "name": "stdout",
     "output_type": "stream",
     "text": [
      "♜ ♞ ♝ ♛ ♚ ♝ ♞ ♜\n",
      "♟ ♟ ♟ ♟ ♟ ♟ ♟ ♟\n",
      "⭘ ⭘ ⭘ ⭘ ⭘ ⭘ ⭘ ⭘\n",
      "⭘ ⭘ ⭘ ⭘ ⭘ ⭘ ⭘ ⭘\n",
      "⭘ ⭘ ⭘ ⭘ ⭘ ⭘ ⭘ ⭘\n",
      "⭘ ⭘ ⭘ ⭘ ⭘ ⭘ ⭘ ⭘\n",
      "♙ ♙ ♙ ♙ ♙ ♙ ♙ ♙\n",
      "♖ ♘ ♗ ♕ ♔ ♗ ♘ ♖\n"
     ]
    }
   ],
   "source": [
    "print(env.render('unicode'))"
   ]
  },
  {
   "cell_type": "code",
   "execution_count": 25,
   "id": "a9d51b5a",
   "metadata": {},
   "outputs": [
    {
     "name": "stdout",
     "output_type": "stream",
     "text": [
      "♜ ♞ ♝ ♛ ♚ ♝ ♞ ♜\n",
      "♟ ♟ ♟ ♟ ♟ ♟ ♟ ♟\n",
      "⭘ ⭘ ⭘ ⭘ ⭘ ⭘ ⭘ ⭘\n",
      "⭘ ⭘ ⭘ ⭘ ⭘ ⭘ ⭘ ⭘\n",
      "⭘ ⭘ ⭘ ⭘ ⭘ ⭘ ⭘ ⭘\n",
      "⭘ ⭘ ⭘ ⭘ ⭘ ⭘ ⭘ ♘\n",
      "♙ ♙ ♙ ♙ ♙ ♙ ♙ ♙\n",
      "♖ ♘ ♗ ♕ ♔ ♗ ⭘ ♖\n"
     ]
    }
   ],
   "source": [
    "move = env.legal_moves[0]\n",
    "env.step(move)\n",
    "print(env.render('unicode'))"
   ]
  },
  {
   "cell_type": "code",
   "execution_count": 24,
   "id": "e6b52bd6",
   "metadata": {},
   "outputs": [
    {
     "data": {
      "text/plain": [
       "[Move.from_uci('g1h3'),\n",
       " Move.from_uci('g1f3'),\n",
       " Move.from_uci('b1c3'),\n",
       " Move.from_uci('b1a3'),\n",
       " Move.from_uci('h2h3'),\n",
       " Move.from_uci('g2g3'),\n",
       " Move.from_uci('f2f3'),\n",
       " Move.from_uci('e2e3'),\n",
       " Move.from_uci('d2d3'),\n",
       " Move.from_uci('c2c3'),\n",
       " Move.from_uci('b2b3'),\n",
       " Move.from_uci('a2a3'),\n",
       " Move.from_uci('h2h4'),\n",
       " Move.from_uci('g2g4'),\n",
       " Move.from_uci('f2f4'),\n",
       " Move.from_uci('e2e4'),\n",
       " Move.from_uci('d2d4'),\n",
       " Move.from_uci('c2c4'),\n",
       " Move.from_uci('b2b4'),\n",
       " Move.from_uci('a2a4')]"
      ]
     },
     "execution_count": 24,
     "metadata": {},
     "output_type": "execute_result"
    }
   ],
   "source": [
    "env.legal_moves"
   ]
  },
  {
   "cell_type": "markdown",
   "id": "c5ec8f12",
   "metadata": {},
   "source": [
    "------------------------"
   ]
  },
  {
   "cell_type": "code",
   "execution_count": 36,
   "id": "c842d13a",
   "metadata": {},
   "outputs": [
    {
     "name": "stdout",
     "output_type": "stream",
     "text": [
      "Box(0, 9223372036854775807, (8, 8, 119), int64)\n",
      "Discrete(4672)\n"
     ]
    }
   ],
   "source": [
    "# ChessAlphaZero-v0\n",
    "env = gym.make('ChessAlphaZero-v0')\n",
    "print(env.observation_space)\n",
    "print(env.action_space)"
   ]
  },
  {
   "cell_type": "code",
   "execution_count": 37,
   "id": "2577e891",
   "metadata": {},
   "outputs": [
    {
     "data": {
      "text/plain": [
       "[494,\n",
       " 501,\n",
       " 129,\n",
       " 136,\n",
       " 1095,\n",
       " 1022,\n",
       " 949,\n",
       " 876,\n",
       " 803,\n",
       " 730,\n",
       " 657,\n",
       " 584,\n",
       " 1096,\n",
       " 1023,\n",
       " 950,\n",
       " 877,\n",
       " 804,\n",
       " 731,\n",
       " 658,\n",
       " 585]"
      ]
     },
     "execution_count": 37,
     "metadata": {},
     "output_type": "execute_result"
    }
   ],
   "source": [
    "env.reset()\n",
    "env.legal_actions"
   ]
  },
  {
   "cell_type": "code",
   "execution_count": 42,
   "id": "64d86ecb",
   "metadata": {},
   "outputs": [
    {
     "name": "stdout",
     "output_type": "stream",
     "text": [
      "move가 가능한 움직임인가: True\n",
      "어떤 움직임인가?: b2b3\n",
      "♜ ♞ ♝ ♛ ♚ ♝ ♞ ♜\n",
      "⭘ ♟ ♟ ♟ ♟ ♟ ⭘ ♟\n",
      "⭘ ⭘ ⭘ ⭘ ⭘ ⭘ ♟ ⭘\n",
      "♟ ⭘ ⭘ ⭘ ⭘ ⭘ ⭘ ⭘\n",
      "⭘ ⭘ ⭘ ⭘ ⭘ ⭘ ♙ ⭘\n",
      "⭘ ♙ ⭘ ⭘ ⭘ ⭘ ⭘ ♘\n",
      "♙ ⭘ ♙ ♙ ♙ ♙ ⭘ ♙\n",
      "♖ ♘ ♗ ♕ ♔ ♗ ⭘ ♖\n"
     ]
    }
   ],
   "source": [
    "move = np.random.choice(env.legal_actions)\n",
    "print(f'move가 가능한 움직임인가: {move in env.legal_actions}')\n",
    "print(f'어떤 움직임인가?: {env.decode(move)}')\n",
    "env.step(move)\n",
    "print(env.render('unicode'))"
   ]
  },
  {
   "cell_type": "code",
   "execution_count": 35,
   "id": "f2341694",
   "metadata": {},
   "outputs": [],
   "source": [
    "# AlphaZero - Encoding\n",
    "import gym_chess\n",
    "from gym_chess.alphazero import BoardEncoding\n",
    "env = gym.make('Chess-v0')\n",
    "env = BoardEncoding(env,history_length=4)"
   ]
  },
  {
   "cell_type": "code",
   "execution_count": null,
   "id": "bb94526b",
   "metadata": {},
   "outputs": [],
   "source": []
  }
 ],
 "metadata": {
  "kernelspec": {
   "display_name": "RL_scratch",
   "language": "python",
   "name": "rl_scratch"
  },
  "language_info": {
   "codemirror_mode": {
    "name": "ipython",
    "version": 3
   },
   "file_extension": ".py",
   "mimetype": "text/x-python",
   "name": "python",
   "nbconvert_exporter": "python",
   "pygments_lexer": "ipython3",
   "version": "3.8.13"
  }
 },
 "nbformat": 4,
 "nbformat_minor": 5
}
