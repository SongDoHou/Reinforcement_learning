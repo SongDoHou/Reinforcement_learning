{
 "cells": [
  {
   "cell_type": "markdown",
   "id": "ad934b8e",
   "metadata": {},
   "source": [
    "# P[1]: Bellman equation, 4x4 grid world"
   ]
  },
  {
   "cell_type": "code",
   "execution_count": 1,
   "id": "d431c152",
   "metadata": {},
   "outputs": [],
   "source": [
    "import numpy as np\n",
    "\n",
    "# initializing\n",
    "old_value = np.zeros((4,4))\n",
    "new_value = np.zeros((4,4)) \n",
    "policy = {'up':0.25,'down':0.25,'left':0.25,'right':0.25}"
   ]
  },
  {
   "cell_type": "code",
   "execution_count": 2,
   "id": "dfbd29da",
   "metadata": {},
   "outputs": [
    {
     "name": "stdout",
     "output_type": "stream",
     "text": [
      "old_value [[0. 0. 0. 0.]\n",
      " [0. 0. 0. 0.]\n",
      " [0. 0. 0. 0.]\n",
      " [0. 0. 0. 0.]]\n",
      "new_value [[0. 0. 0. 0.]\n",
      " [0. 0. 0. 0.]\n",
      " [0. 0. 0. 0.]\n",
      " [0. 0. 0. 0.]]\n",
      "policy {'up': 0.25, 'down': 0.25, 'left': 0.25, 'right': 0.25}\n"
     ]
    }
   ],
   "source": [
    "print('old_value',old_value)\n",
    "print('new_value',new_value)\n",
    "print('policy',policy)"
   ]
  },
  {
   "cell_type": "code",
   "execution_count": 3,
   "id": "a16b982e",
   "metadata": {},
   "outputs": [
    {
     "name": "stdout",
     "output_type": "stream",
     "text": [
      "up 0.25\n",
      "down 0.25\n",
      "left 0.25\n",
      "right 0.25\n"
     ]
    }
   ],
   "source": [
    "for key,value in policy.items():\n",
    "    print(key,value)"
   ]
  },
  {
   "cell_type": "code",
   "execution_count": 4,
   "id": "fffbadea",
   "metadata": {},
   "outputs": [],
   "source": [
    "# 1st step\n",
    "dummy_list = []\n",
    "for key,value in policy.items():\n",
    "    dummy_list.append((-1+old_value)*value)\n",
    "dummy_list = np.sum(np.array(dummy_list),axis=0)\n",
    "new_value = dummy_list\n",
    "new_value[0,0],new_value[-1,-1] = 0,0\n",
    "old_value = new_value"
   ]
  },
  {
   "cell_type": "code",
   "execution_count": 5,
   "id": "4c8682d4",
   "metadata": {},
   "outputs": [
    {
     "name": "stdout",
     "output_type": "stream",
     "text": [
      "[[-1. -1. -1. -1.]\n",
      " [-1. -1. -1. -1.]\n",
      " [-1. -1. -1.  0.]]\n"
     ]
    }
   ],
   "source": [
    "print(new_value[1:,:])"
   ]
  },
  {
   "cell_type": "code",
   "execution_count": 6,
   "id": "896c357f",
   "metadata": {},
   "outputs": [],
   "source": [
    "# 2nd step\n",
    "dummy_list = []\n",
    "mid_term = np.zeros((4,4))\n",
    "for key,value in policy.items():\n",
    "    # upper bound\n",
    "    if key == 'up':\n",
    "        mid_term[1:,:] += (-1+old_value[:-1,:])*value\n",
    "        mid_term[0,:] += (-1+old_value[0,:])*value\n",
    "    # down bound\n",
    "    elif key == 'down':\n",
    "        mid_term[:-1,:] += (-1+old_value[1:,:])*value\n",
    "        mid_term[-1,:] += (-1+old_value[-1,:])*value\n",
    "    # left bound\n",
    "    elif key == 'left':\n",
    "        mid_term[:,1:] += (-1+old_value[:,:-1])*value\n",
    "        mid_term[:,0] += (-1+old_value[:,0])*value\n",
    "    # right bound\n",
    "    else:\n",
    "        mid_term[:,:-1] += (-1+old_value[:,1:])*value\n",
    "        mid_term[:,-1] += (-1+old_value[:,-1])*value\n",
    "    dummy_list.append(mid_term)\n",
    "dummy_list = np.mean(np.array(dummy_list),axis=0)\n",
    "new_value = dummy_list\n",
    "new_value[0,0],new_value[-1,-1] = 0,0\n",
    "old_value = new_value"
   ]
  },
  {
   "cell_type": "code",
   "execution_count": 7,
   "id": "95b99b03",
   "metadata": {},
   "outputs": [
    {
     "name": "stdout",
     "output_type": "stream",
     "text": [
      "[[ 0.   -1.75 -2.   -2.  ]\n",
      " [-1.75 -2.   -2.   -2.  ]\n",
      " [-2.   -2.   -2.   -1.75]\n",
      " [-2.   -2.   -1.75  0.  ]]\n"
     ]
    }
   ],
   "source": [
    "print(new_value)"
   ]
  },
  {
   "cell_type": "code",
   "execution_count": 8,
   "id": "b6634759",
   "metadata": {},
   "outputs": [
    {
     "name": "stdout",
     "output_type": "stream",
     "text": [
      "[[  0.         -13.94854904 -19.92375894 -21.91468175]\n",
      " [-13.94854904 -17.93283614 -19.92426894 -19.92375894]\n",
      " [-19.92375894 -19.92426894 -17.93283614 -13.94854904]\n",
      " [-21.91468175 -19.92375894 -13.94854904   0.        ]]\n"
     ]
    }
   ],
   "source": [
    "# Iteration\n",
    "for it in range(100):\n",
    "    dummy_list = []\n",
    "    mid_term = np.zeros((4,4))\n",
    "    for key,value in policy.items():\n",
    "        # upper bound\n",
    "        if key == 'up':\n",
    "            mid_term[1:,:] += (-1+old_value[:-1,:])*value\n",
    "            mid_term[0,:] += (-1+old_value[0,:])*value\n",
    "        # down bound\n",
    "        elif key == 'down':\n",
    "            mid_term[:-1,:] += (-1+old_value[1:,:])*value\n",
    "            mid_term[-1,:] += (-1+old_value[-1,:])*value\n",
    "        # left bound\n",
    "        elif key == 'left':\n",
    "            mid_term[:,1:] += (-1+old_value[:,:-1])*value\n",
    "            mid_term[:,0] += (-1+old_value[:,0])*value\n",
    "        # right bound\n",
    "        else:\n",
    "            mid_term[:,:-1] += (-1+old_value[:,1:])*value\n",
    "            mid_term[:,-1] += (-1+old_value[:,-1])*value\n",
    "        dummy_list.append(mid_term)\n",
    "    dummy_list = np.mean(np.array(dummy_list),axis=0)\n",
    "    new_value = dummy_list\n",
    "    new_value[0,0],new_value[-1,-1] = 0,0\n",
    "    old_value = new_value\n",
    "print(new_value)"
   ]
  },
  {
   "cell_type": "markdown",
   "id": "af91eba5",
   "metadata": {},
   "source": [
    "# P[2]: Bellman optimality equation, 4x4 grid world"
   ]
  },
  {
   "cell_type": "code",
   "execution_count": 9,
   "id": "713fde99",
   "metadata": {},
   "outputs": [],
   "source": [
    "# initializing\n",
    "old_value = np.zeros((4,4))\n",
    "new_value = np.zeros((4,4)) "
   ]
  },
  {
   "cell_type": "code",
   "execution_count": 10,
   "id": "860bd8b5",
   "metadata": {},
   "outputs": [],
   "source": [
    "# 1st step\n",
    "new_value = -1+old_value\n",
    "new_value[0,0]=0\n",
    "old_value = new_value"
   ]
  },
  {
   "cell_type": "code",
   "execution_count": 11,
   "id": "fe4864ac",
   "metadata": {},
   "outputs": [
    {
     "name": "stdout",
     "output_type": "stream",
     "text": [
      "[[ 0. -1. -1. -1.]\n",
      " [-1. -1. -1. -1.]\n",
      " [-1. -1. -1. -1.]\n",
      " [-1. -1. -1. -1.]]\n"
     ]
    }
   ],
   "source": [
    "print(new_value)"
   ]
  },
  {
   "cell_type": "code",
   "execution_count": 12,
   "id": "51e92965",
   "metadata": {},
   "outputs": [],
   "source": [
    "# 2nd step -> k_번 iteration\n",
    "for k in range(7):\n",
    "    for row in range(4):\n",
    "        for col in range(4):\n",
    "            # top-left corner -> always zero\n",
    "            if row == 0 and col == 0:\n",
    "                pass\n",
    "            # top-mid   \n",
    "            elif row == 0 and col != 3:\n",
    "                new_value[row][col] = max((-1+old_value[row][col-1]),(-1+old_value[row+1][col]),(-1+old_value[row][col+1]),(-1+new_value[row][col]))\n",
    "            # top-right corner \n",
    "            elif row == 0 and col == 3:\n",
    "                new_value[row][col] = max((-1+old_value[row][col-1]),(-1+old_value[row+1][col]),(-1+new_value[row][col]))\n",
    "            # left-mid\n",
    "            elif col == 0 and row != 3:\n",
    "                new_value[row][col] = max((-1+old_value[row+1][col]),(-1+old_value[row][col+1]),(-1+old_value[row-1][col]))\n",
    "            # left-bottom corner\n",
    "            elif col == 0 and row == 3:\n",
    "                new_value[row][col] = max((-1+old_value[row-1][col]),(-1+old_value[row][col+1]),(-1+new_value[row][col]))\n",
    "            # bottom-mid\n",
    "            elif row == 3 and col != 3:\n",
    "                new_value[row][col] = max((-1+old_value[row-1][col]),(-1+old_value[row][col-1]),(-1+old_value[row][col+1]),(-1+new_value[row][col]))\n",
    "            # bottom-right corner\n",
    "            elif row == 3 and col == 3:\n",
    "                new_value[row][col] = max((-1+old_value[row-1][col]),(-1+old_value[row][col-1]),(-1+new_value[row][col]))\n",
    "            # right-mid\n",
    "            elif col == 3 and row != 3:\n",
    "                new_value[row][col] = max((-1+old_value[row-1][col]),(-1+old_value[row][col-1]),(-1+old_value[row+1][col]),(-1+new_value[row][col]))\n",
    "            # else\n",
    "            else:\n",
    "                new_value[row][col] = max((-1+old_value[row-1][col]),(-1+old_value[row][col-1]),(-1+old_value[row+1][col]),(-1+old_value[row][col+1]))\n",
    "    old_value = new_value        "
   ]
  },
  {
   "cell_type": "code",
   "execution_count": 13,
   "id": "42b2d0a8",
   "metadata": {},
   "outputs": [
    {
     "name": "stdout",
     "output_type": "stream",
     "text": [
      "[[ 0. -1. -2. -3.]\n",
      " [-1. -2. -3. -4.]\n",
      " [-2. -3. -4. -5.]\n",
      " [-3. -4. -5. -6.]]\n"
     ]
    }
   ],
   "source": [
    "print(new_value)"
   ]
  },
  {
   "cell_type": "code",
   "execution_count": null,
   "id": "34b24946",
   "metadata": {},
   "outputs": [],
   "source": []
  }
 ],
 "metadata": {
  "kernelspec": {
   "display_name": "Python [conda env:pytorch] *",
   "language": "python",
   "name": "conda-env-pytorch-py"
  },
  "language_info": {
   "codemirror_mode": {
    "name": "ipython",
    "version": 3
   },
   "file_extension": ".py",
   "mimetype": "text/x-python",
   "name": "python",
   "nbconvert_exporter": "python",
   "pygments_lexer": "ipython3",
   "version": "3.8.10"
  }
 },
 "nbformat": 4,
 "nbformat_minor": 5
}
